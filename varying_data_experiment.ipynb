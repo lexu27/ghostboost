{
 "cells": [
  {
   "cell_type": "code",
   "execution_count": 1,
   "id": "86a11f1b-bad8-4d59-8a50-193ed7421308",
   "metadata": {},
   "outputs": [
    {
     "name": "stderr",
     "output_type": "stream",
     "text": [
      "/Users/leo/.pyenv/versions/3.12.0/lib/python3.12/site-packages/transformers/utils/generic.py:441: UserWarning: torch.utils._pytree._register_pytree_node is deprecated. Please use torch.utils._pytree.register_pytree_node instead.\n",
      "  _torch_pytree._register_pytree_node(\n",
      "/Users/leo/.pyenv/versions/3.12.0/lib/python3.12/site-packages/huggingface_hub/file_download.py:1132: FutureWarning: `resume_download` is deprecated and will be removed in version 1.0.0. Downloads always resume when possible. If you want to force a new download, use `force_download=True`.\n",
      "  warnings.warn(\n",
      "Special tokens have been added in the vocabulary, make sure the associated word embeddings are fine-tuned or trained.\n"
     ]
    }
   ],
   "source": [
    "import glob\n",
    "import csv\n",
    "from tqdm.notebook import tqdm\n",
    "import numpy as np\n",
    "import functools\n",
    "\n",
    "from utils.featurize import normalize, t_featurize, select_features\n",
    "from utils.symbolic import get_all_logprobs, get_exp_featurize, backtrack_functions\n",
    "from utils.load import Dataset, get_generate_dataset\n",
    "from sklearn.linear_model import LogisticRegression\n",
    "from sklearn.metrics import accuracy_score, f1_score, roc_auc_score\n",
    "from sklearn.model_selection import GridSearchCV\n",
    "from sklearn.calibration import CalibratedClassifierCV\n",
    "from sklearn.model_selection import train_test_split\n",
    "import pickle\n",
    "import random\n",
    "import plotly.express as px\n",
    "import torch\n",
    "from sklearn.linear_model import LogisticRegression\n",
    "import matplotlib.pyplot as plt\n",
    "import os\n",
    "%matplotlib inline"
   ]
  },
  {
   "cell_type": "code",
   "execution_count": 2,
   "id": "5b469c6e-d9de-44ab-8e79-2222c3ea195a",
   "metadata": {},
   "outputs": [],
   "source": [
    "exp_to_data = pickle.load(open(\"symbolic_data_baseline\", \"rb\"))\n",
    "t_data = pickle.load(open(\"t_data_baseline\", \"rb\"))\n",
    "\n",
    "exp_to_data_eval = pickle.load(open(\"symbolic_data_eval\", \"rb\"))\n",
    "t_data_eval = pickle.load(open(\"t_data_eval\", \"rb\"))"
   ]
  },
  {
   "cell_type": "code",
   "execution_count": 3,
   "id": "0672c3e8-014f-4a7e-9ac0-fe1019994992",
   "metadata": {},
   "outputs": [],
   "source": [
    "def get_featurized_data(best_features, gpt_only=False):\n",
    "    gpt_data = np.concatenate(\n",
    "        [t_data] + [exp_to_data[i] for i in best_features if i in exp_to_data.keys()], axis=1\n",
    "    )\n",
    "    if gpt_only:\n",
    "        return gpt_data\n",
    "\n",
    "    eval_data = np.concatenate(\n",
    "        [t_data_eval] + [exp_to_data_eval[i] for i in best_features], axis=1\n",
    "    )\n",
    "    return np.concatenate([gpt_data, eval_data], axis=0)"
   ]
  },
  {
   "cell_type": "code",
   "execution_count": 4,
   "id": "c1692b44-a114-414d-8341-0b09b5be45be",
   "metadata": {},
   "outputs": [],
   "source": [
    "def get_featurized_aug(best_features, aug_t_data, aug_exp, gpt_only=False):\n",
    "    gpt_data = np.concatenate(\n",
    "        [aug_t_data] + [aug_exp[i] for i in best_features if i in aug_exp.keys()], axis=1\n",
    "    )\n",
    "\n",
    "    return gpt_data"
   ]
  },
  {
   "cell_type": "markdown",
   "id": "086d9366-6c03-4721-9c8e-2d9037040e74",
   "metadata": {},
   "source": [
    "# Data loading"
   ]
  },
  {
   "cell_type": "code",
   "execution_count": 5,
   "id": "f6cd178f-5274-4ebf-b9ee-1035871c17e5",
   "metadata": {},
   "outputs": [],
   "source": [
    "file_retriever = lambda past, model: past + glob.glob(f\"{base_path}/{model}/*.txt\")\n",
    "base_path = \"data/essay\""
   ]
  },
  {
   "cell_type": "code",
   "execution_count": 6,
   "id": "6a763195-7d10-48cc-9112-61e52cb60cd8",
   "metadata": {},
   "outputs": [],
   "source": [
    "train_models = [\"human\", \"gpt\"]\n",
    "train_files = sorted(functools.reduce(file_retriever, train_models, []), key=lambda x: int(x.split(\"/\")[-1].split(\".\")[0]))"
   ]
  },
  {
   "cell_type": "code",
   "execution_count": 7,
   "id": "fb5f9d1b-0a9e-4c57-b5b6-954104e64495",
   "metadata": {},
   "outputs": [],
   "source": [
    "test_models = [\"gpt_prompt1\", \"gpt_prompt2\", \"gpt_semantic\", \"gpt_writing\", \"claude\"]\n",
    "test_files = sorted(functools.reduce(file_retriever, test_models, []), key=lambda x: int(x.split(\"/\")[-1].split(\".\")[0]))"
   ]
  },
  {
   "cell_type": "code",
   "execution_count": 8,
   "id": "05bef4d2-8749-4cc6-aa7d-bcbd3a434c41",
   "metadata": {},
   "outputs": [
    {
     "name": "stdout",
     "output_type": "stream",
     "text": [
      "Num train: 1988\n",
      "Num test: 4970\n"
     ]
    }
   ],
   "source": [
    "print(f\"Num train: {len(train_files)}\")\n",
    "print(f\"Num test: {len(test_files)}\")"
   ]
  },
  {
   "cell_type": "code",
   "execution_count": 9,
   "id": "537051f4-df7b-4f99-bc0e-fb90b797bf87",
   "metadata": {},
   "outputs": [
    {
     "name": "stdout",
     "output_type": "stream",
     "text": [
      "All files length: 6958\n"
     ]
    }
   ],
   "source": [
    "all_files = train_files + test_files\n",
    "print(f\"All files length: {len(all_files)}\")"
   ]
  },
  {
   "cell_type": "markdown",
   "id": "f0319355-ff2c-4a2f-b00f-692365e5f5e1",
   "metadata": {},
   "source": [
    "# Splitting Data"
   ]
  },
  {
   "cell_type": "code",
   "execution_count": 10,
   "id": "8a99cbba-ea44-4300-96ea-33d023896074",
   "metadata": {},
   "outputs": [],
   "source": [
    "class config:\n",
    "    p = 0.1"
   ]
  },
  {
   "cell_type": "code",
   "execution_count": 11,
   "id": "e82c62da-441c-4b46-b0d1-c110936381ae",
   "metadata": {},
   "outputs": [
    {
     "name": "stdout",
     "output_type": "stream",
     "text": [
      "All labels length: 6958\n"
     ]
    }
   ],
   "source": [
    "train_labels = np.array([\"human\" not in file for file in train_files]).astype(int)\n",
    "test_labels = np.array([\"human\" not in file for file in test_files]).astype(int)\n",
    "all_labels = np.concatenate((train_labels, test_labels))\n",
    "\n",
    "print(f\"All labels length: {len(all_labels)}\")"
   ]
  },
  {
   "cell_type": "code",
   "execution_count": 12,
   "id": "7532ef8d-92cf-4ad3-a9b5-8408d82fbc70",
   "metadata": {},
   "outputs": [],
   "source": [
    "other_test_indices = np.arange(len(all_labels))[1988:]\n",
    "augmentations = [\"baseline\", \"synonym\", \"back\", \"emotion\", \"style\", \"summary\"]\n",
    "train_sizes = [10, 25, 50, 75, 100]\n",
    "seeds = list(range(51, 100))\n",
    "score_dict = {}"
   ]
  },
  {
   "cell_type": "code",
   "execution_count": 13,
   "id": "81afc669-6091-4319-8c70-e2d04794e77e",
   "metadata": {},
   "outputs": [
    {
     "name": "stdout",
     "output_type": "stream",
     "text": [
      "**************** SEED 51 ****************\n",
      "***************** AUGMENTATION: baseline *****************\n"
     ]
    },
    {
     "data": {
      "application/vnd.jupyter.widget-view+json": {
       "model_id": "8e0587598d6c4a5c9b485ec7da385848",
       "version_major": 2,
       "version_minor": 0
      },
      "text/plain": [
       "  0%|          | 0/5 [00:00<?, ?it/s]"
      ]
     },
     "metadata": {},
     "output_type": "display_data"
    },
    {
     "name": "stdout",
     "output_type": "stream",
     "text": [
      "***************** TRAIN SIZE: 10 *****************\n"
     ]
    },
    {
     "name": "stderr",
     "output_type": "stream",
     "text": [
      "100%|███████████████████████████████████████████████████| 2534/2534 [00:09<00:00, 273.26it/s]\n"
     ]
    },
    {
     "name": "stdout",
     "output_type": "stream",
     "text": [
      "Iteration 0, Current Score: 0,                 Best Feature: davinci-logprobs v-div trigram-logprobs s-min, New Score: 1.0\n"
     ]
    },
    {
     "name": "stderr",
     "output_type": "stream",
     "text": [
      "100%|███████████████████████████████████████████████████| 2533/2533 [00:10<00:00, 237.44it/s]\n"
     ]
    },
    {
     "name": "stdout",
     "output_type": "stream",
     "text": [
      "Iteration 1, Current Score: 1.0,                 Best Feature: davinci-logprobs s-max, New Score: 1.0\n",
      "TRAINING WITHOUT AUGMENTATIONS\n",
      "Train size: 10\n",
      "F1-Score: 0.8745725113226731\n",
      "\n",
      "passes...\n",
      "***************** TRAIN SIZE: 25 *****************\n"
     ]
    },
    {
     "name": "stderr",
     "output_type": "stream",
     "text": [
      "100%|███████████████████████████████████████████████████| 2534/2534 [00:09<00:00, 268.53it/s]\n"
     ]
    },
    {
     "name": "stdout",
     "output_type": "stream",
     "text": [
      "Iteration 0, Current Score: 0,                 Best Feature: davinci-logprobs s-avg, New Score: 1.0\n"
     ]
    },
    {
     "name": "stderr",
     "output_type": "stream",
     "text": [
      "100%|███████████████████████████████████████████████████| 2533/2533 [00:11<00:00, 226.01it/s]\n"
     ]
    },
    {
     "name": "stdout",
     "output_type": "stream",
     "text": [
      "Iteration 1, Current Score: 1.0,                 Best Feature: davinci-logprobs s-max, New Score: 1.0\n",
      "TRAINING WITHOUT AUGMENTATIONS\n",
      "Train size: 25\n",
      "F1-Score: 0.9589539314166955\n",
      "\n",
      "passes...\n",
      "***************** TRAIN SIZE: 50 *****************\n"
     ]
    },
    {
     "name": "stderr",
     "output_type": "stream",
     "text": [
      "100%|███████████████████████████████████████████████████| 2534/2534 [00:09<00:00, 268.46it/s]\n"
     ]
    },
    {
     "name": "stdout",
     "output_type": "stream",
     "text": [
      "Iteration 0, Current Score: 0,                 Best Feature: trigram-logprobs v-> davinci-logprobs s-var, New Score: 1.0\n"
     ]
    },
    {
     "name": "stderr",
     "output_type": "stream",
     "text": [
      "100%|███████████████████████████████████████████████████| 2533/2533 [00:11<00:00, 220.03it/s]\n"
     ]
    },
    {
     "name": "stdout",
     "output_type": "stream",
     "text": [
      "Iteration 1, Current Score: 1.0,                 Best Feature: davinci-logprobs s-max, New Score: 1.0\n",
      "TRAINING WITHOUT AUGMENTATIONS\n",
      "Train size: 50\n",
      "F1-Score: 0.9794238683127572\n",
      "\n",
      "passes...\n",
      "***************** TRAIN SIZE: 75 *****************\n"
     ]
    },
    {
     "name": "stderr",
     "output_type": "stream",
     "text": [
      "100%|███████████████████████████████████████████████████| 2534/2534 [00:09<00:00, 261.11it/s]\n"
     ]
    },
    {
     "name": "stdout",
     "output_type": "stream",
     "text": [
      "Iteration 0, Current Score: 0,                 Best Feature: unigram-logprobs v-add trigram-logprobs v-> davinci-logprobs s-avg, New Score: 1.0\n"
     ]
    },
    {
     "name": "stderr",
     "output_type": "stream",
     "text": [
      "100%|███████████████████████████████████████████████████| 2533/2533 [00:11<00:00, 213.52it/s]\n"
     ]
    },
    {
     "name": "stdout",
     "output_type": "stream",
     "text": [
      "Iteration 1, Current Score: 1.0,                 Best Feature: davinci-logprobs s-max, New Score: 1.0\n",
      "TRAINING WITHOUT AUGMENTATIONS\n",
      "Train size: 75\n",
      "F1-Score: 0.992024435771254\n",
      "\n",
      "passes...\n",
      "***************** TRAIN SIZE: 100 *****************\n"
     ]
    },
    {
     "name": "stderr",
     "output_type": "stream",
     "text": [
      "100%|███████████████████████████████████████████████████| 2534/2534 [00:09<00:00, 255.55it/s]\n"
     ]
    },
    {
     "name": "stdout",
     "output_type": "stream",
     "text": [
      "Iteration 0, Current Score: 0,                 Best Feature: trigram-logprobs v-> ada-logprobs s-avg, New Score: 0.99\n"
     ]
    },
    {
     "name": "stderr",
     "output_type": "stream",
     "text": [
      "100%|███████████████████████████████████████████████████| 2533/2533 [00:12<00:00, 209.09it/s]\n"
     ]
    },
    {
     "name": "stdout",
     "output_type": "stream",
     "text": [
      "Iteration 1, Current Score: 0.99,                 Best Feature: davinci-logprobs v-div ada-logprobs v-mul davinci-logprobs s-len, New Score: 1.0\n"
     ]
    },
    {
     "name": "stderr",
     "output_type": "stream",
     "text": [
      "100%|███████████████████████████████████████████████████| 2532/2532 [00:12<00:00, 206.14it/s]"
     ]
    },
    {
     "name": "stdout",
     "output_type": "stream",
     "text": [
      "Iteration 2, Current Score: 1.0,                 Best Feature: davinci-logprobs s-min, New Score: 1.0\n",
      "TRAINING WITHOUT AUGMENTATIONS\n",
      "Train size: 100\n",
      "F1-Score: 0.9790593889461037\n",
      "\n",
      "passes...\n",
      "***************** AUGMENTATION: synonym *****************\n"
     ]
    },
    {
     "name": "stderr",
     "output_type": "stream",
     "text": [
      "\n"
     ]
    },
    {
     "data": {
      "application/vnd.jupyter.widget-view+json": {
       "model_id": "6fe0ee5e6b0a472b80696f26676521e4",
       "version_major": 2,
       "version_minor": 0
      },
      "text/plain": [
       "  0%|          | 0/5 [00:00<?, ?it/s]"
      ]
     },
     "metadata": {},
     "output_type": "display_data"
    },
    {
     "name": "stdout",
     "output_type": "stream",
     "text": [
      "***************** TRAIN SIZE: 10 *****************\n"
     ]
    },
    {
     "name": "stderr",
     "output_type": "stream",
     "text": [
      "100%|███████████████████████████████████████████████████| 2534/2534 [00:10<00:00, 251.45it/s]\n"
     ]
    },
    {
     "name": "stdout",
     "output_type": "stream",
     "text": [
      "Iteration 0, Current Score: 0,                 Best Feature: davinci-logprobs v-div trigram-logprobs s-min, New Score: 1.0\n"
     ]
    },
    {
     "name": "stderr",
     "output_type": "stream",
     "text": [
      "100%|███████████████████████████████████████████████████| 2533/2533 [00:10<00:00, 232.51it/s]\n"
     ]
    },
    {
     "name": "stdout",
     "output_type": "stream",
     "text": [
      "Iteration 1, Current Score: 1.0,                 Best Feature: davinci-logprobs s-max, New Score: 1.0\n",
      "TRAINING WITH synonym AUGMENTED DATA.\n",
      "Train size: 10\n",
      "F1-Score: 0.9013806706114399\n",
      "\n",
      "passes...\n",
      "***************** TRAIN SIZE: 25 *****************\n"
     ]
    },
    {
     "name": "stderr",
     "output_type": "stream",
     "text": [
      "100%|███████████████████████████████████████████████████| 2534/2534 [00:09<00:00, 261.33it/s]\n"
     ]
    },
    {
     "name": "stdout",
     "output_type": "stream",
     "text": [
      "Iteration 0, Current Score: 0,                 Best Feature: davinci-logprobs s-avg, New Score: 1.0\n"
     ]
    },
    {
     "name": "stderr",
     "output_type": "stream",
     "text": [
      "100%|███████████████████████████████████████████████████| 2533/2533 [00:11<00:00, 226.88it/s]\n"
     ]
    },
    {
     "name": "stdout",
     "output_type": "stream",
     "text": [
      "Iteration 1, Current Score: 1.0,                 Best Feature: davinci-logprobs s-max, New Score: 1.0\n",
      "TRAINING WITH synonym AUGMENTED DATA.\n",
      "Train size: 25\n",
      "F1-Score: 0.9669952850407201\n",
      "\n",
      "passes...\n",
      "***************** TRAIN SIZE: 50 *****************\n"
     ]
    },
    {
     "name": "stderr",
     "output_type": "stream",
     "text": [
      "100%|███████████████████████████████████████████████████| 2534/2534 [00:09<00:00, 262.34it/s]\n"
     ]
    },
    {
     "name": "stdout",
     "output_type": "stream",
     "text": [
      "Iteration 0, Current Score: 0,                 Best Feature: trigram-logprobs v-> davinci-logprobs s-avg, New Score: 0.98\n"
     ]
    },
    {
     "name": "stderr",
     "output_type": "stream",
     "text": [
      "100%|███████████████████████████████████████████████████| 2533/2533 [00:11<00:00, 214.22it/s]\n"
     ]
    },
    {
     "name": "stdout",
     "output_type": "stream",
     "text": [
      "Iteration 1, Current Score: 0.98,                 Best Feature: davinci-logprobs s-max, New Score: 0.98\n",
      "TRAINING WITH synonym AUGMENTED DATA.\n",
      "Train size: 50\n",
      "F1-Score: 0.9638847793925681\n",
      "\n",
      "passes...\n",
      "***************** TRAIN SIZE: 75 *****************\n"
     ]
    },
    {
     "name": "stderr",
     "output_type": "stream",
     "text": [
      "100%|███████████████████████████████████████████████████| 2534/2534 [00:09<00:00, 262.43it/s]\n"
     ]
    },
    {
     "name": "stdout",
     "output_type": "stream",
     "text": [
      "Iteration 0, Current Score: 0,                 Best Feature: trigram-logprobs v-> davinci-logprobs s-avg, New Score: 1.0\n"
     ]
    },
    {
     "name": "stderr",
     "output_type": "stream",
     "text": [
      "100%|███████████████████████████████████████████████████| 2533/2533 [00:11<00:00, 212.92it/s]\n"
     ]
    },
    {
     "name": "stdout",
     "output_type": "stream",
     "text": [
      "Iteration 1, Current Score: 1.0,                 Best Feature: davinci-logprobs s-max, New Score: 1.0\n",
      "TRAINING WITH synonym AUGMENTED DATA.\n",
      "Train size: 75\n",
      "F1-Score: 0.9771084337349397\n",
      "\n",
      "passes...\n",
      "***************** TRAIN SIZE: 100 *****************\n"
     ]
    },
    {
     "name": "stderr",
     "output_type": "stream",
     "text": [
      "100%|███████████████████████████████████████████████████| 2534/2534 [00:09<00:00, 255.88it/s]\n"
     ]
    },
    {
     "name": "stdout",
     "output_type": "stream",
     "text": [
      "Iteration 0, Current Score: 0,                 Best Feature: trigram-logprobs v-> ada-logprobs s-avg, New Score: 1.0\n"
     ]
    },
    {
     "name": "stderr",
     "output_type": "stream",
     "text": [
      "100%|███████████████████████████████████████████████████| 2533/2533 [00:11<00:00, 212.19it/s]"
     ]
    },
    {
     "name": "stdout",
     "output_type": "stream",
     "text": [
      "Iteration 1, Current Score: 1.0,                 Best Feature: davinci-logprobs s-max, New Score: 1.0\n",
      "TRAINING WITH synonym AUGMENTED DATA.\n",
      "Train size: 100\n",
      "F1-Score: 0.9833904109589041\n",
      "\n",
      "passes...\n",
      "***************** AUGMENTATION: back *****************\n"
     ]
    },
    {
     "name": "stderr",
     "output_type": "stream",
     "text": [
      "\n"
     ]
    },
    {
     "data": {
      "application/vnd.jupyter.widget-view+json": {
       "model_id": "e5311b4005de451e982b776d4c525480",
       "version_major": 2,
       "version_minor": 0
      },
      "text/plain": [
       "  0%|          | 0/5 [00:00<?, ?it/s]"
      ]
     },
     "metadata": {},
     "output_type": "display_data"
    },
    {
     "name": "stdout",
     "output_type": "stream",
     "text": [
      "***************** TRAIN SIZE: 10 *****************\n"
     ]
    },
    {
     "name": "stderr",
     "output_type": "stream",
     "text": [
      "100%|███████████████████████████████████████████████████| 2534/2534 [00:09<00:00, 266.91it/s]\n"
     ]
    },
    {
     "name": "stdout",
     "output_type": "stream",
     "text": [
      "Iteration 0, Current Score: 0,                 Best Feature: davinci-logprobs v-div trigram-logprobs s-min, New Score: 1.0\n"
     ]
    },
    {
     "name": "stderr",
     "output_type": "stream",
     "text": [
      "100%|███████████████████████████████████████████████████| 2533/2533 [00:10<00:00, 232.31it/s]\n"
     ]
    },
    {
     "name": "stdout",
     "output_type": "stream",
     "text": [
      "Iteration 1, Current Score: 1.0,                 Best Feature: davinci-logprobs s-max, New Score: 1.0\n",
      "TRAINING WITH back AUGMENTED DATA.\n",
      "Train size: 10\n",
      "F1-Score: 0.9240484125592001\n",
      "\n",
      "passes...\n",
      "***************** TRAIN SIZE: 25 *****************\n"
     ]
    },
    {
     "name": "stderr",
     "output_type": "stream",
     "text": [
      "100%|███████████████████████████████████████████████████| 2534/2534 [00:09<00:00, 265.99it/s]\n"
     ]
    },
    {
     "name": "stdout",
     "output_type": "stream",
     "text": [
      "Iteration 0, Current Score: 0,                 Best Feature: davinci-logprobs s-avg, New Score: 1.0\n"
     ]
    },
    {
     "name": "stderr",
     "output_type": "stream",
     "text": [
      "100%|███████████████████████████████████████████████████| 2533/2533 [00:11<00:00, 226.92it/s]\n"
     ]
    },
    {
     "name": "stdout",
     "output_type": "stream",
     "text": [
      "Iteration 1, Current Score: 1.0,                 Best Feature: davinci-logprobs s-max, New Score: 1.0\n",
      "TRAINING WITH back AUGMENTED DATA.\n",
      "Train size: 25\n",
      "F1-Score: 0.9633011716057891\n",
      "\n",
      "passes...\n",
      "***************** TRAIN SIZE: 50 *****************\n"
     ]
    },
    {
     "name": "stderr",
     "output_type": "stream",
     "text": [
      "100%|███████████████████████████████████████████████████| 2534/2534 [00:09<00:00, 262.20it/s]\n"
     ]
    },
    {
     "name": "stdout",
     "output_type": "stream",
     "text": [
      "Iteration 0, Current Score: 0,                 Best Feature: trigram-logprobs v-> davinci-logprobs s-avg, New Score: 0.98\n"
     ]
    },
    {
     "name": "stderr",
     "output_type": "stream",
     "text": [
      "100%|███████████████████████████████████████████████████| 2533/2533 [00:11<00:00, 212.58it/s]\n"
     ]
    },
    {
     "name": "stdout",
     "output_type": "stream",
     "text": [
      "Iteration 1, Current Score: 0.98,                 Best Feature: davinci-logprobs s-max, New Score: 0.98\n",
      "TRAINING WITH back AUGMENTED DATA.\n",
      "Train size: 50\n",
      "F1-Score: 0.9625948208213445\n",
      "\n",
      "passes...\n",
      "***************** TRAIN SIZE: 75 *****************\n"
     ]
    },
    {
     "name": "stderr",
     "output_type": "stream",
     "text": [
      "100%|███████████████████████████████████████████████████| 2534/2534 [00:09<00:00, 262.39it/s]\n"
     ]
    },
    {
     "name": "stdout",
     "output_type": "stream",
     "text": [
      "Iteration 0, Current Score: 0,                 Best Feature: trigram-logprobs v-> davinci-logprobs s-avg, New Score: 1.0\n"
     ]
    },
    {
     "name": "stderr",
     "output_type": "stream",
     "text": [
      "100%|███████████████████████████████████████████████████| 2533/2533 [00:11<00:00, 212.51it/s]\n"
     ]
    },
    {
     "name": "stdout",
     "output_type": "stream",
     "text": [
      "Iteration 1, Current Score: 1.0,                 Best Feature: davinci-logprobs s-max, New Score: 1.0\n",
      "TRAINING WITH back AUGMENTED DATA.\n",
      "Train size: 75\n",
      "F1-Score: 0.9645909645909646\n",
      "\n",
      "passes...\n",
      "***************** TRAIN SIZE: 100 *****************\n"
     ]
    },
    {
     "name": "stderr",
     "output_type": "stream",
     "text": [
      "100%|███████████████████████████████████████████████████| 2534/2534 [00:09<00:00, 256.81it/s]\n"
     ]
    },
    {
     "name": "stdout",
     "output_type": "stream",
     "text": [
      "Iteration 0, Current Score: 0,                 Best Feature: trigram-logprobs v-> ada-logprobs s-avg, New Score: 1.0\n"
     ]
    },
    {
     "name": "stderr",
     "output_type": "stream",
     "text": [
      "100%|███████████████████████████████████████████████████| 2533/2533 [00:11<00:00, 211.16it/s]"
     ]
    },
    {
     "name": "stdout",
     "output_type": "stream",
     "text": [
      "Iteration 1, Current Score: 1.0,                 Best Feature: davinci-logprobs s-max, New Score: 1.0\n",
      "TRAINING WITH back AUGMENTED DATA.\n",
      "Train size: 100\n",
      "F1-Score: 0.9728373702422145\n",
      "\n",
      "passes...\n",
      "***************** AUGMENTATION: emotion *****************\n"
     ]
    },
    {
     "name": "stderr",
     "output_type": "stream",
     "text": [
      "\n"
     ]
    },
    {
     "data": {
      "application/vnd.jupyter.widget-view+json": {
       "model_id": "ec90cabb51d94526be140deae861bbb9",
       "version_major": 2,
       "version_minor": 0
      },
      "text/plain": [
       "  0%|          | 0/5 [00:00<?, ?it/s]"
      ]
     },
     "metadata": {},
     "output_type": "display_data"
    },
    {
     "name": "stdout",
     "output_type": "stream",
     "text": [
      "***************** TRAIN SIZE: 10 *****************\n"
     ]
    },
    {
     "name": "stderr",
     "output_type": "stream",
     "text": [
      "100%|███████████████████████████████████████████████████| 2534/2534 [00:09<00:00, 267.32it/s]\n"
     ]
    },
    {
     "name": "stdout",
     "output_type": "stream",
     "text": [
      "Iteration 0, Current Score: 0,                 Best Feature: davinci-logprobs v-div trigram-logprobs s-min, New Score: 1.0\n"
     ]
    },
    {
     "name": "stderr",
     "output_type": "stream",
     "text": [
      "100%|███████████████████████████████████████████████████| 2533/2533 [00:10<00:00, 231.70it/s]\n"
     ]
    },
    {
     "name": "stdout",
     "output_type": "stream",
     "text": [
      "Iteration 1, Current Score: 1.0,                 Best Feature: davinci-logprobs s-max, New Score: 1.0\n",
      "TRAINING WITH emotion AUGMENTED DATA.\n",
      "Train size: 10\n",
      "F1-Score: 0.8929536853487114\n",
      "\n",
      "passes...\n",
      "***************** TRAIN SIZE: 25 *****************\n"
     ]
    },
    {
     "name": "stderr",
     "output_type": "stream",
     "text": [
      "100%|███████████████████████████████████████████████████| 2534/2534 [00:09<00:00, 266.38it/s]\n"
     ]
    },
    {
     "name": "stdout",
     "output_type": "stream",
     "text": [
      "Iteration 0, Current Score: 0,                 Best Feature: davinci-logprobs s-avg, New Score: 1.0\n"
     ]
    },
    {
     "name": "stderr",
     "output_type": "stream",
     "text": [
      "100%|███████████████████████████████████████████████████| 2533/2533 [00:10<00:00, 230.61it/s]\n"
     ]
    },
    {
     "name": "stdout",
     "output_type": "stream",
     "text": [
      "Iteration 1, Current Score: 1.0,                 Best Feature: davinci-logprobs s-max, New Score: 1.0\n",
      "TRAINING WITH emotion AUGMENTED DATA.\n",
      "Train size: 25\n",
      "F1-Score: 0.9661395668614644\n",
      "\n",
      "passes...\n",
      "***************** TRAIN SIZE: 50 *****************\n"
     ]
    },
    {
     "name": "stderr",
     "output_type": "stream",
     "text": [
      "100%|███████████████████████████████████████████████████| 2534/2534 [00:09<00:00, 261.38it/s]\n"
     ]
    },
    {
     "name": "stdout",
     "output_type": "stream",
     "text": [
      "Iteration 0, Current Score: 0,                 Best Feature: trigram-logprobs v-> davinci-logprobs s-avg, New Score: 0.98\n"
     ]
    },
    {
     "name": "stderr",
     "output_type": "stream",
     "text": [
      "100%|███████████████████████████████████████████████████| 2533/2533 [00:11<00:00, 214.08it/s]\n"
     ]
    },
    {
     "name": "stdout",
     "output_type": "stream",
     "text": [
      "Iteration 1, Current Score: 0.98,                 Best Feature: davinci-logprobs s-max, New Score: 0.98\n",
      "TRAINING WITH emotion AUGMENTED DATA.\n",
      "Train size: 50\n",
      "F1-Score: 0.9642639770454743\n",
      "\n",
      "passes...\n",
      "***************** TRAIN SIZE: 75 *****************\n"
     ]
    },
    {
     "name": "stderr",
     "output_type": "stream",
     "text": [
      "100%|███████████████████████████████████████████████████| 2534/2534 [00:09<00:00, 261.92it/s]\n"
     ]
    },
    {
     "name": "stdout",
     "output_type": "stream",
     "text": [
      "Iteration 0, Current Score: 0,                 Best Feature: trigram-logprobs v-> davinci-logprobs s-avg, New Score: 1.0\n"
     ]
    },
    {
     "name": "stderr",
     "output_type": "stream",
     "text": [
      "100%|███████████████████████████████████████████████████| 2533/2533 [00:11<00:00, 213.17it/s]\n"
     ]
    },
    {
     "name": "stdout",
     "output_type": "stream",
     "text": [
      "Iteration 1, Current Score: 1.0,                 Best Feature: davinci-logprobs s-max, New Score: 1.0\n",
      "TRAINING WITH emotion AUGMENTED DATA.\n",
      "Train size: 75\n",
      "F1-Score: 0.9813068084376608\n",
      "\n",
      "passes...\n",
      "***************** TRAIN SIZE: 100 *****************\n"
     ]
    },
    {
     "name": "stderr",
     "output_type": "stream",
     "text": [
      "100%|███████████████████████████████████████████████████| 2534/2534 [00:09<00:00, 254.25it/s]\n"
     ]
    },
    {
     "name": "stdout",
     "output_type": "stream",
     "text": [
      "Iteration 0, Current Score: 0,                 Best Feature: trigram-logprobs v-> ada-logprobs s-avg, New Score: 1.0\n"
     ]
    },
    {
     "name": "stderr",
     "output_type": "stream",
     "text": [
      "100%|███████████████████████████████████████████████████| 2533/2533 [00:11<00:00, 212.70it/s]"
     ]
    },
    {
     "name": "stdout",
     "output_type": "stream",
     "text": [
      "Iteration 1, Current Score: 1.0,                 Best Feature: davinci-logprobs s-max, New Score: 1.0\n",
      "TRAINING WITH emotion AUGMENTED DATA.\n",
      "Train size: 100\n",
      "F1-Score: 0.9839965768078733\n",
      "\n",
      "passes...\n",
      "***************** AUGMENTATION: style *****************\n"
     ]
    },
    {
     "name": "stderr",
     "output_type": "stream",
     "text": [
      "\n"
     ]
    },
    {
     "data": {
      "application/vnd.jupyter.widget-view+json": {
       "model_id": "830852b6927c4a1ca0e5fb7b592c0eb5",
       "version_major": 2,
       "version_minor": 0
      },
      "text/plain": [
       "  0%|          | 0/5 [00:00<?, ?it/s]"
      ]
     },
     "metadata": {},
     "output_type": "display_data"
    },
    {
     "name": "stdout",
     "output_type": "stream",
     "text": [
      "***************** TRAIN SIZE: 10 *****************\n"
     ]
    },
    {
     "name": "stderr",
     "output_type": "stream",
     "text": [
      "100%|███████████████████████████████████████████████████| 2534/2534 [00:09<00:00, 265.08it/s]\n"
     ]
    },
    {
     "name": "stdout",
     "output_type": "stream",
     "text": [
      "Iteration 0, Current Score: 0,                 Best Feature: davinci-logprobs v-div trigram-logprobs s-min, New Score: 1.0\n"
     ]
    },
    {
     "name": "stderr",
     "output_type": "stream",
     "text": [
      "100%|███████████████████████████████████████████████████| 2533/2533 [00:10<00:00, 232.75it/s]\n"
     ]
    },
    {
     "name": "stdout",
     "output_type": "stream",
     "text": [
      "Iteration 1, Current Score: 1.0,                 Best Feature: davinci-logprobs s-max, New Score: 1.0\n",
      "TRAINING WITH style AUGMENTED DATA.\n",
      "Train size: 10\n",
      "F1-Score: 0.8891918916462139\n",
      "\n",
      "passes...\n",
      "***************** TRAIN SIZE: 25 *****************\n"
     ]
    },
    {
     "name": "stderr",
     "output_type": "stream",
     "text": [
      "100%|███████████████████████████████████████████████████| 2534/2534 [00:09<00:00, 267.03it/s]\n"
     ]
    },
    {
     "name": "stdout",
     "output_type": "stream",
     "text": [
      "Iteration 0, Current Score: 0,                 Best Feature: davinci-logprobs s-avg, New Score: 1.0\n"
     ]
    },
    {
     "name": "stderr",
     "output_type": "stream",
     "text": [
      "100%|███████████████████████████████████████████████████| 2533/2533 [00:11<00:00, 225.92it/s]\n"
     ]
    },
    {
     "name": "stdout",
     "output_type": "stream",
     "text": [
      "Iteration 1, Current Score: 1.0,                 Best Feature: davinci-logprobs s-max, New Score: 1.0\n",
      "TRAINING WITH style AUGMENTED DATA.\n",
      "Train size: 25\n",
      "F1-Score: 0.9679075738125802\n",
      "\n",
      "passes...\n",
      "***************** TRAIN SIZE: 50 *****************\n"
     ]
    },
    {
     "name": "stderr",
     "output_type": "stream",
     "text": [
      "100%|███████████████████████████████████████████████████| 2534/2534 [00:09<00:00, 261.01it/s]\n"
     ]
    },
    {
     "name": "stdout",
     "output_type": "stream",
     "text": [
      "Iteration 0, Current Score: 0,                 Best Feature: trigram-logprobs v-> davinci-logprobs s-avg, New Score: 0.98\n"
     ]
    },
    {
     "name": "stderr",
     "output_type": "stream",
     "text": [
      "100%|███████████████████████████████████████████████████| 2533/2533 [00:11<00:00, 212.15it/s]\n"
     ]
    },
    {
     "name": "stdout",
     "output_type": "stream",
     "text": [
      "Iteration 1, Current Score: 0.98,                 Best Feature: davinci-logprobs s-max, New Score: 0.98\n",
      "TRAINING WITH style AUGMENTED DATA.\n",
      "Train size: 50\n",
      "F1-Score: 0.9637946040034813\n",
      "\n",
      "passes...\n",
      "***************** TRAIN SIZE: 75 *****************\n"
     ]
    },
    {
     "name": "stderr",
     "output_type": "stream",
     "text": [
      "100%|███████████████████████████████████████████████████| 2534/2534 [00:09<00:00, 261.61it/s]\n"
     ]
    },
    {
     "name": "stdout",
     "output_type": "stream",
     "text": [
      "Iteration 0, Current Score: 0,                 Best Feature: trigram-logprobs v-> davinci-logprobs s-avg, New Score: 1.0\n"
     ]
    },
    {
     "name": "stderr",
     "output_type": "stream",
     "text": [
      "100%|███████████████████████████████████████████████████| 2533/2533 [00:12<00:00, 210.44it/s]\n"
     ]
    },
    {
     "name": "stdout",
     "output_type": "stream",
     "text": [
      "Iteration 1, Current Score: 1.0,                 Best Feature: davinci-logprobs s-max, New Score: 1.0\n",
      "TRAINING WITH style AUGMENTED DATA.\n",
      "Train size: 75\n",
      "F1-Score: 0.963001745200698\n",
      "\n",
      "passes...\n",
      "***************** TRAIN SIZE: 100 *****************\n"
     ]
    },
    {
     "name": "stderr",
     "output_type": "stream",
     "text": [
      "100%|███████████████████████████████████████████████████| 2534/2534 [00:09<00:00, 257.45it/s]\n"
     ]
    },
    {
     "name": "stdout",
     "output_type": "stream",
     "text": [
      "Iteration 0, Current Score: 0,                 Best Feature: trigram-logprobs v-> ada-logprobs s-avg, New Score: 1.0\n"
     ]
    },
    {
     "name": "stderr",
     "output_type": "stream",
     "text": [
      "100%|███████████████████████████████████████████████████| 2533/2533 [00:12<00:00, 209.05it/s]"
     ]
    },
    {
     "name": "stdout",
     "output_type": "stream",
     "text": [
      "Iteration 1, Current Score: 1.0,                 Best Feature: davinci-logprobs s-max, New Score: 1.0\n",
      "TRAINING WITH style AUGMENTED DATA.\n",
      "Train size: 100\n",
      "F1-Score: 0.9760344827586207\n",
      "\n",
      "passes...\n",
      "***************** AUGMENTATION: summary *****************\n"
     ]
    },
    {
     "name": "stderr",
     "output_type": "stream",
     "text": [
      "\n"
     ]
    },
    {
     "data": {
      "application/vnd.jupyter.widget-view+json": {
       "model_id": "7a0eb4c3e4d7406a8d1ba8da520f6073",
       "version_major": 2,
       "version_minor": 0
      },
      "text/plain": [
       "  0%|          | 0/5 [00:00<?, ?it/s]"
      ]
     },
     "metadata": {},
     "output_type": "display_data"
    },
    {
     "name": "stdout",
     "output_type": "stream",
     "text": [
      "***************** TRAIN SIZE: 10 *****************\n"
     ]
    },
    {
     "name": "stderr",
     "output_type": "stream",
     "text": [
      "100%|███████████████████████████████████████████████████| 2534/2534 [00:09<00:00, 264.53it/s]\n"
     ]
    },
    {
     "name": "stdout",
     "output_type": "stream",
     "text": [
      "Iteration 0, Current Score: 0,                 Best Feature: davinci-logprobs v-div trigram-logprobs s-min, New Score: 1.0\n"
     ]
    },
    {
     "name": "stderr",
     "output_type": "stream",
     "text": [
      "100%|███████████████████████████████████████████████████| 2533/2533 [00:10<00:00, 234.08it/s]\n"
     ]
    },
    {
     "name": "stdout",
     "output_type": "stream",
     "text": [
      "Iteration 1, Current Score: 1.0,                 Best Feature: davinci-logprobs s-max, New Score: 1.0\n",
      "TRAINING WITH summary AUGMENTED DATA.\n",
      "Train size: 10\n",
      "F1-Score: 0.8800367985280588\n",
      "\n",
      "passes...\n",
      "***************** TRAIN SIZE: 25 *****************\n"
     ]
    },
    {
     "name": "stderr",
     "output_type": "stream",
     "text": [
      "100%|███████████████████████████████████████████████████| 2534/2534 [00:09<00:00, 267.52it/s]\n"
     ]
    },
    {
     "name": "stdout",
     "output_type": "stream",
     "text": [
      "Iteration 0, Current Score: 0,                 Best Feature: davinci-logprobs s-avg, New Score: 1.0\n"
     ]
    },
    {
     "name": "stderr",
     "output_type": "stream",
     "text": [
      "100%|███████████████████████████████████████████████████| 2533/2533 [00:11<00:00, 229.88it/s]\n"
     ]
    },
    {
     "name": "stdout",
     "output_type": "stream",
     "text": [
      "Iteration 1, Current Score: 1.0,                 Best Feature: davinci-logprobs s-max, New Score: 1.0\n",
      "TRAINING WITH summary AUGMENTED DATA.\n",
      "Train size: 25\n",
      "F1-Score: 0.9688356164383561\n",
      "\n",
      "passes...\n",
      "***************** TRAIN SIZE: 50 *****************\n"
     ]
    },
    {
     "name": "stderr",
     "output_type": "stream",
     "text": [
      "100%|███████████████████████████████████████████████████| 2534/2534 [00:09<00:00, 261.10it/s]\n"
     ]
    },
    {
     "name": "stdout",
     "output_type": "stream",
     "text": [
      "Iteration 0, Current Score: 0,                 Best Feature: trigram-logprobs v-> davinci-logprobs s-avg, New Score: 0.98\n"
     ]
    },
    {
     "name": "stderr",
     "output_type": "stream",
     "text": [
      "100%|███████████████████████████████████████████████████| 2533/2533 [00:11<00:00, 213.57it/s]\n"
     ]
    },
    {
     "name": "stdout",
     "output_type": "stream",
     "text": [
      "Iteration 1, Current Score: 0.98,                 Best Feature: davinci-logprobs s-max, New Score: 0.98\n",
      "TRAINING WITH summary AUGMENTED DATA.\n",
      "Train size: 50\n",
      "F1-Score: 0.9610185750414232\n",
      "\n",
      "passes...\n",
      "***************** TRAIN SIZE: 75 *****************\n"
     ]
    },
    {
     "name": "stderr",
     "output_type": "stream",
     "text": [
      "100%|███████████████████████████████████████████████████| 2534/2534 [00:09<00:00, 260.05it/s]\n"
     ]
    },
    {
     "name": "stdout",
     "output_type": "stream",
     "text": [
      "Iteration 0, Current Score: 0,                 Best Feature: trigram-logprobs v-> davinci-logprobs s-avg, New Score: 1.0\n"
     ]
    },
    {
     "name": "stderr",
     "output_type": "stream",
     "text": [
      "100%|███████████████████████████████████████████████████| 2533/2533 [00:11<00:00, 211.83it/s]\n"
     ]
    },
    {
     "name": "stdout",
     "output_type": "stream",
     "text": [
      "Iteration 1, Current Score: 1.0,                 Best Feature: davinci-logprobs s-max, New Score: 1.0\n",
      "TRAINING WITH summary AUGMENTED DATA.\n",
      "Train size: 75\n",
      "F1-Score: 0.9579140782220666\n",
      "\n",
      "passes...\n",
      "***************** TRAIN SIZE: 100 *****************\n"
     ]
    },
    {
     "name": "stderr",
     "output_type": "stream",
     "text": [
      "100%|███████████████████████████████████████████████████| 2534/2534 [00:09<00:00, 255.61it/s]\n"
     ]
    },
    {
     "name": "stdout",
     "output_type": "stream",
     "text": [
      "Iteration 0, Current Score: 0,                 Best Feature: trigram-logprobs v-> ada-logprobs s-avg, New Score: 1.0\n"
     ]
    },
    {
     "name": "stderr",
     "output_type": "stream",
     "text": [
      "100%|███████████████████████████████████████████████████| 2533/2533 [00:12<00:00, 210.83it/s]\n"
     ]
    },
    {
     "name": "stdout",
     "output_type": "stream",
     "text": [
      "Iteration 1, Current Score: 1.0,                 Best Feature: davinci-logprobs s-max, New Score: 1.0\n",
      "TRAINING WITH summary AUGMENTED DATA.\n",
      "Train size: 100\n",
      "F1-Score: 0.9814814814814815\n",
      "\n",
      "passes...\n"
     ]
    },
    {
     "data": {
      "image/png": "[encoded data removed]",
      "text/plain": [
       "<Figure size 640x480 with 1 Axes>"
      ]
     },
     "metadata": {},
     "output_type": "display_data"
    },
    {
     "name": "stdout",
     "output_type": "stream",
     "text": [
      "**************** SEED 52 ****************\n",
      "***************** AUGMENTATION: baseline *****************\n"
     ]
    },
    {
     "data": {
      "application/vnd.jupyter.widget-view+json": {
       "model_id": "1a42db7fcf5042fd80588d74f656c772",
       "version_major": 2,
       "version_minor": 0
      },
      "text/plain": [
       "  0%|          | 0/5 [00:00<?, ?it/s]"
      ]
     },
     "metadata": {},
     "output_type": "display_data"
    },
    {
     "name": "stdout",
     "output_type": "stream",
     "text": [
      "***************** TRAIN SIZE: 10 *****************\n"
     ]
    },
    {
     "name": "stderr",
     "output_type": "stream",
     "text": [
      "100%|███████████████████████████████████████████████████| 2534/2534 [00:09<00:00, 266.24it/s]\n"
     ]
    },
    {
     "name": "stdout",
     "output_type": "stream",
     "text": [
      "Iteration 0, Current Score: 0,                 Best Feature: davinci-logprobs s-avg, New Score: 1.0\n"
     ]
    },
    {
     "name": "stderr",
     "output_type": "stream",
     "text": [
      "100%|███████████████████████████████████████████████████| 2533/2533 [00:10<00:00, 241.53it/s]\n"
     ]
    },
    {
     "name": "stdout",
     "output_type": "stream",
     "text": [
      "Iteration 1, Current Score: 1.0,                 Best Feature: davinci-logprobs s-max, New Score: 1.0\n",
      "TRAINING WITHOUT AUGMENTATIONS\n",
      "Train size: 10\n",
      "F1-Score: 0.9095034945992557\n",
      "\n",
      "passes...\n",
      "***************** TRAIN SIZE: 25 *****************\n"
     ]
    },
    {
     "name": "stderr",
     "output_type": "stream",
     "text": [
      "100%|███████████████████████████████████████████████████| 2534/2534 [00:09<00:00, 259.61it/s]\n"
     ]
    },
    {
     "name": "stdout",
     "output_type": "stream",
     "text": [
      "Iteration 0, Current Score: 0,                 Best Feature: trigram-logprobs v-> davinci-logprobs v-div trigram-logprobs s-var, New Score: 1.0\n"
     ]
    },
    {
     "name": "stderr",
     "output_type": "stream",
     "text": [
      "100%|███████████████████████████████████████████████████| 2533/2533 [00:11<00:00, 225.11it/s]"
     ]
    },
    {
     "name": "stdout",
     "output_type": "stream",
     "text": [
      "Iteration 1, Current Score: 1.0,                 Best Feature: davinci-logprobs s-max, New Score: 1.0\n",
      "TRAINING WITHOUT AUGMENTATIONS\n",
      "Train size: 25\n",
      "F1-Score: 0.989990747750021\n",
      "\n",
      "early stopping.\n",
      "early stopping\n",
      "**************** SEED 53 ****************\n",
      "***************** AUGMENTATION: baseline *****************\n"
     ]
    },
    {
     "name": "stderr",
     "output_type": "stream",
     "text": [
      "\n"
     ]
    },
    {
     "data": {
      "application/vnd.jupyter.widget-view+json": {
       "model_id": "054ec9ee922d4ef69d4d79872b9b0678",
       "version_major": 2,
       "version_minor": 0
      },
      "text/plain": [
       "  0%|          | 0/5 [00:00<?, ?it/s]"
      ]
     },
     "metadata": {},
     "output_type": "display_data"
    },
    {
     "name": "stdout",
     "output_type": "stream",
     "text": [
      "***************** TRAIN SIZE: 10 *****************\n"
     ]
    },
    {
     "name": "stderr",
     "output_type": "stream",
     "text": [
      "100%|███████████████████████████████████████████████████| 2534/2534 [00:09<00:00, 267.11it/s]\n"
     ]
    },
    {
     "name": "stdout",
     "output_type": "stream",
     "text": [
      "Iteration 0, Current Score: 0,                 Best Feature: davinci-logprobs s-avg, New Score: 1.0\n"
     ]
    },
    {
     "name": "stderr",
     "output_type": "stream",
     "text": [
      "100%|███████████████████████████████████████████████████| 2533/2533 [00:10<00:00, 234.84it/s]\n"
     ]
    },
    {
     "name": "stdout",
     "output_type": "stream",
     "text": [
      "Iteration 1, Current Score: 1.0,                 Best Feature: davinci-logprobs s-max, New Score: 1.0\n",
      "TRAINING WITHOUT AUGMENTATIONS\n",
      "Train size: 10\n",
      "F1-Score: 0.7395471300684571\n",
      "\n",
      "passes...\n",
      "***************** TRAIN SIZE: 25 *****************\n"
     ]
    },
    {
     "name": "stderr",
     "output_type": "stream",
     "text": [
      "100%|███████████████████████████████████████████████████| 2534/2534 [00:10<00:00, 250.95it/s]\n"
     ]
    },
    {
     "name": "stdout",
     "output_type": "stream",
     "text": [
      "Iteration 0, Current Score: 0,                 Best Feature: trigram-logprobs v-> davinci-logprobs v-div ada-logprobs s-avg-top-25, New Score: 1.0\n"
     ]
    },
    {
     "name": "stderr",
     "output_type": "stream",
     "text": [
      "100%|███████████████████████████████████████████████████| 2533/2533 [00:11<00:00, 215.93it/s]\n"
     ]
    },
    {
     "name": "stdout",
     "output_type": "stream",
     "text": [
      "Iteration 1, Current Score: 1.0,                 Best Feature: davinci-logprobs s-avg-top-25, New Score: 1.0\n",
      "TRAINING WITHOUT AUGMENTATIONS\n",
      "Train size: 25\n",
      "F1-Score: 0.9460529789668222\n",
      "\n",
      "passes...\n",
      "***************** TRAIN SIZE: 50 *****************\n"
     ]
    },
    {
     "name": "stderr",
     "output_type": "stream",
     "text": [
      "100%|███████████████████████████████████████████████████| 2534/2534 [00:09<00:00, 265.57it/s]\n"
     ]
    },
    {
     "name": "stdout",
     "output_type": "stream",
     "text": [
      "Iteration 0, Current Score: 0,                 Best Feature: trigram-logprobs v-> ada-logprobs s-avg, New Score: 0.98\n"
     ]
    },
    {
     "name": "stderr",
     "output_type": "stream",
     "text": [
      "100%|███████████████████████████████████████████████████| 2533/2533 [00:12<00:00, 210.30it/s]\n"
     ]
    },
    {
     "name": "stdout",
     "output_type": "stream",
     "text": [
      "Iteration 1, Current Score: 0.98,                 Best Feature: davinci-logprobs v-div trigram-logprobs v-add davinci-logprobs s-avg, New Score: 1.0\n"
     ]
    },
    {
     "name": "stderr",
     "output_type": "stream",
     "text": [
      "100%|███████████████████████████████████████████████████| 2532/2532 [00:12<00:00, 203.40it/s]\n"
     ]
    },
    {
     "name": "stdout",
     "output_type": "stream",
     "text": [
      "Iteration 2, Current Score: 1.0,                 Best Feature: davinci-logprobs v-div ada-logprobs v-add davinci-logprobs s-avg-top-25, New Score: 1.0\n",
      "TRAINING WITHOUT AUGMENTATIONS\n",
      "Train size: 50\n",
      "F1-Score: 0.966241430183112\n",
      "\n",
      "passes...\n",
      "***************** TRAIN SIZE: 75 *****************\n"
     ]
    },
    {
     "name": "stderr",
     "output_type": "stream",
     "text": [
      "100%|███████████████████████████████████████████████████| 2534/2534 [00:09<00:00, 256.03it/s]\n"
     ]
    },
    {
     "name": "stdout",
     "output_type": "stream",
     "text": [
      "Iteration 0, Current Score: 0,                 Best Feature: trigram-logprobs v-div ada-logprobs v-> davinci-logprobs s-avg, New Score: 0.9866666667\n"
     ]
    },
    {
     "name": "stderr",
     "output_type": "stream",
     "text": [
      "100%|███████████████████████████████████████████████████| 2533/2533 [00:12<00:00, 208.25it/s]\n"
     ]
    },
    {
     "name": "stdout",
     "output_type": "stream",
     "text": [
      "Iteration 1, Current Score: 0.9866666667,                 Best Feature: davinci-logprobs s-len, New Score: 1.0\n"
     ]
    },
    {
     "name": "stderr",
     "output_type": "stream",
     "text": [
      "100%|███████████████████████████████████████████████████| 2532/2532 [00:12<00:00, 209.01it/s]\n"
     ]
    },
    {
     "name": "stdout",
     "output_type": "stream",
     "text": [
      "Iteration 2, Current Score: 1.0,                 Best Feature: davinci-logprobs s-min, New Score: 1.0\n",
      "TRAINING WITHOUT AUGMENTATIONS\n",
      "Train size: 75\n",
      "F1-Score: 0.9936413734633319\n",
      "\n",
      "passes...\n",
      "***************** TRAIN SIZE: 100 *****************\n"
     ]
    },
    {
     "name": "stderr",
     "output_type": "stream",
     "text": [
      "100%|███████████████████████████████████████████████████| 2534/2534 [00:10<00:00, 251.94it/s]\n"
     ]
    },
    {
     "name": "stdout",
     "output_type": "stream",
     "text": [
      "Iteration 0, Current Score: 0,                 Best Feature: trigram-logprobs v-> davinci-logprobs s-avg, New Score: 1.0\n"
     ]
    },
    {
     "name": "stderr",
     "output_type": "stream",
     "text": [
      "100%|███████████████████████████████████████████████████| 2533/2533 [00:11<00:00, 213.58it/s]"
     ]
    },
    {
     "name": "stdout",
     "output_type": "stream",
     "text": [
      "Iteration 1, Current Score: 1.0,                 Best Feature: davinci-logprobs s-max, New Score: 1.0\n",
      "TRAINING WITHOUT AUGMENTATIONS\n",
      "Train size: 100\n",
      "F1-Score: 0.9883414177516807\n",
      "\n",
      "passes...\n",
      "***************** AUGMENTATION: synonym *****************\n"
     ]
    },
    {
     "name": "stderr",
     "output_type": "stream",
     "text": [
      "\n"
     ]
    },
    {
     "data": {
      "application/vnd.jupyter.widget-view+json": {
       "model_id": "838f32c03dc44c759c64cc7671fba987",
       "version_major": 2,
       "version_minor": 0
      },
      "text/plain": [
       "  0%|          | 0/5 [00:00<?, ?it/s]"
      ]
     },
     "metadata": {},
     "output_type": "display_data"
    },
    {
     "name": "stdout",
     "output_type": "stream",
     "text": [
      "***************** TRAIN SIZE: 10 *****************\n"
     ]
    },
    {
     "name": "stderr",
     "output_type": "stream",
     "text": [
      "100%|███████████████████████████████████████████████████| 2534/2534 [00:09<00:00, 268.76it/s]\n"
     ]
    },
    {
     "name": "stdout",
     "output_type": "stream",
     "text": [
      "Iteration 0, Current Score: 0,                 Best Feature: davinci-logprobs s-avg, New Score: 1.0\n"
     ]
    },
    {
     "name": "stderr",
     "output_type": "stream",
     "text": [
      "100%|███████████████████████████████████████████████████| 2533/2533 [00:10<00:00, 233.53it/s]\n"
     ]
    },
    {
     "name": "stdout",
     "output_type": "stream",
     "text": [
      "Iteration 1, Current Score: 1.0,                 Best Feature: davinci-logprobs s-max, New Score: 1.0\n",
      "TRAINING WITH synonym AUGMENTED DATA.\n",
      "Train size: 10\n",
      "F1-Score: 0.6680040120361084\n",
      "\n",
      "passes...\n",
      "***************** TRAIN SIZE: 25 *****************\n"
     ]
    },
    {
     "name": "stderr",
     "output_type": "stream",
     "text": [
      "100%|███████████████████████████████████████████████████| 2534/2534 [00:09<00:00, 265.67it/s]\n"
     ]
    },
    {
     "name": "stdout",
     "output_type": "stream",
     "text": [
      "Iteration 0, Current Score: 0,                 Best Feature: trigram-logprobs v-> davinci-logprobs s-avg, New Score: 1.0\n"
     ]
    },
    {
     "name": "stderr",
     "output_type": "stream",
     "text": [
      "100%|███████████████████████████████████████████████████| 2533/2533 [00:11<00:00, 217.89it/s]\n"
     ]
    },
    {
     "name": "stdout",
     "output_type": "stream",
     "text": [
      "Iteration 1, Current Score: 1.0,                 Best Feature: davinci-logprobs s-min, New Score: 1.0\n",
      "TRAINING WITH synonym AUGMENTED DATA.\n",
      "Train size: 25\n",
      "F1-Score: 0.9678089304257529\n",
      "\n",
      "passes...\n",
      "***************** TRAIN SIZE: 50 *****************\n"
     ]
    },
    {
     "name": "stderr",
     "output_type": "stream",
     "text": [
      "100%|███████████████████████████████████████████████████| 2534/2534 [00:09<00:00, 264.72it/s]\n"
     ]
    },
    {
     "name": "stdout",
     "output_type": "stream",
     "text": [
      "Iteration 0, Current Score: 0,                 Best Feature: trigram-logprobs v-> ada-logprobs s-avg, New Score: 0.98\n"
     ]
    },
    {
     "name": "stderr",
     "output_type": "stream",
     "text": [
      "100%|███████████████████████████████████████████████████| 2533/2533 [00:11<00:00, 211.97it/s]\n"
     ]
    },
    {
     "name": "stdout",
     "output_type": "stream",
     "text": [
      "Iteration 1, Current Score: 0.98,                 Best Feature: davinci-logprobs v-div trigram-logprobs s-avg, New Score: 1.0\n"
     ]
    },
    {
     "name": "stderr",
     "output_type": "stream",
     "text": [
      "100%|███████████████████████████████████████████████████| 2532/2532 [00:12<00:00, 209.05it/s]\n"
     ]
    },
    {
     "name": "stdout",
     "output_type": "stream",
     "text": [
      "Iteration 2, Current Score: 1.0,                 Best Feature: davinci-logprobs s-max, New Score: 1.0\n",
      "TRAINING WITH synonym AUGMENTED DATA.\n",
      "Train size: 50\n",
      "F1-Score: 0.9442570566305698\n",
      "\n",
      "passes...\n",
      "***************** TRAIN SIZE: 75 *****************\n"
     ]
    },
    {
     "name": "stderr",
     "output_type": "stream",
     "text": [
      "100%|███████████████████████████████████████████████████| 2534/2534 [00:09<00:00, 260.02it/s]\n"
     ]
    },
    {
     "name": "stdout",
     "output_type": "stream",
     "text": [
      "Iteration 0, Current Score: 0,                 Best Feature: trigram-logprobs v-> davinci-logprobs s-avg, New Score: 1.0\n"
     ]
    },
    {
     "name": "stderr",
     "output_type": "stream",
     "text": [
      "100%|███████████████████████████████████████████████████| 2533/2533 [00:11<00:00, 213.09it/s]\n"
     ]
    },
    {
     "name": "stdout",
     "output_type": "stream",
     "text": [
      "Iteration 1, Current Score: 1.0,                 Best Feature: davinci-logprobs s-max, New Score: 1.0\n",
      "TRAINING WITH synonym AUGMENTED DATA.\n",
      "Train size: 75\n",
      "F1-Score: 0.976932346359098\n",
      "\n",
      "passes...\n",
      "***************** TRAIN SIZE: 100 *****************\n"
     ]
    },
    {
     "name": "stderr",
     "output_type": "stream",
     "text": [
      "100%|███████████████████████████████████████████████████| 2534/2534 [00:10<00:00, 247.90it/s]\n"
     ]
    },
    {
     "name": "stdout",
     "output_type": "stream",
     "text": [
      "Iteration 0, Current Score: 0,                 Best Feature: trigram-logprobs v-> davinci-logprobs s-avg, New Score: 1.0\n"
     ]
    },
    {
     "name": "stderr",
     "output_type": "stream",
     "text": [
      "100%|███████████████████████████████████████████████████| 2533/2533 [00:11<00:00, 212.05it/s]\n"
     ]
    },
    {
     "name": "stdout",
     "output_type": "stream",
     "text": [
      "Iteration 1, Current Score: 1.0,                 Best Feature: davinci-logprobs s-max, New Score: 1.0\n",
      "TRAINING WITH synonym AUGMENTED DATA.\n",
      "Train size: 100\n",
      "F1-Score: 0.9726312142733414\n",
      "\n",
      "passes...\n",
      "***************** AUGMENTATION: back *****************\n"
     ]
    },
    {
     "data": {
      "application/vnd.jupyter.widget-view+json": {
       "model_id": "cf396d1eb0bd4c55adfe1f33c949adf5",
       "version_major": 2,
       "version_minor": 0
      },
      "text/plain": [
       "  0%|          | 0/5 [00:00<?, ?it/s]"
      ]
     },
     "metadata": {},
     "output_type": "display_data"
    },
    {
     "name": "stdout",
     "output_type": "stream",
     "text": [
      "***************** TRAIN SIZE: 10 *****************\n"
     ]
    },
    {
     "name": "stderr",
     "output_type": "stream",
     "text": [
      "100%|███████████████████████████████████████████████████| 2534/2534 [00:09<00:00, 266.61it/s]\n"
     ]
    },
    {
     "name": "stdout",
     "output_type": "stream",
     "text": [
      "Iteration 0, Current Score: 0,                 Best Feature: davinci-logprobs s-avg, New Score: 1.0\n"
     ]
    },
    {
     "name": "stderr",
     "output_type": "stream",
     "text": [
      "100%|███████████████████████████████████████████████████| 2533/2533 [00:10<00:00, 234.14it/s]\n"
     ]
    },
    {
     "name": "stdout",
     "output_type": "stream",
     "text": [
      "Iteration 1, Current Score: 1.0,                 Best Feature: davinci-logprobs s-max, New Score: 1.0\n",
      "TRAINING WITH back AUGMENTED DATA.\n",
      "Train size: 10\n",
      "F1-Score: 0.5819477434679335\n",
      "\n",
      "passes...\n",
      "***************** TRAIN SIZE: 25 *****************\n"
     ]
    },
    {
     "name": "stderr",
     "output_type": "stream",
     "text": [
      "100%|███████████████████████████████████████████████████| 2534/2534 [00:09<00:00, 270.04it/s]\n"
     ]
    },
    {
     "name": "stdout",
     "output_type": "stream",
     "text": [
      "Iteration 0, Current Score: 0,                 Best Feature: trigram-logprobs v-> davinci-logprobs s-avg, New Score: 1.0\n"
     ]
    },
    {
     "name": "stderr",
     "output_type": "stream",
     "text": [
      "100%|███████████████████████████████████████████████████| 2533/2533 [00:11<00:00, 218.32it/s]\n"
     ]
    },
    {
     "name": "stdout",
     "output_type": "stream",
     "text": [
      "Iteration 1, Current Score: 1.0,                 Best Feature: davinci-logprobs s-min, New Score: 1.0\n",
      "TRAINING WITH back AUGMENTED DATA.\n",
      "Train size: 25\n",
      "F1-Score: 0.969057908383751\n",
      "\n",
      "passes...\n",
      "***************** TRAIN SIZE: 50 *****************\n"
     ]
    },
    {
     "name": "stderr",
     "output_type": "stream",
     "text": [
      "100%|███████████████████████████████████████████████████| 2534/2534 [00:09<00:00, 264.15it/s]\n"
     ]
    },
    {
     "name": "stdout",
     "output_type": "stream",
     "text": [
      "Iteration 0, Current Score: 0,                 Best Feature: trigram-logprobs v-> ada-logprobs s-avg, New Score: 0.98\n"
     ]
    },
    {
     "name": "stderr",
     "output_type": "stream",
     "text": [
      "100%|███████████████████████████████████████████████████| 2533/2533 [00:12<00:00, 209.49it/s]\n"
     ]
    },
    {
     "name": "stdout",
     "output_type": "stream",
     "text": [
      "Iteration 1, Current Score: 0.98,                 Best Feature: davinci-logprobs v-div trigram-logprobs s-avg, New Score: 1.0\n"
     ]
    },
    {
     "name": "stderr",
     "output_type": "stream",
     "text": [
      "100%|███████████████████████████████████████████████████| 2532/2532 [00:12<00:00, 207.41it/s]\n"
     ]
    },
    {
     "name": "stdout",
     "output_type": "stream",
     "text": [
      "Iteration 2, Current Score: 1.0,                 Best Feature: davinci-logprobs s-max, New Score: 1.0\n",
      "TRAINING WITH back AUGMENTED DATA.\n",
      "Train size: 50\n",
      "F1-Score: 0.9504146814893242\n",
      "\n",
      "passes...\n",
      "***************** TRAIN SIZE: 75 *****************\n"
     ]
    },
    {
     "name": "stderr",
     "output_type": "stream",
     "text": [
      "100%|███████████████████████████████████████████████████| 2534/2534 [00:09<00:00, 258.38it/s]\n"
     ]
    },
    {
     "name": "stdout",
     "output_type": "stream",
     "text": [
      "Iteration 0, Current Score: 0,                 Best Feature: trigram-logprobs v-> davinci-logprobs s-avg, New Score: 1.0\n"
     ]
    },
    {
     "name": "stderr",
     "output_type": "stream",
     "text": [
      "100%|███████████████████████████████████████████████████| 2533/2533 [00:11<00:00, 213.08it/s]\n"
     ]
    },
    {
     "name": "stdout",
     "output_type": "stream",
     "text": [
      "Iteration 1, Current Score: 1.0,                 Best Feature: davinci-logprobs s-max, New Score: 1.0\n",
      "TRAINING WITH back AUGMENTED DATA.\n",
      "Train size: 75\n",
      "F1-Score: 0.982726184368052\n",
      "\n",
      "passes...\n",
      "***************** TRAIN SIZE: 100 *****************\n"
     ]
    },
    {
     "name": "stderr",
     "output_type": "stream",
     "text": [
      "100%|███████████████████████████████████████████████████| 2534/2534 [00:10<00:00, 244.24it/s]\n"
     ]
    },
    {
     "name": "stdout",
     "output_type": "stream",
     "text": [
      "Iteration 0, Current Score: 0,                 Best Feature: trigram-logprobs v-> davinci-logprobs s-avg, New Score: 1.0\n"
     ]
    },
    {
     "name": "stderr",
     "output_type": "stream",
     "text": [
      "100%|███████████████████████████████████████████████████| 2533/2533 [00:12<00:00, 209.12it/s]\n"
     ]
    },
    {
     "name": "stdout",
     "output_type": "stream",
     "text": [
      "Iteration 1, Current Score: 1.0,                 Best Feature: davinci-logprobs s-max, New Score: 1.0\n",
      "TRAINING WITH back AUGMENTED DATA.\n",
      "Train size: 100\n",
      "F1-Score: 0.983196159122085\n",
      "\n",
      "passes...\n",
      "***************** AUGMENTATION: emotion *****************\n"
     ]
    },
    {
     "data": {
      "application/vnd.jupyter.widget-view+json": {
       "model_id": "2c0be918d8b74828b72fdfd3b89849b7",
       "version_major": 2,
       "version_minor": 0
      },
      "text/plain": [
       "  0%|          | 0/5 [00:00<?, ?it/s]"
      ]
     },
     "metadata": {},
     "output_type": "display_data"
    },
    {
     "name": "stdout",
     "output_type": "stream",
     "text": [
      "***************** TRAIN SIZE: 10 *****************\n"
     ]
    },
    {
     "name": "stderr",
     "output_type": "stream",
     "text": [
      "100%|███████████████████████████████████████████████████| 2534/2534 [00:09<00:00, 267.13it/s]\n"
     ]
    },
    {
     "name": "stdout",
     "output_type": "stream",
     "text": [
      "Iteration 0, Current Score: 0,                 Best Feature: davinci-logprobs s-avg, New Score: 1.0\n"
     ]
    },
    {
     "name": "stderr",
     "output_type": "stream",
     "text": [
      "100%|███████████████████████████████████████████████████| 2533/2533 [00:10<00:00, 234.74it/s]\n"
     ]
    },
    {
     "name": "stdout",
     "output_type": "stream",
     "text": [
      "Iteration 1, Current Score: 1.0,                 Best Feature: davinci-logprobs s-max, New Score: 1.0\n",
      "TRAINING WITH emotion AUGMENTED DATA.\n",
      "Train size: 10\n",
      "F1-Score: 0.6029222676797195\n",
      "\n",
      "passes...\n",
      "***************** TRAIN SIZE: 25 *****************\n"
     ]
    },
    {
     "name": "stderr",
     "output_type": "stream",
     "text": [
      "100%|███████████████████████████████████████████████████| 2534/2534 [00:09<00:00, 268.65it/s]\n"
     ]
    },
    {
     "name": "stdout",
     "output_type": "stream",
     "text": [
      "Iteration 0, Current Score: 0,                 Best Feature: trigram-logprobs v-> davinci-logprobs s-avg, New Score: 1.0\n"
     ]
    },
    {
     "name": "stderr",
     "output_type": "stream",
     "text": [
      "100%|███████████████████████████████████████████████████| 2533/2533 [00:11<00:00, 215.67it/s]\n"
     ]
    },
    {
     "name": "stdout",
     "output_type": "stream",
     "text": [
      "Iteration 1, Current Score: 1.0,                 Best Feature: davinci-logprobs s-min, New Score: 1.0\n",
      "TRAINING WITH emotion AUGMENTED DATA.\n",
      "Train size: 25\n",
      "F1-Score: 0.9650325379609545\n",
      "\n",
      "passes...\n",
      "***************** TRAIN SIZE: 50 *****************\n"
     ]
    },
    {
     "name": "stderr",
     "output_type": "stream",
     "text": [
      "100%|███████████████████████████████████████████████████| 2534/2534 [00:09<00:00, 264.69it/s]\n"
     ]
    },
    {
     "name": "stdout",
     "output_type": "stream",
     "text": [
      "Iteration 0, Current Score: 0,                 Best Feature: trigram-logprobs v-> ada-logprobs s-avg, New Score: 0.98\n"
     ]
    },
    {
     "name": "stderr",
     "output_type": "stream",
     "text": [
      "100%|███████████████████████████████████████████████████| 2533/2533 [00:12<00:00, 210.86it/s]\n"
     ]
    },
    {
     "name": "stdout",
     "output_type": "stream",
     "text": [
      "Iteration 1, Current Score: 0.98,                 Best Feature: davinci-logprobs v-div trigram-logprobs s-avg, New Score: 1.0\n"
     ]
    },
    {
     "name": "stderr",
     "output_type": "stream",
     "text": [
      "100%|███████████████████████████████████████████████████| 2532/2532 [00:12<00:00, 207.40it/s]\n"
     ]
    },
    {
     "name": "stdout",
     "output_type": "stream",
     "text": [
      "Iteration 2, Current Score: 1.0,                 Best Feature: davinci-logprobs s-max, New Score: 1.0\n",
      "TRAINING WITH emotion AUGMENTED DATA.\n",
      "Train size: 50\n",
      "F1-Score: 0.9392777530093624\n",
      "\n",
      "passes...\n",
      "***************** TRAIN SIZE: 75 *****************\n"
     ]
    },
    {
     "name": "stderr",
     "output_type": "stream",
     "text": [
      "100%|███████████████████████████████████████████████████| 2534/2534 [00:09<00:00, 258.33it/s]\n"
     ]
    },
    {
     "name": "stdout",
     "output_type": "stream",
     "text": [
      "Iteration 0, Current Score: 0,                 Best Feature: trigram-logprobs v-> davinci-logprobs s-avg, New Score: 1.0\n"
     ]
    },
    {
     "name": "stderr",
     "output_type": "stream",
     "text": [
      "100%|███████████████████████████████████████████████████| 2533/2533 [00:11<00:00, 212.32it/s]\n"
     ]
    },
    {
     "name": "stdout",
     "output_type": "stream",
     "text": [
      "Iteration 1, Current Score: 1.0,                 Best Feature: davinci-logprobs s-max, New Score: 1.0\n",
      "TRAINING WITH emotion AUGMENTED DATA.\n",
      "Train size: 75\n",
      "F1-Score: 0.9814228233884085\n",
      "\n",
      "passes...\n",
      "***************** TRAIN SIZE: 100 *****************\n"
     ]
    },
    {
     "name": "stderr",
     "output_type": "stream",
     "text": [
      "100%|███████████████████████████████████████████████████| 2534/2534 [00:10<00:00, 248.59it/s]\n"
     ]
    },
    {
     "name": "stdout",
     "output_type": "stream",
     "text": [
      "Iteration 0, Current Score: 0,                 Best Feature: trigram-logprobs v-> davinci-logprobs s-avg, New Score: 1.0\n"
     ]
    },
    {
     "name": "stderr",
     "output_type": "stream",
     "text": [
      "100%|███████████████████████████████████████████████████| 2533/2533 [00:12<00:00, 209.91it/s]"
     ]
    },
    {
     "name": "stdout",
     "output_type": "stream",
     "text": [
      "Iteration 1, Current Score: 1.0,                 Best Feature: davinci-logprobs s-max, New Score: 1.0\n",
      "TRAINING WITH emotion AUGMENTED DATA.\n",
      "Train size: 100\n",
      "F1-Score: 0.9735202492211839\n",
      "\n",
      "passes...\n",
      "***************** AUGMENTATION: style *****************\n"
     ]
    },
    {
     "name": "stderr",
     "output_type": "stream",
     "text": [
      "\n"
     ]
    },
    {
     "data": {
      "application/vnd.jupyter.widget-view+json": {
       "model_id": "f0881017686e45e0b6904ad40d3ff035",
       "version_major": 2,
       "version_minor": 0
      },
      "text/plain": [
       "  0%|          | 0/5 [00:00<?, ?it/s]"
      ]
     },
     "metadata": {},
     "output_type": "display_data"
    },
    {
     "name": "stdout",
     "output_type": "stream",
     "text": [
      "***************** TRAIN SIZE: 10 *****************\n"
     ]
    },
    {
     "name": "stderr",
     "output_type": "stream",
     "text": [
      "100%|███████████████████████████████████████████████████| 2534/2534 [00:09<00:00, 264.79it/s]\n"
     ]
    },
    {
     "name": "stdout",
     "output_type": "stream",
     "text": [
      "Iteration 0, Current Score: 0,                 Best Feature: davinci-logprobs s-avg, New Score: 1.0\n"
     ]
    },
    {
     "name": "stderr",
     "output_type": "stream",
     "text": [
      "100%|███████████████████████████████████████████████████| 2533/2533 [00:10<00:00, 235.07it/s]\n"
     ]
    },
    {
     "name": "stdout",
     "output_type": "stream",
     "text": [
      "Iteration 1, Current Score: 1.0,                 Best Feature: davinci-logprobs s-max, New Score: 1.0\n",
      "TRAINING WITH style AUGMENTED DATA.\n",
      "Train size: 10\n",
      "F1-Score: 0.6632367744100213\n",
      "\n",
      "passes...\n",
      "***************** TRAIN SIZE: 25 *****************\n"
     ]
    },
    {
     "name": "stderr",
     "output_type": "stream",
     "text": [
      "100%|███████████████████████████████████████████████████| 2534/2534 [00:09<00:00, 263.92it/s]\n"
     ]
    },
    {
     "name": "stdout",
     "output_type": "stream",
     "text": [
      "Iteration 0, Current Score: 0,                 Best Feature: trigram-logprobs v-> davinci-logprobs s-avg, New Score: 1.0\n"
     ]
    },
    {
     "name": "stderr",
     "output_type": "stream",
     "text": [
      "100%|███████████████████████████████████████████████████| 2533/2533 [00:11<00:00, 219.10it/s]\n"
     ]
    },
    {
     "name": "stdout",
     "output_type": "stream",
     "text": [
      "Iteration 1, Current Score: 1.0,                 Best Feature: davinci-logprobs s-min, New Score: 1.0\n",
      "TRAINING WITH style AUGMENTED DATA.\n",
      "Train size: 25\n",
      "F1-Score: 0.9555010511562719\n",
      "\n",
      "passes...\n",
      "***************** TRAIN SIZE: 50 *****************\n"
     ]
    },
    {
     "name": "stderr",
     "output_type": "stream",
     "text": [
      "100%|███████████████████████████████████████████████████| 2534/2534 [00:09<00:00, 260.61it/s]\n"
     ]
    },
    {
     "name": "stdout",
     "output_type": "stream",
     "text": [
      "Iteration 0, Current Score: 0,                 Best Feature: trigram-logprobs v-> ada-logprobs s-avg, New Score: 0.98\n"
     ]
    },
    {
     "name": "stderr",
     "output_type": "stream",
     "text": [
      "100%|███████████████████████████████████████████████████| 2533/2533 [00:12<00:00, 209.66it/s]\n"
     ]
    },
    {
     "name": "stdout",
     "output_type": "stream",
     "text": [
      "Iteration 1, Current Score: 0.98,                 Best Feature: davinci-logprobs v-div trigram-logprobs s-avg, New Score: 1.0\n"
     ]
    },
    {
     "name": "stderr",
     "output_type": "stream",
     "text": [
      "100%|███████████████████████████████████████████████████| 2532/2532 [00:12<00:00, 206.76it/s]\n"
     ]
    },
    {
     "name": "stdout",
     "output_type": "stream",
     "text": [
      "Iteration 2, Current Score: 1.0,                 Best Feature: davinci-logprobs s-max, New Score: 1.0\n",
      "TRAINING WITH style AUGMENTED DATA.\n",
      "Train size: 50\n",
      "F1-Score: 0.9385933595144591\n",
      "\n",
      "passes...\n",
      "***************** TRAIN SIZE: 75 *****************\n"
     ]
    },
    {
     "name": "stderr",
     "output_type": "stream",
     "text": [
      "100%|███████████████████████████████████████████████████| 2534/2534 [00:09<00:00, 258.08it/s]\n"
     ]
    },
    {
     "name": "stdout",
     "output_type": "stream",
     "text": [
      "Iteration 0, Current Score: 0,                 Best Feature: trigram-logprobs v-> davinci-logprobs s-avg, New Score: 1.0\n"
     ]
    },
    {
     "name": "stderr",
     "output_type": "stream",
     "text": [
      "100%|███████████████████████████████████████████████████| 2533/2533 [00:12<00:00, 210.56it/s]\n"
     ]
    },
    {
     "name": "stdout",
     "output_type": "stream",
     "text": [
      "Iteration 1, Current Score: 1.0,                 Best Feature: davinci-logprobs s-max, New Score: 1.0\n",
      "TRAINING WITH style AUGMENTED DATA.\n",
      "Train size: 75\n",
      "F1-Score: 0.984492160872529\n",
      "\n",
      "passes...\n",
      "***************** TRAIN SIZE: 100 *****************\n"
     ]
    },
    {
     "name": "stderr",
     "output_type": "stream",
     "text": [
      "100%|███████████████████████████████████████████████████| 2534/2534 [00:10<00:00, 247.50it/s]\n"
     ]
    },
    {
     "name": "stdout",
     "output_type": "stream",
     "text": [
      "Iteration 0, Current Score: 0,                 Best Feature: trigram-logprobs v-> davinci-logprobs s-avg, New Score: 1.0\n"
     ]
    },
    {
     "name": "stderr",
     "output_type": "stream",
     "text": [
      "100%|███████████████████████████████████████████████████| 2533/2533 [00:12<00:00, 208.87it/s]\n"
     ]
    },
    {
     "name": "stdout",
     "output_type": "stream",
     "text": [
      "Iteration 1, Current Score: 1.0,                 Best Feature: davinci-logprobs s-max, New Score: 1.0\n",
      "TRAINING WITH style AUGMENTED DATA.\n",
      "Train size: 100\n",
      "F1-Score: 0.9815529815529815\n",
      "\n",
      "passes...\n",
      "***************** AUGMENTATION: summary *****************\n"
     ]
    },
    {
     "data": {
      "application/vnd.jupyter.widget-view+json": {
       "model_id": "26ffe5d2cf694cd2a6d6cb80a095c080",
       "version_major": 2,
       "version_minor": 0
      },
      "text/plain": [
       "  0%|          | 0/5 [00:00<?, ?it/s]"
      ]
     },
     "metadata": {},
     "output_type": "display_data"
    },
    {
     "name": "stdout",
     "output_type": "stream",
     "text": [
      "***************** TRAIN SIZE: 10 *****************\n"
     ]
    },
    {
     "name": "stderr",
     "output_type": "stream",
     "text": [
      "100%|███████████████████████████████████████████████████| 2534/2534 [00:09<00:00, 263.00it/s]\n"
     ]
    },
    {
     "name": "stdout",
     "output_type": "stream",
     "text": [
      "Iteration 0, Current Score: 0,                 Best Feature: davinci-logprobs s-avg, New Score: 1.0\n"
     ]
    },
    {
     "name": "stderr",
     "output_type": "stream",
     "text": [
      "100%|███████████████████████████████████████████████████| 2533/2533 [00:11<00:00, 224.67it/s]\n"
     ]
    },
    {
     "name": "stdout",
     "output_type": "stream",
     "text": [
      "Iteration 1, Current Score: 1.0,                 Best Feature: davinci-logprobs s-max, New Score: 1.0\n",
      "TRAINING WITH summary AUGMENTED DATA.\n",
      "Train size: 10\n",
      "F1-Score: 0.5614161849710982\n",
      "\n",
      "passes...\n",
      "***************** TRAIN SIZE: 25 *****************\n"
     ]
    },
    {
     "name": "stderr",
     "output_type": "stream",
     "text": [
      "100%|███████████████████████████████████████████████████| 2534/2534 [00:09<00:00, 268.09it/s]\n"
     ]
    },
    {
     "name": "stdout",
     "output_type": "stream",
     "text": [
      "Iteration 0, Current Score: 0,                 Best Feature: trigram-logprobs v-> davinci-logprobs s-avg, New Score: 1.0\n"
     ]
    },
    {
     "name": "stderr",
     "output_type": "stream",
     "text": [
      "100%|███████████████████████████████████████████████████| 2533/2533 [00:11<00:00, 217.61it/s]\n"
     ]
    },
    {
     "name": "stdout",
     "output_type": "stream",
     "text": [
      "Iteration 1, Current Score: 1.0,                 Best Feature: davinci-logprobs s-min, New Score: 1.0\n",
      "TRAINING WITH summary AUGMENTED DATA.\n",
      "Train size: 25\n",
      "F1-Score: 0.9687905247687386\n",
      "\n",
      "passes...\n",
      "***************** TRAIN SIZE: 50 *****************\n"
     ]
    },
    {
     "name": "stderr",
     "output_type": "stream",
     "text": [
      "100%|███████████████████████████████████████████████████| 2534/2534 [00:09<00:00, 266.36it/s]\n"
     ]
    },
    {
     "name": "stdout",
     "output_type": "stream",
     "text": [
      "Iteration 0, Current Score: 0,                 Best Feature: trigram-logprobs v-> ada-logprobs s-avg, New Score: 0.98\n"
     ]
    },
    {
     "name": "stderr",
     "output_type": "stream",
     "text": [
      "100%|███████████████████████████████████████████████████| 2533/2533 [00:12<00:00, 208.11it/s]\n"
     ]
    },
    {
     "name": "stdout",
     "output_type": "stream",
     "text": [
      "Iteration 1, Current Score: 0.98,                 Best Feature: davinci-logprobs v-div trigram-logprobs s-avg, New Score: 1.0\n"
     ]
    },
    {
     "name": "stderr",
     "output_type": "stream",
     "text": [
      "100%|███████████████████████████████████████████████████| 2532/2532 [00:12<00:00, 206.09it/s]\n"
     ]
    },
    {
     "name": "stdout",
     "output_type": "stream",
     "text": [
      "Iteration 2, Current Score: 1.0,                 Best Feature: davinci-logprobs s-max, New Score: 1.0\n",
      "TRAINING WITH summary AUGMENTED DATA.\n",
      "Train size: 50\n",
      "F1-Score: 0.9462117855560479\n",
      "\n",
      "passes...\n",
      "***************** TRAIN SIZE: 75 *****************\n"
     ]
    },
    {
     "name": "stderr",
     "output_type": "stream",
     "text": [
      "100%|███████████████████████████████████████████████████| 2534/2534 [00:09<00:00, 261.48it/s]\n"
     ]
    },
    {
     "name": "stdout",
     "output_type": "stream",
     "text": [
      "Iteration 0, Current Score: 0,                 Best Feature: trigram-logprobs v-> davinci-logprobs s-avg, New Score: 1.0\n"
     ]
    },
    {
     "name": "stderr",
     "output_type": "stream",
     "text": [
      "100%|███████████████████████████████████████████████████| 2533/2533 [00:12<00:00, 210.58it/s]\n"
     ]
    },
    {
     "name": "stdout",
     "output_type": "stream",
     "text": [
      "Iteration 1, Current Score: 1.0,                 Best Feature: davinci-logprobs s-max, New Score: 1.0\n",
      "TRAINING WITH summary AUGMENTED DATA.\n",
      "Train size: 75\n",
      "F1-Score: 0.985618245255723\n",
      "\n",
      "passes...\n",
      "***************** TRAIN SIZE: 100 *****************\n"
     ]
    },
    {
     "name": "stderr",
     "output_type": "stream",
     "text": [
      "100%|███████████████████████████████████████████████████| 2534/2534 [00:10<00:00, 245.83it/s]\n"
     ]
    },
    {
     "name": "stdout",
     "output_type": "stream",
     "text": [
      "Iteration 0, Current Score: 0,                 Best Feature: trigram-logprobs v-> davinci-logprobs s-avg, New Score: 1.0\n"
     ]
    },
    {
     "name": "stderr",
     "output_type": "stream",
     "text": [
      "100%|███████████████████████████████████████████████████| 2533/2533 [00:12<00:00, 206.93it/s]\n"
     ]
    },
    {
     "name": "stdout",
     "output_type": "stream",
     "text": [
      "Iteration 1, Current Score: 1.0,                 Best Feature: davinci-logprobs s-max, New Score: 1.0\n",
      "TRAINING WITH summary AUGMENTED DATA.\n",
      "Train size: 100\n",
      "F1-Score: 0.9671075530804037\n",
      "\n",
      "passes...\n"
     ]
    },
    {
     "data": {
      "image/png": "[encoded data removed]",
      "text/plain": [
       "<Figure size 640x480 with 1 Axes>"
      ]
     },
     "metadata": {},
     "output_type": "display_data"
    },
    {
     "name": "stdout",
     "output_type": "stream",
     "text": [
      "**************** SEED 54 ****************\n",
      "***************** AUGMENTATION: baseline *****************\n"
     ]
    },
    {
     "data": {
      "application/vnd.jupyter.widget-view+json": {
       "model_id": "31d1f3b3a9d448348cc26917498aadae",
       "version_major": 2,
       "version_minor": 0
      },
      "text/plain": [
       "  0%|          | 0/5 [00:00<?, ?it/s]"
      ]
     },
     "metadata": {},
     "output_type": "display_data"
    },
    {
     "name": "stdout",
     "output_type": "stream",
     "text": [
      "***************** TRAIN SIZE: 10 *****************\n"
     ]
    },
    {
     "name": "stderr",
     "output_type": "stream",
     "text": [
      "100%|███████████████████████████████████████████████████| 2534/2534 [00:09<00:00, 265.24it/s]\n"
     ]
    },
    {
     "name": "stdout",
     "output_type": "stream",
     "text": [
      "Iteration 0, Current Score: 0,                 Best Feature: ada-logprobs v-> davinci-logprobs s-avg, New Score: 1.0\n"
     ]
    },
    {
     "name": "stderr",
     "output_type": "stream",
     "text": [
      "100%|███████████████████████████████████████████████████| 2533/2533 [00:10<00:00, 233.17it/s]\n"
     ]
    },
    {
     "name": "stdout",
     "output_type": "stream",
     "text": [
      "Iteration 1, Current Score: 1.0,                 Best Feature: davinci-logprobs s-max, New Score: 1.0\n",
      "TRAINING WITHOUT AUGMENTATIONS\n",
      "Train size: 10\n",
      "F1-Score: 0.8077334110560576\n",
      "\n",
      "passes...\n",
      "***************** TRAIN SIZE: 25 *****************\n"
     ]
    },
    {
     "name": "stderr",
     "output_type": "stream",
     "text": [
      "100%|███████████████████████████████████████████████████| 2534/2534 [00:09<00:00, 266.78it/s]\n"
     ]
    },
    {
     "name": "stdout",
     "output_type": "stream",
     "text": [
      "Iteration 0, Current Score: 0,                 Best Feature: trigram-logprobs v-div ada-logprobs v-> davinci-logprobs s-avg, New Score: 1.0\n"
     ]
    },
    {
     "name": "stderr",
     "output_type": "stream",
     "text": [
      "100%|███████████████████████████████████████████████████| 2533/2533 [00:11<00:00, 223.16it/s]"
     ]
    },
    {
     "name": "stdout",
     "output_type": "stream",
     "text": [
      "Iteration 1, Current Score: 1.0,                 Best Feature: davinci-logprobs s-max, New Score: 1.0\n",
      "TRAINING WITHOUT AUGMENTATIONS\n",
      "Train size: 25\n",
      "F1-Score: 0.9926896899420217\n",
      "\n",
      "early stopping.\n",
      "early stopping\n",
      "**************** SEED 55 ****************\n",
      "***************** AUGMENTATION: baseline *****************\n"
     ]
    },
    {
     "name": "stderr",
     "output_type": "stream",
     "text": [
      "\n"
     ]
    },
    {
     "data": {
      "application/vnd.jupyter.widget-view+json": {
       "model_id": "cc92a3d71e174bea91aac294491ebb4e",
       "version_major": 2,
       "version_minor": 0
      },
      "text/plain": [
       "  0%|          | 0/5 [00:00<?, ?it/s]"
      ]
     },
     "metadata": {},
     "output_type": "display_data"
    },
    {
     "name": "stdout",
     "output_type": "stream",
     "text": [
      "***************** TRAIN SIZE: 10 *****************\n"
     ]
    },
    {
     "name": "stderr",
     "output_type": "stream",
     "text": [
      "100%|███████████████████████████████████████████████████| 2534/2534 [00:09<00:00, 262.67it/s]\n"
     ]
    },
    {
     "name": "stdout",
     "output_type": "stream",
     "text": [
      "Iteration 0, Current Score: 0,                 Best Feature: davinci-logprobs s-avg, New Score: 1.0\n"
     ]
    },
    {
     "name": "stderr",
     "output_type": "stream",
     "text": [
      "100%|███████████████████████████████████████████████████| 2533/2533 [00:10<00:00, 231.58it/s]"
     ]
    },
    {
     "name": "stdout",
     "output_type": "stream",
     "text": [
      "Iteration 1, Current Score: 1.0,                 Best Feature: davinci-logprobs s-max, New Score: 1.0\n",
      "TRAINING WITHOUT AUGMENTATIONS\n",
      "Train size: 10\n",
      "F1-Score: 0.9508338373801088\n",
      "\n",
      "early stopping.\n",
      "early stopping\n",
      "**************** SEED 56 ****************\n",
      "***************** AUGMENTATION: baseline *****************\n"
     ]
    },
    {
     "name": "stderr",
     "output_type": "stream",
     "text": [
      "\n"
     ]
    },
    {
     "data": {
      "application/vnd.jupyter.widget-view+json": {
       "model_id": "09f0cfb0207f4f77bd29f4f4005a3210",
       "version_major": 2,
       "version_minor": 0
      },
      "text/plain": [
       "  0%|          | 0/5 [00:00<?, ?it/s]"
      ]
     },
     "metadata": {},
     "output_type": "display_data"
    },
    {
     "name": "stdout",
     "output_type": "stream",
     "text": [
      "***************** TRAIN SIZE: 10 *****************\n"
     ]
    },
    {
     "name": "stderr",
     "output_type": "stream",
     "text": [
      "100%|███████████████████████████████████████████████████| 2534/2534 [00:09<00:00, 266.94it/s]\n"
     ]
    },
    {
     "name": "stdout",
     "output_type": "stream",
     "text": [
      "Iteration 0, Current Score: 0,                 Best Feature: ada-logprobs v-> davinci-logprobs v-div trigram-logprobs s-var, New Score: 1.0\n"
     ]
    },
    {
     "name": "stderr",
     "output_type": "stream",
     "text": [
      "100%|███████████████████████████████████████████████████| 2533/2533 [00:10<00:00, 234.58it/s]\n"
     ]
    },
    {
     "name": "stdout",
     "output_type": "stream",
     "text": [
      "Iteration 1, Current Score: 1.0,                 Best Feature: davinci-logprobs s-var, New Score: 1.0\n",
      "TRAINING WITHOUT AUGMENTATIONS\n",
      "Train size: 10\n",
      "F1-Score: 0.823340874811463\n",
      "\n",
      "passes...\n",
      "***************** TRAIN SIZE: 25 *****************\n"
     ]
    },
    {
     "name": "stderr",
     "output_type": "stream",
     "text": [
      "100%|███████████████████████████████████████████████████| 2534/2534 [00:10<00:00, 250.08it/s]\n"
     ]
    },
    {
     "name": "stdout",
     "output_type": "stream",
     "text": [
      "Iteration 0, Current Score: 0,                 Best Feature: trigram-logprobs v-> davinci-logprobs s-avg, New Score: 1.0\n"
     ]
    },
    {
     "name": "stderr",
     "output_type": "stream",
     "text": [
      "100%|███████████████████████████████████████████████████| 2533/2533 [00:11<00:00, 215.77it/s]"
     ]
    },
    {
     "name": "stdout",
     "output_type": "stream",
     "text": [
      "Iteration 1, Current Score: 1.0,                 Best Feature: davinci-logprobs s-max, New Score: 1.0\n",
      "TRAINING WITHOUT AUGMENTATIONS\n",
      "Train size: 25\n",
      "F1-Score: 0.9875476493011436\n",
      "\n",
      "early stopping.\n",
      "early stopping\n",
      "**************** SEED 57 ****************\n",
      "***************** AUGMENTATION: baseline *****************\n"
     ]
    },
    {
     "name": "stderr",
     "output_type": "stream",
     "text": [
      "\n"
     ]
    },
    {
     "data": {
      "application/vnd.jupyter.widget-view+json": {
       "model_id": "569b99747d8948b19225b9c18abded13",
       "version_major": 2,
       "version_minor": 0
      },
      "text/plain": [
       "  0%|          | 0/5 [00:00<?, ?it/s]"
      ]
     },
     "metadata": {},
     "output_type": "display_data"
    },
    {
     "name": "stdout",
     "output_type": "stream",
     "text": [
      "***************** TRAIN SIZE: 10 *****************\n"
     ]
    },
    {
     "name": "stderr",
     "output_type": "stream",
     "text": [
      "100%|███████████████████████████████████████████████████| 2534/2534 [00:09<00:00, 263.41it/s]\n"
     ]
    },
    {
     "name": "stdout",
     "output_type": "stream",
     "text": [
      "Iteration 0, Current Score: 0,                 Best Feature: trigram-logprobs v-> davinci-logprobs s-avg, New Score: 1.0\n"
     ]
    },
    {
     "name": "stderr",
     "output_type": "stream",
     "text": [
      "100%|███████████████████████████████████████████████████| 2533/2533 [00:10<00:00, 233.65it/s]"
     ]
    },
    {
     "name": "stdout",
     "output_type": "stream",
     "text": [
      "Iteration 1, Current Score: 1.0,                 Best Feature: davinci-logprobs s-max, New Score: 1.0\n",
      "TRAINING WITHOUT AUGMENTATIONS\n",
      "Train size: 10\n",
      "F1-Score: 0.9839010337230978\n",
      "\n",
      "early stopping.\n",
      "early stopping\n",
      "**************** SEED 58 ****************\n",
      "***************** AUGMENTATION: baseline *****************\n"
     ]
    },
    {
     "name": "stderr",
     "output_type": "stream",
     "text": [
      "\n"
     ]
    },
    {
     "data": {
      "application/vnd.jupyter.widget-view+json": {
       "model_id": "8919ad614b3f4213923853327bd650a2",
       "version_major": 2,
       "version_minor": 0
      },
      "text/plain": [
       "  0%|          | 0/5 [00:00<?, ?it/s]"
      ]
     },
     "metadata": {},
     "output_type": "display_data"
    },
    {
     "name": "stdout",
     "output_type": "stream",
     "text": [
      "***************** TRAIN SIZE: 10 *****************\n"
     ]
    },
    {
     "name": "stderr",
     "output_type": "stream",
     "text": [
      "100%|███████████████████████████████████████████████████| 2534/2534 [00:09<00:00, 265.40it/s]\n"
     ]
    },
    {
     "name": "stdout",
     "output_type": "stream",
     "text": [
      "Iteration 0, Current Score: 0,                 Best Feature: ada-logprobs v-add davinci-logprobs v-div trigram-logprobs s-min, New Score: 1.0\n"
     ]
    },
    {
     "name": "stderr",
     "output_type": "stream",
     "text": [
      "100%|███████████████████████████████████████████████████| 2533/2533 [00:10<00:00, 233.97it/s]\n"
     ]
    },
    {
     "name": "stdout",
     "output_type": "stream",
     "text": [
      "Iteration 1, Current Score: 1.0,                 Best Feature: davinci-logprobs s-max, New Score: 1.0\n",
      "TRAINING WITHOUT AUGMENTATIONS\n",
      "Train size: 10\n",
      "F1-Score: 0.6800176056338029\n",
      "\n",
      "passes...\n",
      "***************** TRAIN SIZE: 25 *****************\n"
     ]
    },
    {
     "name": "stderr",
     "output_type": "stream",
     "text": [
      "100%|███████████████████████████████████████████████████| 2534/2534 [00:09<00:00, 263.45it/s]\n"
     ]
    },
    {
     "name": "stdout",
     "output_type": "stream",
     "text": [
      "Iteration 0, Current Score: 0,                 Best Feature: trigram-logprobs v-> ada-logprobs s-avg, New Score: 1.0\n"
     ]
    },
    {
     "name": "stderr",
     "output_type": "stream",
     "text": [
      "100%|███████████████████████████████████████████████████| 2533/2533 [00:11<00:00, 224.68it/s]"
     ]
    },
    {
     "name": "stdout",
     "output_type": "stream",
     "text": [
      "Iteration 1, Current Score: 1.0,                 Best Feature: davinci-logprobs s-max, New Score: 1.0\n",
      "TRAINING WITHOUT AUGMENTATIONS\n",
      "Train size: 25\n",
      "F1-Score: 0.9803888130968622\n",
      "\n",
      "early stopping.\n",
      "early stopping\n",
      "**************** SEED 59 ****************\n",
      "***************** AUGMENTATION: baseline *****************\n"
     ]
    },
    {
     "name": "stderr",
     "output_type": "stream",
     "text": [
      "\n"
     ]
    },
    {
     "data": {
      "application/vnd.jupyter.widget-view+json": {
       "model_id": "f5df76b78c5642019d2f378cac506783",
       "version_major": 2,
       "version_minor": 0
      },
      "text/plain": [
       "  0%|          | 0/5 [00:00<?, ?it/s]"
      ]
     },
     "metadata": {},
     "output_type": "display_data"
    },
    {
     "name": "stdout",
     "output_type": "stream",
     "text": [
      "***************** TRAIN SIZE: 10 *****************\n"
     ]
    },
    {
     "name": "stderr",
     "output_type": "stream",
     "text": [
      "100%|███████████████████████████████████████████████████| 2534/2534 [00:09<00:00, 259.57it/s]\n"
     ]
    },
    {
     "name": "stdout",
     "output_type": "stream",
     "text": [
      "Iteration 0, Current Score: 0,                 Best Feature: davinci-logprobs s-avg, New Score: 1.0\n"
     ]
    },
    {
     "name": "stderr",
     "output_type": "stream",
     "text": [
      "100%|███████████████████████████████████████████████████| 2533/2533 [00:10<00:00, 230.53it/s]"
     ]
    },
    {
     "name": "stdout",
     "output_type": "stream",
     "text": [
      "Iteration 1, Current Score: 1.0,                 Best Feature: davinci-logprobs s-max, New Score: 1.0\n",
      "TRAINING WITHOUT AUGMENTATIONS\n",
      "Train size: 10\n",
      "F1-Score: 0.9462586783234764\n",
      "\n",
      "early stopping.\n",
      "early stopping\n",
      "**************** SEED 60 ****************\n",
      "***************** AUGMENTATION: baseline *****************\n"
     ]
    },
    {
     "name": "stderr",
     "output_type": "stream",
     "text": [
      "\n"
     ]
    },
    {
     "data": {
      "application/vnd.jupyter.widget-view+json": {
       "model_id": "60c858dce2f34eea87991e88d526641e",
       "version_major": 2,
       "version_minor": 0
      },
      "text/plain": [
       "  0%|          | 0/5 [00:00<?, ?it/s]"
      ]
     },
     "metadata": {},
     "output_type": "display_data"
    },
    {
     "name": "stdout",
     "output_type": "stream",
     "text": [
      "***************** TRAIN SIZE: 10 *****************\n"
     ]
    },
    {
     "name": "stderr",
     "output_type": "stream",
     "text": [
      "100%|███████████████████████████████████████████████████| 2534/2534 [00:09<00:00, 266.43it/s]\n"
     ]
    },
    {
     "name": "stdout",
     "output_type": "stream",
     "text": [
      "Iteration 0, Current Score: 0,                 Best Feature: ada-logprobs v-add davinci-logprobs v-div trigram-logprobs s-min, New Score: 1.0\n"
     ]
    },
    {
     "name": "stderr",
     "output_type": "stream",
     "text": [
      "100%|███████████████████████████████████████████████████| 2533/2533 [00:11<00:00, 228.14it/s]\n"
     ]
    },
    {
     "name": "stdout",
     "output_type": "stream",
     "text": [
      "Iteration 1, Current Score: 1.0,                 Best Feature: davinci-logprobs s-max, New Score: 1.0\n",
      "TRAINING WITHOUT AUGMENTATIONS\n",
      "Train size: 10\n",
      "F1-Score: 0.823126589708472\n",
      "\n",
      "passes...\n",
      "***************** TRAIN SIZE: 25 *****************\n"
     ]
    },
    {
     "name": "stderr",
     "output_type": "stream",
     "text": [
      "100%|███████████████████████████████████████████████████| 2534/2534 [00:09<00:00, 263.89it/s]\n"
     ]
    },
    {
     "name": "stdout",
     "output_type": "stream",
     "text": [
      "Iteration 0, Current Score: 0,                 Best Feature: trigram-logprobs v-> davinci-logprobs s-avg, New Score: 1.0\n"
     ]
    },
    {
     "name": "stderr",
     "output_type": "stream",
     "text": [
      "100%|███████████████████████████████████████████████████| 2533/2533 [00:11<00:00, 226.18it/s]"
     ]
    },
    {
     "name": "stdout",
     "output_type": "stream",
     "text": [
      "Iteration 1, Current Score: 1.0,                 Best Feature: davinci-logprobs s-max, New Score: 1.0\n",
      "TRAINING WITHOUT AUGMENTATIONS\n",
      "Train size: 25\n",
      "F1-Score: 0.9874399393070893\n",
      "\n",
      "early stopping.\n",
      "early stopping\n",
      "**************** SEED 61 ****************\n",
      "***************** AUGMENTATION: baseline *****************\n"
     ]
    },
    {
     "name": "stderr",
     "output_type": "stream",
     "text": [
      "\n"
     ]
    },
    {
     "data": {
      "application/vnd.jupyter.widget-view+json": {
       "model_id": "778a75e1d9134710bb586cbd9646675d",
       "version_major": 2,
       "version_minor": 0
      },
      "text/plain": [
       "  0%|          | 0/5 [00:00<?, ?it/s]"
      ]
     },
     "metadata": {},
     "output_type": "display_data"
    },
    {
     "name": "stdout",
     "output_type": "stream",
     "text": [
      "***************** TRAIN SIZE: 10 *****************\n"
     ]
    },
    {
     "name": "stderr",
     "output_type": "stream",
     "text": [
      "100%|███████████████████████████████████████████████████| 2534/2534 [00:09<00:00, 264.60it/s]\n"
     ]
    },
    {
     "name": "stdout",
     "output_type": "stream",
     "text": [
      "Iteration 0, Current Score: 0,                 Best Feature: trigram-logprobs v-> davinci-logprobs s-avg, New Score: 1.0\n"
     ]
    },
    {
     "name": "stderr",
     "output_type": "stream",
     "text": [
      "100%|███████████████████████████████████████████████████| 2533/2533 [00:11<00:00, 220.30it/s]"
     ]
    },
    {
     "name": "stdout",
     "output_type": "stream",
     "text": [
      "Iteration 1, Current Score: 1.0,                 Best Feature: davinci-logprobs s-max, New Score: 1.0\n",
      "TRAINING WITHOUT AUGMENTATIONS\n",
      "Train size: 10\n",
      "F1-Score: 0.9837011884550085\n",
      "\n",
      "early stopping.\n",
      "early stopping\n",
      "**************** SEED 62 ****************\n",
      "***************** AUGMENTATION: baseline *****************\n"
     ]
    },
    {
     "name": "stderr",
     "output_type": "stream",
     "text": [
      "\n"
     ]
    },
    {
     "data": {
      "application/vnd.jupyter.widget-view+json": {
       "model_id": "048132fc7741431aab6ce00e255bad20",
       "version_major": 2,
       "version_minor": 0
      },
      "text/plain": [
       "  0%|          | 0/5 [00:00<?, ?it/s]"
      ]
     },
     "metadata": {},
     "output_type": "display_data"
    },
    {
     "name": "stdout",
     "output_type": "stream",
     "text": [
      "***************** TRAIN SIZE: 10 *****************\n"
     ]
    },
    {
     "name": "stderr",
     "output_type": "stream",
     "text": [
      "100%|███████████████████████████████████████████████████| 2534/2534 [00:09<00:00, 263.58it/s]\n"
     ]
    },
    {
     "name": "stdout",
     "output_type": "stream",
     "text": [
      "Iteration 0, Current Score: 0,                 Best Feature: ada-logprobs v-add davinci-logprobs s-l2, New Score: 1.0\n"
     ]
    },
    {
     "name": "stderr",
     "output_type": "stream",
     "text": [
      "100%|███████████████████████████████████████████████████| 2533/2533 [00:10<00:00, 231.98it/s]\n"
     ]
    },
    {
     "name": "stdout",
     "output_type": "stream",
     "text": [
      "Iteration 1, Current Score: 1.0,                 Best Feature: davinci-logprobs s-min, New Score: 1.0\n",
      "TRAINING WITHOUT AUGMENTATIONS\n",
      "Train size: 10\n",
      "F1-Score: 0.8583295711060948\n",
      "\n",
      "passes...\n",
      "***************** TRAIN SIZE: 25 *****************\n"
     ]
    },
    {
     "name": "stderr",
     "output_type": "stream",
     "text": [
      "100%|███████████████████████████████████████████████████| 2534/2534 [00:09<00:00, 266.97it/s]\n"
     ]
    },
    {
     "name": "stdout",
     "output_type": "stream",
     "text": [
      "Iteration 0, Current Score: 0,                 Best Feature: davinci-logprobs s-avg, New Score: 1.0\n"
     ]
    },
    {
     "name": "stderr",
     "output_type": "stream",
     "text": [
      "100%|███████████████████████████████████████████████████| 2533/2533 [00:11<00:00, 225.40it/s]\n"
     ]
    },
    {
     "name": "stdout",
     "output_type": "stream",
     "text": [
      "Iteration 1, Current Score: 1.0,                 Best Feature: davinci-logprobs s-max, New Score: 1.0\n",
      "TRAINING WITHOUT AUGMENTATIONS\n",
      "Train size: 25\n",
      "F1-Score: 0.9507651945780499\n",
      "\n",
      "passes...\n",
      "***************** TRAIN SIZE: 50 *****************\n"
     ]
    },
    {
     "name": "stderr",
     "output_type": "stream",
     "text": [
      "100%|███████████████████████████████████████████████████| 2534/2534 [00:09<00:00, 263.46it/s]\n"
     ]
    },
    {
     "name": "stdout",
     "output_type": "stream",
     "text": [
      "Iteration 0, Current Score: 0,                 Best Feature: trigram-logprobs v-div ada-logprobs v-> davinci-logprobs s-avg, New Score: 1.0\n"
     ]
    },
    {
     "name": "stderr",
     "output_type": "stream",
     "text": [
      "100%|███████████████████████████████████████████████████| 2533/2533 [00:11<00:00, 215.71it/s]\n"
     ]
    },
    {
     "name": "stdout",
     "output_type": "stream",
     "text": [
      "Iteration 1, Current Score: 1.0,                 Best Feature: davinci-logprobs s-max, New Score: 1.0\n",
      "TRAINING WITHOUT AUGMENTATIONS\n",
      "Train size: 50\n",
      "F1-Score: 0.99561846983485\n",
      "\n",
      "passes...\n",
      "***************** TRAIN SIZE: 75 *****************\n"
     ]
    },
    {
     "name": "stderr",
     "output_type": "stream",
     "text": [
      "100%|███████████████████████████████████████████████████| 2534/2534 [00:10<00:00, 246.20it/s]\n"
     ]
    },
    {
     "name": "stdout",
     "output_type": "stream",
     "text": [
      "Iteration 0, Current Score: 0,                 Best Feature: trigram-logprobs v-sub ada-logprobs v-> davinci-logprobs s-avg, New Score: 0.9866666667\n"
     ]
    },
    {
     "name": "stderr",
     "output_type": "stream",
     "text": [
      "100%|███████████████████████████████████████████████████| 2533/2533 [00:12<00:00, 206.21it/s]\n"
     ]
    },
    {
     "name": "stdout",
     "output_type": "stream",
     "text": [
      "Iteration 1, Current Score: 0.9866666667,                 Best Feature: trigram-logprobs v-div ada-logprobs v-> davinci-logprobs s-avg, New Score: 1.0\n"
     ]
    },
    {
     "name": "stderr",
     "output_type": "stream",
     "text": [
      "100%|███████████████████████████████████████████████████| 2532/2532 [00:12<00:00, 204.43it/s]\n"
     ]
    },
    {
     "name": "stdout",
     "output_type": "stream",
     "text": [
      "Iteration 2, Current Score: 1.0,                 Best Feature: davinci-logprobs s-max, New Score: 1.0\n",
      "TRAINING WITHOUT AUGMENTATIONS\n",
      "Train size: 75\n",
      "F1-Score: 0.989441416893733\n",
      "\n",
      "passes...\n",
      "***************** TRAIN SIZE: 100 *****************\n"
     ]
    },
    {
     "name": "stderr",
     "output_type": "stream",
     "text": [
      "100%|███████████████████████████████████████████████████| 2534/2534 [00:09<00:00, 253.84it/s]\n"
     ]
    },
    {
     "name": "stdout",
     "output_type": "stream",
     "text": [
      "Iteration 0, Current Score: 0,                 Best Feature: trigram-logprobs v-> davinci-logprobs s-avg, New Score: 1.0\n"
     ]
    },
    {
     "name": "stderr",
     "output_type": "stream",
     "text": [
      "100%|███████████████████████████████████████████████████| 2533/2533 [00:12<00:00, 207.89it/s]"
     ]
    },
    {
     "name": "stdout",
     "output_type": "stream",
     "text": [
      "Iteration 1, Current Score: 1.0,                 Best Feature: davinci-logprobs s-max, New Score: 1.0\n",
      "TRAINING WITHOUT AUGMENTATIONS\n",
      "Train size: 100\n",
      "F1-Score: 0.9883334752618581\n",
      "\n",
      "passes...\n",
      "***************** AUGMENTATION: synonym *****************\n"
     ]
    },
    {
     "name": "stderr",
     "output_type": "stream",
     "text": [
      "\n"
     ]
    },
    {
     "data": {
      "application/vnd.jupyter.widget-view+json": {
       "model_id": "a286461874f44ae3950e5f3d2d7bbce5",
       "version_major": 2,
       "version_minor": 0
      },
      "text/plain": [
       "  0%|          | 0/5 [00:00<?, ?it/s]"
      ]
     },
     "metadata": {},
     "output_type": "display_data"
    },
    {
     "name": "stdout",
     "output_type": "stream",
     "text": [
      "***************** TRAIN SIZE: 10 *****************\n"
     ]
    },
    {
     "name": "stderr",
     "output_type": "stream",
     "text": [
      "100%|███████████████████████████████████████████████████| 2534/2534 [00:09<00:00, 263.91it/s]\n"
     ]
    },
    {
     "name": "stdout",
     "output_type": "stream",
     "text": [
      "Iteration 0, Current Score: 0,                 Best Feature: ada-logprobs v-add davinci-logprobs s-l2, New Score: 1.0\n"
     ]
    },
    {
     "name": "stderr",
     "output_type": "stream",
     "text": [
      "100%|███████████████████████████████████████████████████| 2533/2533 [00:10<00:00, 233.81it/s]\n"
     ]
    },
    {
     "name": "stdout",
     "output_type": "stream",
     "text": [
      "Iteration 1, Current Score: 1.0,                 Best Feature: davinci-logprobs s-min, New Score: 1.0\n",
      "TRAINING WITH synonym AUGMENTED DATA.\n",
      "Train size: 10\n",
      "F1-Score: 0.8753880266075388\n",
      "\n",
      "passes...\n",
      "***************** TRAIN SIZE: 25 *****************\n"
     ]
    },
    {
     "name": "stderr",
     "output_type": "stream",
     "text": [
      "100%|███████████████████████████████████████████████████| 2534/2534 [00:09<00:00, 266.50it/s]\n"
     ]
    },
    {
     "name": "stdout",
     "output_type": "stream",
     "text": [
      "Iteration 0, Current Score: 0,                 Best Feature: trigram-logprobs v-> davinci-logprobs s-var, New Score: 1.0\n"
     ]
    },
    {
     "name": "stderr",
     "output_type": "stream",
     "text": [
      "100%|███████████████████████████████████████████████████| 2533/2533 [00:11<00:00, 221.97it/s]\n"
     ]
    },
    {
     "name": "stdout",
     "output_type": "stream",
     "text": [
      "Iteration 1, Current Score: 1.0,                 Best Feature: davinci-logprobs s-avg, New Score: 1.0\n",
      "TRAINING WITH synonym AUGMENTED DATA.\n",
      "Train size: 25\n",
      "F1-Score: 0.9546647995799055\n",
      "\n",
      "passes...\n",
      "***************** TRAIN SIZE: 50 *****************\n"
     ]
    },
    {
     "name": "stderr",
     "output_type": "stream",
     "text": [
      "100%|███████████████████████████████████████████████████| 2534/2534 [00:09<00:00, 261.44it/s]\n"
     ]
    },
    {
     "name": "stdout",
     "output_type": "stream",
     "text": [
      "Iteration 0, Current Score: 0,                 Best Feature: trigram-logprobs v-div ada-logprobs v-> davinci-logprobs s-avg, New Score: 1.0\n"
     ]
    },
    {
     "name": "stderr",
     "output_type": "stream",
     "text": [
      "100%|███████████████████████████████████████████████████| 2533/2533 [00:11<00:00, 214.64it/s]\n"
     ]
    },
    {
     "name": "stdout",
     "output_type": "stream",
     "text": [
      "Iteration 1, Current Score: 1.0,                 Best Feature: davinci-logprobs s-max, New Score: 1.0\n",
      "TRAINING WITH synonym AUGMENTED DATA.\n",
      "Train size: 50\n",
      "F1-Score: 0.9904972000678771\n",
      "\n",
      "passes...\n",
      "***************** TRAIN SIZE: 75 *****************\n"
     ]
    },
    {
     "name": "stderr",
     "output_type": "stream",
     "text": [
      "100%|███████████████████████████████████████████████████| 2534/2534 [00:10<00:00, 251.65it/s]\n"
     ]
    },
    {
     "name": "stdout",
     "output_type": "stream",
     "text": [
      "Iteration 0, Current Score: 0,                 Best Feature: trigram-logprobs v-div ada-logprobs v-> davinci-logprobs s-avg, New Score: 1.0\n"
     ]
    },
    {
     "name": "stderr",
     "output_type": "stream",
     "text": [
      "100%|███████████████████████████████████████████████████| 2533/2533 [00:12<00:00, 207.92it/s]\n"
     ]
    },
    {
     "name": "stdout",
     "output_type": "stream",
     "text": [
      "Iteration 1, Current Score: 1.0,                 Best Feature: davinci-logprobs s-max, New Score: 1.0\n",
      "TRAINING WITH synonym AUGMENTED DATA.\n",
      "Train size: 75\n",
      "F1-Score: 0.9884018420603786\n",
      "\n",
      "passes...\n",
      "***************** TRAIN SIZE: 100 *****************\n"
     ]
    },
    {
     "name": "stderr",
     "output_type": "stream",
     "text": [
      "100%|███████████████████████████████████████████████████| 2534/2534 [00:09<00:00, 254.09it/s]\n"
     ]
    },
    {
     "name": "stdout",
     "output_type": "stream",
     "text": [
      "Iteration 0, Current Score: 0,                 Best Feature: unigram-logprobs v-add trigram-logprobs v-> davinci-logprobs s-avg, New Score: 1.0\n"
     ]
    },
    {
     "name": "stderr",
     "output_type": "stream",
     "text": [
      "100%|███████████████████████████████████████████████████| 2533/2533 [00:12<00:00, 205.67it/s]"
     ]
    },
    {
     "name": "stdout",
     "output_type": "stream",
     "text": [
      "Iteration 1, Current Score: 1.0,                 Best Feature: davinci-logprobs s-max, New Score: 1.0\n",
      "TRAINING WITH synonym AUGMENTED DATA.\n",
      "Train size: 100\n",
      "F1-Score: 0.984916009598903\n",
      "\n",
      "passes...\n",
      "***************** AUGMENTATION: back *****************\n"
     ]
    },
    {
     "name": "stderr",
     "output_type": "stream",
     "text": [
      "\n"
     ]
    },
    {
     "data": {
      "application/vnd.jupyter.widget-view+json": {
       "model_id": "8569a30c148546bebe4c167a693affc8",
       "version_major": 2,
       "version_minor": 0
      },
      "text/plain": [
       "  0%|          | 0/5 [00:00<?, ?it/s]"
      ]
     },
     "metadata": {},
     "output_type": "display_data"
    },
    {
     "name": "stdout",
     "output_type": "stream",
     "text": [
      "***************** TRAIN SIZE: 10 *****************\n"
     ]
    },
    {
     "name": "stderr",
     "output_type": "stream",
     "text": [
      "100%|███████████████████████████████████████████████████| 2534/2534 [00:09<00:00, 265.43it/s]\n"
     ]
    },
    {
     "name": "stdout",
     "output_type": "stream",
     "text": [
      "Iteration 0, Current Score: 0,                 Best Feature: ada-logprobs v-add davinci-logprobs s-l2, New Score: 1.0\n"
     ]
    },
    {
     "name": "stderr",
     "output_type": "stream",
     "text": [
      "100%|███████████████████████████████████████████████████| 2533/2533 [00:11<00:00, 224.73it/s]\n"
     ]
    },
    {
     "name": "stdout",
     "output_type": "stream",
     "text": [
      "Iteration 1, Current Score: 1.0,                 Best Feature: davinci-logprobs s-min, New Score: 1.0\n",
      "TRAINING WITH back AUGMENTED DATA.\n",
      "Train size: 10\n",
      "F1-Score: 0.861643712305338\n",
      "\n",
      "passes...\n",
      "***************** TRAIN SIZE: 25 *****************\n"
     ]
    },
    {
     "name": "stderr",
     "output_type": "stream",
     "text": [
      "100%|███████████████████████████████████████████████████| 2534/2534 [00:09<00:00, 267.09it/s]\n"
     ]
    },
    {
     "name": "stdout",
     "output_type": "stream",
     "text": [
      "Iteration 0, Current Score: 0,                 Best Feature: trigram-logprobs v-> davinci-logprobs s-var, New Score: 1.0\n"
     ]
    },
    {
     "name": "stderr",
     "output_type": "stream",
     "text": [
      "100%|███████████████████████████████████████████████████| 2533/2533 [00:11<00:00, 219.16it/s]\n"
     ]
    },
    {
     "name": "stdout",
     "output_type": "stream",
     "text": [
      "Iteration 1, Current Score: 1.0,                 Best Feature: davinci-logprobs s-avg, New Score: 1.0\n",
      "TRAINING WITH back AUGMENTED DATA.\n",
      "Train size: 25\n",
      "F1-Score: 0.9640936686903729\n",
      "\n",
      "passes...\n",
      "***************** TRAIN SIZE: 50 *****************\n"
     ]
    },
    {
     "name": "stderr",
     "output_type": "stream",
     "text": [
      "100%|███████████████████████████████████████████████████| 2534/2534 [00:09<00:00, 265.20it/s]\n"
     ]
    },
    {
     "name": "stdout",
     "output_type": "stream",
     "text": [
      "Iteration 0, Current Score: 0,                 Best Feature: trigram-logprobs v-div ada-logprobs v-> davinci-logprobs s-avg, New Score: 1.0\n"
     ]
    },
    {
     "name": "stderr",
     "output_type": "stream",
     "text": [
      "100%|███████████████████████████████████████████████████| 2533/2533 [00:11<00:00, 213.78it/s]\n"
     ]
    },
    {
     "name": "stdout",
     "output_type": "stream",
     "text": [
      "Iteration 1, Current Score: 1.0,                 Best Feature: davinci-logprobs s-max, New Score: 1.0\n",
      "TRAINING WITH back AUGMENTED DATA.\n",
      "Train size: 50\n",
      "F1-Score: 0.9885194319244833\n",
      "\n",
      "passes...\n",
      "***************** TRAIN SIZE: 75 *****************\n"
     ]
    },
    {
     "name": "stderr",
     "output_type": "stream",
     "text": [
      "100%|███████████████████████████████████████████████████| 2534/2534 [00:10<00:00, 251.64it/s]\n"
     ]
    },
    {
     "name": "stdout",
     "output_type": "stream",
     "text": [
      "Iteration 0, Current Score: 0,                 Best Feature: trigram-logprobs v-div ada-logprobs v-> davinci-logprobs s-avg, New Score: 1.0\n"
     ]
    },
    {
     "name": "stderr",
     "output_type": "stream",
     "text": [
      "100%|███████████████████████████████████████████████████| 2533/2533 [00:12<00:00, 209.48it/s]\n"
     ]
    },
    {
     "name": "stdout",
     "output_type": "stream",
     "text": [
      "Iteration 1, Current Score: 1.0,                 Best Feature: davinci-logprobs s-max, New Score: 1.0\n",
      "TRAINING WITH back AUGMENTED DATA.\n",
      "Train size: 75\n",
      "F1-Score: 0.9831147681494814\n",
      "\n",
      "passes...\n",
      "***************** TRAIN SIZE: 100 *****************\n"
     ]
    },
    {
     "name": "stderr",
     "output_type": "stream",
     "text": [
      "100%|███████████████████████████████████████████████████| 2534/2534 [00:09<00:00, 254.01it/s]\n"
     ]
    },
    {
     "name": "stdout",
     "output_type": "stream",
     "text": [
      "Iteration 0, Current Score: 0,                 Best Feature: unigram-logprobs v-add trigram-logprobs v-> davinci-logprobs s-avg, New Score: 1.0\n"
     ]
    },
    {
     "name": "stderr",
     "output_type": "stream",
     "text": [
      "100%|███████████████████████████████████████████████████| 2533/2533 [00:12<00:00, 204.77it/s]"
     ]
    },
    {
     "name": "stdout",
     "output_type": "stream",
     "text": [
      "Iteration 1, Current Score: 1.0,                 Best Feature: davinci-logprobs s-max, New Score: 1.0\n",
      "TRAINING WITH back AUGMENTED DATA.\n",
      "Train size: 100\n",
      "F1-Score: 0.9856139749957185\n",
      "\n",
      "passes...\n",
      "***************** AUGMENTATION: emotion *****************\n"
     ]
    },
    {
     "name": "stderr",
     "output_type": "stream",
     "text": [
      "\n"
     ]
    },
    {
     "data": {
      "application/vnd.jupyter.widget-view+json": {
       "model_id": "3629117e764941109982a6296efef138",
       "version_major": 2,
       "version_minor": 0
      },
      "text/plain": [
       "  0%|          | 0/5 [00:00<?, ?it/s]"
      ]
     },
     "metadata": {},
     "output_type": "display_data"
    },
    {
     "name": "stdout",
     "output_type": "stream",
     "text": [
      "***************** TRAIN SIZE: 10 *****************\n"
     ]
    },
    {
     "name": "stderr",
     "output_type": "stream",
     "text": [
      "100%|███████████████████████████████████████████████████| 2534/2534 [00:09<00:00, 264.88it/s]\n"
     ]
    },
    {
     "name": "stdout",
     "output_type": "stream",
     "text": [
      "Iteration 0, Current Score: 0,                 Best Feature: ada-logprobs v-add davinci-logprobs s-l2, New Score: 1.0\n"
     ]
    },
    {
     "name": "stderr",
     "output_type": "stream",
     "text": [
      "100%|███████████████████████████████████████████████████| 2533/2533 [00:10<00:00, 235.20it/s]\n"
     ]
    },
    {
     "name": "stdout",
     "output_type": "stream",
     "text": [
      "Iteration 1, Current Score: 1.0,                 Best Feature: davinci-logprobs s-min, New Score: 1.0\n",
      "TRAINING WITH emotion AUGMENTED DATA.\n",
      "Train size: 10\n",
      "F1-Score: 0.8630235484450836\n",
      "\n",
      "passes...\n",
      "***************** TRAIN SIZE: 25 *****************\n"
     ]
    },
    {
     "name": "stderr",
     "output_type": "stream",
     "text": [
      "100%|███████████████████████████████████████████████████| 2534/2534 [00:09<00:00, 264.32it/s]\n"
     ]
    },
    {
     "name": "stdout",
     "output_type": "stream",
     "text": [
      "Iteration 0, Current Score: 0,                 Best Feature: trigram-logprobs v-> davinci-logprobs s-var, New Score: 1.0\n"
     ]
    },
    {
     "name": "stderr",
     "output_type": "stream",
     "text": [
      "100%|███████████████████████████████████████████████████| 2533/2533 [00:11<00:00, 218.15it/s]\n"
     ]
    },
    {
     "name": "stdout",
     "output_type": "stream",
     "text": [
      "Iteration 1, Current Score: 1.0,                 Best Feature: davinci-logprobs s-avg, New Score: 1.0\n",
      "TRAINING WITH emotion AUGMENTED DATA.\n",
      "Train size: 25\n",
      "F1-Score: 0.9693103448275862\n",
      "\n",
      "passes...\n",
      "***************** TRAIN SIZE: 50 *****************\n"
     ]
    },
    {
     "name": "stderr",
     "output_type": "stream",
     "text": [
      "100%|███████████████████████████████████████████████████| 2534/2534 [00:09<00:00, 261.53it/s]\n"
     ]
    },
    {
     "name": "stdout",
     "output_type": "stream",
     "text": [
      "Iteration 0, Current Score: 0,                 Best Feature: trigram-logprobs v-div ada-logprobs v-> davinci-logprobs s-avg, New Score: 1.0\n"
     ]
    },
    {
     "name": "stderr",
     "output_type": "stream",
     "text": [
      "100%|███████████████████████████████████████████████████| 2533/2533 [00:11<00:00, 213.74it/s]\n"
     ]
    },
    {
     "name": "stdout",
     "output_type": "stream",
     "text": [
      "Iteration 1, Current Score: 1.0,                 Best Feature: davinci-logprobs s-max, New Score: 1.0\n",
      "TRAINING WITH emotion AUGMENTED DATA.\n",
      "Train size: 50\n",
      "F1-Score: 0.9883473675257294\n",
      "\n",
      "passes...\n",
      "***************** TRAIN SIZE: 75 *****************\n"
     ]
    },
    {
     "name": "stderr",
     "output_type": "stream",
     "text": [
      "100%|███████████████████████████████████████████████████| 2534/2534 [00:10<00:00, 253.09it/s]\n"
     ]
    },
    {
     "name": "stdout",
     "output_type": "stream",
     "text": [
      "Iteration 0, Current Score: 0,                 Best Feature: trigram-logprobs v-div ada-logprobs v-> davinci-logprobs s-avg, New Score: 1.0\n"
     ]
    },
    {
     "name": "stderr",
     "output_type": "stream",
     "text": [
      "100%|███████████████████████████████████████████████████| 2533/2533 [00:12<00:00, 209.51it/s]\n"
     ]
    },
    {
     "name": "stdout",
     "output_type": "stream",
     "text": [
      "Iteration 1, Current Score: 1.0,                 Best Feature: davinci-logprobs s-max, New Score: 1.0\n",
      "TRAINING WITH emotion AUGMENTED DATA.\n",
      "Train size: 75\n",
      "F1-Score: 0.9841677364142063\n",
      "\n",
      "passes...\n",
      "***************** TRAIN SIZE: 100 *****************\n"
     ]
    },
    {
     "name": "stderr",
     "output_type": "stream",
     "text": [
      "100%|███████████████████████████████████████████████████| 2534/2534 [00:10<00:00, 252.77it/s]\n"
     ]
    },
    {
     "name": "stdout",
     "output_type": "stream",
     "text": [
      "Iteration 0, Current Score: 0,                 Best Feature: unigram-logprobs v-add trigram-logprobs v-> davinci-logprobs s-avg, New Score: 1.0\n"
     ]
    },
    {
     "name": "stderr",
     "output_type": "stream",
     "text": [
      "100%|███████████████████████████████████████████████████| 2533/2533 [00:12<00:00, 205.75it/s]"
     ]
    },
    {
     "name": "stdout",
     "output_type": "stream",
     "text": [
      "Iteration 1, Current Score: 1.0,                 Best Feature: davinci-logprobs s-max, New Score: 1.0\n",
      "TRAINING WITH emotion AUGMENTED DATA.\n",
      "Train size: 100\n",
      "F1-Score: 0.9830799622090527\n",
      "\n",
      "passes...\n",
      "***************** AUGMENTATION: style *****************\n"
     ]
    },
    {
     "name": "stderr",
     "output_type": "stream",
     "text": [
      "\n"
     ]
    },
    {
     "data": {
      "application/vnd.jupyter.widget-view+json": {
       "model_id": "bab9d4e595e64586ab4012cc651d87d3",
       "version_major": 2,
       "version_minor": 0
      },
      "text/plain": [
       "  0%|          | 0/5 [00:00<?, ?it/s]"
      ]
     },
     "metadata": {},
     "output_type": "display_data"
    },
    {
     "name": "stdout",
     "output_type": "stream",
     "text": [
      "***************** TRAIN SIZE: 10 *****************\n"
     ]
    },
    {
     "name": "stderr",
     "output_type": "stream",
     "text": [
      "100%|███████████████████████████████████████████████████| 2534/2534 [00:09<00:00, 265.99it/s]\n"
     ]
    },
    {
     "name": "stdout",
     "output_type": "stream",
     "text": [
      "Iteration 0, Current Score: 0,                 Best Feature: ada-logprobs v-add davinci-logprobs s-l2, New Score: 1.0\n"
     ]
    },
    {
     "name": "stderr",
     "output_type": "stream",
     "text": [
      "100%|███████████████████████████████████████████████████| 2533/2533 [00:10<00:00, 234.34it/s]\n"
     ]
    },
    {
     "name": "stdout",
     "output_type": "stream",
     "text": [
      "Iteration 1, Current Score: 1.0,                 Best Feature: davinci-logprobs s-min, New Score: 1.0\n",
      "TRAINING WITH style AUGMENTED DATA.\n",
      "Train size: 10\n",
      "F1-Score: 0.8622582096266307\n",
      "\n",
      "passes...\n",
      "***************** TRAIN SIZE: 25 *****************\n"
     ]
    },
    {
     "name": "stderr",
     "output_type": "stream",
     "text": [
      "100%|███████████████████████████████████████████████████| 2534/2534 [00:09<00:00, 262.72it/s]\n"
     ]
    },
    {
     "name": "stdout",
     "output_type": "stream",
     "text": [
      "Iteration 0, Current Score: 0,                 Best Feature: trigram-logprobs v-> davinci-logprobs s-var, New Score: 1.0\n"
     ]
    },
    {
     "name": "stderr",
     "output_type": "stream",
     "text": [
      "100%|███████████████████████████████████████████████████| 2533/2533 [00:11<00:00, 219.76it/s]\n"
     ]
    },
    {
     "name": "stdout",
     "output_type": "stream",
     "text": [
      "Iteration 1, Current Score: 1.0,                 Best Feature: davinci-logprobs s-avg, New Score: 1.0\n",
      "TRAINING WITH style AUGMENTED DATA.\n",
      "Train size: 25\n",
      "F1-Score: 0.923353724361281\n",
      "\n",
      "passes...\n",
      "***************** TRAIN SIZE: 50 *****************\n"
     ]
    },
    {
     "name": "stderr",
     "output_type": "stream",
     "text": [
      "100%|███████████████████████████████████████████████████| 2534/2534 [00:09<00:00, 261.80it/s]\n"
     ]
    },
    {
     "name": "stdout",
     "output_type": "stream",
     "text": [
      "Iteration 0, Current Score: 0,                 Best Feature: trigram-logprobs v-div ada-logprobs v-> davinci-logprobs s-avg, New Score: 1.0\n"
     ]
    },
    {
     "name": "stderr",
     "output_type": "stream",
     "text": [
      "100%|███████████████████████████████████████████████████| 2533/2533 [00:11<00:00, 213.78it/s]\n"
     ]
    },
    {
     "name": "stdout",
     "output_type": "stream",
     "text": [
      "Iteration 1, Current Score: 1.0,                 Best Feature: davinci-logprobs s-max, New Score: 1.0\n",
      "TRAINING WITH style AUGMENTED DATA.\n",
      "Train size: 50\n",
      "F1-Score: 0.9811547027582662\n",
      "\n",
      "passes...\n",
      "***************** TRAIN SIZE: 75 *****************\n"
     ]
    },
    {
     "name": "stderr",
     "output_type": "stream",
     "text": [
      "100%|███████████████████████████████████████████████████| 2534/2534 [00:10<00:00, 248.48it/s]\n"
     ]
    },
    {
     "name": "stdout",
     "output_type": "stream",
     "text": [
      "Iteration 0, Current Score: 0,                 Best Feature: trigram-logprobs v-div ada-logprobs v-> davinci-logprobs s-avg, New Score: 1.0\n"
     ]
    },
    {
     "name": "stderr",
     "output_type": "stream",
     "text": [
      "100%|███████████████████████████████████████████████████| 2533/2533 [00:12<00:00, 208.69it/s]\n"
     ]
    },
    {
     "name": "stdout",
     "output_type": "stream",
     "text": [
      "Iteration 1, Current Score: 1.0,                 Best Feature: davinci-logprobs s-max, New Score: 1.0\n",
      "TRAINING WITH style AUGMENTED DATA.\n",
      "Train size: 75\n",
      "F1-Score: 0.9742615304888582\n",
      "\n",
      "passes...\n",
      "***************** TRAIN SIZE: 100 *****************\n"
     ]
    },
    {
     "name": "stderr",
     "output_type": "stream",
     "text": [
      "100%|███████████████████████████████████████████████████| 2534/2534 [00:09<00:00, 255.43it/s]\n"
     ]
    },
    {
     "name": "stdout",
     "output_type": "stream",
     "text": [
      "Iteration 0, Current Score: 0,                 Best Feature: unigram-logprobs v-add trigram-logprobs v-> davinci-logprobs s-avg, New Score: 1.0\n"
     ]
    },
    {
     "name": "stderr",
     "output_type": "stream",
     "text": [
      "100%|███████████████████████████████████████████████████| 2533/2533 [00:12<00:00, 204.81it/s]"
     ]
    },
    {
     "name": "stdout",
     "output_type": "stream",
     "text": [
      "Iteration 1, Current Score: 1.0,                 Best Feature: davinci-logprobs s-max, New Score: 1.0\n",
      "TRAINING WITH style AUGMENTED DATA.\n",
      "Train size: 100\n",
      "F1-Score: 0.9819432502149613\n",
      "\n",
      "passes...\n",
      "***************** AUGMENTATION: summary *****************\n"
     ]
    },
    {
     "name": "stderr",
     "output_type": "stream",
     "text": [
      "\n"
     ]
    },
    {
     "data": {
      "application/vnd.jupyter.widget-view+json": {
       "model_id": "1619e123150a4cc69d71f70b9b9dc971",
       "version_major": 2,
       "version_minor": 0
      },
      "text/plain": [
       "  0%|          | 0/5 [00:00<?, ?it/s]"
      ]
     },
     "metadata": {},
     "output_type": "display_data"
    },
    {
     "name": "stdout",
     "output_type": "stream",
     "text": [
      "***************** TRAIN SIZE: 10 *****************\n"
     ]
    },
    {
     "name": "stderr",
     "output_type": "stream",
     "text": [
      "100%|███████████████████████████████████████████████████| 2534/2534 [00:09<00:00, 263.62it/s]\n"
     ]
    },
    {
     "name": "stdout",
     "output_type": "stream",
     "text": [
      "Iteration 0, Current Score: 0,                 Best Feature: ada-logprobs v-add davinci-logprobs s-l2, New Score: 1.0\n"
     ]
    },
    {
     "name": "stderr",
     "output_type": "stream",
     "text": [
      "100%|███████████████████████████████████████████████████| 2533/2533 [00:10<00:00, 233.45it/s]\n"
     ]
    },
    {
     "name": "stdout",
     "output_type": "stream",
     "text": [
      "Iteration 1, Current Score: 1.0,                 Best Feature: davinci-logprobs s-min, New Score: 1.0\n",
      "TRAINING WITH summary AUGMENTED DATA.\n",
      "Train size: 10\n",
      "F1-Score: 0.9005163511187607\n",
      "\n",
      "passes...\n",
      "***************** TRAIN SIZE: 25 *****************\n"
     ]
    },
    {
     "name": "stderr",
     "output_type": "stream",
     "text": [
      "100%|███████████████████████████████████████████████████| 2534/2534 [00:09<00:00, 260.92it/s]\n"
     ]
    },
    {
     "name": "stdout",
     "output_type": "stream",
     "text": [
      "Iteration 0, Current Score: 0,                 Best Feature: trigram-logprobs v-> davinci-logprobs s-var, New Score: 1.0\n"
     ]
    },
    {
     "name": "stderr",
     "output_type": "stream",
     "text": [
      "100%|███████████████████████████████████████████████████| 2533/2533 [00:11<00:00, 220.72it/s]\n"
     ]
    },
    {
     "name": "stdout",
     "output_type": "stream",
     "text": [
      "Iteration 1, Current Score: 1.0,                 Best Feature: davinci-logprobs s-avg, New Score: 1.0\n",
      "TRAINING WITH summary AUGMENTED DATA.\n",
      "Train size: 25\n",
      "F1-Score: 0.9085254299304794\n",
      "\n",
      "passes...\n",
      "***************** TRAIN SIZE: 50 *****************\n"
     ]
    },
    {
     "name": "stderr",
     "output_type": "stream",
     "text": [
      "100%|███████████████████████████████████████████████████| 2534/2534 [00:09<00:00, 262.18it/s]\n"
     ]
    },
    {
     "name": "stdout",
     "output_type": "stream",
     "text": [
      "Iteration 0, Current Score: 0,                 Best Feature: trigram-logprobs v-div ada-logprobs v-> davinci-logprobs s-avg, New Score: 1.0\n"
     ]
    },
    {
     "name": "stderr",
     "output_type": "stream",
     "text": [
      "100%|███████████████████████████████████████████████████| 2533/2533 [00:11<00:00, 211.11it/s]\n"
     ]
    },
    {
     "name": "stdout",
     "output_type": "stream",
     "text": [
      "Iteration 1, Current Score: 1.0,                 Best Feature: davinci-logprobs s-max, New Score: 1.0\n",
      "TRAINING WITH summary AUGMENTED DATA.\n",
      "Train size: 50\n",
      "F1-Score: 0.9694504543487668\n",
      "\n",
      "passes...\n",
      "***************** TRAIN SIZE: 75 *****************\n"
     ]
    },
    {
     "name": "stderr",
     "output_type": "stream",
     "text": [
      "100%|███████████████████████████████████████████████████| 2534/2534 [00:10<00:00, 249.58it/s]\n"
     ]
    },
    {
     "name": "stdout",
     "output_type": "stream",
     "text": [
      "Iteration 0, Current Score: 0,                 Best Feature: trigram-logprobs v-div ada-logprobs v-> davinci-logprobs s-avg, New Score: 1.0\n"
     ]
    },
    {
     "name": "stderr",
     "output_type": "stream",
     "text": [
      "100%|███████████████████████████████████████████████████| 2533/2533 [00:12<00:00, 205.29it/s]\n"
     ]
    },
    {
     "name": "stdout",
     "output_type": "stream",
     "text": [
      "Iteration 1, Current Score: 1.0,                 Best Feature: davinci-logprobs s-max, New Score: 1.0\n",
      "TRAINING WITH summary AUGMENTED DATA.\n",
      "Train size: 75\n",
      "F1-Score: 0.9841704457944724\n",
      "\n",
      "passes...\n",
      "***************** TRAIN SIZE: 100 *****************\n"
     ]
    },
    {
     "name": "stderr",
     "output_type": "stream",
     "text": [
      "100%|███████████████████████████████████████████████████| 2534/2534 [00:10<00:00, 252.76it/s]\n"
     ]
    },
    {
     "name": "stdout",
     "output_type": "stream",
     "text": [
      "Iteration 0, Current Score: 0,                 Best Feature: unigram-logprobs v-add trigram-logprobs v-> davinci-logprobs s-avg, New Score: 1.0\n"
     ]
    },
    {
     "name": "stderr",
     "output_type": "stream",
     "text": [
      "100%|███████████████████████████████████████████████████| 2533/2533 [00:12<00:00, 206.25it/s]\n"
     ]
    },
    {
     "name": "stdout",
     "output_type": "stream",
     "text": [
      "Iteration 1, Current Score: 1.0,                 Best Feature: davinci-logprobs s-max, New Score: 1.0\n",
      "TRAINING WITH summary AUGMENTED DATA.\n",
      "Train size: 100\n",
      "F1-Score: 0.9843039711810618\n",
      "\n",
      "passes...\n"
     ]
    },
    {
     "data": {
      "image/png": "[encoded data removed]",
      "text/plain": [
       "<Figure size 640x480 with 1 Axes>"
      ]
     },
     "metadata": {},
     "output_type": "display_data"
    },
    {
     "name": "stdout",
     "output_type": "stream",
     "text": [
      "**************** SEED 63 ****************\n",
      "***************** AUGMENTATION: baseline *****************\n"
     ]
    },
    {
     "data": {
      "application/vnd.jupyter.widget-view+json": {
       "model_id": "43e4ce63c8d549b788af5929da909f4a",
       "version_major": 2,
       "version_minor": 0
      },
      "text/plain": [
       "  0%|          | 0/5 [00:00<?, ?it/s]"
      ]
     },
     "metadata": {},
     "output_type": "display_data"
    },
    {
     "name": "stdout",
     "output_type": "stream",
     "text": [
      "***************** TRAIN SIZE: 10 *****************\n"
     ]
    },
    {
     "name": "stderr",
     "output_type": "stream",
     "text": [
      "100%|███████████████████████████████████████████████████| 2534/2534 [00:09<00:00, 265.78it/s]\n"
     ]
    },
    {
     "name": "stdout",
     "output_type": "stream",
     "text": [
      "Iteration 0, Current Score: 0,                 Best Feature: trigram-logprobs v-> davinci-logprobs s-avg, New Score: 1.0\n"
     ]
    },
    {
     "name": "stderr",
     "output_type": "stream",
     "text": [
      "100%|███████████████████████████████████████████████████| 2533/2533 [00:10<00:00, 231.07it/s]"
     ]
    },
    {
     "name": "stdout",
     "output_type": "stream",
     "text": [
      "Iteration 1, Current Score: 1.0,                 Best Feature: davinci-logprobs s-max, New Score: 1.0\n",
      "TRAINING WITHOUT AUGMENTATIONS\n",
      "Train size: 10\n",
      "F1-Score: 0.9825813578044014\n",
      "\n",
      "early stopping.\n",
      "early stopping\n",
      "**************** SEED 64 ****************\n",
      "***************** AUGMENTATION: baseline *****************\n"
     ]
    },
    {
     "name": "stderr",
     "output_type": "stream",
     "text": [
      "\n"
     ]
    },
    {
     "data": {
      "application/vnd.jupyter.widget-view+json": {
       "model_id": "2bb71602f6bb4b5d95ca93eaa8d6628c",
       "version_major": 2,
       "version_minor": 0
      },
      "text/plain": [
       "  0%|          | 0/5 [00:00<?, ?it/s]"
      ]
     },
     "metadata": {},
     "output_type": "display_data"
    },
    {
     "name": "stdout",
     "output_type": "stream",
     "text": [
      "***************** TRAIN SIZE: 10 *****************\n"
     ]
    },
    {
     "name": "stderr",
     "output_type": "stream",
     "text": [
      "100%|███████████████████████████████████████████████████| 2534/2534 [00:09<00:00, 263.81it/s]\n"
     ]
    },
    {
     "name": "stdout",
     "output_type": "stream",
     "text": [
      "Iteration 0, Current Score: 0,                 Best Feature: trigram-logprobs v-sub davinci-logprobs s-avg, New Score: 1.0\n"
     ]
    },
    {
     "name": "stderr",
     "output_type": "stream",
     "text": [
      "100%|███████████████████████████████████████████████████| 2533/2533 [00:10<00:00, 238.57it/s]"
     ]
    },
    {
     "name": "stdout",
     "output_type": "stream",
     "text": [
      "Iteration 1, Current Score: 1.0,                 Best Feature: davinci-logprobs s-min, New Score: 1.0\n",
      "TRAINING WITHOUT AUGMENTATIONS\n",
      "Train size: 10\n",
      "F1-Score: 0.9764924742093691\n",
      "\n",
      "early stopping.\n",
      "early stopping\n",
      "**************** SEED 65 ****************\n",
      "***************** AUGMENTATION: baseline *****************\n"
     ]
    },
    {
     "name": "stderr",
     "output_type": "stream",
     "text": [
      "\n"
     ]
    },
    {
     "data": {
      "application/vnd.jupyter.widget-view+json": {
       "model_id": "f1a7c818d6bb400eb3f3db098d0ebbd3",
       "version_major": 2,
       "version_minor": 0
      },
      "text/plain": [
       "  0%|          | 0/5 [00:00<?, ?it/s]"
      ]
     },
     "metadata": {},
     "output_type": "display_data"
    },
    {
     "name": "stdout",
     "output_type": "stream",
     "text": [
      "***************** TRAIN SIZE: 10 *****************\n"
     ]
    },
    {
     "name": "stderr",
     "output_type": "stream",
     "text": [
      "100%|███████████████████████████████████████████████████| 2534/2534 [00:09<00:00, 263.16it/s]\n"
     ]
    },
    {
     "name": "stdout",
     "output_type": "stream",
     "text": [
      "Iteration 0, Current Score: 0,                 Best Feature: trigram-logprobs v-> davinci-logprobs s-avg, New Score: 1.0\n"
     ]
    },
    {
     "name": "stderr",
     "output_type": "stream",
     "text": [
      "100%|███████████████████████████████████████████████████| 2533/2533 [00:11<00:00, 227.63it/s]"
     ]
    },
    {
     "name": "stdout",
     "output_type": "stream",
     "text": [
      "Iteration 1, Current Score: 1.0,                 Best Feature: davinci-logprobs s-max, New Score: 1.0\n",
      "TRAINING WITHOUT AUGMENTATIONS\n",
      "Train size: 10\n",
      "F1-Score: 0.9811796336750126\n",
      "\n",
      "early stopping.\n",
      "early stopping\n",
      "**************** SEED 66 ****************\n",
      "***************** AUGMENTATION: baseline *****************\n"
     ]
    },
    {
     "name": "stderr",
     "output_type": "stream",
     "text": [
      "\n"
     ]
    },
    {
     "data": {
      "application/vnd.jupyter.widget-view+json": {
       "model_id": "b2461a3e161c4c7cb81f3ed7c2e0cd77",
       "version_major": 2,
       "version_minor": 0
      },
      "text/plain": [
       "  0%|          | 0/5 [00:00<?, ?it/s]"
      ]
     },
     "metadata": {},
     "output_type": "display_data"
    },
    {
     "name": "stdout",
     "output_type": "stream",
     "text": [
      "***************** TRAIN SIZE: 10 *****************\n"
     ]
    },
    {
     "name": "stderr",
     "output_type": "stream",
     "text": [
      "100%|███████████████████████████████████████████████████| 2534/2534 [00:09<00:00, 260.28it/s]\n"
     ]
    },
    {
     "name": "stdout",
     "output_type": "stream",
     "text": [
      "Iteration 0, Current Score: 0,                 Best Feature: davinci-logprobs s-avg, New Score: 1.0\n"
     ]
    },
    {
     "name": "stderr",
     "output_type": "stream",
     "text": [
      "100%|███████████████████████████████████████████████████| 2533/2533 [00:11<00:00, 229.14it/s]"
     ]
    },
    {
     "name": "stdout",
     "output_type": "stream",
     "text": [
      "Iteration 1, Current Score: 1.0,                 Best Feature: davinci-logprobs s-max, New Score: 1.0\n",
      "TRAINING WITHOUT AUGMENTATIONS\n",
      "Train size: 10\n",
      "F1-Score: 0.9459273290855864\n",
      "\n",
      "early stopping.\n",
      "early stopping\n",
      "**************** SEED 67 ****************\n",
      "***************** AUGMENTATION: baseline *****************\n"
     ]
    },
    {
     "name": "stderr",
     "output_type": "stream",
     "text": [
      "\n"
     ]
    },
    {
     "data": {
      "application/vnd.jupyter.widget-view+json": {
       "model_id": "fe005e02b2d5466bb14df4676b96eb74",
       "version_major": 2,
       "version_minor": 0
      },
      "text/plain": [
       "  0%|          | 0/5 [00:00<?, ?it/s]"
      ]
     },
     "metadata": {},
     "output_type": "display_data"
    },
    {
     "name": "stdout",
     "output_type": "stream",
     "text": [
      "***************** TRAIN SIZE: 10 *****************\n"
     ]
    },
    {
     "name": "stderr",
     "output_type": "stream",
     "text": [
      "100%|███████████████████████████████████████████████████| 2534/2534 [00:09<00:00, 265.38it/s]\n"
     ]
    },
    {
     "name": "stdout",
     "output_type": "stream",
     "text": [
      "Iteration 0, Current Score: 0,                 Best Feature: davinci-logprobs s-avg, New Score: 1.0\n"
     ]
    },
    {
     "name": "stderr",
     "output_type": "stream",
     "text": [
      "100%|███████████████████████████████████████████████████| 2533/2533 [00:10<00:00, 233.92it/s]\n"
     ]
    },
    {
     "name": "stdout",
     "output_type": "stream",
     "text": [
      "Iteration 1, Current Score: 1.0,                 Best Feature: davinci-logprobs s-max, New Score: 1.0\n",
      "TRAINING WITHOUT AUGMENTATIONS\n",
      "Train size: 10\n",
      "F1-Score: 0.8098099084014577\n",
      "\n",
      "passes...\n",
      "***************** TRAIN SIZE: 25 *****************\n"
     ]
    },
    {
     "name": "stderr",
     "output_type": "stream",
     "text": [
      "100%|███████████████████████████████████████████████████| 2534/2534 [00:09<00:00, 261.94it/s]\n"
     ]
    },
    {
     "name": "stdout",
     "output_type": "stream",
     "text": [
      "Iteration 0, Current Score: 0,                 Best Feature: ada-logprobs v-mul davinci-logprobs v-div ada-logprobs s-avg, New Score: 1.0\n"
     ]
    },
    {
     "name": "stderr",
     "output_type": "stream",
     "text": [
      "100%|███████████████████████████████████████████████████| 2533/2533 [00:11<00:00, 218.56it/s]\n"
     ]
    },
    {
     "name": "stdout",
     "output_type": "stream",
     "text": [
      "Iteration 1, Current Score: 1.0,                 Best Feature: davinci-logprobs s-max, New Score: 1.0\n",
      "TRAINING WITHOUT AUGMENTATIONS\n",
      "Train size: 25\n",
      "F1-Score: 0.9374944899938288\n",
      "\n",
      "passes...\n",
      "***************** TRAIN SIZE: 50 *****************\n"
     ]
    },
    {
     "name": "stderr",
     "output_type": "stream",
     "text": [
      "100%|███████████████████████████████████████████████████| 2534/2534 [00:09<00:00, 261.41it/s]\n"
     ]
    },
    {
     "name": "stdout",
     "output_type": "stream",
     "text": [
      "Iteration 0, Current Score: 0,                 Best Feature: trigram-logprobs v-> davinci-logprobs s-avg, New Score: 0.98\n"
     ]
    },
    {
     "name": "stderr",
     "output_type": "stream",
     "text": [
      "100%|███████████████████████████████████████████████████| 2533/2533 [00:12<00:00, 210.72it/s]\n"
     ]
    },
    {
     "name": "stdout",
     "output_type": "stream",
     "text": [
      "Iteration 1, Current Score: 0.98,                 Best Feature: davinci-logprobs s-max, New Score: 0.98\n",
      "TRAINING WITHOUT AUGMENTATIONS\n",
      "Train size: 50\n",
      "F1-Score: 0.9725118483412323\n",
      "\n",
      "passes...\n",
      "***************** TRAIN SIZE: 75 *****************\n"
     ]
    },
    {
     "name": "stderr",
     "output_type": "stream",
     "text": [
      "100%|███████████████████████████████████████████████████| 2534/2534 [00:09<00:00, 256.10it/s]\n"
     ]
    },
    {
     "name": "stdout",
     "output_type": "stream",
     "text": [
      "Iteration 0, Current Score: 0,                 Best Feature: trigram-logprobs v-div ada-logprobs v-> davinci-logprobs s-avg, New Score: 1.0\n"
     ]
    },
    {
     "name": "stderr",
     "output_type": "stream",
     "text": [
      "100%|███████████████████████████████████████████████████| 2533/2533 [00:12<00:00, 209.40it/s]\n"
     ]
    },
    {
     "name": "stdout",
     "output_type": "stream",
     "text": [
      "Iteration 1, Current Score: 1.0,                 Best Feature: davinci-logprobs s-max, New Score: 1.0\n",
      "TRAINING WITHOUT AUGMENTATIONS\n",
      "Train size: 75\n",
      "F1-Score: 0.9923586347427407\n",
      "\n",
      "passes...\n",
      "***************** TRAIN SIZE: 100 *****************\n"
     ]
    },
    {
     "name": "stderr",
     "output_type": "stream",
     "text": [
      "100%|███████████████████████████████████████████████████| 2534/2534 [00:10<00:00, 245.90it/s]\n"
     ]
    },
    {
     "name": "stdout",
     "output_type": "stream",
     "text": [
      "Iteration 0, Current Score: 0,                 Best Feature: unigram-logprobs v-> ada-logprobs s-avg, New Score: 1.0\n"
     ]
    },
    {
     "name": "stderr",
     "output_type": "stream",
     "text": [
      "100%|███████████████████████████████████████████████████| 2533/2533 [00:12<00:00, 196.80it/s]"
     ]
    },
    {
     "name": "stdout",
     "output_type": "stream",
     "text": [
      "Iteration 1, Current Score: 1.0,                 Best Feature: davinci-logprobs s-max, New Score: 1.0\n",
      "TRAINING WITHOUT AUGMENTATIONS\n",
      "Train size: 100\n",
      "F1-Score: 0.9584647739221872\n",
      "\n",
      "passes...\n",
      "***************** AUGMENTATION: synonym *****************\n"
     ]
    },
    {
     "name": "stderr",
     "output_type": "stream",
     "text": [
      "\n"
     ]
    },
    {
     "data": {
      "application/vnd.jupyter.widget-view+json": {
       "model_id": "7128792b85b14680b8d0e42b8fe5aff5",
       "version_major": 2,
       "version_minor": 0
      },
      "text/plain": [
       "  0%|          | 0/5 [00:00<?, ?it/s]"
      ]
     },
     "metadata": {},
     "output_type": "display_data"
    },
    {
     "name": "stdout",
     "output_type": "stream",
     "text": [
      "***************** TRAIN SIZE: 10 *****************\n"
     ]
    },
    {
     "name": "stderr",
     "output_type": "stream",
     "text": [
      "100%|███████████████████████████████████████████████████| 2534/2534 [00:09<00:00, 265.16it/s]\n"
     ]
    },
    {
     "name": "stdout",
     "output_type": "stream",
     "text": [
      "Iteration 0, Current Score: 0,                 Best Feature: davinci-logprobs s-avg, New Score: 1.0\n"
     ]
    },
    {
     "name": "stderr",
     "output_type": "stream",
     "text": [
      "100%|███████████████████████████████████████████████████| 2533/2533 [00:10<00:00, 231.46it/s]\n"
     ]
    },
    {
     "name": "stdout",
     "output_type": "stream",
     "text": [
      "Iteration 1, Current Score: 1.0,                 Best Feature: davinci-logprobs s-max, New Score: 1.0\n",
      "TRAINING WITH synonym AUGMENTED DATA.\n",
      "Train size: 10\n",
      "F1-Score: 0.8608261974216618\n",
      "\n",
      "passes...\n",
      "***************** TRAIN SIZE: 25 *****************\n"
     ]
    },
    {
     "name": "stderr",
     "output_type": "stream",
     "text": [
      "100%|███████████████████████████████████████████████████| 2534/2534 [00:09<00:00, 259.90it/s]\n"
     ]
    },
    {
     "name": "stdout",
     "output_type": "stream",
     "text": [
      "Iteration 0, Current Score: 0,                 Best Feature: ada-logprobs v-mul davinci-logprobs v-div ada-logprobs s-avg, New Score: 1.0\n"
     ]
    },
    {
     "name": "stderr",
     "output_type": "stream",
     "text": [
      "100%|███████████████████████████████████████████████████| 2533/2533 [00:11<00:00, 217.75it/s]\n"
     ]
    },
    {
     "name": "stdout",
     "output_type": "stream",
     "text": [
      "Iteration 1, Current Score: 1.0,                 Best Feature: davinci-logprobs s-max, New Score: 1.0\n",
      "TRAINING WITH synonym AUGMENTED DATA.\n",
      "Train size: 25\n",
      "F1-Score: 0.9320888888888889\n",
      "\n",
      "passes...\n",
      "***************** TRAIN SIZE: 50 *****************\n"
     ]
    },
    {
     "name": "stderr",
     "output_type": "stream",
     "text": [
      "100%|███████████████████████████████████████████████████| 2534/2534 [00:09<00:00, 259.15it/s]\n"
     ]
    },
    {
     "name": "stdout",
     "output_type": "stream",
     "text": [
      "Iteration 0, Current Score: 0,                 Best Feature: trigram-logprobs v-> davinci-logprobs s-avg, New Score: 1.0\n"
     ]
    },
    {
     "name": "stderr",
     "output_type": "stream",
     "text": [
      "100%|███████████████████████████████████████████████████| 2533/2533 [00:11<00:00, 217.76it/s]\n"
     ]
    },
    {
     "name": "stdout",
     "output_type": "stream",
     "text": [
      "Iteration 1, Current Score: 1.0,                 Best Feature: davinci-logprobs s-max, New Score: 1.0\n",
      "TRAINING WITH synonym AUGMENTED DATA.\n",
      "Train size: 50\n",
      "F1-Score: 0.9765290388898407\n",
      "\n",
      "passes...\n",
      "***************** TRAIN SIZE: 75 *****************\n"
     ]
    },
    {
     "name": "stderr",
     "output_type": "stream",
     "text": [
      "100%|███████████████████████████████████████████████████| 2534/2534 [00:09<00:00, 257.06it/s]\n"
     ]
    },
    {
     "name": "stdout",
     "output_type": "stream",
     "text": [
      "Iteration 0, Current Score: 0,                 Best Feature: trigram-logprobs v-> davinci-logprobs s-avg, New Score: 1.0\n"
     ]
    },
    {
     "name": "stderr",
     "output_type": "stream",
     "text": [
      "100%|███████████████████████████████████████████████████| 2533/2533 [00:11<00:00, 212.12it/s]\n"
     ]
    },
    {
     "name": "stdout",
     "output_type": "stream",
     "text": [
      "Iteration 1, Current Score: 1.0,                 Best Feature: davinci-logprobs s-max, New Score: 1.0\n",
      "TRAINING WITH synonym AUGMENTED DATA.\n",
      "Train size: 75\n",
      "F1-Score: 0.9842082799829279\n",
      "\n",
      "passes...\n",
      "***************** TRAIN SIZE: 100 *****************\n"
     ]
    },
    {
     "name": "stderr",
     "output_type": "stream",
     "text": [
      "100%|███████████████████████████████████████████████████| 2534/2534 [00:09<00:00, 255.39it/s]\n"
     ]
    },
    {
     "name": "stdout",
     "output_type": "stream",
     "text": [
      "Iteration 0, Current Score: 0,                 Best Feature: trigram-logprobs v-div ada-logprobs v-> davinci-logprobs s-avg, New Score: 1.0\n"
     ]
    },
    {
     "name": "stderr",
     "output_type": "stream",
     "text": [
      "100%|███████████████████████████████████████████████████| 2533/2533 [00:12<00:00, 207.03it/s]"
     ]
    },
    {
     "name": "stdout",
     "output_type": "stream",
     "text": [
      "Iteration 1, Current Score: 1.0,                 Best Feature: davinci-logprobs s-max, New Score: 1.0\n",
      "TRAINING WITH synonym AUGMENTED DATA.\n",
      "Train size: 100\n",
      "F1-Score: 0.9880444064901793\n",
      "\n",
      "passes...\n",
      "***************** AUGMENTATION: back *****************\n"
     ]
    },
    {
     "name": "stderr",
     "output_type": "stream",
     "text": [
      "\n"
     ]
    },
    {
     "data": {
      "application/vnd.jupyter.widget-view+json": {
       "model_id": "9335ca99587b4e888d97bd705d6ebe3d",
       "version_major": 2,
       "version_minor": 0
      },
      "text/plain": [
       "  0%|          | 0/5 [00:00<?, ?it/s]"
      ]
     },
     "metadata": {},
     "output_type": "display_data"
    },
    {
     "name": "stdout",
     "output_type": "stream",
     "text": [
      "***************** TRAIN SIZE: 10 *****************\n"
     ]
    },
    {
     "name": "stderr",
     "output_type": "stream",
     "text": [
      "100%|███████████████████████████████████████████████████| 2534/2534 [00:09<00:00, 264.22it/s]\n"
     ]
    },
    {
     "name": "stdout",
     "output_type": "stream",
     "text": [
      "Iteration 0, Current Score: 0,                 Best Feature: davinci-logprobs s-avg, New Score: 1.0\n"
     ]
    },
    {
     "name": "stderr",
     "output_type": "stream",
     "text": [
      "100%|███████████████████████████████████████████████████| 2533/2533 [00:10<00:00, 230.33it/s]\n"
     ]
    },
    {
     "name": "stdout",
     "output_type": "stream",
     "text": [
      "Iteration 1, Current Score: 1.0,                 Best Feature: davinci-logprobs s-max, New Score: 1.0\n",
      "TRAINING WITH back AUGMENTED DATA.\n",
      "Train size: 10\n",
      "F1-Score: 0.8624577226606539\n",
      "\n",
      "passes...\n",
      "***************** TRAIN SIZE: 25 *****************\n"
     ]
    },
    {
     "name": "stderr",
     "output_type": "stream",
     "text": [
      "100%|███████████████████████████████████████████████████| 2534/2534 [00:09<00:00, 265.36it/s]\n"
     ]
    },
    {
     "name": "stdout",
     "output_type": "stream",
     "text": [
      "Iteration 0, Current Score: 0,                 Best Feature: ada-logprobs v-mul davinci-logprobs v-div ada-logprobs s-avg, New Score: 1.0\n"
     ]
    },
    {
     "name": "stderr",
     "output_type": "stream",
     "text": [
      "100%|███████████████████████████████████████████████████| 2533/2533 [00:11<00:00, 220.69it/s]\n"
     ]
    },
    {
     "name": "stdout",
     "output_type": "stream",
     "text": [
      "Iteration 1, Current Score: 1.0,                 Best Feature: davinci-logprobs s-max, New Score: 1.0\n",
      "TRAINING WITH back AUGMENTED DATA.\n",
      "Train size: 25\n",
      "F1-Score: 0.9168620378719567\n",
      "\n",
      "passes...\n",
      "***************** TRAIN SIZE: 50 *****************\n"
     ]
    },
    {
     "name": "stderr",
     "output_type": "stream",
     "text": [
      "100%|███████████████████████████████████████████████████| 2534/2534 [00:09<00:00, 260.23it/s]\n"
     ]
    },
    {
     "name": "stdout",
     "output_type": "stream",
     "text": [
      "Iteration 0, Current Score: 0,                 Best Feature: trigram-logprobs v-> davinci-logprobs s-avg, New Score: 1.0\n"
     ]
    },
    {
     "name": "stderr",
     "output_type": "stream",
     "text": [
      "100%|███████████████████████████████████████████████████| 2533/2533 [00:11<00:00, 214.36it/s]\n"
     ]
    },
    {
     "name": "stdout",
     "output_type": "stream",
     "text": [
      "Iteration 1, Current Score: 1.0,                 Best Feature: davinci-logprobs s-max, New Score: 1.0\n",
      "TRAINING WITH back AUGMENTED DATA.\n",
      "Train size: 50\n",
      "F1-Score: 0.9735888140859659\n",
      "\n",
      "passes...\n",
      "***************** TRAIN SIZE: 75 *****************\n"
     ]
    },
    {
     "name": "stderr",
     "output_type": "stream",
     "text": [
      "100%|███████████████████████████████████████████████████| 2534/2534 [00:09<00:00, 253.48it/s]\n"
     ]
    },
    {
     "name": "stdout",
     "output_type": "stream",
     "text": [
      "Iteration 0, Current Score: 0,                 Best Feature: trigram-logprobs v-> davinci-logprobs s-avg, New Score: 1.0\n"
     ]
    },
    {
     "name": "stderr",
     "output_type": "stream",
     "text": [
      "100%|███████████████████████████████████████████████████| 2533/2533 [00:11<00:00, 213.30it/s]\n"
     ]
    },
    {
     "name": "stdout",
     "output_type": "stream",
     "text": [
      "Iteration 1, Current Score: 1.0,                 Best Feature: davinci-logprobs s-max, New Score: 1.0\n",
      "TRAINING WITH back AUGMENTED DATA.\n",
      "Train size: 75\n",
      "F1-Score: 0.9833319087101462\n",
      "\n",
      "passes...\n",
      "***************** TRAIN SIZE: 100 *****************\n"
     ]
    },
    {
     "name": "stderr",
     "output_type": "stream",
     "text": [
      "100%|███████████████████████████████████████████████████| 2534/2534 [00:09<00:00, 254.80it/s]\n"
     ]
    },
    {
     "name": "stdout",
     "output_type": "stream",
     "text": [
      "Iteration 0, Current Score: 0,                 Best Feature: trigram-logprobs v-div ada-logprobs v-> davinci-logprobs s-avg, New Score: 1.0\n"
     ]
    },
    {
     "name": "stderr",
     "output_type": "stream",
     "text": [
      "100%|███████████████████████████████████████████████████| 2533/2533 [00:12<00:00, 207.25it/s]"
     ]
    },
    {
     "name": "stdout",
     "output_type": "stream",
     "text": [
      "Iteration 1, Current Score: 1.0,                 Best Feature: davinci-logprobs s-max, New Score: 1.0\n",
      "TRAINING WITH back AUGMENTED DATA.\n",
      "Train size: 100\n",
      "F1-Score: 0.9824832560535807\n",
      "\n",
      "passes...\n",
      "***************** AUGMENTATION: emotion *****************\n"
     ]
    },
    {
     "name": "stderr",
     "output_type": "stream",
     "text": [
      "\n"
     ]
    },
    {
     "data": {
      "application/vnd.jupyter.widget-view+json": {
       "model_id": "eb32b5bcffb740d7a2b772b0c482950a",
       "version_major": 2,
       "version_minor": 0
      },
      "text/plain": [
       "  0%|          | 0/5 [00:00<?, ?it/s]"
      ]
     },
     "metadata": {},
     "output_type": "display_data"
    },
    {
     "name": "stdout",
     "output_type": "stream",
     "text": [
      "***************** TRAIN SIZE: 10 *****************\n"
     ]
    },
    {
     "name": "stderr",
     "output_type": "stream",
     "text": [
      "100%|███████████████████████████████████████████████████| 2534/2534 [00:09<00:00, 266.21it/s]\n"
     ]
    },
    {
     "name": "stdout",
     "output_type": "stream",
     "text": [
      "Iteration 0, Current Score: 0,                 Best Feature: davinci-logprobs s-avg, New Score: 1.0\n"
     ]
    },
    {
     "name": "stderr",
     "output_type": "stream",
     "text": [
      "100%|███████████████████████████████████████████████████| 2533/2533 [00:10<00:00, 231.08it/s]\n"
     ]
    },
    {
     "name": "stdout",
     "output_type": "stream",
     "text": [
      "Iteration 1, Current Score: 1.0,                 Best Feature: davinci-logprobs s-max, New Score: 1.0\n",
      "TRAINING WITH emotion AUGMENTED DATA.\n",
      "Train size: 10\n",
      "F1-Score: 0.8133163114995581\n",
      "\n",
      "passes...\n",
      "***************** TRAIN SIZE: 25 *****************\n"
     ]
    },
    {
     "name": "stderr",
     "output_type": "stream",
     "text": [
      "100%|███████████████████████████████████████████████████| 2534/2534 [00:09<00:00, 264.55it/s]\n"
     ]
    },
    {
     "name": "stdout",
     "output_type": "stream",
     "text": [
      "Iteration 0, Current Score: 0,                 Best Feature: ada-logprobs v-mul davinci-logprobs v-div ada-logprobs s-avg, New Score: 1.0\n"
     ]
    },
    {
     "name": "stderr",
     "output_type": "stream",
     "text": [
      "100%|███████████████████████████████████████████████████| 2533/2533 [00:11<00:00, 220.24it/s]\n"
     ]
    },
    {
     "name": "stdout",
     "output_type": "stream",
     "text": [
      "Iteration 1, Current Score: 1.0,                 Best Feature: davinci-logprobs s-max, New Score: 1.0\n",
      "TRAINING WITH emotion AUGMENTED DATA.\n",
      "Train size: 25\n",
      "F1-Score: 0.9489804848166623\n",
      "\n",
      "passes...\n",
      "***************** TRAIN SIZE: 50 *****************\n"
     ]
    },
    {
     "name": "stderr",
     "output_type": "stream",
     "text": [
      "100%|███████████████████████████████████████████████████| 2534/2534 [00:09<00:00, 257.11it/s]\n"
     ]
    },
    {
     "name": "stdout",
     "output_type": "stream",
     "text": [
      "Iteration 0, Current Score: 0,                 Best Feature: trigram-logprobs v-> davinci-logprobs s-avg, New Score: 1.0\n"
     ]
    },
    {
     "name": "stderr",
     "output_type": "stream",
     "text": [
      "100%|███████████████████████████████████████████████████| 2533/2533 [00:11<00:00, 216.22it/s]\n"
     ]
    },
    {
     "name": "stdout",
     "output_type": "stream",
     "text": [
      "Iteration 1, Current Score: 1.0,                 Best Feature: davinci-logprobs s-max, New Score: 1.0\n",
      "TRAINING WITH emotion AUGMENTED DATA.\n",
      "Train size: 50\n",
      "F1-Score: 0.9765524349394485\n",
      "\n",
      "passes...\n",
      "***************** TRAIN SIZE: 75 *****************\n"
     ]
    },
    {
     "name": "stderr",
     "output_type": "stream",
     "text": [
      "100%|███████████████████████████████████████████████████| 2534/2534 [00:09<00:00, 256.27it/s]\n"
     ]
    },
    {
     "name": "stdout",
     "output_type": "stream",
     "text": [
      "Iteration 0, Current Score: 0,                 Best Feature: trigram-logprobs v-> davinci-logprobs s-avg, New Score: 1.0\n"
     ]
    },
    {
     "name": "stderr",
     "output_type": "stream",
     "text": [
      "100%|███████████████████████████████████████████████████| 2533/2533 [00:11<00:00, 212.85it/s]\n"
     ]
    },
    {
     "name": "stdout",
     "output_type": "stream",
     "text": [
      "Iteration 1, Current Score: 1.0,                 Best Feature: davinci-logprobs s-max, New Score: 1.0\n",
      "TRAINING WITH emotion AUGMENTED DATA.\n",
      "Train size: 75\n",
      "F1-Score: 0.9869314324507807\n",
      "\n",
      "passes...\n",
      "***************** TRAIN SIZE: 100 *****************\n"
     ]
    },
    {
     "name": "stderr",
     "output_type": "stream",
     "text": [
      "100%|███████████████████████████████████████████████████| 2534/2534 [00:09<00:00, 256.41it/s]\n"
     ]
    },
    {
     "name": "stdout",
     "output_type": "stream",
     "text": [
      "Iteration 0, Current Score: 0,                 Best Feature: trigram-logprobs v-div ada-logprobs v-> davinci-logprobs s-avg, New Score: 1.0\n"
     ]
    },
    {
     "name": "stderr",
     "output_type": "stream",
     "text": [
      "100%|███████████████████████████████████████████████████| 2533/2533 [00:12<00:00, 206.52it/s]\n"
     ]
    },
    {
     "name": "stdout",
     "output_type": "stream",
     "text": [
      "Iteration 1, Current Score: 1.0,                 Best Feature: davinci-logprobs s-max, New Score: 1.0\n",
      "TRAINING WITH emotion AUGMENTED DATA.\n",
      "Train size: 100\n",
      "F1-Score: 0.9842141386410432\n",
      "\n",
      "passes...\n",
      "***************** AUGMENTATION: style *****************\n"
     ]
    },
    {
     "data": {
      "application/vnd.jupyter.widget-view+json": {
       "model_id": "a737a66abb6441d58832e10f75cebe75",
       "version_major": 2,
       "version_minor": 0
      },
      "text/plain": [
       "  0%|          | 0/5 [00:00<?, ?it/s]"
      ]
     },
     "metadata": {},
     "output_type": "display_data"
    },
    {
     "name": "stdout",
     "output_type": "stream",
     "text": [
      "***************** TRAIN SIZE: 10 *****************\n"
     ]
    },
    {
     "name": "stderr",
     "output_type": "stream",
     "text": [
      "100%|███████████████████████████████████████████████████| 2534/2534 [00:09<00:00, 265.75it/s]\n"
     ]
    },
    {
     "name": "stdout",
     "output_type": "stream",
     "text": [
      "Iteration 0, Current Score: 0,                 Best Feature: davinci-logprobs s-avg, New Score: 1.0\n"
     ]
    },
    {
     "name": "stderr",
     "output_type": "stream",
     "text": [
      "100%|███████████████████████████████████████████████████| 2533/2533 [00:10<00:00, 233.67it/s]\n"
     ]
    },
    {
     "name": "stdout",
     "output_type": "stream",
     "text": [
      "Iteration 1, Current Score: 1.0,                 Best Feature: davinci-logprobs s-max, New Score: 1.0\n",
      "TRAINING WITH style AUGMENTED DATA.\n",
      "Train size: 10\n",
      "F1-Score: 0.8144370341310317\n",
      "\n",
      "passes...\n",
      "***************** TRAIN SIZE: 25 *****************\n"
     ]
    },
    {
     "name": "stderr",
     "output_type": "stream",
     "text": [
      "100%|███████████████████████████████████████████████████| 2534/2534 [00:09<00:00, 261.34it/s]\n"
     ]
    },
    {
     "name": "stdout",
     "output_type": "stream",
     "text": [
      "Iteration 0, Current Score: 0,                 Best Feature: ada-logprobs v-mul davinci-logprobs v-div ada-logprobs s-avg, New Score: 1.0\n"
     ]
    },
    {
     "name": "stderr",
     "output_type": "stream",
     "text": [
      "100%|███████████████████████████████████████████████████| 2533/2533 [00:11<00:00, 219.56it/s]\n"
     ]
    },
    {
     "name": "stdout",
     "output_type": "stream",
     "text": [
      "Iteration 1, Current Score: 1.0,                 Best Feature: davinci-logprobs s-max, New Score: 1.0\n",
      "TRAINING WITH style AUGMENTED DATA.\n",
      "Train size: 25\n",
      "F1-Score: 0.9403471671512909\n",
      "\n",
      "passes...\n",
      "***************** TRAIN SIZE: 50 *****************\n"
     ]
    },
    {
     "name": "stderr",
     "output_type": "stream",
     "text": [
      "100%|███████████████████████████████████████████████████| 2534/2534 [00:09<00:00, 260.14it/s]\n"
     ]
    },
    {
     "name": "stdout",
     "output_type": "stream",
     "text": [
      "Iteration 0, Current Score: 0,                 Best Feature: trigram-logprobs v-> davinci-logprobs s-avg, New Score: 1.0\n"
     ]
    },
    {
     "name": "stderr",
     "output_type": "stream",
     "text": [
      "100%|███████████████████████████████████████████████████| 2533/2533 [00:11<00:00, 214.91it/s]\n"
     ]
    },
    {
     "name": "stdout",
     "output_type": "stream",
     "text": [
      "Iteration 1, Current Score: 1.0,                 Best Feature: davinci-logprobs s-max, New Score: 1.0\n",
      "TRAINING WITH style AUGMENTED DATA.\n",
      "Train size: 50\n",
      "F1-Score: 0.9789779524867545\n",
      "\n",
      "passes...\n",
      "***************** TRAIN SIZE: 75 *****************\n"
     ]
    },
    {
     "name": "stderr",
     "output_type": "stream",
     "text": [
      "100%|███████████████████████████████████████████████████| 2534/2534 [00:09<00:00, 257.36it/s]\n"
     ]
    },
    {
     "name": "stdout",
     "output_type": "stream",
     "text": [
      "Iteration 0, Current Score: 0,                 Best Feature: trigram-logprobs v-> davinci-logprobs s-avg, New Score: 1.0\n"
     ]
    },
    {
     "name": "stderr",
     "output_type": "stream",
     "text": [
      "100%|███████████████████████████████████████████████████| 2533/2533 [00:11<00:00, 212.85it/s]\n"
     ]
    },
    {
     "name": "stdout",
     "output_type": "stream",
     "text": [
      "Iteration 1, Current Score: 1.0,                 Best Feature: davinci-logprobs s-max, New Score: 1.0\n",
      "TRAINING WITH style AUGMENTED DATA.\n",
      "Train size: 75\n",
      "F1-Score: 0.9813707058622457\n",
      "\n",
      "passes...\n",
      "***************** TRAIN SIZE: 100 *****************\n"
     ]
    },
    {
     "name": "stderr",
     "output_type": "stream",
     "text": [
      "100%|███████████████████████████████████████████████████| 2534/2534 [00:10<00:00, 252.82it/s]\n"
     ]
    },
    {
     "name": "stdout",
     "output_type": "stream",
     "text": [
      "Iteration 0, Current Score: 0,                 Best Feature: trigram-logprobs v-div ada-logprobs v-> davinci-logprobs s-avg, New Score: 1.0\n"
     ]
    },
    {
     "name": "stderr",
     "output_type": "stream",
     "text": [
      "100%|███████████████████████████████████████████████████| 2533/2533 [00:12<00:00, 205.86it/s]"
     ]
    },
    {
     "name": "stdout",
     "output_type": "stream",
     "text": [
      "Iteration 1, Current Score: 1.0,                 Best Feature: davinci-logprobs s-max, New Score: 1.0\n",
      "TRAINING WITH style AUGMENTED DATA.\n",
      "Train size: 100\n",
      "F1-Score: 0.9819711538461539\n",
      "\n",
      "passes...\n",
      "***************** AUGMENTATION: summary *****************\n"
     ]
    },
    {
     "name": "stderr",
     "output_type": "stream",
     "text": [
      "\n"
     ]
    },
    {
     "data": {
      "application/vnd.jupyter.widget-view+json": {
       "model_id": "8421cab920ea47b6a4700c0481c6ebff",
       "version_major": 2,
       "version_minor": 0
      },
      "text/plain": [
       "  0%|          | 0/5 [00:00<?, ?it/s]"
      ]
     },
     "metadata": {},
     "output_type": "display_data"
    },
    {
     "name": "stdout",
     "output_type": "stream",
     "text": [
      "***************** TRAIN SIZE: 10 *****************\n"
     ]
    },
    {
     "name": "stderr",
     "output_type": "stream",
     "text": [
      "100%|███████████████████████████████████████████████████| 2534/2534 [00:09<00:00, 264.73it/s]\n"
     ]
    },
    {
     "name": "stdout",
     "output_type": "stream",
     "text": [
      "Iteration 0, Current Score: 0,                 Best Feature: davinci-logprobs s-avg, New Score: 1.0\n"
     ]
    },
    {
     "name": "stderr",
     "output_type": "stream",
     "text": [
      "100%|███████████████████████████████████████████████████| 2533/2533 [00:10<00:00, 232.01it/s]\n"
     ]
    },
    {
     "name": "stdout",
     "output_type": "stream",
     "text": [
      "Iteration 1, Current Score: 1.0,                 Best Feature: davinci-logprobs s-max, New Score: 1.0\n",
      "TRAINING WITH summary AUGMENTED DATA.\n",
      "Train size: 10\n",
      "F1-Score: 0.8582454819277109\n",
      "\n",
      "passes...\n",
      "***************** TRAIN SIZE: 25 *****************\n"
     ]
    },
    {
     "name": "stderr",
     "output_type": "stream",
     "text": [
      "100%|███████████████████████████████████████████████████| 2534/2534 [00:09<00:00, 263.00it/s]\n"
     ]
    },
    {
     "name": "stdout",
     "output_type": "stream",
     "text": [
      "Iteration 0, Current Score: 0,                 Best Feature: ada-logprobs v-mul davinci-logprobs v-div ada-logprobs s-avg, New Score: 1.0\n"
     ]
    },
    {
     "name": "stderr",
     "output_type": "stream",
     "text": [
      "100%|███████████████████████████████████████████████████| 2533/2533 [00:11<00:00, 217.86it/s]\n"
     ]
    },
    {
     "name": "stdout",
     "output_type": "stream",
     "text": [
      "Iteration 1, Current Score: 1.0,                 Best Feature: davinci-logprobs s-max, New Score: 1.0\n",
      "TRAINING WITH summary AUGMENTED DATA.\n",
      "Train size: 25\n",
      "F1-Score: 0.9403063919704173\n",
      "\n",
      "passes...\n",
      "***************** TRAIN SIZE: 50 *****************\n"
     ]
    },
    {
     "name": "stderr",
     "output_type": "stream",
     "text": [
      "100%|███████████████████████████████████████████████████| 2534/2534 [00:09<00:00, 262.34it/s]\n"
     ]
    },
    {
     "name": "stdout",
     "output_type": "stream",
     "text": [
      "Iteration 0, Current Score: 0,                 Best Feature: trigram-logprobs v-> davinci-logprobs s-avg, New Score: 1.0\n"
     ]
    },
    {
     "name": "stderr",
     "output_type": "stream",
     "text": [
      "100%|███████████████████████████████████████████████████| 2533/2533 [00:11<00:00, 216.55it/s]\n"
     ]
    },
    {
     "name": "stdout",
     "output_type": "stream",
     "text": [
      "Iteration 1, Current Score: 1.0,                 Best Feature: davinci-logprobs s-max, New Score: 1.0\n",
      "TRAINING WITH summary AUGMENTED DATA.\n",
      "Train size: 50\n",
      "F1-Score: 0.9752122823569774\n",
      "\n",
      "passes...\n",
      "***************** TRAIN SIZE: 75 *****************\n"
     ]
    },
    {
     "name": "stderr",
     "output_type": "stream",
     "text": [
      "100%|███████████████████████████████████████████████████| 2534/2534 [00:09<00:00, 256.57it/s]\n"
     ]
    },
    {
     "name": "stdout",
     "output_type": "stream",
     "text": [
      "Iteration 0, Current Score: 0,                 Best Feature: trigram-logprobs v-> davinci-logprobs s-avg, New Score: 1.0\n"
     ]
    },
    {
     "name": "stderr",
     "output_type": "stream",
     "text": [
      "100%|███████████████████████████████████████████████████| 2533/2533 [00:11<00:00, 212.35it/s]\n"
     ]
    },
    {
     "name": "stdout",
     "output_type": "stream",
     "text": [
      "Iteration 1, Current Score: 1.0,                 Best Feature: davinci-logprobs s-max, New Score: 1.0\n",
      "TRAINING WITH summary AUGMENTED DATA.\n",
      "Train size: 75\n",
      "F1-Score: 0.987326698987837\n",
      "\n",
      "passes...\n",
      "***************** TRAIN SIZE: 100 *****************\n"
     ]
    },
    {
     "name": "stderr",
     "output_type": "stream",
     "text": [
      "100%|███████████████████████████████████████████████████| 2534/2534 [00:09<00:00, 253.58it/s]\n"
     ]
    },
    {
     "name": "stdout",
     "output_type": "stream",
     "text": [
      "Iteration 0, Current Score: 0,                 Best Feature: trigram-logprobs v-div ada-logprobs v-> davinci-logprobs s-avg, New Score: 1.0\n"
     ]
    },
    {
     "name": "stderr",
     "output_type": "stream",
     "text": [
      "100%|███████████████████████████████████████████████████| 2533/2533 [00:12<00:00, 205.63it/s]\n"
     ]
    },
    {
     "name": "stdout",
     "output_type": "stream",
     "text": [
      "Iteration 1, Current Score: 1.0,                 Best Feature: davinci-logprobs s-max, New Score: 1.0\n",
      "TRAINING WITH summary AUGMENTED DATA.\n",
      "Train size: 100\n",
      "F1-Score: 0.9794933655006032\n",
      "\n",
      "passes...\n"
     ]
    },
    {
     "data": {
      "image/png": "[encoded data removed]",
      "text/plain": [
       "<Figure size 640x480 with 1 Axes>"
      ]
     },
     "metadata": {},
     "output_type": "display_data"
    },
    {
     "name": "stdout",
     "output_type": "stream",
     "text": [
      "**************** SEED 68 ****************\n",
      "***************** AUGMENTATION: baseline *****************\n"
     ]
    },
    {
     "data": {
      "application/vnd.jupyter.widget-view+json": {
       "model_id": "2ccee2fc3f514c6899fd37eaef9f14da",
       "version_major": 2,
       "version_minor": 0
      },
      "text/plain": [
       "  0%|          | 0/5 [00:00<?, ?it/s]"
      ]
     },
     "metadata": {},
     "output_type": "display_data"
    },
    {
     "name": "stdout",
     "output_type": "stream",
     "text": [
      "***************** TRAIN SIZE: 10 *****************\n"
     ]
    },
    {
     "name": "stderr",
     "output_type": "stream",
     "text": [
      "100%|███████████████████████████████████████████████████| 2534/2534 [00:09<00:00, 260.54it/s]\n"
     ]
    },
    {
     "name": "stdout",
     "output_type": "stream",
     "text": [
      "Iteration 0, Current Score: 0,                 Best Feature: davinci-logprobs s-avg, New Score: 1.0\n"
     ]
    },
    {
     "name": "stderr",
     "output_type": "stream",
     "text": [
      "100%|███████████████████████████████████████████████████| 2533/2533 [00:10<00:00, 230.82it/s]"
     ]
    },
    {
     "name": "stdout",
     "output_type": "stream",
     "text": [
      "Iteration 1, Current Score: 1.0,                 Best Feature: davinci-logprobs s-max, New Score: 1.0\n",
      "TRAINING WITHOUT AUGMENTATIONS\n",
      "Train size: 10\n",
      "F1-Score: 0.9480542043085476\n",
      "\n",
      "early stopping.\n",
      "early stopping\n",
      "**************** SEED 69 ****************\n",
      "***************** AUGMENTATION: baseline *****************\n"
     ]
    },
    {
     "name": "stderr",
     "output_type": "stream",
     "text": [
      "\n"
     ]
    },
    {
     "data": {
      "application/vnd.jupyter.widget-view+json": {
       "model_id": "9cb3a0b028f048d0bb5c7fdd2862b880",
       "version_major": 2,
       "version_minor": 0
      },
      "text/plain": [
       "  0%|          | 0/5 [00:00<?, ?it/s]"
      ]
     },
     "metadata": {},
     "output_type": "display_data"
    },
    {
     "name": "stdout",
     "output_type": "stream",
     "text": [
      "***************** TRAIN SIZE: 10 *****************\n"
     ]
    },
    {
     "name": "stderr",
     "output_type": "stream",
     "text": [
      "100%|███████████████████████████████████████████████████| 2534/2534 [00:09<00:00, 266.15it/s]\n"
     ]
    },
    {
     "name": "stdout",
     "output_type": "stream",
     "text": [
      "Iteration 0, Current Score: 0,                 Best Feature: davinci-logprobs s-avg, New Score: 1.0\n"
     ]
    },
    {
     "name": "stderr",
     "output_type": "stream",
     "text": [
      "100%|███████████████████████████████████████████████████| 2533/2533 [00:11<00:00, 229.47it/s]"
     ]
    },
    {
     "name": "stdout",
     "output_type": "stream",
     "text": [
      "Iteration 1, Current Score: 1.0,                 Best Feature: davinci-logprobs s-max, New Score: 1.0\n",
      "TRAINING WITHOUT AUGMENTATIONS\n",
      "Train size: 10\n",
      "F1-Score: 0.9192345701194862\n",
      "\n",
      "early stopping.\n",
      "early stopping\n",
      "**************** SEED 70 ****************\n",
      "***************** AUGMENTATION: baseline *****************\n"
     ]
    },
    {
     "name": "stderr",
     "output_type": "stream",
     "text": [
      "\n"
     ]
    },
    {
     "data": {
      "application/vnd.jupyter.widget-view+json": {
       "model_id": "3e741c7de42c447587af171fb6d17f16",
       "version_major": 2,
       "version_minor": 0
      },
      "text/plain": [
       "  0%|          | 0/5 [00:00<?, ?it/s]"
      ]
     },
     "metadata": {},
     "output_type": "display_data"
    },
    {
     "name": "stdout",
     "output_type": "stream",
     "text": [
      "***************** TRAIN SIZE: 10 *****************\n"
     ]
    },
    {
     "name": "stderr",
     "output_type": "stream",
     "text": [
      "100%|███████████████████████████████████████████████████| 2534/2534 [00:09<00:00, 261.52it/s]\n"
     ]
    },
    {
     "name": "stdout",
     "output_type": "stream",
     "text": [
      "Iteration 0, Current Score: 0,                 Best Feature: davinci-logprobs v-div trigram-logprobs v-add ada-logprobs s-min, New Score: 1.0\n"
     ]
    },
    {
     "name": "stderr",
     "output_type": "stream",
     "text": [
      "100%|███████████████████████████████████████████████████| 2533/2533 [00:11<00:00, 223.58it/s]\n"
     ]
    },
    {
     "name": "stdout",
     "output_type": "stream",
     "text": [
      "Iteration 1, Current Score: 1.0,                 Best Feature: davinci-logprobs s-max, New Score: 1.0\n",
      "TRAINING WITHOUT AUGMENTATIONS\n",
      "Train size: 10\n",
      "F1-Score: 0.6959083469721767\n",
      "\n",
      "passes...\n",
      "***************** TRAIN SIZE: 25 *****************\n"
     ]
    },
    {
     "name": "stderr",
     "output_type": "stream",
     "text": [
      "100%|███████████████████████████████████████████████████| 2534/2534 [00:09<00:00, 263.18it/s]\n"
     ]
    },
    {
     "name": "stdout",
     "output_type": "stream",
     "text": [
      "Iteration 0, Current Score: 0,                 Best Feature: trigram-logprobs v-> davinci-logprobs s-avg, New Score: 1.0\n"
     ]
    },
    {
     "name": "stderr",
     "output_type": "stream",
     "text": [
      "100%|███████████████████████████████████████████████████| 2533/2533 [00:11<00:00, 224.52it/s]"
     ]
    },
    {
     "name": "stdout",
     "output_type": "stream",
     "text": [
      "Iteration 1, Current Score: 1.0,                 Best Feature: davinci-logprobs s-max, New Score: 1.0\n",
      "TRAINING WITHOUT AUGMENTATIONS\n",
      "Train size: 25\n",
      "F1-Score: 0.9873974456567707\n",
      "\n",
      "early stopping.\n",
      "early stopping\n",
      "**************** SEED 71 ****************\n",
      "***************** AUGMENTATION: baseline *****************\n"
     ]
    },
    {
     "name": "stderr",
     "output_type": "stream",
     "text": [
      "\n"
     ]
    },
    {
     "data": {
      "application/vnd.jupyter.widget-view+json": {
       "model_id": "8ef0f3b00d294f21a804117b888f5643",
       "version_major": 2,
       "version_minor": 0
      },
      "text/plain": [
       "  0%|          | 0/5 [00:00<?, ?it/s]"
      ]
     },
     "metadata": {},
     "output_type": "display_data"
    },
    {
     "name": "stdout",
     "output_type": "stream",
     "text": [
      "***************** TRAIN SIZE: 10 *****************\n"
     ]
    },
    {
     "name": "stderr",
     "output_type": "stream",
     "text": [
      "100%|███████████████████████████████████████████████████| 2534/2534 [00:09<00:00, 266.54it/s]\n"
     ]
    },
    {
     "name": "stdout",
     "output_type": "stream",
     "text": [
      "Iteration 0, Current Score: 0,                 Best Feature: trigram-logprobs v-> davinci-logprobs s-avg, New Score: 1.0\n"
     ]
    },
    {
     "name": "stderr",
     "output_type": "stream",
     "text": [
      "100%|███████████████████████████████████████████████████| 2533/2533 [00:10<00:00, 236.68it/s]"
     ]
    },
    {
     "name": "stdout",
     "output_type": "stream",
     "text": [
      "Iteration 1, Current Score: 1.0,                 Best Feature: davinci-logprobs s-max, New Score: 1.0\n",
      "TRAINING WITHOUT AUGMENTATIONS\n",
      "Train size: 10\n",
      "F1-Score: 0.9875240726785565\n",
      "\n",
      "early stopping.\n",
      "early stopping\n",
      "**************** SEED 72 ****************\n",
      "***************** AUGMENTATION: baseline *****************\n"
     ]
    },
    {
     "name": "stderr",
     "output_type": "stream",
     "text": [
      "\n"
     ]
    },
    {
     "data": {
      "application/vnd.jupyter.widget-view+json": {
       "model_id": "0ca8e8e4ca60414692c91f6b928c8ef5",
       "version_major": 2,
       "version_minor": 0
      },
      "text/plain": [
       "  0%|          | 0/5 [00:00<?, ?it/s]"
      ]
     },
     "metadata": {},
     "output_type": "display_data"
    },
    {
     "name": "stdout",
     "output_type": "stream",
     "text": [
      "***************** TRAIN SIZE: 10 *****************\n"
     ]
    },
    {
     "name": "stderr",
     "output_type": "stream",
     "text": [
      "100%|███████████████████████████████████████████████████| 2534/2534 [00:09<00:00, 265.40it/s]\n"
     ]
    },
    {
     "name": "stdout",
     "output_type": "stream",
     "text": [
      "Iteration 0, Current Score: 0,                 Best Feature: ada-logprobs v-mul davinci-logprobs v-div ada-logprobs s-avg, New Score: 1.0\n"
     ]
    },
    {
     "name": "stderr",
     "output_type": "stream",
     "text": [
      "100%|███████████████████████████████████████████████████| 2533/2533 [00:11<00:00, 224.00it/s]\n"
     ]
    },
    {
     "name": "stdout",
     "output_type": "stream",
     "text": [
      "Iteration 1, Current Score: 1.0,                 Best Feature: davinci-logprobs s-max, New Score: 1.0\n",
      "TRAINING WITHOUT AUGMENTATIONS\n",
      "Train size: 10\n",
      "F1-Score: 0.9228160970821808\n",
      "\n",
      "early stopping.\n",
      "early stopping\n",
      "**************** SEED 73 ****************\n",
      "***************** AUGMENTATION: baseline *****************\n"
     ]
    },
    {
     "data": {
      "application/vnd.jupyter.widget-view+json": {
       "model_id": "00de989dd6664f97b7b24c0f7ed92a21",
       "version_major": 2,
       "version_minor": 0
      },
      "text/plain": [
       "  0%|          | 0/5 [00:00<?, ?it/s]"
      ]
     },
     "metadata": {},
     "output_type": "display_data"
    },
    {
     "name": "stdout",
     "output_type": "stream",
     "text": [
      "***************** TRAIN SIZE: 10 *****************\n"
     ]
    },
    {
     "name": "stderr",
     "output_type": "stream",
     "text": [
      "100%|███████████████████████████████████████████████████| 2534/2534 [00:09<00:00, 256.39it/s]\n"
     ]
    },
    {
     "name": "stdout",
     "output_type": "stream",
     "text": [
      "Iteration 0, Current Score: 0,                 Best Feature: davinci-logprobs s-avg, New Score: 1.0\n"
     ]
    },
    {
     "name": "stderr",
     "output_type": "stream",
     "text": [
      "100%|███████████████████████████████████████████████████| 2533/2533 [00:11<00:00, 229.69it/s]"
     ]
    },
    {
     "name": "stdout",
     "output_type": "stream",
     "text": [
      "Iteration 1, Current Score: 1.0,                 Best Feature: davinci-logprobs s-max, New Score: 1.0\n",
      "TRAINING WITHOUT AUGMENTATIONS\n",
      "Train size: 10\n",
      "F1-Score: 0.9799109019080441\n",
      "\n",
      "early stopping.\n",
      "early stopping\n",
      "**************** SEED 74 ****************\n",
      "***************** AUGMENTATION: baseline *****************\n"
     ]
    },
    {
     "name": "stderr",
     "output_type": "stream",
     "text": [
      "\n"
     ]
    },
    {
     "data": {
      "application/vnd.jupyter.widget-view+json": {
       "model_id": "f6533c29e932492fa30a1e6d3bfd17a3",
       "version_major": 2,
       "version_minor": 0
      },
      "text/plain": [
       "  0%|          | 0/5 [00:00<?, ?it/s]"
      ]
     },
     "metadata": {},
     "output_type": "display_data"
    },
    {
     "name": "stdout",
     "output_type": "stream",
     "text": [
      "***************** TRAIN SIZE: 10 *****************\n"
     ]
    },
    {
     "name": "stderr",
     "output_type": "stream",
     "text": [
      "100%|███████████████████████████████████████████████████| 2534/2534 [00:09<00:00, 265.24it/s]\n"
     ]
    },
    {
     "name": "stdout",
     "output_type": "stream",
     "text": [
      "Iteration 0, Current Score: 0,                 Best Feature: davinci-logprobs v-div unigram-logprobs v-add davinci-logprobs s-avg, New Score: 1.0\n"
     ]
    },
    {
     "name": "stderr",
     "output_type": "stream",
     "text": [
      "100%|███████████████████████████████████████████████████| 2533/2533 [00:11<00:00, 225.16it/s]\n"
     ]
    },
    {
     "name": "stdout",
     "output_type": "stream",
     "text": [
      "Iteration 1, Current Score: 1.0,                 Best Feature: davinci-logprobs s-min, New Score: 1.0\n",
      "TRAINING WITHOUT AUGMENTATIONS\n",
      "Train size: 10\n",
      "F1-Score: 0.8716702663786897\n",
      "\n",
      "passes...\n",
      "***************** TRAIN SIZE: 25 *****************\n"
     ]
    },
    {
     "name": "stderr",
     "output_type": "stream",
     "text": [
      "100%|███████████████████████████████████████████████████| 2534/2534 [00:09<00:00, 262.89it/s]\n"
     ]
    },
    {
     "name": "stdout",
     "output_type": "stream",
     "text": [
      "Iteration 0, Current Score: 0,                 Best Feature: trigram-logprobs v-> davinci-logprobs s-avg, New Score: 1.0\n"
     ]
    },
    {
     "name": "stderr",
     "output_type": "stream",
     "text": [
      "100%|███████████████████████████████████████████████████| 2533/2533 [00:11<00:00, 215.08it/s]"
     ]
    },
    {
     "name": "stdout",
     "output_type": "stream",
     "text": [
      "Iteration 1, Current Score: 1.0,                 Best Feature: davinci-logprobs s-min, New Score: 1.0\n",
      "TRAINING WITHOUT AUGMENTATIONS\n",
      "Train size: 25\n",
      "F1-Score: 0.976672384219554\n",
      "\n",
      "early stopping.\n",
      "early stopping\n",
      "**************** SEED 75 ****************\n",
      "***************** AUGMENTATION: baseline *****************\n"
     ]
    },
    {
     "name": "stderr",
     "output_type": "stream",
     "text": [
      "\n"
     ]
    },
    {
     "data": {
      "application/vnd.jupyter.widget-view+json": {
       "model_id": "66facc5e5c604b77b0e200443717c2de",
       "version_major": 2,
       "version_minor": 0
      },
      "text/plain": [
       "  0%|          | 0/5 [00:00<?, ?it/s]"
      ]
     },
     "metadata": {},
     "output_type": "display_data"
    },
    {
     "name": "stdout",
     "output_type": "stream",
     "text": [
      "***************** TRAIN SIZE: 10 *****************\n"
     ]
    },
    {
     "name": "stderr",
     "output_type": "stream",
     "text": [
      "100%|███████████████████████████████████████████████████| 2534/2534 [00:09<00:00, 258.38it/s]\n"
     ]
    },
    {
     "name": "stdout",
     "output_type": "stream",
     "text": [
      "Iteration 0, Current Score: 0,                 Best Feature: ada-logprobs v-sub davinci-logprobs v-div ada-logprobs s-avg-top-25, New Score: 1.0\n"
     ]
    },
    {
     "name": "stderr",
     "output_type": "stream",
     "text": [
      "100%|███████████████████████████████████████████████████| 2533/2533 [00:11<00:00, 225.94it/s]\n"
     ]
    },
    {
     "name": "stdout",
     "output_type": "stream",
     "text": [
      "Iteration 1, Current Score: 1.0,                 Best Feature: davinci-logprobs s-max, New Score: 1.0\n",
      "TRAINING WITHOUT AUGMENTATIONS\n",
      "Train size: 10\n",
      "F1-Score: 0.8860117225089669\n",
      "\n",
      "passes...\n",
      "***************** TRAIN SIZE: 25 *****************\n"
     ]
    },
    {
     "name": "stderr",
     "output_type": "stream",
     "text": [
      "100%|███████████████████████████████████████████████████| 2534/2534 [00:09<00:00, 264.76it/s]\n"
     ]
    },
    {
     "name": "stdout",
     "output_type": "stream",
     "text": [
      "Iteration 0, Current Score: 0,                 Best Feature: trigram-logprobs v-< davinci-logprobs v-div unigram-logprobs s-var, New Score: 1.0\n"
     ]
    },
    {
     "name": "stderr",
     "output_type": "stream",
     "text": [
      "100%|███████████████████████████████████████████████████| 2533/2533 [00:11<00:00, 218.42it/s]"
     ]
    },
    {
     "name": "stdout",
     "output_type": "stream",
     "text": [
      "Iteration 1, Current Score: 1.0,                 Best Feature: davinci-logprobs s-avg-top-25, New Score: 1.0\n",
      "TRAINING WITHOUT AUGMENTATIONS\n",
      "Train size: 25\n",
      "F1-Score: 0.9863865546218488\n",
      "\n",
      "early stopping.\n",
      "early stopping\n",
      "**************** SEED 76 ****************\n",
      "***************** AUGMENTATION: baseline *****************\n"
     ]
    },
    {
     "name": "stderr",
     "output_type": "stream",
     "text": [
      "\n"
     ]
    },
    {
     "data": {
      "application/vnd.jupyter.widget-view+json": {
       "model_id": "ef511d6bb4274503a7af6ab4b46d09d4",
       "version_major": 2,
       "version_minor": 0
      },
      "text/plain": [
       "  0%|          | 0/5 [00:00<?, ?it/s]"
      ]
     },
     "metadata": {},
     "output_type": "display_data"
    },
    {
     "name": "stdout",
     "output_type": "stream",
     "text": [
      "***************** TRAIN SIZE: 10 *****************\n"
     ]
    },
    {
     "name": "stderr",
     "output_type": "stream",
     "text": [
      "100%|███████████████████████████████████████████████████| 2534/2534 [00:09<00:00, 263.63it/s]\n"
     ]
    },
    {
     "name": "stdout",
     "output_type": "stream",
     "text": [
      "Iteration 0, Current Score: 0,                 Best Feature: trigram-logprobs v-sub davinci-logprobs s-avg, New Score: 1.0\n"
     ]
    },
    {
     "name": "stderr",
     "output_type": "stream",
     "text": [
      "100%|███████████████████████████████████████████████████| 2533/2533 [00:10<00:00, 235.39it/s]"
     ]
    },
    {
     "name": "stdout",
     "output_type": "stream",
     "text": [
      "Iteration 1, Current Score: 1.0,                 Best Feature: davinci-logprobs s-max, New Score: 1.0\n",
      "TRAINING WITHOUT AUGMENTATIONS\n",
      "Train size: 10\n",
      "F1-Score: 0.9672664952870609\n",
      "\n",
      "early stopping.\n",
      "early stopping\n",
      "**************** SEED 77 ****************\n",
      "***************** AUGMENTATION: baseline *****************\n"
     ]
    },
    {
     "name": "stderr",
     "output_type": "stream",
     "text": [
      "\n"
     ]
    },
    {
     "data": {
      "application/vnd.jupyter.widget-view+json": {
       "model_id": "376a44aef9db4e4cb7b8696f215486f9",
       "version_major": 2,
       "version_minor": 0
      },
      "text/plain": [
       "  0%|          | 0/5 [00:00<?, ?it/s]"
      ]
     },
     "metadata": {},
     "output_type": "display_data"
    },
    {
     "name": "stdout",
     "output_type": "stream",
     "text": [
      "***************** TRAIN SIZE: 10 *****************\n"
     ]
    },
    {
     "name": "stderr",
     "output_type": "stream",
     "text": [
      "100%|███████████████████████████████████████████████████| 2534/2534 [00:09<00:00, 264.36it/s]\n"
     ]
    },
    {
     "name": "stdout",
     "output_type": "stream",
     "text": [
      "Iteration 0, Current Score: 0,                 Best Feature: davinci-logprobs v-div trigram-logprobs v-div unigram-logprobs s-min, New Score: 1.0\n"
     ]
    },
    {
     "name": "stderr",
     "output_type": "stream",
     "text": [
      "100%|███████████████████████████████████████████████████| 2533/2533 [00:11<00:00, 224.86it/s]\n"
     ]
    },
    {
     "name": "stdout",
     "output_type": "stream",
     "text": [
      "Iteration 1, Current Score: 1.0,                 Best Feature: davinci-logprobs s-min, New Score: 1.0\n",
      "TRAINING WITHOUT AUGMENTATIONS\n",
      "Train size: 10\n",
      "F1-Score: 0.8301996510951735\n",
      "\n",
      "passes...\n",
      "***************** TRAIN SIZE: 25 *****************\n"
     ]
    },
    {
     "name": "stderr",
     "output_type": "stream",
     "text": [
      "100%|███████████████████████████████████████████████████| 2534/2534 [00:09<00:00, 262.97it/s]\n"
     ]
    },
    {
     "name": "stdout",
     "output_type": "stream",
     "text": [
      "Iteration 0, Current Score: 0,                 Best Feature: davinci-logprobs s-avg, New Score: 1.0\n"
     ]
    },
    {
     "name": "stderr",
     "output_type": "stream",
     "text": [
      "100%|███████████████████████████████████████████████████| 2533/2533 [00:11<00:00, 221.64it/s]\n"
     ]
    },
    {
     "name": "stdout",
     "output_type": "stream",
     "text": [
      "Iteration 1, Current Score: 1.0,                 Best Feature: davinci-logprobs s-max, New Score: 1.0\n",
      "TRAINING WITHOUT AUGMENTATIONS\n",
      "Train size: 25\n",
      "F1-Score: 0.9401799894123875\n",
      "\n",
      "passes...\n",
      "***************** TRAIN SIZE: 50 *****************\n"
     ]
    },
    {
     "name": "stderr",
     "output_type": "stream",
     "text": [
      "100%|███████████████████████████████████████████████████| 2534/2534 [00:09<00:00, 261.50it/s]\n"
     ]
    },
    {
     "name": "stdout",
     "output_type": "stream",
     "text": [
      "Iteration 0, Current Score: 0,                 Best Feature: trigram-logprobs v-> davinci-logprobs s-avg, New Score: 1.0\n"
     ]
    },
    {
     "name": "stderr",
     "output_type": "stream",
     "text": [
      "100%|███████████████████████████████████████████████████| 2533/2533 [00:11<00:00, 215.90it/s]\n"
     ]
    },
    {
     "name": "stdout",
     "output_type": "stream",
     "text": [
      "Iteration 1, Current Score: 1.0,                 Best Feature: davinci-logprobs s-max, New Score: 1.0\n",
      "TRAINING WITHOUT AUGMENTATIONS\n",
      "Train size: 50\n",
      "F1-Score: 0.9865988125530111\n",
      "\n",
      "passes...\n",
      "***************** TRAIN SIZE: 75 *****************\n"
     ]
    },
    {
     "name": "stderr",
     "output_type": "stream",
     "text": [
      "100%|███████████████████████████████████████████████████| 2534/2534 [00:09<00:00, 257.84it/s]\n"
     ]
    },
    {
     "name": "stdout",
     "output_type": "stream",
     "text": [
      "Iteration 0, Current Score: 0,                 Best Feature: trigram-logprobs v-> davinci-logprobs s-avg, New Score: 1.0\n"
     ]
    },
    {
     "name": "stderr",
     "output_type": "stream",
     "text": [
      "100%|███████████████████████████████████████████████████| 2533/2533 [00:12<00:00, 208.19it/s]\n"
     ]
    },
    {
     "name": "stdout",
     "output_type": "stream",
     "text": [
      "Iteration 1, Current Score: 1.0,                 Best Feature: davinci-logprobs s-min, New Score: 1.0\n",
      "TRAINING WITHOUT AUGMENTATIONS\n",
      "Train size: 75\n",
      "F1-Score: 0.9867098313170898\n",
      "\n",
      "passes...\n",
      "***************** TRAIN SIZE: 100 *****************\n"
     ]
    },
    {
     "name": "stderr",
     "output_type": "stream",
     "text": [
      "100%|███████████████████████████████████████████████████| 2534/2534 [00:09<00:00, 254.92it/s]\n"
     ]
    },
    {
     "name": "stdout",
     "output_type": "stream",
     "text": [
      "Iteration 0, Current Score: 0,                 Best Feature: trigram-logprobs v-> ada-logprobs v-div trigram-logprobs s-avg, New Score: 1.0\n"
     ]
    },
    {
     "name": "stderr",
     "output_type": "stream",
     "text": [
      "100%|███████████████████████████████████████████████████| 2533/2533 [00:12<00:00, 205.29it/s]"
     ]
    },
    {
     "name": "stdout",
     "output_type": "stream",
     "text": [
      "Iteration 1, Current Score: 1.0,                 Best Feature: davinci-logprobs s-max, New Score: 1.0\n",
      "TRAINING WITHOUT AUGMENTATIONS\n",
      "Train size: 100\n",
      "F1-Score: 0.9820554649265906\n",
      "\n",
      "passes...\n",
      "***************** AUGMENTATION: synonym *****************\n"
     ]
    },
    {
     "name": "stderr",
     "output_type": "stream",
     "text": [
      "\n"
     ]
    },
    {
     "data": {
      "application/vnd.jupyter.widget-view+json": {
       "model_id": "171c470e7a8e42009024cbf0cd34b1bf",
       "version_major": 2,
       "version_minor": 0
      },
      "text/plain": [
       "  0%|          | 0/5 [00:00<?, ?it/s]"
      ]
     },
     "metadata": {},
     "output_type": "display_data"
    },
    {
     "name": "stdout",
     "output_type": "stream",
     "text": [
      "***************** TRAIN SIZE: 10 *****************\n"
     ]
    },
    {
     "name": "stderr",
     "output_type": "stream",
     "text": [
      "100%|███████████████████████████████████████████████████| 2534/2534 [00:09<00:00, 264.12it/s]\n"
     ]
    },
    {
     "name": "stdout",
     "output_type": "stream",
     "text": [
      "Iteration 0, Current Score: 0,                 Best Feature: davinci-logprobs v-div trigram-logprobs v-div unigram-logprobs s-min, New Score: 1.0\n"
     ]
    },
    {
     "name": "stderr",
     "output_type": "stream",
     "text": [
      "100%|███████████████████████████████████████████████████| 2533/2533 [00:11<00:00, 225.78it/s]\n"
     ]
    },
    {
     "name": "stdout",
     "output_type": "stream",
     "text": [
      "Iteration 1, Current Score: 1.0,                 Best Feature: davinci-logprobs s-min, New Score: 1.0\n",
      "TRAINING WITH synonym AUGMENTED DATA.\n",
      "Train size: 10\n",
      "F1-Score: 0.8023036441267004\n",
      "\n",
      "passes...\n",
      "***************** TRAIN SIZE: 25 *****************\n"
     ]
    },
    {
     "name": "stderr",
     "output_type": "stream",
     "text": [
      "100%|███████████████████████████████████████████████████| 2534/2534 [00:09<00:00, 254.26it/s]\n"
     ]
    },
    {
     "name": "stdout",
     "output_type": "stream",
     "text": [
      "Iteration 0, Current Score: 0,                 Best Feature: trigram-logprobs v-> davinci-logprobs v-div unigram-logprobs s-avg, New Score: 1.0\n"
     ]
    },
    {
     "name": "stderr",
     "output_type": "stream",
     "text": [
      "100%|███████████████████████████████████████████████████| 2533/2533 [00:11<00:00, 221.06it/s]\n"
     ]
    },
    {
     "name": "stdout",
     "output_type": "stream",
     "text": [
      "Iteration 1, Current Score: 1.0,                 Best Feature: davinci-logprobs s-avg, New Score: 1.0\n",
      "TRAINING WITH synonym AUGMENTED DATA.\n",
      "Train size: 25\n",
      "F1-Score: 0.9782775364170713\n",
      "\n",
      "passes...\n",
      "***************** TRAIN SIZE: 50 *****************\n"
     ]
    },
    {
     "name": "stderr",
     "output_type": "stream",
     "text": [
      "100%|███████████████████████████████████████████████████| 2534/2534 [00:09<00:00, 261.09it/s]\n"
     ]
    },
    {
     "name": "stdout",
     "output_type": "stream",
     "text": [
      "Iteration 0, Current Score: 0,                 Best Feature: trigram-logprobs v-> davinci-logprobs s-avg, New Score: 1.0\n"
     ]
    },
    {
     "name": "stderr",
     "output_type": "stream",
     "text": [
      "100%|███████████████████████████████████████████████████| 2533/2533 [00:11<00:00, 218.54it/s]\n"
     ]
    },
    {
     "name": "stdout",
     "output_type": "stream",
     "text": [
      "Iteration 1, Current Score: 1.0,                 Best Feature: davinci-logprobs s-max, New Score: 1.0\n",
      "TRAINING WITH synonym AUGMENTED DATA.\n",
      "Train size: 50\n",
      "F1-Score: 0.9837211284411489\n",
      "\n",
      "passes...\n",
      "***************** TRAIN SIZE: 75 *****************\n"
     ]
    },
    {
     "name": "stderr",
     "output_type": "stream",
     "text": [
      "100%|███████████████████████████████████████████████████| 2534/2534 [00:09<00:00, 258.11it/s]\n"
     ]
    },
    {
     "name": "stdout",
     "output_type": "stream",
     "text": [
      "Iteration 0, Current Score: 0,                 Best Feature: trigram-logprobs v-> davinci-logprobs s-avg, New Score: 1.0\n"
     ]
    },
    {
     "name": "stderr",
     "output_type": "stream",
     "text": [
      "100%|███████████████████████████████████████████████████| 2533/2533 [00:12<00:00, 209.96it/s]\n"
     ]
    },
    {
     "name": "stdout",
     "output_type": "stream",
     "text": [
      "Iteration 1, Current Score: 1.0,                 Best Feature: davinci-logprobs s-avg-top-25, New Score: 1.0\n",
      "TRAINING WITH synonym AUGMENTED DATA.\n",
      "Train size: 75\n",
      "F1-Score: 0.9831494311863826\n",
      "\n",
      "passes...\n",
      "***************** TRAIN SIZE: 100 *****************\n"
     ]
    },
    {
     "name": "stderr",
     "output_type": "stream",
     "text": [
      "100%|███████████████████████████████████████████████████| 2534/2534 [00:09<00:00, 256.07it/s]\n"
     ]
    },
    {
     "name": "stdout",
     "output_type": "stream",
     "text": [
      "Iteration 0, Current Score: 0,                 Best Feature: trigram-logprobs v-div ada-logprobs v-> davinci-logprobs s-avg, New Score: 0.99\n"
     ]
    },
    {
     "name": "stderr",
     "output_type": "stream",
     "text": [
      "100%|███████████████████████████████████████████████████| 2533/2533 [00:12<00:00, 204.49it/s]\n"
     ]
    },
    {
     "name": "stdout",
     "output_type": "stream",
     "text": [
      "Iteration 1, Current Score: 0.99,                 Best Feature: davinci-logprobs v-div trigram-logprobs s-avg-top-25, New Score: 1.0\n"
     ]
    },
    {
     "name": "stderr",
     "output_type": "stream",
     "text": [
      "100%|███████████████████████████████████████████████████| 2532/2532 [00:12<00:00, 206.63it/s]"
     ]
    },
    {
     "name": "stdout",
     "output_type": "stream",
     "text": [
      "Iteration 2, Current Score: 1.0,                 Best Feature: davinci-logprobs s-max, New Score: 1.0\n",
      "TRAINING WITH synonym AUGMENTED DATA.\n",
      "Train size: 100\n",
      "F1-Score: 0.980179248534988\n",
      "\n",
      "passes...\n",
      "***************** AUGMENTATION: back *****************\n"
     ]
    },
    {
     "name": "stderr",
     "output_type": "stream",
     "text": [
      "\n"
     ]
    },
    {
     "data": {
      "application/vnd.jupyter.widget-view+json": {
       "model_id": "7cd29b8a2c1842b5b3292c0378d648e4",
       "version_major": 2,
       "version_minor": 0
      },
      "text/plain": [
       "  0%|          | 0/5 [00:00<?, ?it/s]"
      ]
     },
     "metadata": {},
     "output_type": "display_data"
    },
    {
     "name": "stdout",
     "output_type": "stream",
     "text": [
      "***************** TRAIN SIZE: 10 *****************\n"
     ]
    },
    {
     "name": "stderr",
     "output_type": "stream",
     "text": [
      "100%|███████████████████████████████████████████████████| 2534/2534 [00:09<00:00, 271.92it/s]\n"
     ]
    },
    {
     "name": "stdout",
     "output_type": "stream",
     "text": [
      "Iteration 0, Current Score: 0,                 Best Feature: davinci-logprobs v-div trigram-logprobs v-div unigram-logprobs s-min, New Score: 1.0\n"
     ]
    },
    {
     "name": "stderr",
     "output_type": "stream",
     "text": [
      "100%|███████████████████████████████████████████████████| 2533/2533 [00:11<00:00, 224.58it/s]\n"
     ]
    },
    {
     "name": "stdout",
     "output_type": "stream",
     "text": [
      "Iteration 1, Current Score: 1.0,                 Best Feature: davinci-logprobs s-min, New Score: 1.0\n",
      "TRAINING WITH back AUGMENTED DATA.\n",
      "Train size: 10\n",
      "F1-Score: 0.8131457246875923\n",
      "\n",
      "passes...\n",
      "***************** TRAIN SIZE: 25 *****************\n"
     ]
    },
    {
     "name": "stderr",
     "output_type": "stream",
     "text": [
      "100%|███████████████████████████████████████████████████| 2534/2534 [00:09<00:00, 260.69it/s]\n"
     ]
    },
    {
     "name": "stdout",
     "output_type": "stream",
     "text": [
      "Iteration 0, Current Score: 0,                 Best Feature: trigram-logprobs v-> davinci-logprobs v-div unigram-logprobs s-avg, New Score: 1.0\n"
     ]
    },
    {
     "name": "stderr",
     "output_type": "stream",
     "text": [
      "100%|███████████████████████████████████████████████████| 2533/2533 [00:11<00:00, 223.04it/s]\n"
     ]
    },
    {
     "name": "stdout",
     "output_type": "stream",
     "text": [
      "Iteration 1, Current Score: 1.0,                 Best Feature: davinci-logprobs s-avg, New Score: 1.0\n",
      "TRAINING WITH back AUGMENTED DATA.\n",
      "Train size: 25\n",
      "F1-Score: 0.9617845408957288\n",
      "\n",
      "passes...\n",
      "***************** TRAIN SIZE: 50 *****************\n"
     ]
    },
    {
     "name": "stderr",
     "output_type": "stream",
     "text": [
      "100%|███████████████████████████████████████████████████| 2534/2534 [00:09<00:00, 258.74it/s]\n"
     ]
    },
    {
     "name": "stdout",
     "output_type": "stream",
     "text": [
      "Iteration 0, Current Score: 0,                 Best Feature: trigram-logprobs v-> davinci-logprobs s-avg, New Score: 1.0\n"
     ]
    },
    {
     "name": "stderr",
     "output_type": "stream",
     "text": [
      "100%|███████████████████████████████████████████████████| 2533/2533 [00:11<00:00, 220.47it/s]\n"
     ]
    },
    {
     "name": "stdout",
     "output_type": "stream",
     "text": [
      "Iteration 1, Current Score: 1.0,                 Best Feature: davinci-logprobs s-max, New Score: 1.0\n",
      "TRAINING WITH back AUGMENTED DATA.\n",
      "Train size: 50\n",
      "F1-Score: 0.9836261299675934\n",
      "\n",
      "passes...\n",
      "***************** TRAIN SIZE: 75 *****************\n"
     ]
    },
    {
     "name": "stderr",
     "output_type": "stream",
     "text": [
      "100%|███████████████████████████████████████████████████| 2534/2534 [00:09<00:00, 262.96it/s]\n"
     ]
    },
    {
     "name": "stdout",
     "output_type": "stream",
     "text": [
      "Iteration 0, Current Score: 0,                 Best Feature: trigram-logprobs v-> davinci-logprobs s-avg, New Score: 1.0\n"
     ]
    },
    {
     "name": "stderr",
     "output_type": "stream",
     "text": [
      "100%|███████████████████████████████████████████████████| 2533/2533 [00:12<00:00, 208.73it/s]\n"
     ]
    },
    {
     "name": "stdout",
     "output_type": "stream",
     "text": [
      "Iteration 1, Current Score: 1.0,                 Best Feature: davinci-logprobs s-avg-top-25, New Score: 1.0\n",
      "TRAINING WITH back AUGMENTED DATA.\n",
      "Train size: 75\n",
      "F1-Score: 0.9866234983385874\n",
      "\n",
      "passes...\n",
      "***************** TRAIN SIZE: 100 *****************\n"
     ]
    },
    {
     "name": "stderr",
     "output_type": "stream",
     "text": [
      "100%|███████████████████████████████████████████████████| 2534/2534 [00:09<00:00, 258.99it/s]\n"
     ]
    },
    {
     "name": "stdout",
     "output_type": "stream",
     "text": [
      "Iteration 0, Current Score: 0,                 Best Feature: trigram-logprobs v-div ada-logprobs v-> davinci-logprobs s-avg, New Score: 0.99\n"
     ]
    },
    {
     "name": "stderr",
     "output_type": "stream",
     "text": [
      "100%|███████████████████████████████████████████████████| 2533/2533 [00:12<00:00, 203.53it/s]\n"
     ]
    },
    {
     "name": "stdout",
     "output_type": "stream",
     "text": [
      "Iteration 1, Current Score: 0.99,                 Best Feature: davinci-logprobs v-div trigram-logprobs s-avg-top-25, New Score: 1.0\n"
     ]
    },
    {
     "name": "stderr",
     "output_type": "stream",
     "text": [
      "100%|███████████████████████████████████████████████████| 2532/2532 [00:12<00:00, 210.25it/s]"
     ]
    },
    {
     "name": "stdout",
     "output_type": "stream",
     "text": [
      "Iteration 2, Current Score: 1.0,                 Best Feature: davinci-logprobs s-max, New Score: 1.0\n",
      "TRAINING WITH back AUGMENTED DATA.\n",
      "Train size: 100\n",
      "F1-Score: 0.971224897852734\n",
      "\n",
      "passes...\n",
      "***************** AUGMENTATION: emotion *****************\n"
     ]
    },
    {
     "name": "stderr",
     "output_type": "stream",
     "text": [
      "\n"
     ]
    },
    {
     "data": {
      "application/vnd.jupyter.widget-view+json": {
       "model_id": "95b320b7e4a74425841ea545a1c9bfd5",
       "version_major": 2,
       "version_minor": 0
      },
      "text/plain": [
       "  0%|          | 0/5 [00:00<?, ?it/s]"
      ]
     },
     "metadata": {},
     "output_type": "display_data"
    },
    {
     "name": "stdout",
     "output_type": "stream",
     "text": [
      "***************** TRAIN SIZE: 10 *****************\n"
     ]
    },
    {
     "name": "stderr",
     "output_type": "stream",
     "text": [
      "100%|███████████████████████████████████████████████████| 2534/2534 [00:09<00:00, 269.27it/s]\n"
     ]
    },
    {
     "name": "stdout",
     "output_type": "stream",
     "text": [
      "Iteration 0, Current Score: 0,                 Best Feature: davinci-logprobs v-div trigram-logprobs v-div unigram-logprobs s-min, New Score: 1.0\n"
     ]
    },
    {
     "name": "stderr",
     "output_type": "stream",
     "text": [
      "100%|███████████████████████████████████████████████████| 2533/2533 [00:11<00:00, 226.11it/s]\n"
     ]
    },
    {
     "name": "stdout",
     "output_type": "stream",
     "text": [
      "Iteration 1, Current Score: 1.0,                 Best Feature: davinci-logprobs s-min, New Score: 1.0\n",
      "TRAINING WITH emotion AUGMENTED DATA.\n",
      "Train size: 10\n",
      "F1-Score: 0.8067789930042368\n",
      "\n",
      "passes...\n",
      "***************** TRAIN SIZE: 25 *****************\n"
     ]
    },
    {
     "name": "stderr",
     "output_type": "stream",
     "text": [
      "100%|███████████████████████████████████████████████████| 2534/2534 [00:09<00:00, 262.22it/s]\n"
     ]
    },
    {
     "name": "stdout",
     "output_type": "stream",
     "text": [
      "Iteration 0, Current Score: 0,                 Best Feature: trigram-logprobs v-> davinci-logprobs v-div unigram-logprobs s-avg, New Score: 1.0\n"
     ]
    },
    {
     "name": "stderr",
     "output_type": "stream",
     "text": [
      "100%|███████████████████████████████████████████████████| 2533/2533 [00:11<00:00, 224.00it/s]\n"
     ]
    },
    {
     "name": "stdout",
     "output_type": "stream",
     "text": [
      "Iteration 1, Current Score: 1.0,                 Best Feature: davinci-logprobs s-avg, New Score: 1.0\n",
      "TRAINING WITH emotion AUGMENTED DATA.\n",
      "Train size: 25\n",
      "F1-Score: 0.9689909199931471\n",
      "\n",
      "passes...\n",
      "***************** TRAIN SIZE: 50 *****************\n"
     ]
    },
    {
     "name": "stderr",
     "output_type": "stream",
     "text": [
      "100%|███████████████████████████████████████████████████| 2534/2534 [00:09<00:00, 259.62it/s]\n"
     ]
    },
    {
     "name": "stdout",
     "output_type": "stream",
     "text": [
      "Iteration 0, Current Score: 0,                 Best Feature: trigram-logprobs v-> davinci-logprobs s-avg, New Score: 1.0\n"
     ]
    },
    {
     "name": "stderr",
     "output_type": "stream",
     "text": [
      "100%|███████████████████████████████████████████████████| 2533/2533 [00:12<00:00, 209.10it/s]\n"
     ]
    },
    {
     "name": "stdout",
     "output_type": "stream",
     "text": [
      "Iteration 1, Current Score: 1.0,                 Best Feature: davinci-logprobs s-max, New Score: 1.0\n",
      "TRAINING WITH emotion AUGMENTED DATA.\n",
      "Train size: 50\n",
      "F1-Score: 0.9872643912379012\n",
      "\n",
      "passes...\n",
      "***************** TRAIN SIZE: 75 *****************\n"
     ]
    },
    {
     "name": "stderr",
     "output_type": "stream",
     "text": [
      "100%|███████████████████████████████████████████████████| 2534/2534 [00:09<00:00, 258.20it/s]\n"
     ]
    },
    {
     "name": "stdout",
     "output_type": "stream",
     "text": [
      "Iteration 0, Current Score: 0,                 Best Feature: trigram-logprobs v-> davinci-logprobs s-avg, New Score: 1.0\n"
     ]
    },
    {
     "name": "stderr",
     "output_type": "stream",
     "text": [
      "100%|███████████████████████████████████████████████████| 2533/2533 [00:11<00:00, 211.49it/s]\n"
     ]
    },
    {
     "name": "stdout",
     "output_type": "stream",
     "text": [
      "Iteration 1, Current Score: 1.0,                 Best Feature: davinci-logprobs s-avg-top-25, New Score: 1.0\n",
      "TRAINING WITH emotion AUGMENTED DATA.\n",
      "Train size: 75\n",
      "F1-Score: 0.9814005314133882\n",
      "\n",
      "passes...\n",
      "***************** TRAIN SIZE: 100 *****************\n"
     ]
    },
    {
     "name": "stderr",
     "output_type": "stream",
     "text": [
      "100%|███████████████████████████████████████████████████| 2534/2534 [00:09<00:00, 259.98it/s]\n"
     ]
    },
    {
     "name": "stdout",
     "output_type": "stream",
     "text": [
      "Iteration 0, Current Score: 0,                 Best Feature: trigram-logprobs v-div ada-logprobs v-> davinci-logprobs s-avg, New Score: 0.99\n"
     ]
    },
    {
     "name": "stderr",
     "output_type": "stream",
     "text": [
      "100%|███████████████████████████████████████████████████| 2533/2533 [00:12<00:00, 205.21it/s]\n"
     ]
    },
    {
     "name": "stdout",
     "output_type": "stream",
     "text": [
      "Iteration 1, Current Score: 0.99,                 Best Feature: davinci-logprobs v-div trigram-logprobs s-avg-top-25, New Score: 1.0\n"
     ]
    },
    {
     "name": "stderr",
     "output_type": "stream",
     "text": [
      "100%|███████████████████████████████████████████████████| 2532/2532 [00:12<00:00, 210.03it/s]"
     ]
    },
    {
     "name": "stdout",
     "output_type": "stream",
     "text": [
      "Iteration 2, Current Score: 1.0,                 Best Feature: davinci-logprobs s-max, New Score: 1.0\n",
      "TRAINING WITH emotion AUGMENTED DATA.\n",
      "Train size: 100\n",
      "F1-Score: 0.9758587868824089\n",
      "\n",
      "passes...\n",
      "***************** AUGMENTATION: style *****************\n"
     ]
    },
    {
     "name": "stderr",
     "output_type": "stream",
     "text": [
      "\n"
     ]
    },
    {
     "data": {
      "application/vnd.jupyter.widget-view+json": {
       "model_id": "2ffd824714fa46d7b6398dcc674707be",
       "version_major": 2,
       "version_minor": 0
      },
      "text/plain": [
       "  0%|          | 0/5 [00:00<?, ?it/s]"
      ]
     },
     "metadata": {},
     "output_type": "display_data"
    },
    {
     "name": "stdout",
     "output_type": "stream",
     "text": [
      "***************** TRAIN SIZE: 10 *****************\n"
     ]
    },
    {
     "name": "stderr",
     "output_type": "stream",
     "text": [
      "100%|███████████████████████████████████████████████████| 2534/2534 [00:09<00:00, 267.33it/s]\n"
     ]
    },
    {
     "name": "stdout",
     "output_type": "stream",
     "text": [
      "Iteration 0, Current Score: 0,                 Best Feature: davinci-logprobs v-div trigram-logprobs v-div unigram-logprobs s-min, New Score: 1.0\n"
     ]
    },
    {
     "name": "stderr",
     "output_type": "stream",
     "text": [
      "100%|███████████████████████████████████████████████████| 2533/2533 [00:11<00:00, 228.98it/s]\n"
     ]
    },
    {
     "name": "stdout",
     "output_type": "stream",
     "text": [
      "Iteration 1, Current Score: 1.0,                 Best Feature: davinci-logprobs s-min, New Score: 1.0\n",
      "TRAINING WITH style AUGMENTED DATA.\n",
      "Train size: 10\n",
      "F1-Score: 0.7856639484546462\n",
      "\n",
      "passes...\n",
      "***************** TRAIN SIZE: 25 *****************\n"
     ]
    },
    {
     "name": "stderr",
     "output_type": "stream",
     "text": [
      "100%|███████████████████████████████████████████████████| 2534/2534 [00:09<00:00, 262.21it/s]\n"
     ]
    },
    {
     "name": "stdout",
     "output_type": "stream",
     "text": [
      "Iteration 0, Current Score: 0,                 Best Feature: trigram-logprobs v-> davinci-logprobs v-div unigram-logprobs s-avg, New Score: 1.0\n"
     ]
    },
    {
     "name": "stderr",
     "output_type": "stream",
     "text": [
      "100%|███████████████████████████████████████████████████| 2533/2533 [00:11<00:00, 221.06it/s]\n"
     ]
    },
    {
     "name": "stdout",
     "output_type": "stream",
     "text": [
      "Iteration 1, Current Score: 1.0,                 Best Feature: davinci-logprobs s-avg, New Score: 1.0\n",
      "TRAINING WITH style AUGMENTED DATA.\n",
      "Train size: 25\n",
      "F1-Score: 0.9639113249699262\n",
      "\n",
      "passes...\n",
      "***************** TRAIN SIZE: 50 *****************\n"
     ]
    },
    {
     "name": "stderr",
     "output_type": "stream",
     "text": [
      "100%|███████████████████████████████████████████████████| 2534/2534 [00:09<00:00, 261.24it/s]\n"
     ]
    },
    {
     "name": "stdout",
     "output_type": "stream",
     "text": [
      "Iteration 0, Current Score: 0,                 Best Feature: trigram-logprobs v-> davinci-logprobs s-avg, New Score: 1.0\n"
     ]
    },
    {
     "name": "stderr",
     "output_type": "stream",
     "text": [
      "100%|███████████████████████████████████████████████████| 2533/2533 [00:11<00:00, 217.39it/s]\n"
     ]
    },
    {
     "name": "stdout",
     "output_type": "stream",
     "text": [
      "Iteration 1, Current Score: 1.0,                 Best Feature: davinci-logprobs s-max, New Score: 1.0\n",
      "TRAINING WITH style AUGMENTED DATA.\n",
      "Train size: 50\n",
      "F1-Score: 0.9860473030457717\n",
      "\n",
      "passes...\n",
      "***************** TRAIN SIZE: 75 *****************\n"
     ]
    },
    {
     "name": "stderr",
     "output_type": "stream",
     "text": [
      "100%|███████████████████████████████████████████████████| 2534/2534 [00:09<00:00, 257.93it/s]\n"
     ]
    },
    {
     "name": "stdout",
     "output_type": "stream",
     "text": [
      "Iteration 0, Current Score: 0,                 Best Feature: trigram-logprobs v-> davinci-logprobs s-avg, New Score: 1.0\n"
     ]
    },
    {
     "name": "stderr",
     "output_type": "stream",
     "text": [
      "100%|███████████████████████████████████████████████████| 2533/2533 [00:11<00:00, 211.24it/s]\n"
     ]
    },
    {
     "name": "stdout",
     "output_type": "stream",
     "text": [
      "Iteration 1, Current Score: 1.0,                 Best Feature: davinci-logprobs s-avg-top-25, New Score: 1.0\n",
      "TRAINING WITH style AUGMENTED DATA.\n",
      "Train size: 75\n",
      "F1-Score: 0.9800892550635084\n",
      "\n",
      "passes...\n",
      "***************** TRAIN SIZE: 100 *****************\n"
     ]
    },
    {
     "name": "stderr",
     "output_type": "stream",
     "text": [
      "100%|███████████████████████████████████████████████████| 2534/2534 [00:09<00:00, 254.83it/s]\n"
     ]
    },
    {
     "name": "stdout",
     "output_type": "stream",
     "text": [
      "Iteration 0, Current Score: 0,                 Best Feature: trigram-logprobs v-div ada-logprobs v-> davinci-logprobs s-avg, New Score: 0.99\n"
     ]
    },
    {
     "name": "stderr",
     "output_type": "stream",
     "text": [
      "100%|███████████████████████████████████████████████████| 2533/2533 [00:12<00:00, 207.86it/s]\n"
     ]
    },
    {
     "name": "stdout",
     "output_type": "stream",
     "text": [
      "Iteration 1, Current Score: 0.99,                 Best Feature: davinci-logprobs v-div trigram-logprobs s-avg-top-25, New Score: 1.0\n"
     ]
    },
    {
     "name": "stderr",
     "output_type": "stream",
     "text": [
      "100%|███████████████████████████████████████████████████| 2532/2532 [00:12<00:00, 208.62it/s]"
     ]
    },
    {
     "name": "stdout",
     "output_type": "stream",
     "text": [
      "Iteration 2, Current Score: 1.0,                 Best Feature: davinci-logprobs s-max, New Score: 1.0\n",
      "TRAINING WITH style AUGMENTED DATA.\n",
      "Train size: 100\n",
      "F1-Score: 0.9679163034001743\n",
      "\n",
      "passes...\n",
      "***************** AUGMENTATION: summary *****************\n"
     ]
    },
    {
     "name": "stderr",
     "output_type": "stream",
     "text": [
      "\n"
     ]
    },
    {
     "data": {
      "application/vnd.jupyter.widget-view+json": {
       "model_id": "a930644716874857a6df035756f36bf0",
       "version_major": 2,
       "version_minor": 0
      },
      "text/plain": [
       "  0%|          | 0/5 [00:00<?, ?it/s]"
      ]
     },
     "metadata": {},
     "output_type": "display_data"
    },
    {
     "name": "stdout",
     "output_type": "stream",
     "text": [
      "***************** TRAIN SIZE: 10 *****************\n"
     ]
    },
    {
     "name": "stderr",
     "output_type": "stream",
     "text": [
      "100%|███████████████████████████████████████████████████| 2534/2534 [00:09<00:00, 269.27it/s]\n"
     ]
    },
    {
     "name": "stdout",
     "output_type": "stream",
     "text": [
      "Iteration 0, Current Score: 0,                 Best Feature: davinci-logprobs v-div trigram-logprobs v-div unigram-logprobs s-min, New Score: 1.0\n"
     ]
    },
    {
     "name": "stderr",
     "output_type": "stream",
     "text": [
      "100%|███████████████████████████████████████████████████| 2533/2533 [00:11<00:00, 228.60it/s]\n"
     ]
    },
    {
     "name": "stdout",
     "output_type": "stream",
     "text": [
      "Iteration 1, Current Score: 1.0,                 Best Feature: davinci-logprobs s-min, New Score: 1.0\n",
      "TRAINING WITH summary AUGMENTED DATA.\n",
      "Train size: 10\n",
      "F1-Score: 0.8182262638114794\n",
      "\n",
      "passes...\n",
      "***************** TRAIN SIZE: 25 *****************\n"
     ]
    },
    {
     "name": "stderr",
     "output_type": "stream",
     "text": [
      "100%|███████████████████████████████████████████████████| 2534/2534 [00:09<00:00, 257.51it/s]\n"
     ]
    },
    {
     "name": "stdout",
     "output_type": "stream",
     "text": [
      "Iteration 0, Current Score: 0,                 Best Feature: trigram-logprobs v-> davinci-logprobs v-div unigram-logprobs s-avg, New Score: 1.0\n"
     ]
    },
    {
     "name": "stderr",
     "output_type": "stream",
     "text": [
      "100%|███████████████████████████████████████████████████| 2533/2533 [00:11<00:00, 223.72it/s]\n"
     ]
    },
    {
     "name": "stdout",
     "output_type": "stream",
     "text": [
      "Iteration 1, Current Score: 1.0,                 Best Feature: davinci-logprobs s-avg, New Score: 1.0\n",
      "TRAINING WITH summary AUGMENTED DATA.\n",
      "Train size: 25\n",
      "F1-Score: 0.9488566940129167\n",
      "\n",
      "passes...\n",
      "***************** TRAIN SIZE: 50 *****************\n"
     ]
    },
    {
     "name": "stderr",
     "output_type": "stream",
     "text": [
      "100%|███████████████████████████████████████████████████| 2534/2534 [00:09<00:00, 264.00it/s]\n"
     ]
    },
    {
     "name": "stdout",
     "output_type": "stream",
     "text": [
      "Iteration 0, Current Score: 0,                 Best Feature: trigram-logprobs v-> davinci-logprobs s-avg, New Score: 1.0\n"
     ]
    },
    {
     "name": "stderr",
     "output_type": "stream",
     "text": [
      "100%|███████████████████████████████████████████████████| 2533/2533 [00:11<00:00, 216.63it/s]\n"
     ]
    },
    {
     "name": "stdout",
     "output_type": "stream",
     "text": [
      "Iteration 1, Current Score: 1.0,                 Best Feature: davinci-logprobs s-max, New Score: 1.0\n",
      "TRAINING WITH summary AUGMENTED DATA.\n",
      "Train size: 50\n",
      "F1-Score: 0.9809004092769441\n",
      "\n",
      "passes...\n",
      "***************** TRAIN SIZE: 75 *****************\n"
     ]
    },
    {
     "name": "stderr",
     "output_type": "stream",
     "text": [
      "100%|███████████████████████████████████████████████████| 2534/2534 [00:09<00:00, 260.59it/s]\n"
     ]
    },
    {
     "name": "stdout",
     "output_type": "stream",
     "text": [
      "Iteration 0, Current Score: 0,                 Best Feature: trigram-logprobs v-> davinci-logprobs s-avg, New Score: 1.0\n"
     ]
    },
    {
     "name": "stderr",
     "output_type": "stream",
     "text": [
      "100%|███████████████████████████████████████████████████| 2533/2533 [00:12<00:00, 209.93it/s]\n"
     ]
    },
    {
     "name": "stdout",
     "output_type": "stream",
     "text": [
      "Iteration 1, Current Score: 1.0,                 Best Feature: davinci-logprobs s-avg-top-25, New Score: 1.0\n",
      "TRAINING WITH summary AUGMENTED DATA.\n",
      "Train size: 75\n",
      "F1-Score: 0.983074029748675\n",
      "\n",
      "passes...\n",
      "***************** TRAIN SIZE: 100 *****************\n"
     ]
    },
    {
     "name": "stderr",
     "output_type": "stream",
     "text": [
      "100%|███████████████████████████████████████████████████| 2534/2534 [00:09<00:00, 261.18it/s]\n"
     ]
    },
    {
     "name": "stdout",
     "output_type": "stream",
     "text": [
      "Iteration 0, Current Score: 0,                 Best Feature: trigram-logprobs v-div ada-logprobs v-> davinci-logprobs s-avg, New Score: 0.99\n"
     ]
    },
    {
     "name": "stderr",
     "output_type": "stream",
     "text": [
      "100%|███████████████████████████████████████████████████| 2533/2533 [00:12<00:00, 208.36it/s]\n"
     ]
    },
    {
     "name": "stdout",
     "output_type": "stream",
     "text": [
      "Iteration 1, Current Score: 0.99,                 Best Feature: davinci-logprobs v-div trigram-logprobs s-avg-top-25, New Score: 1.0\n"
     ]
    },
    {
     "name": "stderr",
     "output_type": "stream",
     "text": [
      "100%|███████████████████████████████████████████████████| 2532/2532 [00:12<00:00, 207.41it/s]\n"
     ]
    },
    {
     "name": "stdout",
     "output_type": "stream",
     "text": [
      "Iteration 2, Current Score: 1.0,                 Best Feature: davinci-logprobs s-max, New Score: 1.0\n",
      "TRAINING WITH summary AUGMENTED DATA.\n",
      "Train size: 100\n",
      "F1-Score: 0.9621119101911946\n",
      "\n",
      "passes...\n"
     ]
    },
    {
     "data": {
      "image/png": "[encoded data removed]",
      "text/plain": [
       "<Figure size 640x480 with 1 Axes>"
      ]
     },
     "metadata": {},
     "output_type": "display_data"
    },
    {
     "name": "stdout",
     "output_type": "stream",
     "text": [
      "**************** SEED 78 ****************\n",
      "***************** AUGMENTATION: baseline *****************\n"
     ]
    },
    {
     "data": {
      "application/vnd.jupyter.widget-view+json": {
       "model_id": "bfda94c4400c45e1aabd38ab602bc6dc",
       "version_major": 2,
       "version_minor": 0
      },
      "text/plain": [
       "  0%|          | 0/5 [00:00<?, ?it/s]"
      ]
     },
     "metadata": {},
     "output_type": "display_data"
    },
    {
     "name": "stdout",
     "output_type": "stream",
     "text": [
      "***************** TRAIN SIZE: 10 *****************\n"
     ]
    },
    {
     "name": "stderr",
     "output_type": "stream",
     "text": [
      "100%|███████████████████████████████████████████████████| 2534/2534 [00:09<00:00, 267.96it/s]\n"
     ]
    },
    {
     "name": "stdout",
     "output_type": "stream",
     "text": [
      "Iteration 0, Current Score: 0,                 Best Feature: davinci-logprobs v-div trigram-logprobs v-> ada-logprobs s-min, New Score: 1.0\n"
     ]
    },
    {
     "name": "stderr",
     "output_type": "stream",
     "text": [
      "100%|███████████████████████████████████████████████████| 2533/2533 [00:11<00:00, 229.36it/s]\n"
     ]
    },
    {
     "name": "stdout",
     "output_type": "stream",
     "text": [
      "Iteration 1, Current Score: 1.0,                 Best Feature: davinci-logprobs s-max, New Score: 1.0\n",
      "TRAINING WITHOUT AUGMENTATIONS\n",
      "Train size: 10\n",
      "F1-Score: 0.7894736842105263\n",
      "\n",
      "passes...\n",
      "***************** TRAIN SIZE: 25 *****************\n"
     ]
    },
    {
     "name": "stderr",
     "output_type": "stream",
     "text": [
      "100%|███████████████████████████████████████████████████| 2534/2534 [00:09<00:00, 263.85it/s]\n"
     ]
    },
    {
     "name": "stdout",
     "output_type": "stream",
     "text": [
      "Iteration 0, Current Score: 0,                 Best Feature: unigram-logprobs v-> davinci-logprobs s-avg-top-25, New Score: 1.0\n"
     ]
    },
    {
     "name": "stderr",
     "output_type": "stream",
     "text": [
      "100%|███████████████████████████████████████████████████| 2533/2533 [00:11<00:00, 219.02it/s]\n"
     ]
    },
    {
     "name": "stdout",
     "output_type": "stream",
     "text": [
      "Iteration 1, Current Score: 1.0,                 Best Feature: davinci-logprobs s-max, New Score: 1.0\n",
      "TRAINING WITHOUT AUGMENTATIONS\n",
      "Train size: 25\n",
      "F1-Score: 0.9415988092111024\n",
      "\n",
      "passes...\n",
      "***************** TRAIN SIZE: 50 *****************\n"
     ]
    },
    {
     "name": "stderr",
     "output_type": "stream",
     "text": [
      "100%|███████████████████████████████████████████████████| 2534/2534 [00:09<00:00, 259.97it/s]\n"
     ]
    },
    {
     "name": "stdout",
     "output_type": "stream",
     "text": [
      "Iteration 0, Current Score: 0,                 Best Feature: trigram-logprobs v-> ada-logprobs s-avg, New Score: 1.0\n"
     ]
    },
    {
     "name": "stderr",
     "output_type": "stream",
     "text": [
      "100%|███████████████████████████████████████████████████| 2533/2533 [00:11<00:00, 219.21it/s]\n"
     ]
    },
    {
     "name": "stdout",
     "output_type": "stream",
     "text": [
      "Iteration 1, Current Score: 1.0,                 Best Feature: davinci-logprobs s-max, New Score: 1.0\n",
      "TRAINING WITHOUT AUGMENTATIONS\n",
      "Train size: 50\n",
      "F1-Score: 0.9766363167840577\n",
      "\n",
      "passes...\n",
      "***************** TRAIN SIZE: 75 *****************\n"
     ]
    },
    {
     "name": "stderr",
     "output_type": "stream",
     "text": [
      "100%|███████████████████████████████████████████████████| 2534/2534 [00:09<00:00, 257.92it/s]\n"
     ]
    },
    {
     "name": "stdout",
     "output_type": "stream",
     "text": [
      "Iteration 0, Current Score: 0,                 Best Feature: trigram-logprobs v-div ada-logprobs v-> davinci-logprobs s-avg, New Score: 1.0\n"
     ]
    },
    {
     "name": "stderr",
     "output_type": "stream",
     "text": [
      "100%|███████████████████████████████████████████████████| 2533/2533 [00:11<00:00, 212.51it/s]\n"
     ]
    },
    {
     "name": "stdout",
     "output_type": "stream",
     "text": [
      "Iteration 1, Current Score: 1.0,                 Best Feature: davinci-logprobs s-max, New Score: 1.0\n",
      "TRAINING WITHOUT AUGMENTATIONS\n",
      "Train size: 75\n",
      "F1-Score: 0.9851129363449692\n",
      "\n",
      "passes...\n",
      "***************** TRAIN SIZE: 100 *****************\n"
     ]
    },
    {
     "name": "stderr",
     "output_type": "stream",
     "text": [
      "100%|███████████████████████████████████████████████████| 2534/2534 [00:09<00:00, 258.48it/s]\n"
     ]
    },
    {
     "name": "stdout",
     "output_type": "stream",
     "text": [
      "Iteration 0, Current Score: 0,                 Best Feature: trigram-logprobs v-sub ada-logprobs v-> davinci-logprobs s-avg, New Score: 1.0\n"
     ]
    },
    {
     "name": "stderr",
     "output_type": "stream",
     "text": [
      "100%|███████████████████████████████████████████████████| 2533/2533 [00:12<00:00, 210.35it/s]\n"
     ]
    },
    {
     "name": "stdout",
     "output_type": "stream",
     "text": [
      "Iteration 1, Current Score: 1.0,                 Best Feature: davinci-logprobs s-max, New Score: 1.0\n",
      "TRAINING WITHOUT AUGMENTATIONS\n",
      "Train size: 100\n",
      "F1-Score: 0.9817558886509636\n",
      "\n",
      "passes...\n",
      "***************** AUGMENTATION: synonym *****************\n"
     ]
    },
    {
     "data": {
      "application/vnd.jupyter.widget-view+json": {
       "model_id": "fbd78a7c973e4287913bfdb0c679b1d8",
       "version_major": 2,
       "version_minor": 0
      },
      "text/plain": [
       "  0%|          | 0/5 [00:00<?, ?it/s]"
      ]
     },
     "metadata": {},
     "output_type": "display_data"
    },
    {
     "name": "stdout",
     "output_type": "stream",
     "text": [
      "***************** TRAIN SIZE: 10 *****************\n"
     ]
    },
    {
     "name": "stderr",
     "output_type": "stream",
     "text": [
      "100%|███████████████████████████████████████████████████| 2534/2534 [00:09<00:00, 267.36it/s]\n"
     ]
    },
    {
     "name": "stdout",
     "output_type": "stream",
     "text": [
      "Iteration 0, Current Score: 0,                 Best Feature: davinci-logprobs v-div trigram-logprobs v-> ada-logprobs s-min, New Score: 1.0\n"
     ]
    },
    {
     "name": "stderr",
     "output_type": "stream",
     "text": [
      "100%|███████████████████████████████████████████████████| 2533/2533 [00:10<00:00, 231.11it/s]\n"
     ]
    },
    {
     "name": "stdout",
     "output_type": "stream",
     "text": [
      "Iteration 1, Current Score: 1.0,                 Best Feature: davinci-logprobs s-max, New Score: 1.0\n",
      "TRAINING WITH synonym AUGMENTED DATA.\n",
      "Train size: 10\n",
      "F1-Score: 0.801152202192901\n",
      "\n",
      "passes...\n",
      "***************** TRAIN SIZE: 25 *****************\n"
     ]
    },
    {
     "name": "stderr",
     "output_type": "stream",
     "text": [
      "100%|███████████████████████████████████████████████████| 2534/2534 [00:09<00:00, 267.99it/s]\n"
     ]
    },
    {
     "name": "stdout",
     "output_type": "stream",
     "text": [
      "Iteration 0, Current Score: 0,                 Best Feature: unigram-logprobs v-sub davinci-logprobs s-avg-top-25, New Score: 1.0\n"
     ]
    },
    {
     "name": "stderr",
     "output_type": "stream",
     "text": [
      "100%|███████████████████████████████████████████████████| 2533/2533 [00:11<00:00, 226.79it/s]\n"
     ]
    },
    {
     "name": "stdout",
     "output_type": "stream",
     "text": [
      "Iteration 1, Current Score: 1.0,                 Best Feature: davinci-logprobs s-max, New Score: 1.0\n",
      "TRAINING WITH synonym AUGMENTED DATA.\n",
      "Train size: 25\n",
      "F1-Score: 0.7285982087065195\n",
      "\n",
      "passes...\n",
      "***************** TRAIN SIZE: 50 *****************\n"
     ]
    },
    {
     "name": "stderr",
     "output_type": "stream",
     "text": [
      "100%|███████████████████████████████████████████████████| 2534/2534 [00:09<00:00, 260.45it/s]\n"
     ]
    },
    {
     "name": "stdout",
     "output_type": "stream",
     "text": [
      "Iteration 0, Current Score: 0,                 Best Feature: trigram-logprobs v-> davinci-logprobs s-avg, New Score: 1.0\n"
     ]
    },
    {
     "name": "stderr",
     "output_type": "stream",
     "text": [
      "100%|███████████████████████████████████████████████████| 2533/2533 [00:11<00:00, 218.01it/s]\n"
     ]
    },
    {
     "name": "stdout",
     "output_type": "stream",
     "text": [
      "Iteration 1, Current Score: 1.0,                 Best Feature: davinci-logprobs s-max, New Score: 1.0\n",
      "TRAINING WITH synonym AUGMENTED DATA.\n",
      "Train size: 50\n",
      "F1-Score: 0.9826658696951583\n",
      "\n",
      "passes...\n",
      "***************** TRAIN SIZE: 75 *****************\n"
     ]
    },
    {
     "name": "stderr",
     "output_type": "stream",
     "text": [
      "100%|███████████████████████████████████████████████████| 2534/2534 [00:10<00:00, 251.94it/s]\n"
     ]
    },
    {
     "name": "stdout",
     "output_type": "stream",
     "text": [
      "Iteration 0, Current Score: 0,                 Best Feature: trigram-logprobs v-div ada-logprobs v-> davinci-logprobs s-avg, New Score: 1.0\n"
     ]
    },
    {
     "name": "stderr",
     "output_type": "stream",
     "text": [
      "100%|███████████████████████████████████████████████████| 2533/2533 [00:11<00:00, 211.31it/s]\n"
     ]
    },
    {
     "name": "stdout",
     "output_type": "stream",
     "text": [
      "Iteration 1, Current Score: 1.0,                 Best Feature: davinci-logprobs s-max, New Score: 1.0\n",
      "TRAINING WITH synonym AUGMENTED DATA.\n",
      "Train size: 75\n",
      "F1-Score: 0.9835503769705277\n",
      "\n",
      "passes...\n",
      "***************** TRAIN SIZE: 100 *****************\n"
     ]
    },
    {
     "name": "stderr",
     "output_type": "stream",
     "text": [
      "100%|███████████████████████████████████████████████████| 2534/2534 [00:09<00:00, 257.16it/s]\n"
     ]
    },
    {
     "name": "stdout",
     "output_type": "stream",
     "text": [
      "Iteration 0, Current Score: 0,                 Best Feature: unigram-logprobs v-add trigram-logprobs v-> ada-logprobs s-avg, New Score: 1.0\n"
     ]
    },
    {
     "name": "stderr",
     "output_type": "stream",
     "text": [
      "100%|███████████████████████████████████████████████████| 2533/2533 [00:12<00:00, 206.44it/s]"
     ]
    },
    {
     "name": "stdout",
     "output_type": "stream",
     "text": [
      "Iteration 1, Current Score: 1.0,                 Best Feature: davinci-logprobs s-min, New Score: 1.0\n",
      "TRAINING WITH synonym AUGMENTED DATA.\n",
      "Train size: 100\n",
      "F1-Score: 0.9828414550446122\n",
      "\n",
      "passes...\n",
      "***************** AUGMENTATION: back *****************\n"
     ]
    },
    {
     "name": "stderr",
     "output_type": "stream",
     "text": [
      "\n"
     ]
    },
    {
     "data": {
      "application/vnd.jupyter.widget-view+json": {
       "model_id": "b8e08b98b14a4274a272680f08de59d6",
       "version_major": 2,
       "version_minor": 0
      },
      "text/plain": [
       "  0%|          | 0/5 [00:00<?, ?it/s]"
      ]
     },
     "metadata": {},
     "output_type": "display_data"
    },
    {
     "name": "stdout",
     "output_type": "stream",
     "text": [
      "***************** TRAIN SIZE: 10 *****************\n"
     ]
    },
    {
     "name": "stderr",
     "output_type": "stream",
     "text": [
      "100%|███████████████████████████████████████████████████| 2534/2534 [00:09<00:00, 266.36it/s]\n"
     ]
    },
    {
     "name": "stdout",
     "output_type": "stream",
     "text": [
      "Iteration 0, Current Score: 0,                 Best Feature: davinci-logprobs v-div trigram-logprobs v-> ada-logprobs s-min, New Score: 1.0\n"
     ]
    },
    {
     "name": "stderr",
     "output_type": "stream",
     "text": [
      "100%|███████████████████████████████████████████████████| 2533/2533 [00:11<00:00, 228.21it/s]\n"
     ]
    },
    {
     "name": "stdout",
     "output_type": "stream",
     "text": [
      "Iteration 1, Current Score: 1.0,                 Best Feature: davinci-logprobs s-max, New Score: 1.0\n",
      "TRAINING WITH back AUGMENTED DATA.\n",
      "Train size: 10\n",
      "F1-Score: 0.7919274969634682\n",
      "\n",
      "passes...\n",
      "***************** TRAIN SIZE: 25 *****************\n"
     ]
    },
    {
     "name": "stderr",
     "output_type": "stream",
     "text": [
      "100%|███████████████████████████████████████████████████| 2534/2534 [00:09<00:00, 268.24it/s]\n"
     ]
    },
    {
     "name": "stdout",
     "output_type": "stream",
     "text": [
      "Iteration 0, Current Score: 0,                 Best Feature: unigram-logprobs v-sub davinci-logprobs s-avg-top-25, New Score: 1.0\n"
     ]
    },
    {
     "name": "stderr",
     "output_type": "stream",
     "text": [
      "100%|███████████████████████████████████████████████████| 2533/2533 [00:11<00:00, 226.33it/s]\n"
     ]
    },
    {
     "name": "stdout",
     "output_type": "stream",
     "text": [
      "Iteration 1, Current Score: 1.0,                 Best Feature: davinci-logprobs s-max, New Score: 1.0\n",
      "TRAINING WITH back AUGMENTED DATA.\n",
      "Train size: 25\n",
      "F1-Score: 0.6986036519871106\n",
      "\n",
      "passes...\n",
      "***************** TRAIN SIZE: 50 *****************\n"
     ]
    },
    {
     "name": "stderr",
     "output_type": "stream",
     "text": [
      "100%|███████████████████████████████████████████████████| 2534/2534 [00:09<00:00, 260.90it/s]\n"
     ]
    },
    {
     "name": "stdout",
     "output_type": "stream",
     "text": [
      "Iteration 0, Current Score: 0,                 Best Feature: trigram-logprobs v-> davinci-logprobs s-avg, New Score: 1.0\n"
     ]
    },
    {
     "name": "stderr",
     "output_type": "stream",
     "text": [
      "100%|███████████████████████████████████████████████████| 2533/2533 [00:11<00:00, 218.41it/s]\n"
     ]
    },
    {
     "name": "stdout",
     "output_type": "stream",
     "text": [
      "Iteration 1, Current Score: 1.0,                 Best Feature: davinci-logprobs s-max, New Score: 1.0\n",
      "TRAINING WITH back AUGMENTED DATA.\n",
      "Train size: 50\n",
      "F1-Score: 0.9741602067183462\n",
      "\n",
      "passes...\n",
      "***************** TRAIN SIZE: 75 *****************\n"
     ]
    },
    {
     "name": "stderr",
     "output_type": "stream",
     "text": [
      "100%|███████████████████████████████████████████████████| 2534/2534 [00:10<00:00, 251.76it/s]\n"
     ]
    },
    {
     "name": "stdout",
     "output_type": "stream",
     "text": [
      "Iteration 0, Current Score: 0,                 Best Feature: trigram-logprobs v-div ada-logprobs v-> davinci-logprobs s-avg, New Score: 1.0\n"
     ]
    },
    {
     "name": "stderr",
     "output_type": "stream",
     "text": [
      "100%|███████████████████████████████████████████████████| 2533/2533 [00:12<00:00, 201.94it/s]\n"
     ]
    },
    {
     "name": "stdout",
     "output_type": "stream",
     "text": [
      "Iteration 1, Current Score: 1.0,                 Best Feature: davinci-logprobs s-max, New Score: 1.0\n",
      "TRAINING WITH back AUGMENTED DATA.\n",
      "Train size: 75\n",
      "F1-Score: 0.98486273839049\n",
      "\n",
      "passes...\n",
      "***************** TRAIN SIZE: 100 *****************\n"
     ]
    },
    {
     "name": "stderr",
     "output_type": "stream",
     "text": [
      "100%|███████████████████████████████████████████████████| 2534/2534 [00:09<00:00, 256.61it/s]\n"
     ]
    },
    {
     "name": "stdout",
     "output_type": "stream",
     "text": [
      "Iteration 0, Current Score: 0,                 Best Feature: unigram-logprobs v-add trigram-logprobs v-> ada-logprobs s-avg, New Score: 1.0\n"
     ]
    },
    {
     "name": "stderr",
     "output_type": "stream",
     "text": [
      "100%|███████████████████████████████████████████████████| 2533/2533 [00:12<00:00, 206.42it/s]"
     ]
    },
    {
     "name": "stdout",
     "output_type": "stream",
     "text": [
      "Iteration 1, Current Score: 1.0,                 Best Feature: davinci-logprobs s-min, New Score: 1.0\n",
      "TRAINING WITH back AUGMENTED DATA.\n",
      "Train size: 100\n",
      "F1-Score: 0.9770333275772751\n",
      "\n",
      "passes...\n",
      "***************** AUGMENTATION: emotion *****************\n"
     ]
    },
    {
     "name": "stderr",
     "output_type": "stream",
     "text": [
      "\n"
     ]
    },
    {
     "data": {
      "application/vnd.jupyter.widget-view+json": {
       "model_id": "ed9ad97e5e104c84891074149ea9c047",
       "version_major": 2,
       "version_minor": 0
      },
      "text/plain": [
       "  0%|          | 0/5 [00:00<?, ?it/s]"
      ]
     },
     "metadata": {},
     "output_type": "display_data"
    },
    {
     "name": "stdout",
     "output_type": "stream",
     "text": [
      "***************** TRAIN SIZE: 10 *****************\n"
     ]
    },
    {
     "name": "stderr",
     "output_type": "stream",
     "text": [
      "100%|███████████████████████████████████████████████████| 2534/2534 [00:09<00:00, 266.66it/s]\n"
     ]
    },
    {
     "name": "stdout",
     "output_type": "stream",
     "text": [
      "Iteration 0, Current Score: 0,                 Best Feature: davinci-logprobs v-div trigram-logprobs v-> ada-logprobs s-min, New Score: 1.0\n"
     ]
    },
    {
     "name": "stderr",
     "output_type": "stream",
     "text": [
      "100%|███████████████████████████████████████████████████| 2533/2533 [00:11<00:00, 226.91it/s]\n"
     ]
    },
    {
     "name": "stdout",
     "output_type": "stream",
     "text": [
      "Iteration 1, Current Score: 1.0,                 Best Feature: davinci-logprobs s-max, New Score: 1.0\n",
      "TRAINING WITH emotion AUGMENTED DATA.\n",
      "Train size: 10\n",
      "F1-Score: 0.7948192322027581\n",
      "\n",
      "passes...\n",
      "***************** TRAIN SIZE: 25 *****************\n"
     ]
    },
    {
     "name": "stderr",
     "output_type": "stream",
     "text": [
      "100%|███████████████████████████████████████████████████| 2534/2534 [00:09<00:00, 268.01it/s]\n"
     ]
    },
    {
     "name": "stdout",
     "output_type": "stream",
     "text": [
      "Iteration 0, Current Score: 0,                 Best Feature: unigram-logprobs v-sub davinci-logprobs s-avg-top-25, New Score: 1.0\n"
     ]
    },
    {
     "name": "stderr",
     "output_type": "stream",
     "text": [
      "100%|███████████████████████████████████████████████████| 2533/2533 [00:11<00:00, 228.25it/s]\n"
     ]
    },
    {
     "name": "stdout",
     "output_type": "stream",
     "text": [
      "Iteration 1, Current Score: 1.0,                 Best Feature: davinci-logprobs s-max, New Score: 1.0\n",
      "TRAINING WITH emotion AUGMENTED DATA.\n",
      "Train size: 25\n",
      "F1-Score: 0.7043366801965392\n",
      "\n",
      "passes...\n",
      "***************** TRAIN SIZE: 50 *****************\n"
     ]
    },
    {
     "name": "stderr",
     "output_type": "stream",
     "text": [
      "100%|███████████████████████████████████████████████████| 2534/2534 [00:09<00:00, 260.08it/s]\n"
     ]
    },
    {
     "name": "stdout",
     "output_type": "stream",
     "text": [
      "Iteration 0, Current Score: 0,                 Best Feature: trigram-logprobs v-> davinci-logprobs s-avg, New Score: 1.0\n"
     ]
    },
    {
     "name": "stderr",
     "output_type": "stream",
     "text": [
      "100%|███████████████████████████████████████████████████| 2533/2533 [00:11<00:00, 219.76it/s]\n"
     ]
    },
    {
     "name": "stdout",
     "output_type": "stream",
     "text": [
      "Iteration 1, Current Score: 1.0,                 Best Feature: davinci-logprobs s-max, New Score: 1.0\n",
      "TRAINING WITH emotion AUGMENTED DATA.\n",
      "Train size: 50\n",
      "F1-Score: 0.9831115660184238\n",
      "\n",
      "passes...\n",
      "***************** TRAIN SIZE: 75 *****************\n"
     ]
    },
    {
     "name": "stderr",
     "output_type": "stream",
     "text": [
      "100%|███████████████████████████████████████████████████| 2534/2534 [00:10<00:00, 250.64it/s]\n"
     ]
    },
    {
     "name": "stdout",
     "output_type": "stream",
     "text": [
      "Iteration 0, Current Score: 0,                 Best Feature: trigram-logprobs v-div ada-logprobs v-> davinci-logprobs s-avg, New Score: 1.0\n"
     ]
    },
    {
     "name": "stderr",
     "output_type": "stream",
     "text": [
      "100%|███████████████████████████████████████████████████| 2533/2533 [00:12<00:00, 210.38it/s]\n"
     ]
    },
    {
     "name": "stdout",
     "output_type": "stream",
     "text": [
      "Iteration 1, Current Score: 1.0,                 Best Feature: davinci-logprobs s-max, New Score: 1.0\n",
      "TRAINING WITH emotion AUGMENTED DATA.\n",
      "Train size: 75\n",
      "F1-Score: 0.9838143358739402\n",
      "\n",
      "passes...\n",
      "***************** TRAIN SIZE: 100 *****************\n"
     ]
    },
    {
     "name": "stderr",
     "output_type": "stream",
     "text": [
      "100%|███████████████████████████████████████████████████| 2534/2534 [00:09<00:00, 254.96it/s]\n"
     ]
    },
    {
     "name": "stdout",
     "output_type": "stream",
     "text": [
      "Iteration 0, Current Score: 0,                 Best Feature: unigram-logprobs v-add trigram-logprobs v-> ada-logprobs s-avg, New Score: 1.0\n"
     ]
    },
    {
     "name": "stderr",
     "output_type": "stream",
     "text": [
      "100%|███████████████████████████████████████████████████| 2533/2533 [00:12<00:00, 206.47it/s]"
     ]
    },
    {
     "name": "stdout",
     "output_type": "stream",
     "text": [
      "Iteration 1, Current Score: 1.0,                 Best Feature: davinci-logprobs s-min, New Score: 1.0\n",
      "TRAINING WITH emotion AUGMENTED DATA.\n",
      "Train size: 100\n",
      "F1-Score: 0.9829257829257829\n",
      "\n",
      "passes...\n",
      "***************** AUGMENTATION: style *****************\n"
     ]
    },
    {
     "name": "stderr",
     "output_type": "stream",
     "text": [
      "\n"
     ]
    },
    {
     "data": {
      "application/vnd.jupyter.widget-view+json": {
       "model_id": "ca37c7e4bcc742968d96a913606b29af",
       "version_major": 2,
       "version_minor": 0
      },
      "text/plain": [
       "  0%|          | 0/5 [00:00<?, ?it/s]"
      ]
     },
     "metadata": {},
     "output_type": "display_data"
    },
    {
     "name": "stdout",
     "output_type": "stream",
     "text": [
      "***************** TRAIN SIZE: 10 *****************\n"
     ]
    },
    {
     "name": "stderr",
     "output_type": "stream",
     "text": [
      "100%|███████████████████████████████████████████████████| 2534/2534 [00:09<00:00, 265.04it/s]\n"
     ]
    },
    {
     "name": "stdout",
     "output_type": "stream",
     "text": [
      "Iteration 0, Current Score: 0,                 Best Feature: davinci-logprobs v-div trigram-logprobs v-> ada-logprobs s-min, New Score: 1.0\n"
     ]
    },
    {
     "name": "stderr",
     "output_type": "stream",
     "text": [
      "100%|███████████████████████████████████████████████████| 2533/2533 [00:11<00:00, 227.45it/s]\n"
     ]
    },
    {
     "name": "stdout",
     "output_type": "stream",
     "text": [
      "Iteration 1, Current Score: 1.0,                 Best Feature: davinci-logprobs s-max, New Score: 1.0\n",
      "TRAINING WITH style AUGMENTED DATA.\n",
      "Train size: 10\n",
      "F1-Score: 0.7961670853102614\n",
      "\n",
      "passes...\n",
      "***************** TRAIN SIZE: 25 *****************\n"
     ]
    },
    {
     "name": "stderr",
     "output_type": "stream",
     "text": [
      "100%|███████████████████████████████████████████████████| 2534/2534 [00:09<00:00, 267.30it/s]\n"
     ]
    },
    {
     "name": "stdout",
     "output_type": "stream",
     "text": [
      "Iteration 0, Current Score: 0,                 Best Feature: unigram-logprobs v-sub davinci-logprobs s-avg-top-25, New Score: 1.0\n"
     ]
    },
    {
     "name": "stderr",
     "output_type": "stream",
     "text": [
      "100%|███████████████████████████████████████████████████| 2533/2533 [00:11<00:00, 224.40it/s]\n"
     ]
    },
    {
     "name": "stdout",
     "output_type": "stream",
     "text": [
      "Iteration 1, Current Score: 1.0,                 Best Feature: davinci-logprobs s-max, New Score: 1.0\n",
      "TRAINING WITH style AUGMENTED DATA.\n",
      "Train size: 25\n",
      "F1-Score: 0.7762351980400163\n",
      "\n",
      "passes...\n",
      "***************** TRAIN SIZE: 50 *****************\n"
     ]
    },
    {
     "name": "stderr",
     "output_type": "stream",
     "text": [
      "100%|███████████████████████████████████████████████████| 2534/2534 [00:09<00:00, 262.62it/s]\n"
     ]
    },
    {
     "name": "stdout",
     "output_type": "stream",
     "text": [
      "Iteration 0, Current Score: 0,                 Best Feature: trigram-logprobs v-> davinci-logprobs s-avg, New Score: 1.0\n"
     ]
    },
    {
     "name": "stderr",
     "output_type": "stream",
     "text": [
      "100%|███████████████████████████████████████████████████| 2533/2533 [00:11<00:00, 219.08it/s]\n"
     ]
    },
    {
     "name": "stdout",
     "output_type": "stream",
     "text": [
      "Iteration 1, Current Score: 1.0,                 Best Feature: davinci-logprobs s-max, New Score: 1.0\n",
      "TRAINING WITH style AUGMENTED DATA.\n",
      "Train size: 50\n",
      "F1-Score: 0.9824950900862437\n",
      "\n",
      "passes...\n",
      "***************** TRAIN SIZE: 75 *****************\n"
     ]
    },
    {
     "name": "stderr",
     "output_type": "stream",
     "text": [
      "100%|███████████████████████████████████████████████████| 2534/2534 [00:10<00:00, 248.70it/s]\n"
     ]
    },
    {
     "name": "stdout",
     "output_type": "stream",
     "text": [
      "Iteration 0, Current Score: 0,                 Best Feature: trigram-logprobs v-div ada-logprobs v-> davinci-logprobs s-avg, New Score: 1.0\n"
     ]
    },
    {
     "name": "stderr",
     "output_type": "stream",
     "text": [
      "100%|███████████████████████████████████████████████████| 2533/2533 [00:11<00:00, 211.39it/s]\n"
     ]
    },
    {
     "name": "stdout",
     "output_type": "stream",
     "text": [
      "Iteration 1, Current Score: 1.0,                 Best Feature: davinci-logprobs s-max, New Score: 1.0\n",
      "TRAINING WITH style AUGMENTED DATA.\n",
      "Train size: 75\n",
      "F1-Score: 0.9819897084048027\n",
      "\n",
      "passes...\n",
      "***************** TRAIN SIZE: 100 *****************\n"
     ]
    },
    {
     "name": "stderr",
     "output_type": "stream",
     "text": [
      "100%|███████████████████████████████████████████████████| 2534/2534 [00:09<00:00, 254.46it/s]\n"
     ]
    },
    {
     "name": "stdout",
     "output_type": "stream",
     "text": [
      "Iteration 0, Current Score: 0,                 Best Feature: unigram-logprobs v-add trigram-logprobs v-> ada-logprobs s-avg, New Score: 1.0\n"
     ]
    },
    {
     "name": "stderr",
     "output_type": "stream",
     "text": [
      "100%|███████████████████████████████████████████████████| 2533/2533 [00:12<00:00, 208.14it/s]"
     ]
    },
    {
     "name": "stdout",
     "output_type": "stream",
     "text": [
      "Iteration 1, Current Score: 1.0,                 Best Feature: davinci-logprobs s-min, New Score: 1.0\n",
      "TRAINING WITH style AUGMENTED DATA.\n",
      "Train size: 100\n",
      "F1-Score: 0.9788847711798673\n",
      "\n",
      "passes...\n",
      "***************** AUGMENTATION: summary *****************\n"
     ]
    },
    {
     "name": "stderr",
     "output_type": "stream",
     "text": [
      "\n"
     ]
    },
    {
     "data": {
      "application/vnd.jupyter.widget-view+json": {
       "model_id": "0dbc7241f33f4af9b8ddc82ff7588cb7",
       "version_major": 2,
       "version_minor": 0
      },
      "text/plain": [
       "  0%|          | 0/5 [00:00<?, ?it/s]"
      ]
     },
     "metadata": {},
     "output_type": "display_data"
    },
    {
     "name": "stdout",
     "output_type": "stream",
     "text": [
      "***************** TRAIN SIZE: 10 *****************\n"
     ]
    },
    {
     "name": "stderr",
     "output_type": "stream",
     "text": [
      "100%|███████████████████████████████████████████████████| 2534/2534 [00:09<00:00, 266.77it/s]\n"
     ]
    },
    {
     "name": "stdout",
     "output_type": "stream",
     "text": [
      "Iteration 0, Current Score: 0,                 Best Feature: davinci-logprobs v-div trigram-logprobs v-> ada-logprobs s-min, New Score: 1.0\n"
     ]
    },
    {
     "name": "stderr",
     "output_type": "stream",
     "text": [
      "100%|███████████████████████████████████████████████████| 2533/2533 [00:11<00:00, 228.34it/s]\n"
     ]
    },
    {
     "name": "stdout",
     "output_type": "stream",
     "text": [
      "Iteration 1, Current Score: 1.0,                 Best Feature: davinci-logprobs s-max, New Score: 1.0\n",
      "TRAINING WITH summary AUGMENTED DATA.\n",
      "Train size: 10\n",
      "F1-Score: 0.7901535005615874\n",
      "\n",
      "passes...\n",
      "***************** TRAIN SIZE: 25 *****************\n"
     ]
    },
    {
     "name": "stderr",
     "output_type": "stream",
     "text": [
      "100%|███████████████████████████████████████████████████| 2534/2534 [00:09<00:00, 265.27it/s]\n"
     ]
    },
    {
     "name": "stdout",
     "output_type": "stream",
     "text": [
      "Iteration 0, Current Score: 0,                 Best Feature: unigram-logprobs v-sub davinci-logprobs s-avg-top-25, New Score: 1.0\n"
     ]
    },
    {
     "name": "stderr",
     "output_type": "stream",
     "text": [
      "100%|███████████████████████████████████████████████████| 2533/2533 [00:11<00:00, 219.93it/s]\n"
     ]
    },
    {
     "name": "stdout",
     "output_type": "stream",
     "text": [
      "Iteration 1, Current Score: 1.0,                 Best Feature: davinci-logprobs s-max, New Score: 1.0\n",
      "TRAINING WITH summary AUGMENTED DATA.\n",
      "Train size: 25\n",
      "F1-Score: 0.6967044840626688\n",
      "\n",
      "passes...\n",
      "***************** TRAIN SIZE: 50 *****************\n"
     ]
    },
    {
     "name": "stderr",
     "output_type": "stream",
     "text": [
      "100%|███████████████████████████████████████████████████| 2534/2534 [00:09<00:00, 259.51it/s]\n"
     ]
    },
    {
     "name": "stdout",
     "output_type": "stream",
     "text": [
      "Iteration 0, Current Score: 0,                 Best Feature: trigram-logprobs v-> davinci-logprobs s-avg, New Score: 1.0\n"
     ]
    },
    {
     "name": "stderr",
     "output_type": "stream",
     "text": [
      "100%|███████████████████████████████████████████████████| 2533/2533 [00:11<00:00, 215.27it/s]\n"
     ]
    },
    {
     "name": "stdout",
     "output_type": "stream",
     "text": [
      "Iteration 1, Current Score: 1.0,                 Best Feature: davinci-logprobs s-max, New Score: 1.0\n",
      "TRAINING WITH summary AUGMENTED DATA.\n",
      "Train size: 50\n",
      "F1-Score: 0.9781284844326271\n",
      "\n",
      "passes...\n",
      "***************** TRAIN SIZE: 75 *****************\n"
     ]
    },
    {
     "name": "stderr",
     "output_type": "stream",
     "text": [
      "100%|███████████████████████████████████████████████████| 2534/2534 [00:10<00:00, 249.16it/s]\n"
     ]
    },
    {
     "name": "stdout",
     "output_type": "stream",
     "text": [
      "Iteration 0, Current Score: 0,                 Best Feature: trigram-logprobs v-div ada-logprobs v-> davinci-logprobs s-avg, New Score: 1.0\n"
     ]
    },
    {
     "name": "stderr",
     "output_type": "stream",
     "text": [
      "100%|███████████████████████████████████████████████████| 2533/2533 [00:12<00:00, 207.25it/s]\n"
     ]
    },
    {
     "name": "stdout",
     "output_type": "stream",
     "text": [
      "Iteration 1, Current Score: 1.0,                 Best Feature: davinci-logprobs s-max, New Score: 1.0\n",
      "TRAINING WITH summary AUGMENTED DATA.\n",
      "Train size: 75\n",
      "F1-Score: 0.9749524961133184\n",
      "\n",
      "passes...\n",
      "***************** TRAIN SIZE: 100 *****************\n"
     ]
    },
    {
     "name": "stderr",
     "output_type": "stream",
     "text": [
      "100%|███████████████████████████████████████████████████| 2534/2534 [00:09<00:00, 254.00it/s]\n"
     ]
    },
    {
     "name": "stdout",
     "output_type": "stream",
     "text": [
      "Iteration 0, Current Score: 0,                 Best Feature: unigram-logprobs v-add trigram-logprobs v-> ada-logprobs s-avg, New Score: 1.0\n"
     ]
    },
    {
     "name": "stderr",
     "output_type": "stream",
     "text": [
      "100%|███████████████████████████████████████████████████| 2533/2533 [00:12<00:00, 203.97it/s]\n"
     ]
    },
    {
     "name": "stdout",
     "output_type": "stream",
     "text": [
      "Iteration 1, Current Score: 1.0,                 Best Feature: davinci-logprobs s-min, New Score: 1.0\n",
      "TRAINING WITH summary AUGMENTED DATA.\n",
      "Train size: 100\n",
      "F1-Score: 0.9812714776632302\n",
      "\n",
      "passes...\n"
     ]
    },
    {
     "data": {
      "image/png": "[encoded data removed]",
      "text/plain": [
       "<Figure size 640x480 with 1 Axes>"
      ]
     },
     "metadata": {},
     "output_type": "display_data"
    },
    {
     "name": "stdout",
     "output_type": "stream",
     "text": [
      "**************** SEED 79 ****************\n",
      "***************** AUGMENTATION: baseline *****************\n"
     ]
    },
    {
     "data": {
      "application/vnd.jupyter.widget-view+json": {
       "model_id": "95d6ad2713084305bae2f34da5bd4392",
       "version_major": 2,
       "version_minor": 0
      },
      "text/plain": [
       "  0%|          | 0/5 [00:00<?, ?it/s]"
      ]
     },
     "metadata": {},
     "output_type": "display_data"
    },
    {
     "name": "stdout",
     "output_type": "stream",
     "text": [
      "***************** TRAIN SIZE: 10 *****************\n"
     ]
    },
    {
     "name": "stderr",
     "output_type": "stream",
     "text": [
      "100%|███████████████████████████████████████████████████| 2534/2534 [00:09<00:00, 262.26it/s]\n"
     ]
    },
    {
     "name": "stdout",
     "output_type": "stream",
     "text": [
      "Iteration 0, Current Score: 0,                 Best Feature: trigram-logprobs v-> davinci-logprobs s-avg, New Score: 1.0\n"
     ]
    },
    {
     "name": "stderr",
     "output_type": "stream",
     "text": [
      "100%|███████████████████████████████████████████████████| 2533/2533 [00:10<00:00, 233.85it/s]"
     ]
    },
    {
     "name": "stdout",
     "output_type": "stream",
     "text": [
      "Iteration 1, Current Score: 1.0,                 Best Feature: davinci-logprobs s-max, New Score: 1.0\n",
      "TRAINING WITHOUT AUGMENTATIONS\n",
      "Train size: 10\n",
      "F1-Score: 0.9878849066128218\n",
      "\n",
      "early stopping.\n",
      "early stopping\n",
      "**************** SEED 80 ****************\n",
      "***************** AUGMENTATION: baseline *****************\n"
     ]
    },
    {
     "name": "stderr",
     "output_type": "stream",
     "text": [
      "\n"
     ]
    },
    {
     "data": {
      "application/vnd.jupyter.widget-view+json": {
       "model_id": "27636f46091740368be096be6270330b",
       "version_major": 2,
       "version_minor": 0
      },
      "text/plain": [
       "  0%|          | 0/5 [00:00<?, ?it/s]"
      ]
     },
     "metadata": {},
     "output_type": "display_data"
    },
    {
     "name": "stdout",
     "output_type": "stream",
     "text": [
      "***************** TRAIN SIZE: 10 *****************\n"
     ]
    },
    {
     "name": "stderr",
     "output_type": "stream",
     "text": [
      "100%|███████████████████████████████████████████████████| 2534/2534 [00:09<00:00, 266.23it/s]\n"
     ]
    },
    {
     "name": "stdout",
     "output_type": "stream",
     "text": [
      "Iteration 0, Current Score: 0,                 Best Feature: trigram-logprobs v-< davinci-logprobs v-div ada-logprobs s-avg, New Score: 1.0\n"
     ]
    },
    {
     "name": "stderr",
     "output_type": "stream",
     "text": [
      "100%|███████████████████████████████████████████████████| 2533/2533 [00:11<00:00, 227.94it/s]"
     ]
    },
    {
     "name": "stdout",
     "output_type": "stream",
     "text": [
      "Iteration 1, Current Score: 1.0,                 Best Feature: davinci-logprobs s-max, New Score: 1.0\n",
      "TRAINING WITHOUT AUGMENTATIONS\n",
      "Train size: 10\n",
      "F1-Score: 0.9884189325276939\n",
      "\n",
      "early stopping.\n",
      "early stopping\n",
      "**************** SEED 81 ****************\n",
      "***************** AUGMENTATION: baseline *****************\n"
     ]
    },
    {
     "name": "stderr",
     "output_type": "stream",
     "text": [
      "\n"
     ]
    },
    {
     "data": {
      "application/vnd.jupyter.widget-view+json": {
       "model_id": "eb2cf716325f44d585335b8205464434",
       "version_major": 2,
       "version_minor": 0
      },
      "text/plain": [
       "  0%|          | 0/5 [00:00<?, ?it/s]"
      ]
     },
     "metadata": {},
     "output_type": "display_data"
    },
    {
     "name": "stdout",
     "output_type": "stream",
     "text": [
      "***************** TRAIN SIZE: 10 *****************\n"
     ]
    },
    {
     "name": "stderr",
     "output_type": "stream",
     "text": [
      "100%|███████████████████████████████████████████████████| 2534/2534 [00:09<00:00, 267.01it/s]\n"
     ]
    },
    {
     "name": "stdout",
     "output_type": "stream",
     "text": [
      "Iteration 0, Current Score: 0,                 Best Feature: ada-logprobs v-div unigram-logprobs v-sub trigram-logprobs s-min, New Score: 1.0\n"
     ]
    },
    {
     "name": "stderr",
     "output_type": "stream",
     "text": [
      "100%|███████████████████████████████████████████████████| 2533/2533 [00:11<00:00, 229.83it/s]\n"
     ]
    },
    {
     "name": "stdout",
     "output_type": "stream",
     "text": [
      "Iteration 1, Current Score: 1.0,                 Best Feature: davinci-logprobs v-div ada-logprobs s-avg-top-25, New Score: 1.0\n",
      "TRAINING WITHOUT AUGMENTATIONS\n",
      "Train size: 10\n",
      "F1-Score: 0.8534232462302145\n",
      "\n",
      "passes...\n",
      "***************** TRAIN SIZE: 25 *****************\n"
     ]
    },
    {
     "name": "stderr",
     "output_type": "stream",
     "text": [
      "100%|███████████████████████████████████████████████████| 2534/2534 [00:09<00:00, 259.07it/s]\n"
     ]
    },
    {
     "name": "stdout",
     "output_type": "stream",
     "text": [
      "Iteration 0, Current Score: 0,                 Best Feature: trigram-logprobs v-div ada-logprobs v-> davinci-logprobs s-avg, New Score: 1.0\n"
     ]
    },
    {
     "name": "stderr",
     "output_type": "stream",
     "text": [
      "100%|███████████████████████████████████████████████████| 2533/2533 [00:11<00:00, 221.07it/s]"
     ]
    },
    {
     "name": "stdout",
     "output_type": "stream",
     "text": [
      "Iteration 1, Current Score: 1.0,                 Best Feature: davinci-logprobs s-len, New Score: 1.0\n",
      "TRAINING WITHOUT AUGMENTATIONS\n",
      "Train size: 25\n",
      "F1-Score: 0.9841269841269841\n",
      "\n",
      "early stopping.\n",
      "early stopping\n",
      "**************** SEED 82 ****************\n",
      "***************** AUGMENTATION: baseline *****************\n"
     ]
    },
    {
     "name": "stderr",
     "output_type": "stream",
     "text": [
      "\n"
     ]
    },
    {
     "data": {
      "application/vnd.jupyter.widget-view+json": {
       "model_id": "a33fcd966f714e2a8eb28ae41c8be630",
       "version_major": 2,
       "version_minor": 0
      },
      "text/plain": [
       "  0%|          | 0/5 [00:00<?, ?it/s]"
      ]
     },
     "metadata": {},
     "output_type": "display_data"
    },
    {
     "name": "stdout",
     "output_type": "stream",
     "text": [
      "***************** TRAIN SIZE: 10 *****************\n"
     ]
    },
    {
     "name": "stderr",
     "output_type": "stream",
     "text": [
      "100%|███████████████████████████████████████████████████| 2534/2534 [00:09<00:00, 263.32it/s]\n"
     ]
    },
    {
     "name": "stdout",
     "output_type": "stream",
     "text": [
      "Iteration 0, Current Score: 0,                 Best Feature: trigram-logprobs v-> davinci-logprobs s-avg, New Score: 1.0\n"
     ]
    },
    {
     "name": "stderr",
     "output_type": "stream",
     "text": [
      "100%|███████████████████████████████████████████████████| 2533/2533 [00:11<00:00, 223.45it/s]"
     ]
    },
    {
     "name": "stdout",
     "output_type": "stream",
     "text": [
      "Iteration 1, Current Score: 1.0,                 Best Feature: davinci-logprobs s-min, New Score: 1.0\n",
      "TRAINING WITHOUT AUGMENTATIONS\n",
      "Train size: 10\n",
      "F1-Score: 0.9760108502161566\n",
      "\n",
      "early stopping.\n",
      "early stopping\n",
      "**************** SEED 83 ****************\n",
      "***************** AUGMENTATION: baseline *****************\n"
     ]
    },
    {
     "name": "stderr",
     "output_type": "stream",
     "text": [
      "\n"
     ]
    },
    {
     "data": {
      "application/vnd.jupyter.widget-view+json": {
       "model_id": "35acc5fcb3084e4d9e48dd3e21697c1a",
       "version_major": 2,
       "version_minor": 0
      },
      "text/plain": [
       "  0%|          | 0/5 [00:00<?, ?it/s]"
      ]
     },
     "metadata": {},
     "output_type": "display_data"
    },
    {
     "name": "stdout",
     "output_type": "stream",
     "text": [
      "***************** TRAIN SIZE: 10 *****************\n"
     ]
    },
    {
     "name": "stderr",
     "output_type": "stream",
     "text": [
      "100%|███████████████████████████████████████████████████| 2534/2534 [00:09<00:00, 268.55it/s]\n"
     ]
    },
    {
     "name": "stdout",
     "output_type": "stream",
     "text": [
      "Iteration 0, Current Score: 0,                 Best Feature: davinci-logprobs v-div trigram-logprobs s-min, New Score: 1.0\n"
     ]
    },
    {
     "name": "stderr",
     "output_type": "stream",
     "text": [
      "100%|███████████████████████████████████████████████████| 2533/2533 [00:10<00:00, 232.64it/s]\n"
     ]
    },
    {
     "name": "stdout",
     "output_type": "stream",
     "text": [
      "Iteration 1, Current Score: 1.0,                 Best Feature: davinci-logprobs s-max, New Score: 1.0\n",
      "TRAINING WITHOUT AUGMENTATIONS\n",
      "Train size: 10\n",
      "F1-Score: 0.6012813046010483\n",
      "\n",
      "passes...\n",
      "***************** TRAIN SIZE: 25 *****************\n"
     ]
    },
    {
     "name": "stderr",
     "output_type": "stream",
     "text": [
      "100%|███████████████████████████████████████████████████| 2534/2534 [00:09<00:00, 262.99it/s]\n"
     ]
    },
    {
     "name": "stdout",
     "output_type": "stream",
     "text": [
      "Iteration 0, Current Score: 0,                 Best Feature: trigram-logprobs v-> davinci-logprobs s-avg, New Score: 1.0\n"
     ]
    },
    {
     "name": "stderr",
     "output_type": "stream",
     "text": [
      "100%|███████████████████████████████████████████████████| 2533/2533 [00:11<00:00, 221.49it/s]"
     ]
    },
    {
     "name": "stdout",
     "output_type": "stream",
     "text": [
      "Iteration 1, Current Score: 1.0,                 Best Feature: davinci-logprobs s-max, New Score: 1.0\n",
      "TRAINING WITHOUT AUGMENTATIONS\n",
      "Train size: 25\n",
      "F1-Score: 0.9888456988338685\n",
      "\n",
      "early stopping.\n",
      "early stopping\n",
      "**************** SEED 84 ****************\n",
      "***************** AUGMENTATION: baseline *****************\n"
     ]
    },
    {
     "name": "stderr",
     "output_type": "stream",
     "text": [
      "\n"
     ]
    },
    {
     "data": {
      "application/vnd.jupyter.widget-view+json": {
       "model_id": "c640105753874fde8d4df03d13df40d1",
       "version_major": 2,
       "version_minor": 0
      },
      "text/plain": [
       "  0%|          | 0/5 [00:00<?, ?it/s]"
      ]
     },
     "metadata": {},
     "output_type": "display_data"
    },
    {
     "name": "stdout",
     "output_type": "stream",
     "text": [
      "***************** TRAIN SIZE: 10 *****************\n"
     ]
    },
    {
     "name": "stderr",
     "output_type": "stream",
     "text": [
      "100%|███████████████████████████████████████████████████| 2534/2534 [00:09<00:00, 263.24it/s]\n"
     ]
    },
    {
     "name": "stdout",
     "output_type": "stream",
     "text": [
      "Iteration 0, Current Score: 0,                 Best Feature: trigram-logprobs v-> davinci-logprobs s-avg, New Score: 1.0\n"
     ]
    },
    {
     "name": "stderr",
     "output_type": "stream",
     "text": [
      "100%|███████████████████████████████████████████████████| 2533/2533 [00:11<00:00, 229.32it/s]"
     ]
    },
    {
     "name": "stdout",
     "output_type": "stream",
     "text": [
      "Iteration 1, Current Score: 1.0,                 Best Feature: davinci-logprobs s-max, New Score: 1.0\n",
      "TRAINING WITHOUT AUGMENTATIONS\n",
      "Train size: 10\n",
      "F1-Score: 0.969534823509105\n",
      "\n",
      "early stopping.\n",
      "early stopping\n",
      "**************** SEED 85 ****************\n",
      "***************** AUGMENTATION: baseline *****************\n"
     ]
    },
    {
     "name": "stderr",
     "output_type": "stream",
     "text": [
      "\n"
     ]
    },
    {
     "data": {
      "application/vnd.jupyter.widget-view+json": {
       "model_id": "38b2c7c9233d497f9079074da0bbfcd2",
       "version_major": 2,
       "version_minor": 0
      },
      "text/plain": [
       "  0%|          | 0/5 [00:00<?, ?it/s]"
      ]
     },
     "metadata": {},
     "output_type": "display_data"
    },
    {
     "name": "stdout",
     "output_type": "stream",
     "text": [
      "***************** TRAIN SIZE: 10 *****************\n"
     ]
    },
    {
     "name": "stderr",
     "output_type": "stream",
     "text": [
      "100%|███████████████████████████████████████████████████| 2534/2534 [00:09<00:00, 260.35it/s]\n"
     ]
    },
    {
     "name": "stdout",
     "output_type": "stream",
     "text": [
      "Iteration 0, Current Score: 0,                 Best Feature: ada-logprobs v-sub davinci-logprobs s-avg, New Score: 1.0\n"
     ]
    },
    {
     "name": "stderr",
     "output_type": "stream",
     "text": [
      "100%|███████████████████████████████████████████████████| 2533/2533 [00:10<00:00, 232.83it/s]\n"
     ]
    },
    {
     "name": "stdout",
     "output_type": "stream",
     "text": [
      "Iteration 1, Current Score: 1.0,                 Best Feature: davinci-logprobs s-max, New Score: 1.0\n",
      "TRAINING WITHOUT AUGMENTATIONS\n",
      "Train size: 10\n",
      "F1-Score: 0.695281712642454\n",
      "\n",
      "passes...\n",
      "***************** TRAIN SIZE: 25 *****************\n"
     ]
    },
    {
     "name": "stderr",
     "output_type": "stream",
     "text": [
      "100%|███████████████████████████████████████████████████| 2534/2534 [00:09<00:00, 262.92it/s]\n"
     ]
    },
    {
     "name": "stdout",
     "output_type": "stream",
     "text": [
      "Iteration 0, Current Score: 0,                 Best Feature: trigram-logprobs v-> davinci-logprobs s-avg, New Score: 1.0\n"
     ]
    },
    {
     "name": "stderr",
     "output_type": "stream",
     "text": [
      "100%|███████████████████████████████████████████████████| 2533/2533 [00:11<00:00, 224.63it/s]"
     ]
    },
    {
     "name": "stdout",
     "output_type": "stream",
     "text": [
      "Iteration 1, Current Score: 1.0,                 Best Feature: davinci-logprobs s-max, New Score: 1.0\n",
      "TRAINING WITHOUT AUGMENTATIONS\n",
      "Train size: 25\n",
      "F1-Score: 0.9883485309017224\n",
      "\n",
      "early stopping.\n",
      "early stopping\n",
      "**************** SEED 86 ****************\n",
      "***************** AUGMENTATION: baseline *****************\n"
     ]
    },
    {
     "name": "stderr",
     "output_type": "stream",
     "text": [
      "\n"
     ]
    },
    {
     "data": {
      "application/vnd.jupyter.widget-view+json": {
       "model_id": "1a076333787445bda847cf81046db048",
       "version_major": 2,
       "version_minor": 0
      },
      "text/plain": [
       "  0%|          | 0/5 [00:00<?, ?it/s]"
      ]
     },
     "metadata": {},
     "output_type": "display_data"
    },
    {
     "name": "stdout",
     "output_type": "stream",
     "text": [
      "***************** TRAIN SIZE: 10 *****************\n"
     ]
    },
    {
     "name": "stderr",
     "output_type": "stream",
     "text": [
      "100%|███████████████████████████████████████████████████| 2534/2534 [00:09<00:00, 262.07it/s]\n"
     ]
    },
    {
     "name": "stdout",
     "output_type": "stream",
     "text": [
      "Iteration 0, Current Score: 0,                 Best Feature: davinci-logprobs s-avg, New Score: 1.0\n"
     ]
    },
    {
     "name": "stderr",
     "output_type": "stream",
     "text": [
      "100%|███████████████████████████████████████████████████| 2533/2533 [00:11<00:00, 223.36it/s]\n"
     ]
    },
    {
     "name": "stdout",
     "output_type": "stream",
     "text": [
      "Iteration 1, Current Score: 1.0,                 Best Feature: davinci-logprobs s-max, New Score: 1.0\n",
      "TRAINING WITHOUT AUGMENTATIONS\n",
      "Train size: 10\n",
      "F1-Score: 0.8398367036931549\n",
      "\n",
      "passes...\n",
      "***************** TRAIN SIZE: 25 *****************\n"
     ]
    },
    {
     "name": "stderr",
     "output_type": "stream",
     "text": [
      "100%|███████████████████████████████████████████████████| 2534/2534 [00:09<00:00, 262.55it/s]\n"
     ]
    },
    {
     "name": "stdout",
     "output_type": "stream",
     "text": [
      "Iteration 0, Current Score: 0,                 Best Feature: trigram-logprobs v-sub ada-logprobs s-avg, New Score: 1.0\n"
     ]
    },
    {
     "name": "stderr",
     "output_type": "stream",
     "text": [
      "100%|███████████████████████████████████████████████████| 2533/2533 [00:11<00:00, 220.44it/s]"
     ]
    },
    {
     "name": "stdout",
     "output_type": "stream",
     "text": [
      "Iteration 1, Current Score: 1.0,                 Best Feature: davinci-logprobs s-max, New Score: 1.0\n",
      "TRAINING WITHOUT AUGMENTATIONS\n",
      "Train size: 25\n",
      "F1-Score: 0.9621826972888966\n",
      "\n",
      "early stopping.\n",
      "early stopping\n",
      "**************** SEED 87 ****************\n",
      "***************** AUGMENTATION: baseline *****************\n"
     ]
    },
    {
     "name": "stderr",
     "output_type": "stream",
     "text": [
      "\n"
     ]
    },
    {
     "data": {
      "application/vnd.jupyter.widget-view+json": {
       "model_id": "cc38da19a3f24b18823f2e9cbb3a0ff8",
       "version_major": 2,
       "version_minor": 0
      },
      "text/plain": [
       "  0%|          | 0/5 [00:00<?, ?it/s]"
      ]
     },
     "metadata": {},
     "output_type": "display_data"
    },
    {
     "name": "stdout",
     "output_type": "stream",
     "text": [
      "***************** TRAIN SIZE: 10 *****************\n"
     ]
    },
    {
     "name": "stderr",
     "output_type": "stream",
     "text": [
      "100%|███████████████████████████████████████████████████| 2534/2534 [00:09<00:00, 259.40it/s]\n"
     ]
    },
    {
     "name": "stdout",
     "output_type": "stream",
     "text": [
      "Iteration 0, Current Score: 0,                 Best Feature: davinci-logprobs s-avg, New Score: 1.0\n"
     ]
    },
    {
     "name": "stderr",
     "output_type": "stream",
     "text": [
      "100%|███████████████████████████████████████████████████| 2533/2533 [00:10<00:00, 236.86it/s]"
     ]
    },
    {
     "name": "stdout",
     "output_type": "stream",
     "text": [
      "Iteration 1, Current Score: 1.0,                 Best Feature: davinci-logprobs s-max, New Score: 1.0\n",
      "TRAINING WITHOUT AUGMENTATIONS\n",
      "Train size: 10\n",
      "F1-Score: 0.9613306315433975\n",
      "\n",
      "early stopping.\n",
      "early stopping\n",
      "**************** SEED 88 ****************\n",
      "***************** AUGMENTATION: baseline *****************\n"
     ]
    },
    {
     "name": "stderr",
     "output_type": "stream",
     "text": [
      "\n"
     ]
    },
    {
     "data": {
      "application/vnd.jupyter.widget-view+json": {
       "model_id": "eba8671cbd5f431b88f45d4c54cc461c",
       "version_major": 2,
       "version_minor": 0
      },
      "text/plain": [
       "  0%|          | 0/5 [00:00<?, ?it/s]"
      ]
     },
     "metadata": {},
     "output_type": "display_data"
    },
    {
     "name": "stdout",
     "output_type": "stream",
     "text": [
      "***************** TRAIN SIZE: 10 *****************\n"
     ]
    },
    {
     "name": "stderr",
     "output_type": "stream",
     "text": [
      "100%|███████████████████████████████████████████████████| 2534/2534 [00:09<00:00, 259.88it/s]\n"
     ]
    },
    {
     "name": "stdout",
     "output_type": "stream",
     "text": [
      "Iteration 0, Current Score: 0,                 Best Feature: davinci-logprobs s-avg, New Score: 1.0\n"
     ]
    },
    {
     "name": "stderr",
     "output_type": "stream",
     "text": [
      "100%|███████████████████████████████████████████████████| 2533/2533 [00:10<00:00, 230.43it/s]"
     ]
    },
    {
     "name": "stdout",
     "output_type": "stream",
     "text": [
      "Iteration 1, Current Score: 1.0,                 Best Feature: davinci-logprobs s-max, New Score: 1.0\n",
      "TRAINING WITHOUT AUGMENTATIONS\n",
      "Train size: 10\n",
      "F1-Score: 0.9525127584119021\n",
      "\n",
      "early stopping.\n",
      "early stopping\n",
      "**************** SEED 89 ****************\n",
      "***************** AUGMENTATION: baseline *****************\n"
     ]
    },
    {
     "name": "stderr",
     "output_type": "stream",
     "text": [
      "\n"
     ]
    },
    {
     "data": {
      "application/vnd.jupyter.widget-view+json": {
       "model_id": "6ff5012bcd064f3ab46c0e37f2cee852",
       "version_major": 2,
       "version_minor": 0
      },
      "text/plain": [
       "  0%|          | 0/5 [00:00<?, ?it/s]"
      ]
     },
     "metadata": {},
     "output_type": "display_data"
    },
    {
     "name": "stdout",
     "output_type": "stream",
     "text": [
      "***************** TRAIN SIZE: 10 *****************\n"
     ]
    },
    {
     "name": "stderr",
     "output_type": "stream",
     "text": [
      "100%|███████████████████████████████████████████████████| 2534/2534 [00:09<00:00, 259.18it/s]\n"
     ]
    },
    {
     "name": "stdout",
     "output_type": "stream",
     "text": [
      "Iteration 0, Current Score: 0,                 Best Feature: davinci-logprobs s-avg, New Score: 1.0\n"
     ]
    },
    {
     "name": "stderr",
     "output_type": "stream",
     "text": [
      "100%|███████████████████████████████████████████████████| 2533/2533 [00:11<00:00, 227.64it/s]"
     ]
    },
    {
     "name": "stdout",
     "output_type": "stream",
     "text": [
      "Iteration 1, Current Score: 1.0,                 Best Feature: davinci-logprobs s-max, New Score: 1.0\n",
      "TRAINING WITHOUT AUGMENTATIONS\n",
      "Train size: 10\n",
      "F1-Score: 0.9764784946236559\n",
      "\n",
      "early stopping.\n",
      "early stopping\n",
      "**************** SEED 90 ****************\n",
      "***************** AUGMENTATION: baseline *****************\n"
     ]
    },
    {
     "name": "stderr",
     "output_type": "stream",
     "text": [
      "\n"
     ]
    },
    {
     "data": {
      "application/vnd.jupyter.widget-view+json": {
       "model_id": "631d0cbb7aa54e939dce00055cd22c66",
       "version_major": 2,
       "version_minor": 0
      },
      "text/plain": [
       "  0%|          | 0/5 [00:00<?, ?it/s]"
      ]
     },
     "metadata": {},
     "output_type": "display_data"
    },
    {
     "name": "stdout",
     "output_type": "stream",
     "text": [
      "***************** TRAIN SIZE: 10 *****************\n"
     ]
    },
    {
     "name": "stderr",
     "output_type": "stream",
     "text": [
      "100%|███████████████████████████████████████████████████| 2534/2534 [00:09<00:00, 261.09it/s]\n"
     ]
    },
    {
     "name": "stdout",
     "output_type": "stream",
     "text": [
      "Iteration 0, Current Score: 0,                 Best Feature: davinci-logprobs v-div trigram-logprobs v-add davinci-logprobs s-min, New Score: 1.0\n"
     ]
    },
    {
     "name": "stderr",
     "output_type": "stream",
     "text": [
      "100%|███████████████████████████████████████████████████| 2533/2533 [00:10<00:00, 233.37it/s]\n"
     ]
    },
    {
     "name": "stdout",
     "output_type": "stream",
     "text": [
      "Iteration 1, Current Score: 1.0,                 Best Feature: davinci-logprobs s-max, New Score: 1.0\n",
      "TRAINING WITHOUT AUGMENTATIONS\n",
      "Train size: 10\n",
      "F1-Score: 0.8031103578905393\n",
      "\n",
      "passes...\n",
      "***************** TRAIN SIZE: 25 *****************\n"
     ]
    },
    {
     "name": "stderr",
     "output_type": "stream",
     "text": [
      "100%|███████████████████████████████████████████████████| 2534/2534 [00:09<00:00, 264.42it/s]\n"
     ]
    },
    {
     "name": "stdout",
     "output_type": "stream",
     "text": [
      "Iteration 0, Current Score: 0,                 Best Feature: trigram-logprobs v-sub ada-logprobs v-> davinci-logprobs s-avg, New Score: 1.0\n"
     ]
    },
    {
     "name": "stderr",
     "output_type": "stream",
     "text": [
      "100%|███████████████████████████████████████████████████| 2533/2533 [00:11<00:00, 222.30it/s]"
     ]
    },
    {
     "name": "stdout",
     "output_type": "stream",
     "text": [
      "Iteration 1, Current Score: 1.0,                 Best Feature: davinci-logprobs s-max, New Score: 1.0\n",
      "TRAINING WITHOUT AUGMENTATIONS\n",
      "Train size: 25\n",
      "F1-Score: 0.9855878634639696\n",
      "\n",
      "early stopping.\n",
      "early stopping\n",
      "**************** SEED 91 ****************\n",
      "***************** AUGMENTATION: baseline *****************\n"
     ]
    },
    {
     "name": "stderr",
     "output_type": "stream",
     "text": [
      "\n"
     ]
    },
    {
     "data": {
      "application/vnd.jupyter.widget-view+json": {
       "model_id": "1070601e5de8417cadeacd948f79b42c",
       "version_major": 2,
       "version_minor": 0
      },
      "text/plain": [
       "  0%|          | 0/5 [00:00<?, ?it/s]"
      ]
     },
     "metadata": {},
     "output_type": "display_data"
    },
    {
     "name": "stdout",
     "output_type": "stream",
     "text": [
      "***************** TRAIN SIZE: 10 *****************\n"
     ]
    },
    {
     "name": "stderr",
     "output_type": "stream",
     "text": [
      "100%|███████████████████████████████████████████████████| 2534/2534 [00:09<00:00, 267.65it/s]\n"
     ]
    },
    {
     "name": "stdout",
     "output_type": "stream",
     "text": [
      "Iteration 0, Current Score: 0,                 Best Feature: trigram-logprobs v-div ada-logprobs v-> davinci-logprobs s-avg, New Score: 1.0\n"
     ]
    },
    {
     "name": "stderr",
     "output_type": "stream",
     "text": [
      "100%|███████████████████████████████████████████████████| 2533/2533 [00:10<00:00, 231.01it/s]"
     ]
    },
    {
     "name": "stdout",
     "output_type": "stream",
     "text": [
      "Iteration 1, Current Score: 1.0,                 Best Feature: davinci-logprobs s-max, New Score: 1.0\n",
      "TRAINING WITHOUT AUGMENTATIONS\n",
      "Train size: 10\n",
      "F1-Score: 0.9924913524002362\n",
      "\n",
      "early stopping.\n",
      "early stopping\n",
      "**************** SEED 92 ****************\n",
      "***************** AUGMENTATION: baseline *****************\n"
     ]
    },
    {
     "name": "stderr",
     "output_type": "stream",
     "text": [
      "\n"
     ]
    },
    {
     "data": {
      "application/vnd.jupyter.widget-view+json": {
       "model_id": "1933495a621f4c318aeb10a892fdbcbd",
       "version_major": 2,
       "version_minor": 0
      },
      "text/plain": [
       "  0%|          | 0/5 [00:00<?, ?it/s]"
      ]
     },
     "metadata": {},
     "output_type": "display_data"
    },
    {
     "name": "stdout",
     "output_type": "stream",
     "text": [
      "***************** TRAIN SIZE: 10 *****************\n"
     ]
    },
    {
     "name": "stderr",
     "output_type": "stream",
     "text": [
      "100%|███████████████████████████████████████████████████| 2534/2534 [00:09<00:00, 266.54it/s]\n"
     ]
    },
    {
     "name": "stdout",
     "output_type": "stream",
     "text": [
      "Iteration 0, Current Score: 0,                 Best Feature: davinci-logprobs s-avg, New Score: 1.0\n"
     ]
    },
    {
     "name": "stderr",
     "output_type": "stream",
     "text": [
      "100%|███████████████████████████████████████████████████| 2533/2533 [00:10<00:00, 235.22it/s]"
     ]
    },
    {
     "name": "stdout",
     "output_type": "stream",
     "text": [
      "Iteration 1, Current Score: 1.0,                 Best Feature: davinci-logprobs s-max, New Score: 1.0\n",
      "TRAINING WITHOUT AUGMENTATIONS\n",
      "Train size: 10\n",
      "F1-Score: 0.953245181920318\n",
      "\n",
      "early stopping.\n",
      "early stopping\n",
      "**************** SEED 93 ****************\n",
      "***************** AUGMENTATION: baseline *****************\n"
     ]
    },
    {
     "name": "stderr",
     "output_type": "stream",
     "text": [
      "\n"
     ]
    },
    {
     "data": {
      "application/vnd.jupyter.widget-view+json": {
       "model_id": "cf077b33dc1c4235989affe189a798dc",
       "version_major": 2,
       "version_minor": 0
      },
      "text/plain": [
       "  0%|          | 0/5 [00:00<?, ?it/s]"
      ]
     },
     "metadata": {},
     "output_type": "display_data"
    },
    {
     "name": "stdout",
     "output_type": "stream",
     "text": [
      "***************** TRAIN SIZE: 10 *****************\n"
     ]
    },
    {
     "name": "stderr",
     "output_type": "stream",
     "text": [
      "100%|███████████████████████████████████████████████████| 2534/2534 [00:09<00:00, 262.67it/s]\n"
     ]
    },
    {
     "name": "stdout",
     "output_type": "stream",
     "text": [
      "Iteration 0, Current Score: 0,                 Best Feature: davinci-logprobs s-min, New Score: 1.0\n"
     ]
    },
    {
     "name": "stderr",
     "output_type": "stream",
     "text": [
      "100%|███████████████████████████████████████████████████| 2533/2533 [00:10<00:00, 230.70it/s]\n"
     ]
    },
    {
     "name": "stdout",
     "output_type": "stream",
     "text": [
      "Iteration 1, Current Score: 1.0,                 Best Feature: davinci-logprobs s-avg, New Score: 1.0\n",
      "TRAINING WITHOUT AUGMENTATIONS\n",
      "Train size: 10\n",
      "F1-Score: 0.8980957282552754\n",
      "\n",
      "passes...\n",
      "***************** TRAIN SIZE: 25 *****************\n"
     ]
    },
    {
     "name": "stderr",
     "output_type": "stream",
     "text": [
      "100%|███████████████████████████████████████████████████| 2534/2534 [00:09<00:00, 258.40it/s]\n"
     ]
    },
    {
     "name": "stdout",
     "output_type": "stream",
     "text": [
      "Iteration 0, Current Score: 0,                 Best Feature: trigram-logprobs v-sub davinci-logprobs s-avg, New Score: 1.0\n"
     ]
    },
    {
     "name": "stderr",
     "output_type": "stream",
     "text": [
      "100%|███████████████████████████████████████████████████| 2533/2533 [00:11<00:00, 215.82it/s]\n"
     ]
    },
    {
     "name": "stdout",
     "output_type": "stream",
     "text": [
      "Iteration 1, Current Score: 1.0,                 Best Feature: davinci-logprobs s-var, New Score: 1.0\n",
      "TRAINING WITHOUT AUGMENTATIONS\n",
      "Train size: 25\n",
      "F1-Score: 0.9543755974624142\n",
      "\n",
      "passes...\n",
      "***************** TRAIN SIZE: 50 *****************\n"
     ]
    },
    {
     "name": "stderr",
     "output_type": "stream",
     "text": [
      "100%|███████████████████████████████████████████████████| 2534/2534 [00:09<00:00, 261.82it/s]\n"
     ]
    },
    {
     "name": "stdout",
     "output_type": "stream",
     "text": [
      "Iteration 0, Current Score: 0,                 Best Feature: trigram-logprobs v-> davinci-logprobs s-avg, New Score: 1.0\n"
     ]
    },
    {
     "name": "stderr",
     "output_type": "stream",
     "text": [
      "100%|███████████████████████████████████████████████████| 2533/2533 [00:11<00:00, 217.09it/s]\n"
     ]
    },
    {
     "name": "stdout",
     "output_type": "stream",
     "text": [
      "Iteration 1, Current Score: 1.0,                 Best Feature: davinci-logprobs s-max, New Score: 1.0\n",
      "TRAINING WITHOUT AUGMENTATIONS\n",
      "Train size: 50\n",
      "F1-Score: 0.9881235154394299\n",
      "\n",
      "passes...\n",
      "***************** TRAIN SIZE: 75 *****************\n"
     ]
    },
    {
     "name": "stderr",
     "output_type": "stream",
     "text": [
      "100%|███████████████████████████████████████████████████| 2534/2534 [00:10<00:00, 249.89it/s]\n"
     ]
    },
    {
     "name": "stdout",
     "output_type": "stream",
     "text": [
      "Iteration 0, Current Score: 0,                 Best Feature: trigram-logprobs v-> davinci-logprobs s-var, New Score: 1.0\n"
     ]
    },
    {
     "name": "stderr",
     "output_type": "stream",
     "text": [
      "100%|███████████████████████████████████████████████████| 2533/2533 [00:12<00:00, 209.27it/s]\n"
     ]
    },
    {
     "name": "stdout",
     "output_type": "stream",
     "text": [
      "Iteration 1, Current Score: 1.0,                 Best Feature: davinci-logprobs s-max, New Score: 1.0\n",
      "TRAINING WITHOUT AUGMENTATIONS\n",
      "Train size: 75\n",
      "F1-Score: 0.9878328937292606\n",
      "\n",
      "passes...\n",
      "***************** TRAIN SIZE: 100 *****************\n"
     ]
    },
    {
     "name": "stderr",
     "output_type": "stream",
     "text": [
      "100%|███████████████████████████████████████████████████| 2534/2534 [00:09<00:00, 253.69it/s]\n"
     ]
    },
    {
     "name": "stdout",
     "output_type": "stream",
     "text": [
      "Iteration 0, Current Score: 0,                 Best Feature: unigram-logprobs v-add trigram-logprobs v-> davinci-logprobs s-var, New Score: 1.0\n"
     ]
    },
    {
     "name": "stderr",
     "output_type": "stream",
     "text": [
      "100%|███████████████████████████████████████████████████| 2533/2533 [00:12<00:00, 210.33it/s]"
     ]
    },
    {
     "name": "stdout",
     "output_type": "stream",
     "text": [
      "Iteration 1, Current Score: 1.0,                 Best Feature: davinci-logprobs s-avg, New Score: 1.0\n",
      "TRAINING WITHOUT AUGMENTATIONS\n",
      "Train size: 100\n",
      "F1-Score: 0.9920081618772317\n",
      "\n",
      "passes...\n",
      "***************** AUGMENTATION: synonym *****************\n"
     ]
    },
    {
     "name": "stderr",
     "output_type": "stream",
     "text": [
      "\n"
     ]
    },
    {
     "data": {
      "application/vnd.jupyter.widget-view+json": {
       "model_id": "355a07b9bb404726931bc7475aee4c07",
       "version_major": 2,
       "version_minor": 0
      },
      "text/plain": [
       "  0%|          | 0/5 [00:00<?, ?it/s]"
      ]
     },
     "metadata": {},
     "output_type": "display_data"
    },
    {
     "name": "stdout",
     "output_type": "stream",
     "text": [
      "***************** TRAIN SIZE: 10 *****************\n"
     ]
    },
    {
     "name": "stderr",
     "output_type": "stream",
     "text": [
      "100%|███████████████████████████████████████████████████| 2534/2534 [00:09<00:00, 262.34it/s]\n"
     ]
    },
    {
     "name": "stdout",
     "output_type": "stream",
     "text": [
      "Iteration 0, Current Score: 0,                 Best Feature: davinci-logprobs s-min, New Score: 1.0\n"
     ]
    },
    {
     "name": "stderr",
     "output_type": "stream",
     "text": [
      "100%|███████████████████████████████████████████████████| 2533/2533 [00:11<00:00, 228.80it/s]\n"
     ]
    },
    {
     "name": "stdout",
     "output_type": "stream",
     "text": [
      "Iteration 1, Current Score: 1.0,                 Best Feature: davinci-logprobs s-avg, New Score: 1.0\n",
      "TRAINING WITH synonym AUGMENTED DATA.\n",
      "Train size: 10\n",
      "F1-Score: 0.8724808589281\n",
      "\n",
      "passes...\n",
      "***************** TRAIN SIZE: 25 *****************\n"
     ]
    },
    {
     "name": "stderr",
     "output_type": "stream",
     "text": [
      "100%|███████████████████████████████████████████████████| 2534/2534 [00:09<00:00, 266.96it/s]\n"
     ]
    },
    {
     "name": "stdout",
     "output_type": "stream",
     "text": [
      "Iteration 0, Current Score: 0,                 Best Feature: trigram-logprobs v-< davinci-logprobs v-div trigram-logprobs s-avg, New Score: 0.96\n"
     ]
    },
    {
     "name": "stderr",
     "output_type": "stream",
     "text": [
      "100%|███████████████████████████████████████████████████| 2533/2533 [00:11<00:00, 220.34it/s]\n"
     ]
    },
    {
     "name": "stdout",
     "output_type": "stream",
     "text": [
      "Iteration 1, Current Score: 0.96,                 Best Feature: davinci-logprobs s-max, New Score: 0.96\n",
      "TRAINING WITH synonym AUGMENTED DATA.\n",
      "Train size: 25\n",
      "F1-Score: 0.9633154525004326\n",
      "\n",
      "passes...\n",
      "***************** TRAIN SIZE: 50 *****************\n"
     ]
    },
    {
     "name": "stderr",
     "output_type": "stream",
     "text": [
      "100%|███████████████████████████████████████████████████| 2534/2534 [00:09<00:00, 255.05it/s]\n"
     ]
    },
    {
     "name": "stdout",
     "output_type": "stream",
     "text": [
      "Iteration 0, Current Score: 0,                 Best Feature: trigram-logprobs v-> davinci-logprobs s-avg, New Score: 1.0\n"
     ]
    },
    {
     "name": "stderr",
     "output_type": "stream",
     "text": [
      "100%|███████████████████████████████████████████████████| 2533/2533 [00:11<00:00, 212.61it/s]\n"
     ]
    },
    {
     "name": "stdout",
     "output_type": "stream",
     "text": [
      "Iteration 1, Current Score: 1.0,                 Best Feature: davinci-logprobs s-max, New Score: 1.0\n",
      "TRAINING WITH synonym AUGMENTED DATA.\n",
      "Train size: 50\n",
      "F1-Score: 0.974429616874731\n",
      "\n",
      "passes...\n",
      "***************** TRAIN SIZE: 75 *****************\n"
     ]
    },
    {
     "name": "stderr",
     "output_type": "stream",
     "text": [
      "100%|███████████████████████████████████████████████████| 2534/2534 [00:10<00:00, 247.74it/s]\n"
     ]
    },
    {
     "name": "stdout",
     "output_type": "stream",
     "text": [
      "Iteration 0, Current Score: 0,                 Best Feature: trigram-logprobs v-div ada-logprobs v-> davinci-logprobs s-avg, New Score: 1.0\n"
     ]
    },
    {
     "name": "stderr",
     "output_type": "stream",
     "text": [
      "100%|███████████████████████████████████████████████████| 2533/2533 [00:12<00:00, 207.86it/s]\n"
     ]
    },
    {
     "name": "stdout",
     "output_type": "stream",
     "text": [
      "Iteration 1, Current Score: 1.0,                 Best Feature: davinci-logprobs s-max, New Score: 1.0\n",
      "TRAINING WITH synonym AUGMENTED DATA.\n",
      "Train size: 75\n",
      "F1-Score: 0.9860044376173408\n",
      "\n",
      "passes...\n",
      "***************** TRAIN SIZE: 100 *****************\n"
     ]
    },
    {
     "name": "stderr",
     "output_type": "stream",
     "text": [
      "100%|███████████████████████████████████████████████████| 2534/2534 [00:09<00:00, 254.70it/s]\n"
     ]
    },
    {
     "name": "stdout",
     "output_type": "stream",
     "text": [
      "Iteration 0, Current Score: 0,                 Best Feature: trigram-logprobs v-> davinci-logprobs s-avg, New Score: 1.0\n"
     ]
    },
    {
     "name": "stderr",
     "output_type": "stream",
     "text": [
      "100%|███████████████████████████████████████████████████| 2533/2533 [00:12<00:00, 207.98it/s]"
     ]
    },
    {
     "name": "stdout",
     "output_type": "stream",
     "text": [
      "Iteration 1, Current Score: 1.0,                 Best Feature: davinci-logprobs s-max, New Score: 1.0\n",
      "TRAINING WITH synonym AUGMENTED DATA.\n",
      "Train size: 100\n",
      "F1-Score: 0.9836766088368516\n",
      "\n",
      "passes...\n",
      "***************** AUGMENTATION: back *****************\n"
     ]
    },
    {
     "name": "stderr",
     "output_type": "stream",
     "text": [
      "\n"
     ]
    },
    {
     "data": {
      "application/vnd.jupyter.widget-view+json": {
       "model_id": "01c03d494c444b99805f29dabcf02a48",
       "version_major": 2,
       "version_minor": 0
      },
      "text/plain": [
       "  0%|          | 0/5 [00:00<?, ?it/s]"
      ]
     },
     "metadata": {},
     "output_type": "display_data"
    },
    {
     "name": "stdout",
     "output_type": "stream",
     "text": [
      "***************** TRAIN SIZE: 10 *****************\n"
     ]
    },
    {
     "name": "stderr",
     "output_type": "stream",
     "text": [
      "100%|███████████████████████████████████████████████████| 2534/2534 [00:09<00:00, 261.37it/s]\n"
     ]
    },
    {
     "name": "stdout",
     "output_type": "stream",
     "text": [
      "Iteration 0, Current Score: 0,                 Best Feature: davinci-logprobs s-min, New Score: 1.0\n"
     ]
    },
    {
     "name": "stderr",
     "output_type": "stream",
     "text": [
      "100%|███████████████████████████████████████████████████| 2533/2533 [00:10<00:00, 233.66it/s]\n"
     ]
    },
    {
     "name": "stdout",
     "output_type": "stream",
     "text": [
      "Iteration 1, Current Score: 1.0,                 Best Feature: davinci-logprobs s-avg, New Score: 1.0\n",
      "TRAINING WITH back AUGMENTED DATA.\n",
      "Train size: 10\n",
      "F1-Score: 0.8810919590515356\n",
      "\n",
      "passes...\n",
      "***************** TRAIN SIZE: 25 *****************\n"
     ]
    },
    {
     "name": "stderr",
     "output_type": "stream",
     "text": [
      "100%|███████████████████████████████████████████████████| 2534/2534 [00:09<00:00, 262.78it/s]\n"
     ]
    },
    {
     "name": "stdout",
     "output_type": "stream",
     "text": [
      "Iteration 0, Current Score: 0,                 Best Feature: trigram-logprobs v-< davinci-logprobs v-div trigram-logprobs s-avg, New Score: 0.96\n"
     ]
    },
    {
     "name": "stderr",
     "output_type": "stream",
     "text": [
      "100%|███████████████████████████████████████████████████| 2533/2533 [00:11<00:00, 219.00it/s]\n"
     ]
    },
    {
     "name": "stdout",
     "output_type": "stream",
     "text": [
      "Iteration 1, Current Score: 0.96,                 Best Feature: davinci-logprobs s-max, New Score: 0.96\n",
      "TRAINING WITH back AUGMENTED DATA.\n",
      "Train size: 25\n",
      "F1-Score: 0.9390567037625861\n",
      "\n",
      "passes...\n",
      "***************** TRAIN SIZE: 50 *****************\n"
     ]
    },
    {
     "name": "stderr",
     "output_type": "stream",
     "text": [
      "100%|███████████████████████████████████████████████████| 2534/2534 [00:09<00:00, 254.32it/s]\n"
     ]
    },
    {
     "name": "stdout",
     "output_type": "stream",
     "text": [
      "Iteration 0, Current Score: 0,                 Best Feature: trigram-logprobs v-> davinci-logprobs s-avg, New Score: 1.0\n"
     ]
    },
    {
     "name": "stderr",
     "output_type": "stream",
     "text": [
      "100%|███████████████████████████████████████████████████| 2533/2533 [00:12<00:00, 210.97it/s]\n"
     ]
    },
    {
     "name": "stdout",
     "output_type": "stream",
     "text": [
      "Iteration 1, Current Score: 1.0,                 Best Feature: davinci-logprobs s-max, New Score: 1.0\n",
      "TRAINING WITH back AUGMENTED DATA.\n",
      "Train size: 50\n",
      "F1-Score: 0.9593084177436255\n",
      "\n",
      "passes...\n",
      "***************** TRAIN SIZE: 75 *****************\n"
     ]
    },
    {
     "name": "stderr",
     "output_type": "stream",
     "text": [
      "100%|███████████████████████████████████████████████████| 2534/2534 [00:10<00:00, 247.22it/s]\n"
     ]
    },
    {
     "name": "stdout",
     "output_type": "stream",
     "text": [
      "Iteration 0, Current Score: 0,                 Best Feature: trigram-logprobs v-div ada-logprobs v-> davinci-logprobs s-avg, New Score: 1.0\n"
     ]
    },
    {
     "name": "stderr",
     "output_type": "stream",
     "text": [
      "100%|███████████████████████████████████████████████████| 2533/2533 [00:11<00:00, 211.46it/s]\n"
     ]
    },
    {
     "name": "stdout",
     "output_type": "stream",
     "text": [
      "Iteration 1, Current Score: 1.0,                 Best Feature: davinci-logprobs s-max, New Score: 1.0\n",
      "TRAINING WITH back AUGMENTED DATA.\n",
      "Train size: 75\n",
      "F1-Score: 0.983027601577233\n",
      "\n",
      "passes...\n",
      "***************** TRAIN SIZE: 100 *****************\n"
     ]
    },
    {
     "name": "stderr",
     "output_type": "stream",
     "text": [
      "100%|███████████████████████████████████████████████████| 2534/2534 [00:09<00:00, 255.90it/s]\n"
     ]
    },
    {
     "name": "stdout",
     "output_type": "stream",
     "text": [
      "Iteration 0, Current Score: 0,                 Best Feature: trigram-logprobs v-> davinci-logprobs s-avg, New Score: 1.0\n"
     ]
    },
    {
     "name": "stderr",
     "output_type": "stream",
     "text": [
      "100%|███████████████████████████████████████████████████| 2533/2533 [00:12<00:00, 205.64it/s]"
     ]
    },
    {
     "name": "stdout",
     "output_type": "stream",
     "text": [
      "Iteration 1, Current Score: 1.0,                 Best Feature: davinci-logprobs s-max, New Score: 1.0\n",
      "TRAINING WITH back AUGMENTED DATA.\n",
      "Train size: 100\n",
      "F1-Score: 0.9867075664621677\n",
      "\n",
      "passes...\n",
      "***************** AUGMENTATION: emotion *****************\n"
     ]
    },
    {
     "name": "stderr",
     "output_type": "stream",
     "text": [
      "\n"
     ]
    },
    {
     "data": {
      "application/vnd.jupyter.widget-view+json": {
       "model_id": "87dcef75c2db43718e7c94f061d43d6a",
       "version_major": 2,
       "version_minor": 0
      },
      "text/plain": [
       "  0%|          | 0/5 [00:00<?, ?it/s]"
      ]
     },
     "metadata": {},
     "output_type": "display_data"
    },
    {
     "name": "stdout",
     "output_type": "stream",
     "text": [
      "***************** TRAIN SIZE: 10 *****************\n"
     ]
    },
    {
     "name": "stderr",
     "output_type": "stream",
     "text": [
      "100%|███████████████████████████████████████████████████| 2534/2534 [00:09<00:00, 266.47it/s]\n"
     ]
    },
    {
     "name": "stdout",
     "output_type": "stream",
     "text": [
      "Iteration 0, Current Score: 0,                 Best Feature: davinci-logprobs s-min, New Score: 1.0\n"
     ]
    },
    {
     "name": "stderr",
     "output_type": "stream",
     "text": [
      "100%|███████████████████████████████████████████████████| 2533/2533 [00:10<00:00, 232.97it/s]\n"
     ]
    },
    {
     "name": "stdout",
     "output_type": "stream",
     "text": [
      "Iteration 1, Current Score: 1.0,                 Best Feature: davinci-logprobs s-avg, New Score: 1.0\n",
      "TRAINING WITH emotion AUGMENTED DATA.\n",
      "Train size: 10\n",
      "F1-Score: 0.8693181818181818\n",
      "\n",
      "passes...\n",
      "***************** TRAIN SIZE: 25 *****************\n"
     ]
    },
    {
     "name": "stderr",
     "output_type": "stream",
     "text": [
      "100%|███████████████████████████████████████████████████| 2534/2534 [00:09<00:00, 266.60it/s]\n"
     ]
    },
    {
     "name": "stdout",
     "output_type": "stream",
     "text": [
      "Iteration 0, Current Score: 0,                 Best Feature: trigram-logprobs v-< davinci-logprobs v-div trigram-logprobs s-avg, New Score: 0.96\n"
     ]
    },
    {
     "name": "stderr",
     "output_type": "stream",
     "text": [
      "100%|███████████████████████████████████████████████████| 2533/2533 [00:11<00:00, 220.49it/s]\n"
     ]
    },
    {
     "name": "stdout",
     "output_type": "stream",
     "text": [
      "Iteration 1, Current Score: 0.96,                 Best Feature: davinci-logprobs s-max, New Score: 0.96\n",
      "TRAINING WITH emotion AUGMENTED DATA.\n",
      "Train size: 25\n",
      "F1-Score: 0.9660181582360571\n",
      "\n",
      "passes...\n",
      "***************** TRAIN SIZE: 50 *****************\n"
     ]
    },
    {
     "name": "stderr",
     "output_type": "stream",
     "text": [
      "100%|███████████████████████████████████████████████████| 2534/2534 [00:09<00:00, 253.43it/s]\n"
     ]
    },
    {
     "name": "stdout",
     "output_type": "stream",
     "text": [
      "Iteration 0, Current Score: 0,                 Best Feature: trigram-logprobs v-> davinci-logprobs s-avg, New Score: 1.0\n"
     ]
    },
    {
     "name": "stderr",
     "output_type": "stream",
     "text": [
      "100%|███████████████████████████████████████████████████| 2533/2533 [00:11<00:00, 212.54it/s]\n"
     ]
    },
    {
     "name": "stdout",
     "output_type": "stream",
     "text": [
      "Iteration 1, Current Score: 1.0,                 Best Feature: davinci-logprobs s-max, New Score: 1.0\n",
      "TRAINING WITH emotion AUGMENTED DATA.\n",
      "Train size: 50\n",
      "F1-Score: 0.9780596503256771\n",
      "\n",
      "passes...\n",
      "***************** TRAIN SIZE: 75 *****************\n"
     ]
    },
    {
     "name": "stderr",
     "output_type": "stream",
     "text": [
      "100%|███████████████████████████████████████████████████| 2534/2534 [00:10<00:00, 243.98it/s]\n"
     ]
    },
    {
     "name": "stdout",
     "output_type": "stream",
     "text": [
      "Iteration 0, Current Score: 0,                 Best Feature: trigram-logprobs v-div ada-logprobs v-> davinci-logprobs s-avg, New Score: 1.0\n"
     ]
    },
    {
     "name": "stderr",
     "output_type": "stream",
     "text": [
      "100%|███████████████████████████████████████████████████| 2533/2533 [00:12<00:00, 207.58it/s]\n"
     ]
    },
    {
     "name": "stdout",
     "output_type": "stream",
     "text": [
      "Iteration 1, Current Score: 1.0,                 Best Feature: davinci-logprobs s-max, New Score: 1.0\n",
      "TRAINING WITH emotion AUGMENTED DATA.\n",
      "Train size: 75\n",
      "F1-Score: 0.9841650261063083\n",
      "\n",
      "passes...\n",
      "***************** TRAIN SIZE: 100 *****************\n"
     ]
    },
    {
     "name": "stderr",
     "output_type": "stream",
     "text": [
      "100%|███████████████████████████████████████████████████| 2534/2534 [00:10<00:00, 252.67it/s]\n"
     ]
    },
    {
     "name": "stdout",
     "output_type": "stream",
     "text": [
      "Iteration 0, Current Score: 0,                 Best Feature: trigram-logprobs v-> davinci-logprobs s-avg, New Score: 1.0\n"
     ]
    },
    {
     "name": "stderr",
     "output_type": "stream",
     "text": [
      "100%|███████████████████████████████████████████████████| 2533/2533 [00:12<00:00, 199.36it/s]"
     ]
    },
    {
     "name": "stdout",
     "output_type": "stream",
     "text": [
      "Iteration 1, Current Score: 1.0,                 Best Feature: davinci-logprobs s-max, New Score: 1.0\n",
      "TRAINING WITH emotion AUGMENTED DATA.\n",
      "Train size: 100\n",
      "F1-Score: 0.9874882968763299\n",
      "\n",
      "passes...\n",
      "***************** AUGMENTATION: style *****************\n"
     ]
    },
    {
     "name": "stderr",
     "output_type": "stream",
     "text": [
      "\n"
     ]
    },
    {
     "data": {
      "application/vnd.jupyter.widget-view+json": {
       "model_id": "0043df6ba9bd472cae5b704d100a9bdc",
       "version_major": 2,
       "version_minor": 0
      },
      "text/plain": [
       "  0%|          | 0/5 [00:00<?, ?it/s]"
      ]
     },
     "metadata": {},
     "output_type": "display_data"
    },
    {
     "name": "stdout",
     "output_type": "stream",
     "text": [
      "***************** TRAIN SIZE: 10 *****************\n"
     ]
    },
    {
     "name": "stderr",
     "output_type": "stream",
     "text": [
      "100%|███████████████████████████████████████████████████| 2534/2534 [00:09<00:00, 258.84it/s]\n"
     ]
    },
    {
     "name": "stdout",
     "output_type": "stream",
     "text": [
      "Iteration 0, Current Score: 0,                 Best Feature: davinci-logprobs s-min, New Score: 1.0\n"
     ]
    },
    {
     "name": "stderr",
     "output_type": "stream",
     "text": [
      "100%|███████████████████████████████████████████████████| 2533/2533 [00:11<00:00, 227.34it/s]\n"
     ]
    },
    {
     "name": "stdout",
     "output_type": "stream",
     "text": [
      "Iteration 1, Current Score: 1.0,                 Best Feature: davinci-logprobs s-avg, New Score: 1.0\n",
      "TRAINING WITH style AUGMENTED DATA.\n",
      "Train size: 10\n",
      "F1-Score: 0.8795317550449899\n",
      "\n",
      "passes...\n",
      "***************** TRAIN SIZE: 25 *****************\n"
     ]
    },
    {
     "name": "stderr",
     "output_type": "stream",
     "text": [
      "100%|███████████████████████████████████████████████████| 2534/2534 [00:09<00:00, 260.76it/s]\n"
     ]
    },
    {
     "name": "stdout",
     "output_type": "stream",
     "text": [
      "Iteration 0, Current Score: 0,                 Best Feature: trigram-logprobs v-< davinci-logprobs v-div trigram-logprobs s-avg, New Score: 0.96\n"
     ]
    },
    {
     "name": "stderr",
     "output_type": "stream",
     "text": [
      "100%|███████████████████████████████████████████████████| 2533/2533 [00:11<00:00, 221.12it/s]\n"
     ]
    },
    {
     "name": "stdout",
     "output_type": "stream",
     "text": [
      "Iteration 1, Current Score: 0.96,                 Best Feature: davinci-logprobs s-max, New Score: 0.96\n",
      "TRAINING WITH style AUGMENTED DATA.\n",
      "Train size: 25\n",
      "F1-Score: 0.9612416543830746\n",
      "\n",
      "passes...\n",
      "***************** TRAIN SIZE: 50 *****************\n"
     ]
    },
    {
     "name": "stderr",
     "output_type": "stream",
     "text": [
      "100%|███████████████████████████████████████████████████| 2534/2534 [00:09<00:00, 255.93it/s]\n"
     ]
    },
    {
     "name": "stdout",
     "output_type": "stream",
     "text": [
      "Iteration 0, Current Score: 0,                 Best Feature: trigram-logprobs v-> davinci-logprobs s-avg, New Score: 1.0\n"
     ]
    },
    {
     "name": "stderr",
     "output_type": "stream",
     "text": [
      "100%|███████████████████████████████████████████████████| 2533/2533 [00:11<00:00, 214.16it/s]\n"
     ]
    },
    {
     "name": "stdout",
     "output_type": "stream",
     "text": [
      "Iteration 1, Current Score: 1.0,                 Best Feature: davinci-logprobs s-max, New Score: 1.0\n",
      "TRAINING WITH style AUGMENTED DATA.\n",
      "Train size: 50\n",
      "F1-Score: 0.973691020443371\n",
      "\n",
      "passes...\n",
      "***************** TRAIN SIZE: 75 *****************\n"
     ]
    },
    {
     "name": "stderr",
     "output_type": "stream",
     "text": [
      "100%|███████████████████████████████████████████████████| 2534/2534 [00:10<00:00, 246.39it/s]\n"
     ]
    },
    {
     "name": "stdout",
     "output_type": "stream",
     "text": [
      "Iteration 0, Current Score: 0,                 Best Feature: trigram-logprobs v-div ada-logprobs v-> davinci-logprobs s-avg, New Score: 1.0\n"
     ]
    },
    {
     "name": "stderr",
     "output_type": "stream",
     "text": [
      "100%|███████████████████████████████████████████████████| 2533/2533 [00:12<00:00, 208.05it/s]\n"
     ]
    },
    {
     "name": "stdout",
     "output_type": "stream",
     "text": [
      "Iteration 1, Current Score: 1.0,                 Best Feature: davinci-logprobs s-max, New Score: 1.0\n",
      "TRAINING WITH style AUGMENTED DATA.\n",
      "Train size: 75\n",
      "F1-Score: 0.9838143358739402\n",
      "\n",
      "passes...\n",
      "***************** TRAIN SIZE: 100 *****************\n"
     ]
    },
    {
     "name": "stderr",
     "output_type": "stream",
     "text": [
      "100%|███████████████████████████████████████████████████| 2534/2534 [00:09<00:00, 258.71it/s]\n"
     ]
    },
    {
     "name": "stdout",
     "output_type": "stream",
     "text": [
      "Iteration 0, Current Score: 0,                 Best Feature: trigram-logprobs v-> davinci-logprobs s-avg, New Score: 1.0\n"
     ]
    },
    {
     "name": "stderr",
     "output_type": "stream",
     "text": [
      "100%|███████████████████████████████████████████████████| 2533/2533 [00:12<00:00, 210.30it/s]"
     ]
    },
    {
     "name": "stdout",
     "output_type": "stream",
     "text": [
      "Iteration 1, Current Score: 1.0,                 Best Feature: davinci-logprobs s-max, New Score: 1.0\n",
      "TRAINING WITH style AUGMENTED DATA.\n",
      "Train size: 100\n",
      "F1-Score: 0.986473840918758\n",
      "\n",
      "passes...\n",
      "***************** AUGMENTATION: summary *****************\n"
     ]
    },
    {
     "name": "stderr",
     "output_type": "stream",
     "text": [
      "\n"
     ]
    },
    {
     "data": {
      "application/vnd.jupyter.widget-view+json": {
       "model_id": "c487cabd64224e6ba6b7e3ddb0958cc6",
       "version_major": 2,
       "version_minor": 0
      },
      "text/plain": [
       "  0%|          | 0/5 [00:00<?, ?it/s]"
      ]
     },
     "metadata": {},
     "output_type": "display_data"
    },
    {
     "name": "stdout",
     "output_type": "stream",
     "text": [
      "***************** TRAIN SIZE: 10 *****************\n"
     ]
    },
    {
     "name": "stderr",
     "output_type": "stream",
     "text": [
      "100%|███████████████████████████████████████████████████| 2534/2534 [00:09<00:00, 263.38it/s]\n"
     ]
    },
    {
     "name": "stdout",
     "output_type": "stream",
     "text": [
      "Iteration 0, Current Score: 0,                 Best Feature: davinci-logprobs s-min, New Score: 1.0\n"
     ]
    },
    {
     "name": "stderr",
     "output_type": "stream",
     "text": [
      "100%|███████████████████████████████████████████████████| 2533/2533 [00:10<00:00, 233.38it/s]\n"
     ]
    },
    {
     "name": "stdout",
     "output_type": "stream",
     "text": [
      "Iteration 1, Current Score: 1.0,                 Best Feature: davinci-logprobs s-avg, New Score: 1.0\n",
      "TRAINING WITH summary AUGMENTED DATA.\n",
      "Train size: 10\n",
      "F1-Score: 0.8615578115173839\n",
      "\n",
      "passes...\n",
      "***************** TRAIN SIZE: 25 *****************\n"
     ]
    },
    {
     "name": "stderr",
     "output_type": "stream",
     "text": [
      "100%|███████████████████████████████████████████████████| 2534/2534 [00:09<00:00, 267.01it/s]\n"
     ]
    },
    {
     "name": "stdout",
     "output_type": "stream",
     "text": [
      "Iteration 0, Current Score: 0,                 Best Feature: trigram-logprobs v-< davinci-logprobs v-div trigram-logprobs s-avg, New Score: 0.96\n"
     ]
    },
    {
     "name": "stderr",
     "output_type": "stream",
     "text": [
      "100%|███████████████████████████████████████████████████| 2533/2533 [00:11<00:00, 221.76it/s]\n"
     ]
    },
    {
     "name": "stdout",
     "output_type": "stream",
     "text": [
      "Iteration 1, Current Score: 0.96,                 Best Feature: davinci-logprobs s-max, New Score: 0.96\n",
      "TRAINING WITH summary AUGMENTED DATA.\n",
      "Train size: 25\n",
      "F1-Score: 0.9322139858890774\n",
      "\n",
      "passes...\n",
      "***************** TRAIN SIZE: 50 *****************\n"
     ]
    },
    {
     "name": "stderr",
     "output_type": "stream",
     "text": [
      "100%|███████████████████████████████████████████████████| 2534/2534 [00:10<00:00, 252.81it/s]\n"
     ]
    },
    {
     "name": "stdout",
     "output_type": "stream",
     "text": [
      "Iteration 0, Current Score: 0,                 Best Feature: trigram-logprobs v-> davinci-logprobs s-avg, New Score: 1.0\n"
     ]
    },
    {
     "name": "stderr",
     "output_type": "stream",
     "text": [
      "100%|███████████████████████████████████████████████████| 2533/2533 [00:11<00:00, 213.51it/s]\n"
     ]
    },
    {
     "name": "stdout",
     "output_type": "stream",
     "text": [
      "Iteration 1, Current Score: 1.0,                 Best Feature: davinci-logprobs s-max, New Score: 1.0\n",
      "TRAINING WITH summary AUGMENTED DATA.\n",
      "Train size: 50\n",
      "F1-Score: 0.9695142955563211\n",
      "\n",
      "passes...\n",
      "***************** TRAIN SIZE: 75 *****************\n"
     ]
    },
    {
     "name": "stderr",
     "output_type": "stream",
     "text": [
      "100%|███████████████████████████████████████████████████| 2534/2534 [00:10<00:00, 245.76it/s]\n"
     ]
    },
    {
     "name": "stdout",
     "output_type": "stream",
     "text": [
      "Iteration 0, Current Score: 0,                 Best Feature: trigram-logprobs v-div ada-logprobs v-> davinci-logprobs s-avg, New Score: 1.0\n"
     ]
    },
    {
     "name": "stderr",
     "output_type": "stream",
     "text": [
      "100%|███████████████████████████████████████████████████| 2533/2533 [00:12<00:00, 207.78it/s]\n"
     ]
    },
    {
     "name": "stdout",
     "output_type": "stream",
     "text": [
      "Iteration 1, Current Score: 1.0,                 Best Feature: davinci-logprobs s-max, New Score: 1.0\n",
      "TRAINING WITH summary AUGMENTED DATA.\n",
      "Train size: 75\n",
      "F1-Score: 0.9813068084376608\n",
      "\n",
      "passes...\n",
      "***************** TRAIN SIZE: 100 *****************\n"
     ]
    },
    {
     "name": "stderr",
     "output_type": "stream",
     "text": [
      "100%|███████████████████████████████████████████████████| 2534/2534 [00:09<00:00, 258.71it/s]\n"
     ]
    },
    {
     "name": "stdout",
     "output_type": "stream",
     "text": [
      "Iteration 0, Current Score: 0,                 Best Feature: trigram-logprobs v-> davinci-logprobs s-avg, New Score: 1.0\n"
     ]
    },
    {
     "name": "stderr",
     "output_type": "stream",
     "text": [
      "100%|███████████████████████████████████████████████████| 2533/2533 [00:12<00:00, 210.90it/s]\n"
     ]
    },
    {
     "name": "stdout",
     "output_type": "stream",
     "text": [
      "Iteration 1, Current Score: 1.0,                 Best Feature: davinci-logprobs s-max, New Score: 1.0\n",
      "TRAINING WITH summary AUGMENTED DATA.\n",
      "Train size: 100\n",
      "F1-Score: 0.9826965907144081\n",
      "\n",
      "passes...\n"
     ]
    },
    {
     "data": {
      "image/png": "[encoded data removed]",
      "text/plain": [
       "<Figure size 640x480 with 1 Axes>"
      ]
     },
     "metadata": {},
     "output_type": "display_data"
    },
    {
     "name": "stdout",
     "output_type": "stream",
     "text": [
      "**************** SEED 94 ****************\n",
      "***************** AUGMENTATION: baseline *****************\n"
     ]
    },
    {
     "data": {
      "application/vnd.jupyter.widget-view+json": {
       "model_id": "656529c6eb0445a5865c30ea0804f5ac",
       "version_major": 2,
       "version_minor": 0
      },
      "text/plain": [
       "  0%|          | 0/5 [00:00<?, ?it/s]"
      ]
     },
     "metadata": {},
     "output_type": "display_data"
    },
    {
     "name": "stdout",
     "output_type": "stream",
     "text": [
      "***************** TRAIN SIZE: 10 *****************\n"
     ]
    },
    {
     "name": "stderr",
     "output_type": "stream",
     "text": [
      "100%|███████████████████████████████████████████████████| 2534/2534 [00:09<00:00, 266.55it/s]\n"
     ]
    },
    {
     "name": "stdout",
     "output_type": "stream",
     "text": [
      "Iteration 0, Current Score: 0,                 Best Feature: ada-logprobs v-div trigram-logprobs s-min, New Score: 1.0\n"
     ]
    },
    {
     "name": "stderr",
     "output_type": "stream",
     "text": [
      "100%|███████████████████████████████████████████████████| 2533/2533 [00:10<00:00, 233.70it/s]\n"
     ]
    },
    {
     "name": "stdout",
     "output_type": "stream",
     "text": [
      "Iteration 1, Current Score: 1.0,                 Best Feature: davinci-logprobs s-max, New Score: 1.0\n",
      "TRAINING WITHOUT AUGMENTATIONS\n",
      "Train size: 10\n",
      "F1-Score: 0.8090138746624453\n",
      "\n",
      "passes...\n",
      "***************** TRAIN SIZE: 25 *****************\n"
     ]
    },
    {
     "name": "stderr",
     "output_type": "stream",
     "text": [
      "100%|███████████████████████████████████████████████████| 2534/2534 [00:09<00:00, 261.73it/s]\n"
     ]
    },
    {
     "name": "stdout",
     "output_type": "stream",
     "text": [
      "Iteration 0, Current Score: 0,                 Best Feature: trigram-logprobs v-sub ada-logprobs v-> davinci-logprobs s-avg, New Score: 1.0\n"
     ]
    },
    {
     "name": "stderr",
     "output_type": "stream",
     "text": [
      "100%|███████████████████████████████████████████████████| 2533/2533 [00:11<00:00, 217.36it/s]"
     ]
    },
    {
     "name": "stdout",
     "output_type": "stream",
     "text": [
      "Iteration 1, Current Score: 1.0,                 Best Feature: davinci-logprobs s-min, New Score: 1.0\n",
      "TRAINING WITHOUT AUGMENTATIONS\n",
      "Train size: 25\n",
      "F1-Score: 0.9764292448787177\n",
      "\n",
      "early stopping.\n",
      "early stopping\n",
      "**************** SEED 95 ****************\n",
      "***************** AUGMENTATION: baseline *****************\n"
     ]
    },
    {
     "name": "stderr",
     "output_type": "stream",
     "text": [
      "\n"
     ]
    },
    {
     "data": {
      "application/vnd.jupyter.widget-view+json": {
       "model_id": "52519b76887d4c86a392819c34b7df75",
       "version_major": 2,
       "version_minor": 0
      },
      "text/plain": [
       "  0%|          | 0/5 [00:00<?, ?it/s]"
      ]
     },
     "metadata": {},
     "output_type": "display_data"
    },
    {
     "name": "stdout",
     "output_type": "stream",
     "text": [
      "***************** TRAIN SIZE: 10 *****************\n"
     ]
    },
    {
     "name": "stderr",
     "output_type": "stream",
     "text": [
      "100%|███████████████████████████████████████████████████| 2534/2534 [00:09<00:00, 268.98it/s]\n"
     ]
    },
    {
     "name": "stdout",
     "output_type": "stream",
     "text": [
      "Iteration 0, Current Score: 0,                 Best Feature: ada-logprobs v-sub davinci-logprobs s-avg, New Score: 1.0\n"
     ]
    },
    {
     "name": "stderr",
     "output_type": "stream",
     "text": [
      "100%|███████████████████████████████████████████████████| 2533/2533 [00:11<00:00, 229.42it/s]\n"
     ]
    },
    {
     "name": "stdout",
     "output_type": "stream",
     "text": [
      "Iteration 1, Current Score: 1.0,                 Best Feature: davinci-logprobs s-max, New Score: 1.0\n",
      "TRAINING WITHOUT AUGMENTATIONS\n",
      "Train size: 10\n",
      "F1-Score: 0.818707902476046\n",
      "\n",
      "passes...\n",
      "***************** TRAIN SIZE: 25 *****************\n"
     ]
    },
    {
     "name": "stderr",
     "output_type": "stream",
     "text": [
      "100%|███████████████████████████████████████████████████| 2534/2534 [00:09<00:00, 265.15it/s]\n"
     ]
    },
    {
     "name": "stdout",
     "output_type": "stream",
     "text": [
      "Iteration 0, Current Score: 0,                 Best Feature: trigram-logprobs v-sub ada-logprobs v-> davinci-logprobs s-avg-top-25, New Score: 1.0\n"
     ]
    },
    {
     "name": "stderr",
     "output_type": "stream",
     "text": [
      "100%|███████████████████████████████████████████████████| 2533/2533 [00:11<00:00, 224.43it/s]"
     ]
    },
    {
     "name": "stdout",
     "output_type": "stream",
     "text": [
      "Iteration 1, Current Score: 1.0,                 Best Feature: davinci-logprobs s-max, New Score: 1.0\n",
      "TRAINING WITHOUT AUGMENTATIONS\n",
      "Train size: 25\n",
      "F1-Score: 0.9843618631242643\n",
      "\n",
      "early stopping.\n",
      "early stopping\n",
      "**************** SEED 96 ****************\n",
      "***************** AUGMENTATION: baseline *****************\n"
     ]
    },
    {
     "name": "stderr",
     "output_type": "stream",
     "text": [
      "\n"
     ]
    },
    {
     "data": {
      "application/vnd.jupyter.widget-view+json": {
       "model_id": "109e56a4318943cb9e86ee415cbdebc6",
       "version_major": 2,
       "version_minor": 0
      },
      "text/plain": [
       "  0%|          | 0/5 [00:00<?, ?it/s]"
      ]
     },
     "metadata": {},
     "output_type": "display_data"
    },
    {
     "name": "stdout",
     "output_type": "stream",
     "text": [
      "***************** TRAIN SIZE: 10 *****************\n"
     ]
    },
    {
     "name": "stderr",
     "output_type": "stream",
     "text": [
      "100%|███████████████████████████████████████████████████| 2534/2534 [00:09<00:00, 266.32it/s]\n"
     ]
    },
    {
     "name": "stdout",
     "output_type": "stream",
     "text": [
      "Iteration 0, Current Score: 0,                 Best Feature: trigram-logprobs v-> davinci-logprobs s-avg, New Score: 1.0\n"
     ]
    },
    {
     "name": "stderr",
     "output_type": "stream",
     "text": [
      "100%|███████████████████████████████████████████████████| 2533/2533 [00:10<00:00, 232.98it/s]"
     ]
    },
    {
     "name": "stdout",
     "output_type": "stream",
     "text": [
      "Iteration 1, Current Score: 1.0,                 Best Feature: davinci-logprobs s-max, New Score: 1.0\n",
      "TRAINING WITHOUT AUGMENTATIONS\n",
      "Train size: 10\n",
      "F1-Score: 0.9883603238866396\n",
      "\n",
      "early stopping.\n",
      "early stopping\n",
      "**************** SEED 97 ****************\n",
      "***************** AUGMENTATION: baseline *****************\n"
     ]
    },
    {
     "name": "stderr",
     "output_type": "stream",
     "text": [
      "\n"
     ]
    },
    {
     "data": {
      "application/vnd.jupyter.widget-view+json": {
       "model_id": "c0932698a02a4716bffd64b313f23a29",
       "version_major": 2,
       "version_minor": 0
      },
      "text/plain": [
       "  0%|          | 0/5 [00:00<?, ?it/s]"
      ]
     },
     "metadata": {},
     "output_type": "display_data"
    },
    {
     "name": "stdout",
     "output_type": "stream",
     "text": [
      "***************** TRAIN SIZE: 10 *****************\n"
     ]
    },
    {
     "name": "stderr",
     "output_type": "stream",
     "text": [
      "100%|███████████████████████████████████████████████████| 2534/2534 [00:09<00:00, 265.27it/s]\n"
     ]
    },
    {
     "name": "stdout",
     "output_type": "stream",
     "text": [
      "Iteration 0, Current Score: 0,                 Best Feature: davinci-logprobs v-div unigram-logprobs s-min, New Score: 1.0\n"
     ]
    },
    {
     "name": "stderr",
     "output_type": "stream",
     "text": [
      "100%|███████████████████████████████████████████████████| 2533/2533 [00:10<00:00, 238.62it/s]\n"
     ]
    },
    {
     "name": "stdout",
     "output_type": "stream",
     "text": [
      "Iteration 1, Current Score: 1.0,                 Best Feature: davinci-logprobs s-max, New Score: 1.0\n",
      "TRAINING WITHOUT AUGMENTATIONS\n",
      "Train size: 10\n",
      "F1-Score: 0.6836723474436504\n",
      "\n",
      "passes...\n",
      "***************** TRAIN SIZE: 25 *****************\n"
     ]
    },
    {
     "name": "stderr",
     "output_type": "stream",
     "text": [
      "100%|███████████████████████████████████████████████████| 2534/2534 [00:09<00:00, 264.19it/s]\n"
     ]
    },
    {
     "name": "stdout",
     "output_type": "stream",
     "text": [
      "Iteration 0, Current Score: 0,                 Best Feature: davinci-logprobs s-avg, New Score: 1.0\n"
     ]
    },
    {
     "name": "stderr",
     "output_type": "stream",
     "text": [
      "100%|███████████████████████████████████████████████████| 2533/2533 [00:11<00:00, 223.17it/s]\n"
     ]
    },
    {
     "name": "stdout",
     "output_type": "stream",
     "text": [
      "Iteration 1, Current Score: 1.0,                 Best Feature: davinci-logprobs s-max, New Score: 1.0\n",
      "TRAINING WITHOUT AUGMENTATIONS\n",
      "Train size: 25\n",
      "F1-Score: 0.9403037179263397\n",
      "\n",
      "passes...\n",
      "***************** TRAIN SIZE: 50 *****************\n"
     ]
    },
    {
     "name": "stderr",
     "output_type": "stream",
     "text": [
      "100%|███████████████████████████████████████████████████| 2534/2534 [00:09<00:00, 261.23it/s]\n"
     ]
    },
    {
     "name": "stdout",
     "output_type": "stream",
     "text": [
      "Iteration 0, Current Score: 0,                 Best Feature: trigram-logprobs v-> davinci-logprobs s-avg, New Score: 1.0\n"
     ]
    },
    {
     "name": "stderr",
     "output_type": "stream",
     "text": [
      "100%|███████████████████████████████████████████████████| 2533/2533 [00:11<00:00, 218.46it/s]\n"
     ]
    },
    {
     "name": "stdout",
     "output_type": "stream",
     "text": [
      "Iteration 1, Current Score: 1.0,                 Best Feature: davinci-logprobs s-max, New Score: 1.0\n",
      "TRAINING WITHOUT AUGMENTATIONS\n",
      "Train size: 50\n",
      "F1-Score: 0.9880579317354112\n",
      "\n",
      "passes...\n",
      "***************** TRAIN SIZE: 75 *****************\n"
     ]
    },
    {
     "name": "stderr",
     "output_type": "stream",
     "text": [
      "100%|███████████████████████████████████████████████████| 2534/2534 [00:09<00:00, 256.89it/s]\n"
     ]
    },
    {
     "name": "stdout",
     "output_type": "stream",
     "text": [
      "Iteration 0, Current Score: 0,                 Best Feature: trigram-logprobs v-> davinci-logprobs s-avg, New Score: 1.0\n"
     ]
    },
    {
     "name": "stderr",
     "output_type": "stream",
     "text": [
      "100%|███████████████████████████████████████████████████| 2533/2533 [00:12<00:00, 210.17it/s]\n"
     ]
    },
    {
     "name": "stdout",
     "output_type": "stream",
     "text": [
      "Iteration 1, Current Score: 1.0,                 Best Feature: davinci-logprobs s-max, New Score: 1.0\n",
      "TRAINING WITHOUT AUGMENTATIONS\n",
      "Train size: 75\n",
      "F1-Score: 0.9822789144765003\n",
      "\n",
      "passes...\n",
      "***************** TRAIN SIZE: 100 *****************\n"
     ]
    },
    {
     "name": "stderr",
     "output_type": "stream",
     "text": [
      "100%|███████████████████████████████████████████████████| 2534/2534 [00:09<00:00, 257.63it/s]\n"
     ]
    },
    {
     "name": "stdout",
     "output_type": "stream",
     "text": [
      "Iteration 0, Current Score: 0,                 Best Feature: trigram-logprobs v-div ada-logprobs v-> davinci-logprobs s-avg, New Score: 0.99\n"
     ]
    },
    {
     "name": "stderr",
     "output_type": "stream",
     "text": [
      "100%|███████████████████████████████████████████████████| 2533/2533 [00:11<00:00, 211.19it/s]\n"
     ]
    },
    {
     "name": "stdout",
     "output_type": "stream",
     "text": [
      "Iteration 1, Current Score: 0.99,                 Best Feature: davinci-logprobs v-div trigram-logprobs s-avg-top-25, New Score: 1.0\n"
     ]
    },
    {
     "name": "stderr",
     "output_type": "stream",
     "text": [
      "100%|███████████████████████████████████████████████████| 2532/2532 [00:12<00:00, 209.18it/s]"
     ]
    },
    {
     "name": "stdout",
     "output_type": "stream",
     "text": [
      "Iteration 2, Current Score: 1.0,                 Best Feature: davinci-logprobs s-max, New Score: 1.0\n",
      "TRAINING WITHOUT AUGMENTATIONS\n",
      "Train size: 100\n",
      "F1-Score: 0.9915708812260536\n",
      "\n",
      "passes...\n",
      "***************** AUGMENTATION: synonym *****************\n"
     ]
    },
    {
     "name": "stderr",
     "output_type": "stream",
     "text": [
      "\n"
     ]
    },
    {
     "data": {
      "application/vnd.jupyter.widget-view+json": {
       "model_id": "8ada2dac6d7b4f999598d008316fa81c",
       "version_major": 2,
       "version_minor": 0
      },
      "text/plain": [
       "  0%|          | 0/5 [00:00<?, ?it/s]"
      ]
     },
     "metadata": {},
     "output_type": "display_data"
    },
    {
     "name": "stdout",
     "output_type": "stream",
     "text": [
      "***************** TRAIN SIZE: 10 *****************\n"
     ]
    },
    {
     "name": "stderr",
     "output_type": "stream",
     "text": [
      "100%|███████████████████████████████████████████████████| 2534/2534 [00:09<00:00, 267.82it/s]\n"
     ]
    },
    {
     "name": "stdout",
     "output_type": "stream",
     "text": [
      "Iteration 0, Current Score: 0,                 Best Feature: davinci-logprobs v-div unigram-logprobs s-min, New Score: 1.0\n"
     ]
    },
    {
     "name": "stderr",
     "output_type": "stream",
     "text": [
      "100%|███████████████████████████████████████████████████| 2533/2533 [00:10<00:00, 237.35it/s]\n"
     ]
    },
    {
     "name": "stdout",
     "output_type": "stream",
     "text": [
      "Iteration 1, Current Score: 1.0,                 Best Feature: davinci-logprobs s-max, New Score: 1.0\n",
      "TRAINING WITH synonym AUGMENTED DATA.\n",
      "Train size: 10\n",
      "F1-Score: 0.6640633716389601\n",
      "\n",
      "passes...\n",
      "***************** TRAIN SIZE: 25 *****************\n"
     ]
    },
    {
     "name": "stderr",
     "output_type": "stream",
     "text": [
      "100%|███████████████████████████████████████████████████| 2534/2534 [00:09<00:00, 266.21it/s]\n"
     ]
    },
    {
     "name": "stdout",
     "output_type": "stream",
     "text": [
      "Iteration 0, Current Score: 0,                 Best Feature: davinci-logprobs s-avg, New Score: 1.0\n"
     ]
    },
    {
     "name": "stderr",
     "output_type": "stream",
     "text": [
      "100%|███████████████████████████████████████████████████| 2533/2533 [00:11<00:00, 224.97it/s]\n"
     ]
    },
    {
     "name": "stdout",
     "output_type": "stream",
     "text": [
      "Iteration 1, Current Score: 1.0,                 Best Feature: davinci-logprobs s-min, New Score: 1.0\n",
      "TRAINING WITH synonym AUGMENTED DATA.\n",
      "Train size: 25\n",
      "F1-Score: 0.9338652482269504\n",
      "\n",
      "passes...\n",
      "***************** TRAIN SIZE: 50 *****************\n"
     ]
    },
    {
     "name": "stderr",
     "output_type": "stream",
     "text": [
      "100%|███████████████████████████████████████████████████| 2534/2534 [00:09<00:00, 258.30it/s]\n"
     ]
    },
    {
     "name": "stdout",
     "output_type": "stream",
     "text": [
      "Iteration 0, Current Score: 0,                 Best Feature: trigram-logprobs v-> davinci-logprobs s-avg, New Score: 1.0\n"
     ]
    },
    {
     "name": "stderr",
     "output_type": "stream",
     "text": [
      "100%|███████████████████████████████████████████████████| 2533/2533 [00:11<00:00, 217.60it/s]\n"
     ]
    },
    {
     "name": "stdout",
     "output_type": "stream",
     "text": [
      "Iteration 1, Current Score: 1.0,                 Best Feature: davinci-logprobs s-max, New Score: 1.0\n",
      "TRAINING WITH synonym AUGMENTED DATA.\n",
      "Train size: 50\n",
      "F1-Score: 0.9853741496598639\n",
      "\n",
      "passes...\n",
      "***************** TRAIN SIZE: 75 *****************\n"
     ]
    },
    {
     "name": "stderr",
     "output_type": "stream",
     "text": [
      "100%|███████████████████████████████████████████████████| 2534/2534 [00:09<00:00, 258.08it/s]\n"
     ]
    },
    {
     "name": "stdout",
     "output_type": "stream",
     "text": [
      "Iteration 0, Current Score: 0,                 Best Feature: trigram-logprobs v-> davinci-logprobs s-avg, New Score: 1.0\n"
     ]
    },
    {
     "name": "stderr",
     "output_type": "stream",
     "text": [
      "100%|███████████████████████████████████████████████████| 2533/2533 [00:12<00:00, 210.34it/s]\n"
     ]
    },
    {
     "name": "stdout",
     "output_type": "stream",
     "text": [
      "Iteration 1, Current Score: 1.0,                 Best Feature: davinci-logprobs s-max, New Score: 1.0\n",
      "TRAINING WITH synonym AUGMENTED DATA.\n",
      "Train size: 75\n",
      "F1-Score: 0.9773685569228121\n",
      "\n",
      "passes...\n",
      "***************** TRAIN SIZE: 100 *****************\n"
     ]
    },
    {
     "name": "stderr",
     "output_type": "stream",
     "text": [
      "100%|███████████████████████████████████████████████████| 2534/2534 [00:09<00:00, 255.95it/s]\n"
     ]
    },
    {
     "name": "stdout",
     "output_type": "stream",
     "text": [
      "Iteration 0, Current Score: 0,                 Best Feature: unigram-logprobs v-> ada-logprobs s-avg, New Score: 1.0\n"
     ]
    },
    {
     "name": "stderr",
     "output_type": "stream",
     "text": [
      "100%|███████████████████████████████████████████████████| 2533/2533 [00:12<00:00, 205.95it/s]"
     ]
    },
    {
     "name": "stdout",
     "output_type": "stream",
     "text": [
      "Iteration 1, Current Score: 1.0,                 Best Feature: davinci-logprobs s-len, New Score: 1.0\n",
      "TRAINING WITH synonym AUGMENTED DATA.\n",
      "Train size: 100\n",
      "F1-Score: 0.9276488122120856\n",
      "\n",
      "passes...\n",
      "***************** AUGMENTATION: back *****************\n"
     ]
    },
    {
     "name": "stderr",
     "output_type": "stream",
     "text": [
      "\n"
     ]
    },
    {
     "data": {
      "application/vnd.jupyter.widget-view+json": {
       "model_id": "afc0806ca02049a6af72347566ce6314",
       "version_major": 2,
       "version_minor": 0
      },
      "text/plain": [
       "  0%|          | 0/5 [00:00<?, ?it/s]"
      ]
     },
     "metadata": {},
     "output_type": "display_data"
    },
    {
     "name": "stdout",
     "output_type": "stream",
     "text": [
      "***************** TRAIN SIZE: 10 *****************\n"
     ]
    },
    {
     "name": "stderr",
     "output_type": "stream",
     "text": [
      "100%|███████████████████████████████████████████████████| 2534/2534 [00:09<00:00, 268.25it/s]\n"
     ]
    },
    {
     "name": "stdout",
     "output_type": "stream",
     "text": [
      "Iteration 0, Current Score: 0,                 Best Feature: davinci-logprobs v-div unigram-logprobs s-min, New Score: 1.0\n"
     ]
    },
    {
     "name": "stderr",
     "output_type": "stream",
     "text": [
      "100%|███████████████████████████████████████████████████| 2533/2533 [00:10<00:00, 238.92it/s]\n"
     ]
    },
    {
     "name": "stdout",
     "output_type": "stream",
     "text": [
      "Iteration 1, Current Score: 1.0,                 Best Feature: davinci-logprobs s-max, New Score: 1.0\n",
      "TRAINING WITH back AUGMENTED DATA.\n",
      "Train size: 10\n",
      "F1-Score: 0.6606263982102908\n",
      "\n",
      "passes...\n",
      "***************** TRAIN SIZE: 25 *****************\n"
     ]
    },
    {
     "name": "stderr",
     "output_type": "stream",
     "text": [
      "100%|███████████████████████████████████████████████████| 2534/2534 [00:09<00:00, 268.10it/s]\n"
     ]
    },
    {
     "name": "stdout",
     "output_type": "stream",
     "text": [
      "Iteration 0, Current Score: 0,                 Best Feature: davinci-logprobs s-avg, New Score: 1.0\n"
     ]
    },
    {
     "name": "stderr",
     "output_type": "stream",
     "text": [
      "100%|███████████████████████████████████████████████████| 2533/2533 [00:11<00:00, 224.10it/s]\n"
     ]
    },
    {
     "name": "stdout",
     "output_type": "stream",
     "text": [
      "Iteration 1, Current Score: 1.0,                 Best Feature: davinci-logprobs s-min, New Score: 1.0\n",
      "TRAINING WITH back AUGMENTED DATA.\n",
      "Train size: 25\n",
      "F1-Score: 0.9223875246459939\n",
      "\n",
      "passes...\n",
      "***************** TRAIN SIZE: 50 *****************\n"
     ]
    },
    {
     "name": "stderr",
     "output_type": "stream",
     "text": [
      "100%|███████████████████████████████████████████████████| 2534/2534 [00:09<00:00, 261.04it/s]\n"
     ]
    },
    {
     "name": "stdout",
     "output_type": "stream",
     "text": [
      "Iteration 0, Current Score: 0,                 Best Feature: trigram-logprobs v-> davinci-logprobs s-avg, New Score: 1.0\n"
     ]
    },
    {
     "name": "stderr",
     "output_type": "stream",
     "text": [
      "100%|███████████████████████████████████████████████████| 2533/2533 [00:11<00:00, 216.30it/s]\n"
     ]
    },
    {
     "name": "stdout",
     "output_type": "stream",
     "text": [
      "Iteration 1, Current Score: 1.0,                 Best Feature: davinci-logprobs s-max, New Score: 1.0\n",
      "TRAINING WITH back AUGMENTED DATA.\n",
      "Train size: 50\n",
      "F1-Score: 0.9835450592548385\n",
      "\n",
      "passes...\n",
      "***************** TRAIN SIZE: 75 *****************\n"
     ]
    },
    {
     "name": "stderr",
     "output_type": "stream",
     "text": [
      "100%|███████████████████████████████████████████████████| 2534/2534 [00:09<00:00, 260.01it/s]\n"
     ]
    },
    {
     "name": "stdout",
     "output_type": "stream",
     "text": [
      "Iteration 0, Current Score: 0,                 Best Feature: trigram-logprobs v-> davinci-logprobs s-avg, New Score: 1.0\n"
     ]
    },
    {
     "name": "stderr",
     "output_type": "stream",
     "text": [
      "100%|███████████████████████████████████████████████████| 2533/2533 [00:12<00:00, 207.10it/s]\n"
     ]
    },
    {
     "name": "stdout",
     "output_type": "stream",
     "text": [
      "Iteration 1, Current Score: 1.0,                 Best Feature: davinci-logprobs s-max, New Score: 1.0\n",
      "TRAINING WITH back AUGMENTED DATA.\n",
      "Train size: 75\n",
      "F1-Score: 0.968391802709274\n",
      "\n",
      "passes...\n",
      "***************** TRAIN SIZE: 100 *****************\n"
     ]
    },
    {
     "name": "stderr",
     "output_type": "stream",
     "text": [
      "100%|███████████████████████████████████████████████████| 2534/2534 [00:09<00:00, 256.44it/s]\n"
     ]
    },
    {
     "name": "stdout",
     "output_type": "stream",
     "text": [
      "Iteration 0, Current Score: 0,                 Best Feature: unigram-logprobs v-> ada-logprobs s-avg, New Score: 1.0\n"
     ]
    },
    {
     "name": "stderr",
     "output_type": "stream",
     "text": [
      "100%|███████████████████████████████████████████████████| 2533/2533 [00:12<00:00, 206.01it/s]"
     ]
    },
    {
     "name": "stdout",
     "output_type": "stream",
     "text": [
      "Iteration 1, Current Score: 1.0,                 Best Feature: davinci-logprobs s-len, New Score: 1.0\n",
      "TRAINING WITH back AUGMENTED DATA.\n",
      "Train size: 100\n",
      "F1-Score: 0.9217785843920145\n",
      "\n",
      "passes...\n",
      "***************** AUGMENTATION: emotion *****************\n"
     ]
    },
    {
     "name": "stderr",
     "output_type": "stream",
     "text": [
      "\n"
     ]
    },
    {
     "data": {
      "application/vnd.jupyter.widget-view+json": {
       "model_id": "ed99965433944301a2e80c8a835aa6e1",
       "version_major": 2,
       "version_minor": 0
      },
      "text/plain": [
       "  0%|          | 0/5 [00:00<?, ?it/s]"
      ]
     },
     "metadata": {},
     "output_type": "display_data"
    },
    {
     "name": "stdout",
     "output_type": "stream",
     "text": [
      "***************** TRAIN SIZE: 10 *****************\n"
     ]
    },
    {
     "name": "stderr",
     "output_type": "stream",
     "text": [
      "100%|███████████████████████████████████████████████████| 2534/2534 [00:09<00:00, 264.66it/s]\n"
     ]
    },
    {
     "name": "stdout",
     "output_type": "stream",
     "text": [
      "Iteration 0, Current Score: 0,                 Best Feature: davinci-logprobs v-div unigram-logprobs s-min, New Score: 1.0\n"
     ]
    },
    {
     "name": "stderr",
     "output_type": "stream",
     "text": [
      "100%|███████████████████████████████████████████████████| 2533/2533 [00:10<00:00, 239.72it/s]\n"
     ]
    },
    {
     "name": "stdout",
     "output_type": "stream",
     "text": [
      "Iteration 1, Current Score: 1.0,                 Best Feature: davinci-logprobs s-max, New Score: 1.0\n",
      "TRAINING WITH emotion AUGMENTED DATA.\n",
      "Train size: 10\n",
      "F1-Score: 0.6523305561810403\n",
      "\n",
      "passes...\n",
      "***************** TRAIN SIZE: 25 *****************\n"
     ]
    },
    {
     "name": "stderr",
     "output_type": "stream",
     "text": [
      "100%|███████████████████████████████████████████████████| 2534/2534 [00:09<00:00, 269.01it/s]\n"
     ]
    },
    {
     "name": "stdout",
     "output_type": "stream",
     "text": [
      "Iteration 0, Current Score: 0,                 Best Feature: davinci-logprobs s-avg, New Score: 1.0\n"
     ]
    },
    {
     "name": "stderr",
     "output_type": "stream",
     "text": [
      "100%|███████████████████████████████████████████████████| 2533/2533 [00:11<00:00, 225.92it/s]\n"
     ]
    },
    {
     "name": "stdout",
     "output_type": "stream",
     "text": [
      "Iteration 1, Current Score: 1.0,                 Best Feature: davinci-logprobs s-min, New Score: 1.0\n",
      "TRAINING WITH emotion AUGMENTED DATA.\n",
      "Train size: 25\n",
      "F1-Score: 0.9146473779385171\n",
      "\n",
      "passes...\n",
      "***************** TRAIN SIZE: 50 *****************\n"
     ]
    },
    {
     "name": "stderr",
     "output_type": "stream",
     "text": [
      "100%|███████████████████████████████████████████████████| 2534/2534 [00:09<00:00, 259.87it/s]\n"
     ]
    },
    {
     "name": "stdout",
     "output_type": "stream",
     "text": [
      "Iteration 0, Current Score: 0,                 Best Feature: trigram-logprobs v-> davinci-logprobs s-avg, New Score: 1.0\n"
     ]
    },
    {
     "name": "stderr",
     "output_type": "stream",
     "text": [
      "100%|███████████████████████████████████████████████████| 2533/2533 [00:11<00:00, 218.41it/s]\n"
     ]
    },
    {
     "name": "stdout",
     "output_type": "stream",
     "text": [
      "Iteration 1, Current Score: 1.0,                 Best Feature: davinci-logprobs s-max, New Score: 1.0\n",
      "TRAINING WITH emotion AUGMENTED DATA.\n",
      "Train size: 50\n",
      "F1-Score: 0.9835618771825227\n",
      "\n",
      "passes...\n",
      "***************** TRAIN SIZE: 75 *****************\n"
     ]
    },
    {
     "name": "stderr",
     "output_type": "stream",
     "text": [
      "100%|███████████████████████████████████████████████████| 2534/2534 [00:09<00:00, 261.06it/s]\n"
     ]
    },
    {
     "name": "stdout",
     "output_type": "stream",
     "text": [
      "Iteration 0, Current Score: 0,                 Best Feature: trigram-logprobs v-> davinci-logprobs s-avg, New Score: 1.0\n"
     ]
    },
    {
     "name": "stderr",
     "output_type": "stream",
     "text": [
      "100%|███████████████████████████████████████████████████| 2533/2533 [00:12<00:00, 210.55it/s]\n"
     ]
    },
    {
     "name": "stdout",
     "output_type": "stream",
     "text": [
      "Iteration 1, Current Score: 1.0,                 Best Feature: davinci-logprobs s-max, New Score: 1.0\n",
      "TRAINING WITH emotion AUGMENTED DATA.\n",
      "Train size: 75\n",
      "F1-Score: 0.9748813120414329\n",
      "\n",
      "passes...\n",
      "***************** TRAIN SIZE: 100 *****************\n"
     ]
    },
    {
     "name": "stderr",
     "output_type": "stream",
     "text": [
      "100%|███████████████████████████████████████████████████| 2534/2534 [00:09<00:00, 255.67it/s]\n"
     ]
    },
    {
     "name": "stdout",
     "output_type": "stream",
     "text": [
      "Iteration 0, Current Score: 0,                 Best Feature: unigram-logprobs v-> ada-logprobs s-avg, New Score: 1.0\n"
     ]
    },
    {
     "name": "stderr",
     "output_type": "stream",
     "text": [
      "100%|███████████████████████████████████████████████████| 2533/2533 [00:12<00:00, 204.77it/s]"
     ]
    },
    {
     "name": "stdout",
     "output_type": "stream",
     "text": [
      "Iteration 1, Current Score: 1.0,                 Best Feature: davinci-logprobs s-len, New Score: 1.0\n",
      "TRAINING WITH emotion AUGMENTED DATA.\n",
      "Train size: 100\n",
      "F1-Score: 0.9395673162882174\n",
      "\n",
      "passes...\n",
      "***************** AUGMENTATION: style *****************\n"
     ]
    },
    {
     "name": "stderr",
     "output_type": "stream",
     "text": [
      "\n"
     ]
    },
    {
     "data": {
      "application/vnd.jupyter.widget-view+json": {
       "model_id": "4e509b16096c48d2b718bbda50208459",
       "version_major": 2,
       "version_minor": 0
      },
      "text/plain": [
       "  0%|          | 0/5 [00:00<?, ?it/s]"
      ]
     },
     "metadata": {},
     "output_type": "display_data"
    },
    {
     "name": "stdout",
     "output_type": "stream",
     "text": [
      "***************** TRAIN SIZE: 10 *****************\n"
     ]
    },
    {
     "name": "stderr",
     "output_type": "stream",
     "text": [
      "100%|███████████████████████████████████████████████████| 2534/2534 [00:09<00:00, 270.97it/s]\n"
     ]
    },
    {
     "name": "stdout",
     "output_type": "stream",
     "text": [
      "Iteration 0, Current Score: 0,                 Best Feature: davinci-logprobs v-div unigram-logprobs s-min, New Score: 1.0\n"
     ]
    },
    {
     "name": "stderr",
     "output_type": "stream",
     "text": [
      "100%|███████████████████████████████████████████████████| 2533/2533 [00:10<00:00, 240.57it/s]\n"
     ]
    },
    {
     "name": "stdout",
     "output_type": "stream",
     "text": [
      "Iteration 1, Current Score: 1.0,                 Best Feature: davinci-logprobs s-max, New Score: 1.0\n",
      "TRAINING WITH style AUGMENTED DATA.\n",
      "Train size: 10\n",
      "F1-Score: 0.6514195583596214\n",
      "\n",
      "passes...\n",
      "***************** TRAIN SIZE: 25 *****************\n"
     ]
    },
    {
     "name": "stderr",
     "output_type": "stream",
     "text": [
      "100%|███████████████████████████████████████████████████| 2534/2534 [00:09<00:00, 266.04it/s]\n"
     ]
    },
    {
     "name": "stdout",
     "output_type": "stream",
     "text": [
      "Iteration 0, Current Score: 0,                 Best Feature: davinci-logprobs s-avg, New Score: 1.0\n"
     ]
    },
    {
     "name": "stderr",
     "output_type": "stream",
     "text": [
      "100%|███████████████████████████████████████████████████| 2533/2533 [00:11<00:00, 224.72it/s]\n"
     ]
    },
    {
     "name": "stdout",
     "output_type": "stream",
     "text": [
      "Iteration 1, Current Score: 1.0,                 Best Feature: davinci-logprobs s-min, New Score: 1.0\n",
      "TRAINING WITH style AUGMENTED DATA.\n",
      "Train size: 25\n",
      "F1-Score: 0.9176428185258605\n",
      "\n",
      "passes...\n",
      "***************** TRAIN SIZE: 50 *****************\n"
     ]
    },
    {
     "name": "stderr",
     "output_type": "stream",
     "text": [
      "100%|███████████████████████████████████████████████████| 2534/2534 [00:09<00:00, 258.55it/s]\n"
     ]
    },
    {
     "name": "stdout",
     "output_type": "stream",
     "text": [
      "Iteration 0, Current Score: 0,                 Best Feature: trigram-logprobs v-> davinci-logprobs s-avg, New Score: 1.0\n"
     ]
    },
    {
     "name": "stderr",
     "output_type": "stream",
     "text": [
      "100%|███████████████████████████████████████████████████| 2533/2533 [00:11<00:00, 217.38it/s]\n"
     ]
    },
    {
     "name": "stdout",
     "output_type": "stream",
     "text": [
      "Iteration 1, Current Score: 1.0,                 Best Feature: davinci-logprobs s-max, New Score: 1.0\n",
      "TRAINING WITH style AUGMENTED DATA.\n",
      "Train size: 50\n",
      "F1-Score: 0.9834668484745185\n",
      "\n",
      "passes...\n",
      "***************** TRAIN SIZE: 75 *****************\n"
     ]
    },
    {
     "name": "stderr",
     "output_type": "stream",
     "text": [
      "100%|███████████████████████████████████████████████████| 2534/2534 [00:09<00:00, 261.40it/s]\n"
     ]
    },
    {
     "name": "stdout",
     "output_type": "stream",
     "text": [
      "Iteration 0, Current Score: 0,                 Best Feature: trigram-logprobs v-> davinci-logprobs s-avg, New Score: 1.0\n"
     ]
    },
    {
     "name": "stderr",
     "output_type": "stream",
     "text": [
      "100%|███████████████████████████████████████████████████| 2533/2533 [00:11<00:00, 211.80it/s]\n"
     ]
    },
    {
     "name": "stdout",
     "output_type": "stream",
     "text": [
      "Iteration 1, Current Score: 1.0,                 Best Feature: davinci-logprobs s-max, New Score: 1.0\n",
      "TRAINING WITH style AUGMENTED DATA.\n",
      "Train size: 75\n",
      "F1-Score: 0.9747043080376414\n",
      "\n",
      "passes...\n",
      "***************** TRAIN SIZE: 100 *****************\n"
     ]
    },
    {
     "name": "stderr",
     "output_type": "stream",
     "text": [
      "100%|███████████████████████████████████████████████████| 2534/2534 [00:09<00:00, 255.99it/s]\n"
     ]
    },
    {
     "name": "stdout",
     "output_type": "stream",
     "text": [
      "Iteration 0, Current Score: 0,                 Best Feature: unigram-logprobs v-> ada-logprobs s-avg, New Score: 1.0\n"
     ]
    },
    {
     "name": "stderr",
     "output_type": "stream",
     "text": [
      "100%|███████████████████████████████████████████████████| 2533/2533 [00:12<00:00, 205.39it/s]"
     ]
    },
    {
     "name": "stdout",
     "output_type": "stream",
     "text": [
      "Iteration 1, Current Score: 1.0,                 Best Feature: davinci-logprobs s-len, New Score: 1.0\n",
      "TRAINING WITH style AUGMENTED DATA.\n",
      "Train size: 100\n",
      "F1-Score: 0.9427807486631016\n",
      "\n",
      "passes...\n",
      "***************** AUGMENTATION: summary *****************\n"
     ]
    },
    {
     "name": "stderr",
     "output_type": "stream",
     "text": [
      "\n"
     ]
    },
    {
     "data": {
      "application/vnd.jupyter.widget-view+json": {
       "model_id": "a0ca1bfcc6e14b92a70a68ccd16df337",
       "version_major": 2,
       "version_minor": 0
      },
      "text/plain": [
       "  0%|          | 0/5 [00:00<?, ?it/s]"
      ]
     },
     "metadata": {},
     "output_type": "display_data"
    },
    {
     "name": "stdout",
     "output_type": "stream",
     "text": [
      "***************** TRAIN SIZE: 10 *****************\n"
     ]
    },
    {
     "name": "stderr",
     "output_type": "stream",
     "text": [
      "100%|███████████████████████████████████████████████████| 2534/2534 [00:09<00:00, 269.46it/s]\n"
     ]
    },
    {
     "name": "stdout",
     "output_type": "stream",
     "text": [
      "Iteration 0, Current Score: 0,                 Best Feature: davinci-logprobs v-div unigram-logprobs s-min, New Score: 1.0\n"
     ]
    },
    {
     "name": "stderr",
     "output_type": "stream",
     "text": [
      "100%|███████████████████████████████████████████████████| 2533/2533 [00:10<00:00, 240.19it/s]\n"
     ]
    },
    {
     "name": "stdout",
     "output_type": "stream",
     "text": [
      "Iteration 1, Current Score: 1.0,                 Best Feature: davinci-logprobs s-max, New Score: 1.0\n",
      "TRAINING WITH summary AUGMENTED DATA.\n",
      "Train size: 10\n",
      "F1-Score: 0.6675570395102949\n",
      "\n",
      "passes...\n",
      "***************** TRAIN SIZE: 25 *****************\n"
     ]
    },
    {
     "name": "stderr",
     "output_type": "stream",
     "text": [
      "100%|███████████████████████████████████████████████████| 2534/2534 [00:09<00:00, 260.86it/s]\n"
     ]
    },
    {
     "name": "stdout",
     "output_type": "stream",
     "text": [
      "Iteration 0, Current Score: 0,                 Best Feature: davinci-logprobs s-avg, New Score: 1.0\n"
     ]
    },
    {
     "name": "stderr",
     "output_type": "stream",
     "text": [
      "100%|███████████████████████████████████████████████████| 2533/2533 [00:11<00:00, 225.62it/s]\n"
     ]
    },
    {
     "name": "stdout",
     "output_type": "stream",
     "text": [
      "Iteration 1, Current Score: 1.0,                 Best Feature: davinci-logprobs s-min, New Score: 1.0\n",
      "TRAINING WITH summary AUGMENTED DATA.\n",
      "Train size: 25\n",
      "F1-Score: 0.920126069338136\n",
      "\n",
      "passes...\n",
      "***************** TRAIN SIZE: 50 *****************\n"
     ]
    },
    {
     "name": "stderr",
     "output_type": "stream",
     "text": [
      "100%|███████████████████████████████████████████████████| 2534/2534 [00:09<00:00, 257.65it/s]\n"
     ]
    },
    {
     "name": "stdout",
     "output_type": "stream",
     "text": [
      "Iteration 0, Current Score: 0,                 Best Feature: trigram-logprobs v-> davinci-logprobs s-avg, New Score: 1.0\n"
     ]
    },
    {
     "name": "stderr",
     "output_type": "stream",
     "text": [
      "100%|███████████████████████████████████████████████████| 2533/2533 [00:11<00:00, 219.60it/s]\n"
     ]
    },
    {
     "name": "stdout",
     "output_type": "stream",
     "text": [
      "Iteration 1, Current Score: 1.0,                 Best Feature: davinci-logprobs s-max, New Score: 1.0\n",
      "TRAINING WITH summary AUGMENTED DATA.\n",
      "Train size: 50\n",
      "F1-Score: 0.9750215331610681\n",
      "\n",
      "passes...\n",
      "***************** TRAIN SIZE: 75 *****************\n"
     ]
    },
    {
     "name": "stderr",
     "output_type": "stream",
     "text": [
      "100%|███████████████████████████████████████████████████| 2534/2534 [00:09<00:00, 264.37it/s]\n"
     ]
    },
    {
     "name": "stdout",
     "output_type": "stream",
     "text": [
      "Iteration 0, Current Score: 0,                 Best Feature: trigram-logprobs v-> davinci-logprobs s-avg, New Score: 1.0\n"
     ]
    },
    {
     "name": "stderr",
     "output_type": "stream",
     "text": [
      "100%|███████████████████████████████████████████████████| 2533/2533 [00:12<00:00, 209.83it/s]\n"
     ]
    },
    {
     "name": "stdout",
     "output_type": "stream",
     "text": [
      "Iteration 1, Current Score: 1.0,                 Best Feature: davinci-logprobs s-max, New Score: 1.0\n",
      "TRAINING WITH summary AUGMENTED DATA.\n",
      "Train size: 75\n",
      "F1-Score: 0.9661179339778765\n",
      "\n",
      "passes...\n",
      "***************** TRAIN SIZE: 100 *****************\n"
     ]
    },
    {
     "name": "stderr",
     "output_type": "stream",
     "text": [
      "100%|███████████████████████████████████████████████████| 2534/2534 [00:09<00:00, 259.33it/s]\n"
     ]
    },
    {
     "name": "stdout",
     "output_type": "stream",
     "text": [
      "Iteration 0, Current Score: 0,                 Best Feature: unigram-logprobs v-> ada-logprobs s-avg, New Score: 1.0\n"
     ]
    },
    {
     "name": "stderr",
     "output_type": "stream",
     "text": [
      "100%|███████████████████████████████████████████████████| 2533/2533 [00:12<00:00, 204.41it/s]\n"
     ]
    },
    {
     "name": "stdout",
     "output_type": "stream",
     "text": [
      "Iteration 1, Current Score: 1.0,                 Best Feature: davinci-logprobs s-len, New Score: 1.0\n",
      "TRAINING WITH summary AUGMENTED DATA.\n",
      "Train size: 100\n",
      "F1-Score: 0.935449166218397\n",
      "\n",
      "passes...\n"
     ]
    },
    {
     "data": {
      "image/png": "[encoded data removed]",
      "text/plain": [
       "<Figure size 640x480 with 1 Axes>"
      ]
     },
     "metadata": {},
     "output_type": "display_data"
    },
    {
     "name": "stdout",
     "output_type": "stream",
     "text": [
      "**************** SEED 98 ****************\n",
      "***************** AUGMENTATION: baseline *****************\n"
     ]
    },
    {
     "data": {
      "application/vnd.jupyter.widget-view+json": {
       "model_id": "e2f6947b46414589a733a29d81a59a4b",
       "version_major": 2,
       "version_minor": 0
      },
      "text/plain": [
       "  0%|          | 0/5 [00:00<?, ?it/s]"
      ]
     },
     "metadata": {},
     "output_type": "display_data"
    },
    {
     "name": "stdout",
     "output_type": "stream",
     "text": [
      "***************** TRAIN SIZE: 10 *****************\n"
     ]
    },
    {
     "name": "stderr",
     "output_type": "stream",
     "text": [
      "100%|███████████████████████████████████████████████████| 2534/2534 [00:09<00:00, 266.79it/s]\n"
     ]
    },
    {
     "name": "stdout",
     "output_type": "stream",
     "text": [
      "Iteration 0, Current Score: 0,                 Best Feature: davinci-logprobs s-avg, New Score: 1.0\n"
     ]
    },
    {
     "name": "stderr",
     "output_type": "stream",
     "text": [
      "100%|███████████████████████████████████████████████████| 2533/2533 [00:10<00:00, 233.87it/s]"
     ]
    },
    {
     "name": "stdout",
     "output_type": "stream",
     "text": [
      "Iteration 1, Current Score: 1.0,                 Best Feature: davinci-logprobs s-max, New Score: 1.0\n",
      "TRAINING WITHOUT AUGMENTATIONS\n",
      "Train size: 10\n",
      "F1-Score: 0.9692515627639804\n",
      "\n",
      "early stopping.\n",
      "early stopping\n",
      "**************** SEED 99 ****************\n",
      "***************** AUGMENTATION: baseline *****************\n"
     ]
    },
    {
     "name": "stderr",
     "output_type": "stream",
     "text": [
      "\n"
     ]
    },
    {
     "data": {
      "application/vnd.jupyter.widget-view+json": {
       "model_id": "177a1a99e9c14ab28c2e03234016700d",
       "version_major": 2,
       "version_minor": 0
      },
      "text/plain": [
       "  0%|          | 0/5 [00:00<?, ?it/s]"
      ]
     },
     "metadata": {},
     "output_type": "display_data"
    },
    {
     "name": "stdout",
     "output_type": "stream",
     "text": [
      "***************** TRAIN SIZE: 10 *****************\n"
     ]
    },
    {
     "name": "stderr",
     "output_type": "stream",
     "text": [
      "100%|███████████████████████████████████████████████████| 2534/2534 [00:09<00:00, 271.16it/s]\n"
     ]
    },
    {
     "name": "stdout",
     "output_type": "stream",
     "text": [
      "Iteration 0, Current Score: 0,                 Best Feature: trigram-logprobs v-> davinci-logprobs s-avg, New Score: 1.0\n"
     ]
    },
    {
     "name": "stderr",
     "output_type": "stream",
     "text": [
      "100%|███████████████████████████████████████████████████| 2533/2533 [00:10<00:00, 231.83it/s]"
     ]
    },
    {
     "name": "stdout",
     "output_type": "stream",
     "text": [
      "Iteration 1, Current Score: 1.0,                 Best Feature: davinci-logprobs s-max, New Score: 1.0\n",
      "TRAINING WITHOUT AUGMENTATIONS\n",
      "Train size: 10\n",
      "F1-Score: 0.9908395663501135\n",
      "\n",
      "early stopping.\n",
      "early stopping\n"
     ]
    },
    {
     "name": "stderr",
     "output_type": "stream",
     "text": [
      "\n"
     ]
    }
   ],
   "source": [
    "for seed in seeds:\n",
    "    early_stop = False\n",
    "    print(f\"**************** SEED {seed} ****************\")\n",
    "    for aug in augmentations:\n",
    "        random.seed(seed)\n",
    "        np.random.seed(seed)\n",
    "        torch.manual_seed(seed)\n",
    "        scores = []\n",
    "        if early_stop:\n",
    "            print(\"early stopping\")\n",
    "            break\n",
    "        print(f\"***************** AUGMENTATION: {aug} *****************\")\n",
    "        for size in tqdm(train_sizes):\n",
    "            print(f\"***************** TRAIN SIZE: {size} *****************\")\n",
    "            train_indices, test_indices, _, _ = train_test_split(\n",
    "                np.arange(len(train_files)),\n",
    "                train_labels,\n",
    "                train_size = size,\n",
    "                stratify = train_labels\n",
    "            )\n",
    "            \n",
    "            all_test_indices = np.concatenate((test_indices, other_test_indices))\n",
    "        \n",
    "            curr_best_features = select_features(\n",
    "                exp_to_data,\n",
    "                train_labels,\n",
    "                verbose=True,\n",
    "                to_normalize = True,\n",
    "                indices = train_indices\n",
    "            )\n",
    "        \n",
    "            data = normalize(get_featurized_data(curr_best_features))\n",
    "            model = LogisticRegression()\n",
    "            \n",
    "            if aug != \"baseline\":\n",
    "                print(f\"TRAINING WITH {aug} AUGMENTED DATA.\")\n",
    "                t_data_aug = pickle.load(open(f\"t_data_{aug}\", \"rb\"))\n",
    "                exp_to_data_aug = pickle.load(open(f\"symbolic_data_{aug}\", \"rb\"))\n",
    "                \n",
    "                aug_data = normalize(get_featurized_aug(curr_best_features, t_data_aug, exp_to_data_aug))\n",
    "                aug_indices = np.random.choice(train_indices, size = int(len(train_indices) * config.p))\n",
    "                \n",
    "                y = np.concatenate((all_labels[train_indices], all_labels[aug_indices])) # Duplicate training labels\n",
    "                X = np.concatenate((data[train_indices], aug_data[aug_indices])) # Appending augmented data to original data\n",
    "            else:\n",
    "                print(\"TRAINING WITHOUT AUGMENTATIONS\")\n",
    "                y = all_labels[train_indices]\n",
    "                X = data[train_indices]\n",
    "        \n",
    "            model.fit(X, y)\n",
    "            \n",
    "            score = f1_score(all_labels[all_test_indices], model.predict(data[all_test_indices]))\n",
    "            \n",
    "            print(f\"Train size: {size}\")\n",
    "            print(f\"F1-Score: {score}\")\n",
    "            print()\n",
    "            if aug == \"baseline\" and ((size == 10 and score > 0.91) or (size == 25 and score > 0.96)):\n",
    "                print(\"early stopping.\")\n",
    "                early_stop = True\n",
    "                break\n",
    "            else:\n",
    "                print(\"passes...\")\n",
    "            scores.append(score)\n",
    "    \n",
    "        score_dict[aug] = scores\n",
    "        \n",
    "    if not early_stop:\n",
    "        if not os.path.exists(f\"experiments/{seed}\"):\n",
    "            os.makedirs(f\"experiments/{seed}\")\n",
    "            \n",
    "        for experiment, values in score_dict.items():\n",
    "            plt.plot(train_sizes, values, label = experiment)\n",
    "        \n",
    "        plt.legend()\n",
    "        plt.xlabel(\"Training Size\")\n",
    "        plt.ylabel(\"F1 Score\")\n",
    "        plt.savefig(f\"experiments/{seed}/results.png\")\n",
    "        plt.show()\n",
    "    \n",
    "        with open(f'experiments/{seed}/results.pickle', 'wb') as handle:\n",
    "            pickle.dump(score_dict, handle, protocol=pickle.HIGHEST_PROTOCOL)"
   ]
  },
  {
   "cell_type": "code",
   "execution_count": null,
   "id": "a53c310a-1248-4438-96d8-ddc12a847bfd",
   "metadata": {},
   "outputs": [],
   "source": []
  },
  {
   "cell_type": "code",
   "execution_count": null,
   "id": "e37e1523-87ba-4d62-bdd5-f99048cd6372",
   "metadata": {},
   "outputs": [],
   "source": []
  }
 ],
 "metadata": {
  "kernelspec": {
   "display_name": "Python 3 (ipykernel)",
   "language": "python",
   "name": "python3"
  },
  "language_info": {
   "codemirror_mode": {
    "name": "ipython",
    "version": 3
   },
   "file_extension": ".py",
   "mimetype": "text/x-python",
   "name": "python",
   "nbconvert_exporter": "python",
   "pygments_lexer": "ipython3",
   "version": "3.12.0"
  }
 },
 "nbformat": 4,
 "nbformat_minor": 5
}
