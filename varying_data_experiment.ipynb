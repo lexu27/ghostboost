{
 "cells": [
  {
   "cell_type": "code",
   "execution_count": 1,
   "id": "86a11f1b-bad8-4d59-8a50-193ed7421308",
   "metadata": {},
   "outputs": [
    {
     "name": "stderr",
     "output_type": "stream",
     "text": [
      "/Users/leo/.pyenv/versions/3.12.0/lib/python3.12/site-packages/transformers/utils/generic.py:441: UserWarning: torch.utils._pytree._register_pytree_node is deprecated. Please use torch.utils._pytree.register_pytree_node instead.\n",
      "  _torch_pytree._register_pytree_node(\n",
      "/Users/leo/.pyenv/versions/3.12.0/lib/python3.12/site-packages/huggingface_hub/file_download.py:1132: FutureWarning: `resume_download` is deprecated and will be removed in version 1.0.0. Downloads always resume when possible. If you want to force a new download, use `force_download=True`.\n",
      "  warnings.warn(\n",
      "Special tokens have been added in the vocabulary, make sure the associated word embeddings are fine-tuned or trained.\n"
     ]
    }
   ],
   "source": [
    "import glob\n",
    "import csv\n",
    "from tqdm.notebook import tqdm\n",
    "import numpy as np\n",
    "import functools\n",
    "\n",
    "from utils.featurize import normalize, t_featurize, select_features\n",
    "from utils.symbolic import get_all_logprobs, get_exp_featurize, backtrack_functions\n",
    "from utils.load import Dataset, get_generate_dataset\n",
    "from sklearn.linear_model import LogisticRegression\n",
    "from sklearn.metrics import accuracy_score, f1_score, roc_auc_score\n",
    "from sklearn.model_selection import GridSearchCV\n",
    "from sklearn.calibration import CalibratedClassifierCV\n",
    "from sklearn.model_selection import train_test_split\n",
    "import pickle\n",
    "import random\n",
    "import plotly.express as px\n",
    "import torch\n",
    "from sklearn.linear_model import LogisticRegression\n",
    "import matplotlib.pyplot as plt\n",
    "import os\n",
    "%matplotlib inline"
   ]
  },
  {
   "cell_type": "code",
   "execution_count": 2,
   "id": "5b469c6e-d9de-44ab-8e79-2222c3ea195a",
   "metadata": {},
   "outputs": [],
   "source": [
    "exp_to_data = pickle.load(open(\"symbolic_data_baseline\", \"rb\"))\n",
    "t_data = pickle.load(open(\"t_data_baseline\", \"rb\"))\n",
    "\n",
    "exp_to_data_eval = pickle.load(open(\"symbolic_data_eval\", \"rb\"))\n",
    "t_data_eval = pickle.load(open(\"t_data_eval\", \"rb\"))"
   ]
  },
  {
   "cell_type": "code",
   "execution_count": 3,
   "id": "0672c3e8-014f-4a7e-9ac0-fe1019994992",
   "metadata": {},
   "outputs": [],
   "source": [
    "def get_featurized_data(best_features, gpt_only=False):\n",
    "    gpt_data = np.concatenate(\n",
    "        [t_data] + [exp_to_data[i] for i in best_features if i in exp_to_data.keys()], axis=1\n",
    "    )\n",
    "    if gpt_only:\n",
    "        return gpt_data\n",
    "\n",
    "    eval_data = np.concatenate(\n",
    "        [t_data_eval] + [exp_to_data_eval[i] for i in best_features], axis=1\n",
    "    )\n",
    "    return np.concatenate([gpt_data, eval_data], axis=0)"
   ]
  },
  {
   "cell_type": "code",
   "execution_count": 4,
   "id": "c1692b44-a114-414d-8341-0b09b5be45be",
   "metadata": {},
   "outputs": [],
   "source": [
    "def get_featurized_aug(best_features, aug_t_data, aug_exp, gpt_only=False):\n",
    "    gpt_data = np.concatenate(\n",
    "        [aug_t_data] + [aug_exp[i] for i in best_features if i in aug_exp.keys()], axis=1\n",
    "    )\n",
    "\n",
    "    return gpt_data"
   ]
  },
  {
   "cell_type": "markdown",
   "id": "086d9366-6c03-4721-9c8e-2d9037040e74",
   "metadata": {},
   "source": [
    "# Data loading"
   ]
  },
  {
   "cell_type": "code",
   "execution_count": 5,
   "id": "f6cd178f-5274-4ebf-b9ee-1035871c17e5",
   "metadata": {},
   "outputs": [],
   "source": [
    "file_retriever = lambda past, model: past + glob.glob(f\"{base_path}/{model}/*.txt\")\n",
    "base_path = \"data/essay\""
   ]
  },
  {
   "cell_type": "code",
   "execution_count": 6,
   "id": "6a763195-7d10-48cc-9112-61e52cb60cd8",
   "metadata": {},
   "outputs": [],
   "source": [
    "train_models = [\"human\", \"gpt\"]\n",
    "train_files = sorted(functools.reduce(file_retriever, train_models, []), key=lambda x: int(x.split(\"/\")[-1].split(\".\")[0]))"
   ]
  },
  {
   "cell_type": "code",
   "execution_count": 7,
   "id": "fb5f9d1b-0a9e-4c57-b5b6-954104e64495",
   "metadata": {},
   "outputs": [],
   "source": [
    "test_models = [\"gpt_prompt1\", \"gpt_prompt2\", \"gpt_semantic\", \"gpt_writing\", \"claude\"]\n",
    "test_files = sorted(functools.reduce(file_retriever, test_models, []), key=lambda x: int(x.split(\"/\")[-1].split(\".\")[0]))"
   ]
  },
  {
   "cell_type": "code",
   "execution_count": 8,
   "id": "05bef4d2-8749-4cc6-aa7d-bcbd3a434c41",
   "metadata": {},
   "outputs": [
    {
     "name": "stdout",
     "output_type": "stream",
     "text": [
      "Num train: 1988\n",
      "Num test: 4970\n"
     ]
    }
   ],
   "source": [
    "print(f\"Num train: {len(train_files)}\")\n",
    "print(f\"Num test: {len(test_files)}\")"
   ]
  },
  {
   "cell_type": "code",
   "execution_count": 9,
   "id": "537051f4-df7b-4f99-bc0e-fb90b797bf87",
   "metadata": {},
   "outputs": [
    {
     "name": "stdout",
     "output_type": "stream",
     "text": [
      "All files length: 6958\n"
     ]
    }
   ],
   "source": [
    "all_files = train_files + test_files\n",
    "print(f\"All files length: {len(all_files)}\")"
   ]
  },
  {
   "cell_type": "markdown",
   "id": "f0319355-ff2c-4a2f-b00f-692365e5f5e1",
   "metadata": {},
   "source": [
    "# Splitting Data"
   ]
  },
  {
   "cell_type": "code",
   "execution_count": 10,
   "id": "8a99cbba-ea44-4300-96ea-33d023896074",
   "metadata": {},
   "outputs": [],
   "source": [
    "class config:\n",
    "    p = 0.5"
   ]
  },
  {
   "cell_type": "code",
   "execution_count": 11,
   "id": "e82c62da-441c-4b46-b0d1-c110936381ae",
   "metadata": {},
   "outputs": [
    {
     "name": "stdout",
     "output_type": "stream",
     "text": [
      "All labels length: 6958\n"
     ]
    }
   ],
   "source": [
    "train_labels = np.array([\"human\" not in file for file in train_files]).astype(int)\n",
    "test_labels = np.array([\"human\" not in file for file in test_files]).astype(int)\n",
    "all_labels = np.concatenate((train_labels, test_labels))\n",
    "\n",
    "print(f\"All labels length: {len(all_labels)}\")"
   ]
  },
  {
   "cell_type": "code",
   "execution_count": 12,
   "id": "7532ef8d-92cf-4ad3-a9b5-8408d82fbc70",
   "metadata": {},
   "outputs": [],
   "source": [
    "other_test_indices = np.arange(len(all_labels))[1988:]\n",
    "augmentations = [\"baseline\", \"synonym\", \"back\", \"emotion\", \"style\", \"summary\"]\n",
    "train_sizes = [10, 25, 50, 75, 100]\n",
    "seeds = [51, 53, 62, 67, 77, 78, 93, 97]\n",
    "score_dict = {}"
   ]
  },
  {
   "cell_type": "code",
   "execution_count": 13,
   "id": "81afc669-6091-4319-8c70-e2d04794e77e",
   "metadata": {},
   "outputs": [
    {
     "name": "stdout",
     "output_type": "stream",
     "text": [
      "**************** SEED 51 ****************\n",
      "***************** AUGMENTATION: baseline *****************\n"
     ]
    },
    {
     "data": {
      "application/vnd.jupyter.widget-view+json": {
       "model_id": "d356aebca3e4460c837fcd6335897fa7",
       "version_major": 2,
       "version_minor": 0
      },
      "text/plain": [
       "  0%|          | 0/5 [00:00<?, ?it/s]"
      ]
     },
     "metadata": {},
     "output_type": "display_data"
    },
    {
     "name": "stdout",
     "output_type": "stream",
     "text": [
      "***************** TRAIN SIZE: 10 *****************\n"
     ]
    },
    {
     "name": "stderr",
     "output_type": "stream",
     "text": [
      "100%|███████████████████████████████████████████████████| 2534/2534 [00:09<00:00, 275.12it/s]\n"
     ]
    },
    {
     "name": "stdout",
     "output_type": "stream",
     "text": [
      "Iteration 0, Current Score: 0,                 Best Feature: davinci-logprobs v-div trigram-logprobs s-min, New Score: 1.0\n"
     ]
    },
    {
     "name": "stderr",
     "output_type": "stream",
     "text": [
      "100%|███████████████████████████████████████████████████| 2533/2533 [00:10<00:00, 238.36it/s]\n"
     ]
    },
    {
     "name": "stdout",
     "output_type": "stream",
     "text": [
      "Iteration 1, Current Score: 1.0,                 Best Feature: davinci-logprobs s-max, New Score: 1.0\n",
      "TRAINING WITHOUT AUGMENTATIONS\n",
      "Train size: 10\n",
      "F1-Score: 0.8745725113226731\n",
      "\n",
      "passes...\n",
      "***************** TRAIN SIZE: 25 *****************\n"
     ]
    },
    {
     "name": "stderr",
     "output_type": "stream",
     "text": [
      "100%|███████████████████████████████████████████████████| 2534/2534 [00:09<00:00, 268.18it/s]\n"
     ]
    },
    {
     "name": "stdout",
     "output_type": "stream",
     "text": [
      "Iteration 0, Current Score: 0,                 Best Feature: davinci-logprobs s-avg, New Score: 1.0\n"
     ]
    },
    {
     "name": "stderr",
     "output_type": "stream",
     "text": [
      "100%|███████████████████████████████████████████████████| 2533/2533 [00:11<00:00, 218.82it/s]\n"
     ]
    },
    {
     "name": "stdout",
     "output_type": "stream",
     "text": [
      "Iteration 1, Current Score: 1.0,                 Best Feature: davinci-logprobs s-max, New Score: 1.0\n",
      "TRAINING WITHOUT AUGMENTATIONS\n",
      "Train size: 25\n",
      "F1-Score: 0.9589539314166955\n",
      "\n",
      "passes...\n",
      "***************** TRAIN SIZE: 50 *****************\n"
     ]
    },
    {
     "name": "stderr",
     "output_type": "stream",
     "text": [
      "100%|███████████████████████████████████████████████████| 2534/2534 [00:09<00:00, 263.74it/s]\n"
     ]
    },
    {
     "name": "stdout",
     "output_type": "stream",
     "text": [
      "Iteration 0, Current Score: 0,                 Best Feature: trigram-logprobs v-> davinci-logprobs s-var, New Score: 1.0\n"
     ]
    },
    {
     "name": "stderr",
     "output_type": "stream",
     "text": [
      "100%|███████████████████████████████████████████████████| 2533/2533 [00:11<00:00, 219.93it/s]\n"
     ]
    },
    {
     "name": "stdout",
     "output_type": "stream",
     "text": [
      "Iteration 1, Current Score: 1.0,                 Best Feature: davinci-logprobs s-max, New Score: 1.0\n",
      "TRAINING WITHOUT AUGMENTATIONS\n",
      "Train size: 50\n",
      "F1-Score: 0.9794238683127572\n",
      "\n",
      "passes...\n",
      "***************** TRAIN SIZE: 75 *****************\n"
     ]
    },
    {
     "name": "stderr",
     "output_type": "stream",
     "text": [
      "100%|███████████████████████████████████████████████████| 2534/2534 [00:09<00:00, 254.53it/s]\n"
     ]
    },
    {
     "name": "stdout",
     "output_type": "stream",
     "text": [
      "Iteration 0, Current Score: 0,                 Best Feature: unigram-logprobs v-add trigram-logprobs v-> davinci-logprobs s-avg, New Score: 1.0\n"
     ]
    },
    {
     "name": "stderr",
     "output_type": "stream",
     "text": [
      "100%|███████████████████████████████████████████████████| 2533/2533 [00:12<00:00, 210.85it/s]\n"
     ]
    },
    {
     "name": "stdout",
     "output_type": "stream",
     "text": [
      "Iteration 1, Current Score: 1.0,                 Best Feature: davinci-logprobs s-max, New Score: 1.0\n",
      "TRAINING WITHOUT AUGMENTATIONS\n",
      "Train size: 75\n",
      "F1-Score: 0.992024435771254\n",
      "\n",
      "passes...\n",
      "***************** TRAIN SIZE: 100 *****************\n"
     ]
    },
    {
     "name": "stderr",
     "output_type": "stream",
     "text": [
      "100%|███████████████████████████████████████████████████| 2534/2534 [00:09<00:00, 254.97it/s]\n"
     ]
    },
    {
     "name": "stdout",
     "output_type": "stream",
     "text": [
      "Iteration 0, Current Score: 0,                 Best Feature: trigram-logprobs v-> ada-logprobs s-avg, New Score: 0.99\n"
     ]
    },
    {
     "name": "stderr",
     "output_type": "stream",
     "text": [
      "100%|███████████████████████████████████████████████████| 2533/2533 [00:12<00:00, 205.05it/s]\n"
     ]
    },
    {
     "name": "stdout",
     "output_type": "stream",
     "text": [
      "Iteration 1, Current Score: 0.99,                 Best Feature: davinci-logprobs v-div ada-logprobs v-mul davinci-logprobs s-len, New Score: 1.0\n"
     ]
    },
    {
     "name": "stderr",
     "output_type": "stream",
     "text": [
      "100%|███████████████████████████████████████████████████| 2532/2532 [00:12<00:00, 204.32it/s]"
     ]
    },
    {
     "name": "stdout",
     "output_type": "stream",
     "text": [
      "Iteration 2, Current Score: 1.0,                 Best Feature: davinci-logprobs s-min, New Score: 1.0\n",
      "TRAINING WITHOUT AUGMENTATIONS\n",
      "Train size: 100\n",
      "F1-Score: 0.9790593889461037\n",
      "\n",
      "passes...\n",
      "***************** AUGMENTATION: synonym *****************\n"
     ]
    },
    {
     "name": "stderr",
     "output_type": "stream",
     "text": [
      "\n"
     ]
    },
    {
     "data": {
      "application/vnd.jupyter.widget-view+json": {
       "model_id": "f9f67bf94e9a4c219f6c8cebaea141e5",
       "version_major": 2,
       "version_minor": 0
      },
      "text/plain": [
       "  0%|          | 0/5 [00:00<?, ?it/s]"
      ]
     },
     "metadata": {},
     "output_type": "display_data"
    },
    {
     "name": "stdout",
     "output_type": "stream",
     "text": [
      "***************** TRAIN SIZE: 10 *****************\n"
     ]
    },
    {
     "name": "stderr",
     "output_type": "stream",
     "text": [
      "100%|███████████████████████████████████████████████████| 2534/2534 [00:09<00:00, 263.65it/s]\n"
     ]
    },
    {
     "name": "stdout",
     "output_type": "stream",
     "text": [
      "Iteration 0, Current Score: 0,                 Best Feature: davinci-logprobs v-div trigram-logprobs s-min, New Score: 1.0\n"
     ]
    },
    {
     "name": "stderr",
     "output_type": "stream",
     "text": [
      "100%|███████████████████████████████████████████████████| 2533/2533 [00:10<00:00, 230.74it/s]\n"
     ]
    },
    {
     "name": "stdout",
     "output_type": "stream",
     "text": [
      "Iteration 1, Current Score: 1.0,                 Best Feature: davinci-logprobs s-max, New Score: 1.0\n",
      "TRAINING WITH synonym AUGMENTED DATA.\n",
      "Train size: 10\n",
      "F1-Score: 0.9127138070886969\n",
      "\n",
      "passes...\n",
      "***************** TRAIN SIZE: 25 *****************\n"
     ]
    },
    {
     "name": "stderr",
     "output_type": "stream",
     "text": [
      "100%|███████████████████████████████████████████████████| 2534/2534 [00:09<00:00, 266.43it/s]\n"
     ]
    },
    {
     "name": "stdout",
     "output_type": "stream",
     "text": [
      "Iteration 0, Current Score: 0,                 Best Feature: unigram-logprobs v-> ada-logprobs s-avg, New Score: 1.0\n"
     ]
    },
    {
     "name": "stderr",
     "output_type": "stream",
     "text": [
      "100%|███████████████████████████████████████████████████| 2533/2533 [00:11<00:00, 216.53it/s]\n"
     ]
    },
    {
     "name": "stdout",
     "output_type": "stream",
     "text": [
      "Iteration 1, Current Score: 1.0,                 Best Feature: davinci-logprobs s-max, New Score: 1.0\n",
      "TRAINING WITH synonym AUGMENTED DATA.\n",
      "Train size: 25\n",
      "F1-Score: 0.913441493700716\n",
      "\n",
      "passes...\n",
      "***************** TRAIN SIZE: 50 *****************\n"
     ]
    },
    {
     "name": "stderr",
     "output_type": "stream",
     "text": [
      "100%|███████████████████████████████████████████████████| 2534/2534 [00:09<00:00, 258.85it/s]\n"
     ]
    },
    {
     "name": "stdout",
     "output_type": "stream",
     "text": [
      "Iteration 0, Current Score: 0,                 Best Feature: trigram-logprobs v-sub ada-logprobs v-> davinci-logprobs s-var, New Score: 1.0\n"
     ]
    },
    {
     "name": "stderr",
     "output_type": "stream",
     "text": [
      "100%|███████████████████████████████████████████████████| 2533/2533 [00:11<00:00, 213.87it/s]\n"
     ]
    },
    {
     "name": "stdout",
     "output_type": "stream",
     "text": [
      "Iteration 1, Current Score: 1.0,                 Best Feature: davinci-logprobs s-min, New Score: 1.0\n",
      "TRAINING WITH synonym AUGMENTED DATA.\n",
      "Train size: 50\n",
      "F1-Score: 0.954398249452954\n",
      "\n",
      "passes...\n",
      "***************** TRAIN SIZE: 75 *****************\n"
     ]
    },
    {
     "name": "stderr",
     "output_type": "stream",
     "text": [
      "100%|███████████████████████████████████████████████████| 2534/2534 [00:09<00:00, 259.81it/s]\n"
     ]
    },
    {
     "name": "stdout",
     "output_type": "stream",
     "text": [
      "Iteration 0, Current Score: 0,                 Best Feature: trigram-logprobs v-sub ada-logprobs v-< davinci-logprobs s-avg, New Score: 1.0\n"
     ]
    },
    {
     "name": "stderr",
     "output_type": "stream",
     "text": [
      "100%|███████████████████████████████████████████████████| 2533/2533 [00:12<00:00, 209.16it/s]\n"
     ]
    },
    {
     "name": "stdout",
     "output_type": "stream",
     "text": [
      "Iteration 1, Current Score: 1.0,                 Best Feature: davinci-logprobs v-div ada-logprobs v-mul davinci-logprobs s-avg-top-25, New Score: 1.0\n",
      "TRAINING WITH synonym AUGMENTED DATA.\n",
      "Train size: 75\n",
      "F1-Score: 0.9356944817100439\n",
      "\n",
      "passes...\n",
      "***************** TRAIN SIZE: 100 *****************\n"
     ]
    },
    {
     "name": "stderr",
     "output_type": "stream",
     "text": [
      "100%|███████████████████████████████████████████████████| 2534/2534 [00:10<00:00, 253.03it/s]\n"
     ]
    },
    {
     "name": "stdout",
     "output_type": "stream",
     "text": [
      "Iteration 0, Current Score: 0,                 Best Feature: trigram-logprobs v-> ada-logprobs v-> davinci-logprobs s-var, New Score: 1.0\n"
     ]
    },
    {
     "name": "stderr",
     "output_type": "stream",
     "text": [
      "100%|███████████████████████████████████████████████████| 2533/2533 [00:12<00:00, 204.92it/s]"
     ]
    },
    {
     "name": "stdout",
     "output_type": "stream",
     "text": [
      "Iteration 1, Current Score: 1.0,                 Best Feature: davinci-logprobs s-min, New Score: 1.0\n",
      "TRAINING WITH synonym AUGMENTED DATA.\n",
      "Train size: 100\n",
      "F1-Score: 0.9673145646300009\n",
      "\n",
      "passes...\n",
      "***************** AUGMENTATION: back *****************\n"
     ]
    },
    {
     "name": "stderr",
     "output_type": "stream",
     "text": [
      "\n"
     ]
    },
    {
     "data": {
      "application/vnd.jupyter.widget-view+json": {
       "model_id": "9da153d6a0014a0da2724ed0a3abc70f",
       "version_major": 2,
       "version_minor": 0
      },
      "text/plain": [
       "  0%|          | 0/5 [00:00<?, ?it/s]"
      ]
     },
     "metadata": {},
     "output_type": "display_data"
    },
    {
     "name": "stdout",
     "output_type": "stream",
     "text": [
      "***************** TRAIN SIZE: 10 *****************\n"
     ]
    },
    {
     "name": "stderr",
     "output_type": "stream",
     "text": [
      "100%|███████████████████████████████████████████████████| 2534/2534 [00:09<00:00, 263.87it/s]\n"
     ]
    },
    {
     "name": "stdout",
     "output_type": "stream",
     "text": [
      "Iteration 0, Current Score: 0,                 Best Feature: davinci-logprobs v-div trigram-logprobs s-min, New Score: 1.0\n"
     ]
    },
    {
     "name": "stderr",
     "output_type": "stream",
     "text": [
      "100%|███████████████████████████████████████████████████| 2533/2533 [00:10<00:00, 230.86it/s]\n"
     ]
    },
    {
     "name": "stdout",
     "output_type": "stream",
     "text": [
      "Iteration 1, Current Score: 1.0,                 Best Feature: davinci-logprobs s-max, New Score: 1.0\n",
      "TRAINING WITH back AUGMENTED DATA.\n",
      "Train size: 10\n",
      "F1-Score: 0.9483615533653441\n",
      "\n",
      "passes...\n",
      "***************** TRAIN SIZE: 25 *****************\n"
     ]
    },
    {
     "name": "stderr",
     "output_type": "stream",
     "text": [
      "100%|███████████████████████████████████████████████████| 2534/2534 [00:09<00:00, 266.73it/s]\n"
     ]
    },
    {
     "name": "stdout",
     "output_type": "stream",
     "text": [
      "Iteration 0, Current Score: 0,                 Best Feature: unigram-logprobs v-> ada-logprobs s-avg, New Score: 1.0\n"
     ]
    },
    {
     "name": "stderr",
     "output_type": "stream",
     "text": [
      "100%|███████████████████████████████████████████████████| 2533/2533 [00:11<00:00, 218.50it/s]\n"
     ]
    },
    {
     "name": "stdout",
     "output_type": "stream",
     "text": [
      "Iteration 1, Current Score: 1.0,                 Best Feature: davinci-logprobs s-max, New Score: 1.0\n",
      "TRAINING WITH back AUGMENTED DATA.\n",
      "Train size: 25\n",
      "F1-Score: 0.8763476141370582\n",
      "\n",
      "passes...\n",
      "***************** TRAIN SIZE: 50 *****************\n"
     ]
    },
    {
     "name": "stderr",
     "output_type": "stream",
     "text": [
      "100%|███████████████████████████████████████████████████| 2534/2534 [00:09<00:00, 259.91it/s]\n"
     ]
    },
    {
     "name": "stdout",
     "output_type": "stream",
     "text": [
      "Iteration 0, Current Score: 0,                 Best Feature: trigram-logprobs v-sub ada-logprobs v-> davinci-logprobs s-var, New Score: 1.0\n"
     ]
    },
    {
     "name": "stderr",
     "output_type": "stream",
     "text": [
      "100%|███████████████████████████████████████████████████| 2533/2533 [00:11<00:00, 213.48it/s]\n"
     ]
    },
    {
     "name": "stdout",
     "output_type": "stream",
     "text": [
      "Iteration 1, Current Score: 1.0,                 Best Feature: davinci-logprobs s-min, New Score: 1.0\n",
      "TRAINING WITH back AUGMENTED DATA.\n",
      "Train size: 50\n",
      "F1-Score: 0.9450510743219444\n",
      "\n",
      "passes...\n",
      "***************** TRAIN SIZE: 75 *****************\n"
     ]
    },
    {
     "name": "stderr",
     "output_type": "stream",
     "text": [
      "100%|███████████████████████████████████████████████████| 2534/2534 [00:09<00:00, 256.61it/s]\n"
     ]
    },
    {
     "name": "stdout",
     "output_type": "stream",
     "text": [
      "Iteration 0, Current Score: 0,                 Best Feature: trigram-logprobs v-sub ada-logprobs v-< davinci-logprobs s-avg, New Score: 1.0\n"
     ]
    },
    {
     "name": "stderr",
     "output_type": "stream",
     "text": [
      "100%|███████████████████████████████████████████████████| 2533/2533 [00:12<00:00, 209.93it/s]\n"
     ]
    },
    {
     "name": "stdout",
     "output_type": "stream",
     "text": [
      "Iteration 1, Current Score: 1.0,                 Best Feature: davinci-logprobs v-div ada-logprobs v-mul davinci-logprobs s-avg-top-25, New Score: 1.0\n",
      "TRAINING WITH back AUGMENTED DATA.\n",
      "Train size: 75\n",
      "F1-Score: 0.9790916880891174\n",
      "\n",
      "passes...\n",
      "***************** TRAIN SIZE: 100 *****************\n"
     ]
    },
    {
     "name": "stderr",
     "output_type": "stream",
     "text": [
      "100%|███████████████████████████████████████████████████| 2534/2534 [00:09<00:00, 253.93it/s]\n"
     ]
    },
    {
     "name": "stdout",
     "output_type": "stream",
     "text": [
      "Iteration 0, Current Score: 0,                 Best Feature: trigram-logprobs v-> ada-logprobs v-> davinci-logprobs s-var, New Score: 1.0\n"
     ]
    },
    {
     "name": "stderr",
     "output_type": "stream",
     "text": [
      "100%|███████████████████████████████████████████████████| 2533/2533 [00:12<00:00, 207.21it/s]"
     ]
    },
    {
     "name": "stdout",
     "output_type": "stream",
     "text": [
      "Iteration 1, Current Score: 1.0,                 Best Feature: davinci-logprobs s-min, New Score: 1.0\n",
      "TRAINING WITH back AUGMENTED DATA.\n",
      "Train size: 100\n",
      "F1-Score: 0.9482269503546099\n",
      "\n",
      "passes...\n",
      "***************** AUGMENTATION: emotion *****************\n"
     ]
    },
    {
     "name": "stderr",
     "output_type": "stream",
     "text": [
      "\n"
     ]
    },
    {
     "data": {
      "application/vnd.jupyter.widget-view+json": {
       "model_id": "794dbc28b88245b2a2384075ff99b823",
       "version_major": 2,
       "version_minor": 0
      },
      "text/plain": [
       "  0%|          | 0/5 [00:00<?, ?it/s]"
      ]
     },
     "metadata": {},
     "output_type": "display_data"
    },
    {
     "name": "stdout",
     "output_type": "stream",
     "text": [
      "***************** TRAIN SIZE: 10 *****************\n"
     ]
    },
    {
     "name": "stderr",
     "output_type": "stream",
     "text": [
      "100%|███████████████████████████████████████████████████| 2534/2534 [00:09<00:00, 264.20it/s]\n"
     ]
    },
    {
     "name": "stdout",
     "output_type": "stream",
     "text": [
      "Iteration 0, Current Score: 0,                 Best Feature: davinci-logprobs v-div trigram-logprobs s-min, New Score: 1.0\n"
     ]
    },
    {
     "name": "stderr",
     "output_type": "stream",
     "text": [
      "100%|███████████████████████████████████████████████████| 2533/2533 [00:10<00:00, 231.33it/s]\n"
     ]
    },
    {
     "name": "stdout",
     "output_type": "stream",
     "text": [
      "Iteration 1, Current Score: 1.0,                 Best Feature: davinci-logprobs s-max, New Score: 1.0\n",
      "TRAINING WITH emotion AUGMENTED DATA.\n",
      "Train size: 10\n",
      "F1-Score: 0.9134548002803083\n",
      "\n",
      "passes...\n",
      "***************** TRAIN SIZE: 25 *****************\n"
     ]
    },
    {
     "name": "stderr",
     "output_type": "stream",
     "text": [
      "100%|███████████████████████████████████████████████████| 2534/2534 [00:09<00:00, 266.73it/s]\n"
     ]
    },
    {
     "name": "stdout",
     "output_type": "stream",
     "text": [
      "Iteration 0, Current Score: 0,                 Best Feature: unigram-logprobs v-> ada-logprobs s-avg, New Score: 1.0\n"
     ]
    },
    {
     "name": "stderr",
     "output_type": "stream",
     "text": [
      "100%|███████████████████████████████████████████████████| 2533/2533 [00:11<00:00, 217.25it/s]\n"
     ]
    },
    {
     "name": "stdout",
     "output_type": "stream",
     "text": [
      "Iteration 1, Current Score: 1.0,                 Best Feature: davinci-logprobs s-max, New Score: 1.0\n",
      "TRAINING WITH emotion AUGMENTED DATA.\n",
      "Train size: 25\n",
      "F1-Score: 0.9316781280700187\n",
      "\n",
      "passes...\n",
      "***************** TRAIN SIZE: 50 *****************\n"
     ]
    },
    {
     "name": "stderr",
     "output_type": "stream",
     "text": [
      "100%|███████████████████████████████████████████████████| 2534/2534 [00:09<00:00, 259.96it/s]\n"
     ]
    },
    {
     "name": "stdout",
     "output_type": "stream",
     "text": [
      "Iteration 0, Current Score: 0,                 Best Feature: trigram-logprobs v-sub ada-logprobs v-> davinci-logprobs s-var, New Score: 1.0\n"
     ]
    },
    {
     "name": "stderr",
     "output_type": "stream",
     "text": [
      "100%|███████████████████████████████████████████████████| 2533/2533 [00:12<00:00, 210.98it/s]\n"
     ]
    },
    {
     "name": "stdout",
     "output_type": "stream",
     "text": [
      "Iteration 1, Current Score: 1.0,                 Best Feature: davinci-logprobs s-min, New Score: 1.0\n",
      "TRAINING WITH emotion AUGMENTED DATA.\n",
      "Train size: 50\n",
      "F1-Score: 0.9553961868112647\n",
      "\n",
      "passes...\n",
      "***************** TRAIN SIZE: 75 *****************\n"
     ]
    },
    {
     "name": "stderr",
     "output_type": "stream",
     "text": [
      "100%|███████████████████████████████████████████████████| 2534/2534 [00:09<00:00, 256.33it/s]\n"
     ]
    },
    {
     "name": "stdout",
     "output_type": "stream",
     "text": [
      "Iteration 0, Current Score: 0,                 Best Feature: trigram-logprobs v-sub ada-logprobs v-< davinci-logprobs s-avg, New Score: 1.0\n"
     ]
    },
    {
     "name": "stderr",
     "output_type": "stream",
     "text": [
      "100%|███████████████████████████████████████████████████| 2533/2533 [00:12<00:00, 210.17it/s]\n"
     ]
    },
    {
     "name": "stdout",
     "output_type": "stream",
     "text": [
      "Iteration 1, Current Score: 1.0,                 Best Feature: davinci-logprobs v-div ada-logprobs v-mul davinci-logprobs s-avg-top-25, New Score: 1.0\n",
      "TRAINING WITH emotion AUGMENTED DATA.\n",
      "Train size: 75\n",
      "F1-Score: 0.9626722483865341\n",
      "\n",
      "passes...\n",
      "***************** TRAIN SIZE: 100 *****************\n"
     ]
    },
    {
     "name": "stderr",
     "output_type": "stream",
     "text": [
      "100%|███████████████████████████████████████████████████| 2534/2534 [00:09<00:00, 255.80it/s]\n"
     ]
    },
    {
     "name": "stdout",
     "output_type": "stream",
     "text": [
      "Iteration 0, Current Score: 0,                 Best Feature: trigram-logprobs v-> ada-logprobs v-> davinci-logprobs s-var, New Score: 1.0\n"
     ]
    },
    {
     "name": "stderr",
     "output_type": "stream",
     "text": [
      "100%|███████████████████████████████████████████████████| 2533/2533 [00:12<00:00, 207.07it/s]\n"
     ]
    },
    {
     "name": "stdout",
     "output_type": "stream",
     "text": [
      "Iteration 1, Current Score: 1.0,                 Best Feature: davinci-logprobs s-min, New Score: 1.0\n",
      "TRAINING WITH emotion AUGMENTED DATA.\n",
      "Train size: 100\n",
      "F1-Score: 0.9495254147077087\n",
      "\n",
      "passes...\n",
      "***************** AUGMENTATION: style *****************\n"
     ]
    },
    {
     "data": {
      "application/vnd.jupyter.widget-view+json": {
       "model_id": "ff13848685f34d1d867317d02da5fb01",
       "version_major": 2,
       "version_minor": 0
      },
      "text/plain": [
       "  0%|          | 0/5 [00:00<?, ?it/s]"
      ]
     },
     "metadata": {},
     "output_type": "display_data"
    },
    {
     "name": "stdout",
     "output_type": "stream",
     "text": [
      "***************** TRAIN SIZE: 10 *****************\n"
     ]
    },
    {
     "name": "stderr",
     "output_type": "stream",
     "text": [
      "100%|███████████████████████████████████████████████████| 2534/2534 [00:09<00:00, 261.78it/s]\n"
     ]
    },
    {
     "name": "stdout",
     "output_type": "stream",
     "text": [
      "Iteration 0, Current Score: 0,                 Best Feature: davinci-logprobs v-div trigram-logprobs s-min, New Score: 1.0\n"
     ]
    },
    {
     "name": "stderr",
     "output_type": "stream",
     "text": [
      "100%|███████████████████████████████████████████████████| 2533/2533 [00:11<00:00, 229.41it/s]\n"
     ]
    },
    {
     "name": "stdout",
     "output_type": "stream",
     "text": [
      "Iteration 1, Current Score: 1.0,                 Best Feature: davinci-logprobs s-max, New Score: 1.0\n",
      "TRAINING WITH style AUGMENTED DATA.\n",
      "Train size: 10\n",
      "F1-Score: 0.8995547640249332\n",
      "\n",
      "passes...\n",
      "***************** TRAIN SIZE: 25 *****************\n"
     ]
    },
    {
     "name": "stderr",
     "output_type": "stream",
     "text": [
      "100%|███████████████████████████████████████████████████| 2534/2534 [00:09<00:00, 264.79it/s]\n"
     ]
    },
    {
     "name": "stdout",
     "output_type": "stream",
     "text": [
      "Iteration 0, Current Score: 0,                 Best Feature: unigram-logprobs v-> ada-logprobs s-avg, New Score: 1.0\n"
     ]
    },
    {
     "name": "stderr",
     "output_type": "stream",
     "text": [
      "100%|███████████████████████████████████████████████████| 2533/2533 [00:11<00:00, 217.42it/s]\n"
     ]
    },
    {
     "name": "stdout",
     "output_type": "stream",
     "text": [
      "Iteration 1, Current Score: 1.0,                 Best Feature: davinci-logprobs s-max, New Score: 1.0\n",
      "TRAINING WITH style AUGMENTED DATA.\n",
      "Train size: 25\n",
      "F1-Score: 0.9330851723832314\n",
      "\n",
      "passes...\n",
      "***************** TRAIN SIZE: 50 *****************\n"
     ]
    },
    {
     "name": "stderr",
     "output_type": "stream",
     "text": [
      "100%|███████████████████████████████████████████████████| 2534/2534 [00:09<00:00, 258.88it/s]\n"
     ]
    },
    {
     "name": "stdout",
     "output_type": "stream",
     "text": [
      "Iteration 0, Current Score: 0,                 Best Feature: trigram-logprobs v-sub ada-logprobs v-> davinci-logprobs s-var, New Score: 1.0\n"
     ]
    },
    {
     "name": "stderr",
     "output_type": "stream",
     "text": [
      "100%|███████████████████████████████████████████████████| 2533/2533 [00:11<00:00, 212.09it/s]\n"
     ]
    },
    {
     "name": "stdout",
     "output_type": "stream",
     "text": [
      "Iteration 1, Current Score: 1.0,                 Best Feature: davinci-logprobs s-min, New Score: 1.0\n",
      "TRAINING WITH style AUGMENTED DATA.\n",
      "Train size: 50\n",
      "F1-Score: 0.9551636395542686\n",
      "\n",
      "passes...\n",
      "***************** TRAIN SIZE: 75 *****************\n"
     ]
    },
    {
     "name": "stderr",
     "output_type": "stream",
     "text": [
      "100%|███████████████████████████████████████████████████| 2534/2534 [00:09<00:00, 254.83it/s]\n"
     ]
    },
    {
     "name": "stdout",
     "output_type": "stream",
     "text": [
      "Iteration 0, Current Score: 0,                 Best Feature: trigram-logprobs v-sub ada-logprobs v-< davinci-logprobs s-avg, New Score: 1.0\n"
     ]
    },
    {
     "name": "stderr",
     "output_type": "stream",
     "text": [
      "100%|███████████████████████████████████████████████████| 2533/2533 [00:12<00:00, 207.39it/s]\n"
     ]
    },
    {
     "name": "stdout",
     "output_type": "stream",
     "text": [
      "Iteration 1, Current Score: 1.0,                 Best Feature: davinci-logprobs v-div ada-logprobs v-mul davinci-logprobs s-avg-top-25, New Score: 1.0\n",
      "TRAINING WITH style AUGMENTED DATA.\n",
      "Train size: 75\n",
      "F1-Score: 0.9474709894587652\n",
      "\n",
      "passes...\n",
      "***************** TRAIN SIZE: 100 *****************\n"
     ]
    },
    {
     "name": "stderr",
     "output_type": "stream",
     "text": [
      "100%|███████████████████████████████████████████████████| 2534/2534 [00:10<00:00, 246.85it/s]\n"
     ]
    },
    {
     "name": "stdout",
     "output_type": "stream",
     "text": [
      "Iteration 0, Current Score: 0,                 Best Feature: trigram-logprobs v-> ada-logprobs v-> davinci-logprobs s-var, New Score: 1.0\n"
     ]
    },
    {
     "name": "stderr",
     "output_type": "stream",
     "text": [
      "100%|███████████████████████████████████████████████████| 2533/2533 [00:12<00:00, 205.32it/s]"
     ]
    },
    {
     "name": "stdout",
     "output_type": "stream",
     "text": [
      "Iteration 1, Current Score: 1.0,                 Best Feature: davinci-logprobs s-min, New Score: 1.0\n",
      "TRAINING WITH style AUGMENTED DATA.\n",
      "Train size: 100\n",
      "F1-Score: 0.9434534427399215\n",
      "\n",
      "passes...\n",
      "***************** AUGMENTATION: summary *****************\n"
     ]
    },
    {
     "name": "stderr",
     "output_type": "stream",
     "text": [
      "\n"
     ]
    },
    {
     "data": {
      "application/vnd.jupyter.widget-view+json": {
       "model_id": "09ee74b31dbc4c739649949a2d90713d",
       "version_major": 2,
       "version_minor": 0
      },
      "text/plain": [
       "  0%|          | 0/5 [00:00<?, ?it/s]"
      ]
     },
     "metadata": {},
     "output_type": "display_data"
    },
    {
     "name": "stdout",
     "output_type": "stream",
     "text": [
      "***************** TRAIN SIZE: 10 *****************\n"
     ]
    },
    {
     "name": "stderr",
     "output_type": "stream",
     "text": [
      "100%|███████████████████████████████████████████████████| 2534/2534 [00:09<00:00, 263.96it/s]\n"
     ]
    },
    {
     "name": "stdout",
     "output_type": "stream",
     "text": [
      "Iteration 0, Current Score: 0,                 Best Feature: davinci-logprobs v-div trigram-logprobs s-min, New Score: 1.0\n"
     ]
    },
    {
     "name": "stderr",
     "output_type": "stream",
     "text": [
      "100%|███████████████████████████████████████████████████| 2533/2533 [00:10<00:00, 231.58it/s]\n"
     ]
    },
    {
     "name": "stdout",
     "output_type": "stream",
     "text": [
      "Iteration 1, Current Score: 1.0,                 Best Feature: davinci-logprobs s-max, New Score: 1.0\n",
      "TRAINING WITH summary AUGMENTED DATA.\n",
      "Train size: 10\n",
      "F1-Score: 0.9137459168358789\n",
      "\n",
      "passes...\n",
      "***************** TRAIN SIZE: 25 *****************\n"
     ]
    },
    {
     "name": "stderr",
     "output_type": "stream",
     "text": [
      "100%|███████████████████████████████████████████████████| 2534/2534 [00:09<00:00, 266.97it/s]\n"
     ]
    },
    {
     "name": "stdout",
     "output_type": "stream",
     "text": [
      "Iteration 0, Current Score: 0,                 Best Feature: unigram-logprobs v-> ada-logprobs s-avg, New Score: 1.0\n"
     ]
    },
    {
     "name": "stderr",
     "output_type": "stream",
     "text": [
      "100%|███████████████████████████████████████████████████| 2533/2533 [00:11<00:00, 216.05it/s]\n"
     ]
    },
    {
     "name": "stdout",
     "output_type": "stream",
     "text": [
      "Iteration 1, Current Score: 1.0,                 Best Feature: davinci-logprobs s-max, New Score: 1.0\n",
      "TRAINING WITH summary AUGMENTED DATA.\n",
      "Train size: 25\n",
      "F1-Score: 0.9107338444687842\n",
      "\n",
      "passes...\n",
      "***************** TRAIN SIZE: 50 *****************\n"
     ]
    },
    {
     "name": "stderr",
     "output_type": "stream",
     "text": [
      "100%|███████████████████████████████████████████████████| 2534/2534 [00:09<00:00, 259.47it/s]\n"
     ]
    },
    {
     "name": "stdout",
     "output_type": "stream",
     "text": [
      "Iteration 0, Current Score: 0,                 Best Feature: trigram-logprobs v-sub ada-logprobs v-> davinci-logprobs s-var, New Score: 1.0\n"
     ]
    },
    {
     "name": "stderr",
     "output_type": "stream",
     "text": [
      "100%|███████████████████████████████████████████████████| 2533/2533 [00:11<00:00, 213.28it/s]\n"
     ]
    },
    {
     "name": "stdout",
     "output_type": "stream",
     "text": [
      "Iteration 1, Current Score: 1.0,                 Best Feature: davinci-logprobs s-min, New Score: 1.0\n",
      "TRAINING WITH summary AUGMENTED DATA.\n",
      "Train size: 50\n",
      "F1-Score: 0.9432068327903496\n",
      "\n",
      "passes...\n",
      "***************** TRAIN SIZE: 75 *****************\n"
     ]
    },
    {
     "name": "stderr",
     "output_type": "stream",
     "text": [
      "100%|███████████████████████████████████████████████████| 2534/2534 [00:09<00:00, 255.61it/s]\n"
     ]
    },
    {
     "name": "stdout",
     "output_type": "stream",
     "text": [
      "Iteration 0, Current Score: 0,                 Best Feature: trigram-logprobs v-sub ada-logprobs v-< davinci-logprobs s-avg, New Score: 1.0\n"
     ]
    },
    {
     "name": "stderr",
     "output_type": "stream",
     "text": [
      "100%|███████████████████████████████████████████████████| 2533/2533 [00:12<00:00, 208.46it/s]\n"
     ]
    },
    {
     "name": "stdout",
     "output_type": "stream",
     "text": [
      "Iteration 1, Current Score: 1.0,                 Best Feature: davinci-logprobs v-div ada-logprobs v-mul davinci-logprobs s-avg-top-25, New Score: 1.0\n",
      "TRAINING WITH summary AUGMENTED DATA.\n",
      "Train size: 75\n",
      "F1-Score: 0.9187176459903733\n",
      "\n",
      "passes...\n",
      "***************** TRAIN SIZE: 100 *****************\n"
     ]
    },
    {
     "name": "stderr",
     "output_type": "stream",
     "text": [
      "100%|███████████████████████████████████████████████████| 2534/2534 [00:10<00:00, 251.86it/s]\n"
     ]
    },
    {
     "name": "stdout",
     "output_type": "stream",
     "text": [
      "Iteration 0, Current Score: 0,                 Best Feature: trigram-logprobs v-> ada-logprobs v-> davinci-logprobs s-var, New Score: 1.0\n"
     ]
    },
    {
     "name": "stderr",
     "output_type": "stream",
     "text": [
      "100%|███████████████████████████████████████████████████| 2533/2533 [00:12<00:00, 205.40it/s]\n"
     ]
    },
    {
     "name": "stdout",
     "output_type": "stream",
     "text": [
      "Iteration 1, Current Score: 1.0,                 Best Feature: davinci-logprobs s-min, New Score: 1.0\n",
      "TRAINING WITH summary AUGMENTED DATA.\n",
      "Train size: 100\n",
      "F1-Score: 0.9597892888498684\n",
      "\n",
      "passes...\n"
     ]
    },
    {
     "data": {
      "image/png": "[encoded data removed]",
      "text/plain": [
       "<Figure size 640x480 with 1 Axes>"
      ]
     },
     "metadata": {},
     "output_type": "display_data"
    },
    {
     "name": "stdout",
     "output_type": "stream",
     "text": [
      "**************** SEED 53 ****************\n",
      "***************** AUGMENTATION: baseline *****************\n"
     ]
    },
    {
     "data": {
      "application/vnd.jupyter.widget-view+json": {
       "model_id": "8ab830ebb4444072ab877cb13a6b0553",
       "version_major": 2,
       "version_minor": 0
      },
      "text/plain": [
       "  0%|          | 0/5 [00:00<?, ?it/s]"
      ]
     },
     "metadata": {},
     "output_type": "display_data"
    },
    {
     "name": "stdout",
     "output_type": "stream",
     "text": [
      "***************** TRAIN SIZE: 10 *****************\n"
     ]
    },
    {
     "name": "stderr",
     "output_type": "stream",
     "text": [
      "100%|███████████████████████████████████████████████████| 2534/2534 [00:09<00:00, 263.76it/s]\n"
     ]
    },
    {
     "name": "stdout",
     "output_type": "stream",
     "text": [
      "Iteration 0, Current Score: 0,                 Best Feature: davinci-logprobs s-avg, New Score: 1.0\n"
     ]
    },
    {
     "name": "stderr",
     "output_type": "stream",
     "text": [
      "100%|███████████████████████████████████████████████████| 2533/2533 [00:11<00:00, 229.91it/s]\n"
     ]
    },
    {
     "name": "stdout",
     "output_type": "stream",
     "text": [
      "Iteration 1, Current Score: 1.0,                 Best Feature: davinci-logprobs s-max, New Score: 1.0\n",
      "TRAINING WITHOUT AUGMENTATIONS\n",
      "Train size: 10\n",
      "F1-Score: 0.7395471300684571\n",
      "\n",
      "passes...\n",
      "***************** TRAIN SIZE: 25 *****************\n"
     ]
    },
    {
     "name": "stderr",
     "output_type": "stream",
     "text": [
      "100%|███████████████████████████████████████████████████| 2534/2534 [00:09<00:00, 263.35it/s]\n"
     ]
    },
    {
     "name": "stdout",
     "output_type": "stream",
     "text": [
      "Iteration 0, Current Score: 0,                 Best Feature: trigram-logprobs v-> davinci-logprobs v-div ada-logprobs s-avg-top-25, New Score: 1.0\n"
     ]
    },
    {
     "name": "stderr",
     "output_type": "stream",
     "text": [
      "100%|███████████████████████████████████████████████████| 2533/2533 [00:11<00:00, 213.03it/s]\n"
     ]
    },
    {
     "name": "stdout",
     "output_type": "stream",
     "text": [
      "Iteration 1, Current Score: 1.0,                 Best Feature: davinci-logprobs s-avg-top-25, New Score: 1.0\n",
      "TRAINING WITHOUT AUGMENTATIONS\n",
      "Train size: 25\n",
      "F1-Score: 0.9460529789668222\n",
      "\n",
      "passes...\n",
      "***************** TRAIN SIZE: 50 *****************\n"
     ]
    },
    {
     "name": "stderr",
     "output_type": "stream",
     "text": [
      "100%|███████████████████████████████████████████████████| 2534/2534 [00:09<00:00, 260.88it/s]\n"
     ]
    },
    {
     "name": "stdout",
     "output_type": "stream",
     "text": [
      "Iteration 0, Current Score: 0,                 Best Feature: trigram-logprobs v-> ada-logprobs s-avg, New Score: 0.98\n"
     ]
    },
    {
     "name": "stderr",
     "output_type": "stream",
     "text": [
      "100%|███████████████████████████████████████████████████| 2533/2533 [00:12<00:00, 208.42it/s]\n"
     ]
    },
    {
     "name": "stdout",
     "output_type": "stream",
     "text": [
      "Iteration 1, Current Score: 0.98,                 Best Feature: davinci-logprobs v-div trigram-logprobs v-add davinci-logprobs s-avg, New Score: 1.0\n"
     ]
    },
    {
     "name": "stderr",
     "output_type": "stream",
     "text": [
      "100%|███████████████████████████████████████████████████| 2532/2532 [00:12<00:00, 203.55it/s]\n"
     ]
    },
    {
     "name": "stdout",
     "output_type": "stream",
     "text": [
      "Iteration 2, Current Score: 1.0,                 Best Feature: davinci-logprobs v-div ada-logprobs v-add davinci-logprobs s-avg-top-25, New Score: 1.0\n",
      "TRAINING WITHOUT AUGMENTATIONS\n",
      "Train size: 50\n",
      "F1-Score: 0.966241430183112\n",
      "\n",
      "passes...\n",
      "***************** TRAIN SIZE: 75 *****************\n"
     ]
    },
    {
     "name": "stderr",
     "output_type": "stream",
     "text": [
      "100%|███████████████████████████████████████████████████| 2534/2534 [00:09<00:00, 254.46it/s]\n"
     ]
    },
    {
     "name": "stdout",
     "output_type": "stream",
     "text": [
      "Iteration 0, Current Score: 0,                 Best Feature: trigram-logprobs v-div ada-logprobs v-> davinci-logprobs s-avg, New Score: 0.9866666667\n"
     ]
    },
    {
     "name": "stderr",
     "output_type": "stream",
     "text": [
      "100%|███████████████████████████████████████████████████| 2533/2533 [00:12<00:00, 205.98it/s]\n"
     ]
    },
    {
     "name": "stdout",
     "output_type": "stream",
     "text": [
      "Iteration 1, Current Score: 0.9866666667,                 Best Feature: davinci-logprobs s-len, New Score: 1.0\n"
     ]
    },
    {
     "name": "stderr",
     "output_type": "stream",
     "text": [
      "100%|███████████████████████████████████████████████████| 2532/2532 [00:12<00:00, 208.41it/s]\n"
     ]
    },
    {
     "name": "stdout",
     "output_type": "stream",
     "text": [
      "Iteration 2, Current Score: 1.0,                 Best Feature: davinci-logprobs s-min, New Score: 1.0\n",
      "TRAINING WITHOUT AUGMENTATIONS\n",
      "Train size: 75\n",
      "F1-Score: 0.9936413734633319\n",
      "\n",
      "passes...\n",
      "***************** TRAIN SIZE: 100 *****************\n"
     ]
    },
    {
     "name": "stderr",
     "output_type": "stream",
     "text": [
      "100%|███████████████████████████████████████████████████| 2534/2534 [00:10<00:00, 247.48it/s]\n"
     ]
    },
    {
     "name": "stdout",
     "output_type": "stream",
     "text": [
      "Iteration 0, Current Score: 0,                 Best Feature: trigram-logprobs v-> davinci-logprobs s-avg, New Score: 1.0\n"
     ]
    },
    {
     "name": "stderr",
     "output_type": "stream",
     "text": [
      "100%|███████████████████████████████████████████████████| 2533/2533 [00:11<00:00, 212.45it/s]"
     ]
    },
    {
     "name": "stdout",
     "output_type": "stream",
     "text": [
      "Iteration 1, Current Score: 1.0,                 Best Feature: davinci-logprobs s-max, New Score: 1.0\n",
      "TRAINING WITHOUT AUGMENTATIONS\n",
      "Train size: 100\n",
      "F1-Score: 0.9883414177516807\n",
      "\n",
      "passes...\n",
      "***************** AUGMENTATION: synonym *****************\n"
     ]
    },
    {
     "name": "stderr",
     "output_type": "stream",
     "text": [
      "\n"
     ]
    },
    {
     "data": {
      "application/vnd.jupyter.widget-view+json": {
       "model_id": "8b0f16a7cb07412a8ae9cf2d6df02183",
       "version_major": 2,
       "version_minor": 0
      },
      "text/plain": [
       "  0%|          | 0/5 [00:00<?, ?it/s]"
      ]
     },
     "metadata": {},
     "output_type": "display_data"
    },
    {
     "name": "stdout",
     "output_type": "stream",
     "text": [
      "***************** TRAIN SIZE: 10 *****************\n"
     ]
    },
    {
     "name": "stderr",
     "output_type": "stream",
     "text": [
      "100%|███████████████████████████████████████████████████| 2534/2534 [00:09<00:00, 262.10it/s]\n"
     ]
    },
    {
     "name": "stdout",
     "output_type": "stream",
     "text": [
      "Iteration 0, Current Score: 0,                 Best Feature: davinci-logprobs s-avg, New Score: 1.0\n"
     ]
    },
    {
     "name": "stderr",
     "output_type": "stream",
     "text": [
      "100%|███████████████████████████████████████████████████| 2533/2533 [00:10<00:00, 230.90it/s]\n"
     ]
    },
    {
     "name": "stdout",
     "output_type": "stream",
     "text": [
      "Iteration 1, Current Score: 1.0,                 Best Feature: davinci-logprobs s-max, New Score: 1.0\n",
      "TRAINING WITH synonym AUGMENTED DATA.\n",
      "Train size: 10\n",
      "F1-Score: 0.621191135734072\n",
      "\n",
      "passes...\n",
      "***************** TRAIN SIZE: 25 *****************\n"
     ]
    },
    {
     "name": "stderr",
     "output_type": "stream",
     "text": [
      "100%|███████████████████████████████████████████████████| 2534/2534 [00:09<00:00, 263.81it/s]\n"
     ]
    },
    {
     "name": "stdout",
     "output_type": "stream",
     "text": [
      "Iteration 0, Current Score: 0,                 Best Feature: trigram-logprobs v-> davinci-logprobs s-avg, New Score: 1.0\n"
     ]
    },
    {
     "name": "stderr",
     "output_type": "stream",
     "text": [
      "100%|███████████████████████████████████████████████████| 2533/2533 [00:11<00:00, 220.75it/s]\n"
     ]
    },
    {
     "name": "stdout",
     "output_type": "stream",
     "text": [
      "Iteration 1, Current Score: 1.0,                 Best Feature: davinci-logprobs s-max, New Score: 1.0\n",
      "TRAINING WITH synonym AUGMENTED DATA.\n",
      "Train size: 25\n",
      "F1-Score: 0.9697335517806329\n",
      "\n",
      "passes...\n",
      "***************** TRAIN SIZE: 50 *****************\n"
     ]
    },
    {
     "name": "stderr",
     "output_type": "stream",
     "text": [
      "100%|███████████████████████████████████████████████████| 2534/2534 [00:09<00:00, 257.94it/s]\n"
     ]
    },
    {
     "name": "stdout",
     "output_type": "stream",
     "text": [
      "Iteration 0, Current Score: 0,                 Best Feature: trigram-logprobs v-> davinci-logprobs s-avg, New Score: 1.0\n"
     ]
    },
    {
     "name": "stderr",
     "output_type": "stream",
     "text": [
      "100%|███████████████████████████████████████████████████| 2533/2533 [00:11<00:00, 213.19it/s]\n"
     ]
    },
    {
     "name": "stdout",
     "output_type": "stream",
     "text": [
      "Iteration 1, Current Score: 1.0,                 Best Feature: davinci-logprobs s-max, New Score: 1.0\n",
      "TRAINING WITH synonym AUGMENTED DATA.\n",
      "Train size: 50\n",
      "F1-Score: 0.9760963026655202\n",
      "\n",
      "passes...\n",
      "***************** TRAIN SIZE: 75 *****************\n"
     ]
    },
    {
     "name": "stderr",
     "output_type": "stream",
     "text": [
      "100%|███████████████████████████████████████████████████| 2534/2534 [00:09<00:00, 254.64it/s]\n"
     ]
    },
    {
     "name": "stdout",
     "output_type": "stream",
     "text": [
      "Iteration 0, Current Score: 0,                 Best Feature: trigram-logprobs v-div ada-logprobs v-> davinci-logprobs s-avg, New Score: 1.0\n"
     ]
    },
    {
     "name": "stderr",
     "output_type": "stream",
     "text": [
      "100%|███████████████████████████████████████████████████| 2533/2533 [00:11<00:00, 212.02it/s]\n"
     ]
    },
    {
     "name": "stdout",
     "output_type": "stream",
     "text": [
      "Iteration 1, Current Score: 1.0,                 Best Feature: davinci-logprobs s-max, New Score: 1.0\n",
      "TRAINING WITH synonym AUGMENTED DATA.\n",
      "Train size: 75\n",
      "F1-Score: 0.9626585045911674\n",
      "\n",
      "passes...\n",
      "***************** TRAIN SIZE: 100 *****************\n"
     ]
    },
    {
     "name": "stderr",
     "output_type": "stream",
     "text": [
      "100%|███████████████████████████████████████████████████| 2534/2534 [00:10<00:00, 252.90it/s]\n"
     ]
    },
    {
     "name": "stdout",
     "output_type": "stream",
     "text": [
      "Iteration 0, Current Score: 0,                 Best Feature: trigram-logprobs v-div ada-logprobs v-> davinci-logprobs s-avg, New Score: 1.0\n"
     ]
    },
    {
     "name": "stderr",
     "output_type": "stream",
     "text": [
      "100%|███████████████████████████████████████████████████| 2533/2533 [00:12<00:00, 204.74it/s]"
     ]
    },
    {
     "name": "stdout",
     "output_type": "stream",
     "text": [
      "Iteration 1, Current Score: 1.0,                 Best Feature: davinci-logprobs s-avg-top-25, New Score: 1.0\n",
      "TRAINING WITH synonym AUGMENTED DATA.\n",
      "Train size: 100\n",
      "F1-Score: 0.9639734172787688\n",
      "\n",
      "passes...\n",
      "***************** AUGMENTATION: back *****************\n"
     ]
    },
    {
     "name": "stderr",
     "output_type": "stream",
     "text": [
      "\n"
     ]
    },
    {
     "data": {
      "application/vnd.jupyter.widget-view+json": {
       "model_id": "4b55081e7c514727979a33ced85e2744",
       "version_major": 2,
       "version_minor": 0
      },
      "text/plain": [
       "  0%|          | 0/5 [00:00<?, ?it/s]"
      ]
     },
     "metadata": {},
     "output_type": "display_data"
    },
    {
     "name": "stdout",
     "output_type": "stream",
     "text": [
      "***************** TRAIN SIZE: 10 *****************\n"
     ]
    },
    {
     "name": "stderr",
     "output_type": "stream",
     "text": [
      "100%|███████████████████████████████████████████████████| 2534/2534 [00:09<00:00, 262.24it/s]\n"
     ]
    },
    {
     "name": "stdout",
     "output_type": "stream",
     "text": [
      "Iteration 0, Current Score: 0,                 Best Feature: davinci-logprobs s-avg, New Score: 1.0\n"
     ]
    },
    {
     "name": "stderr",
     "output_type": "stream",
     "text": [
      "100%|███████████████████████████████████████████████████| 2533/2533 [00:10<00:00, 230.33it/s]\n"
     ]
    },
    {
     "name": "stdout",
     "output_type": "stream",
     "text": [
      "Iteration 1, Current Score: 1.0,                 Best Feature: davinci-logprobs s-max, New Score: 1.0\n",
      "TRAINING WITH back AUGMENTED DATA.\n",
      "Train size: 10\n",
      "F1-Score: 0.48007131032726347\n",
      "\n",
      "passes...\n",
      "***************** TRAIN SIZE: 25 *****************\n"
     ]
    },
    {
     "name": "stderr",
     "output_type": "stream",
     "text": [
      "100%|███████████████████████████████████████████████████| 2534/2534 [00:09<00:00, 261.40it/s]\n"
     ]
    },
    {
     "name": "stdout",
     "output_type": "stream",
     "text": [
      "Iteration 0, Current Score: 0,                 Best Feature: trigram-logprobs v-> davinci-logprobs s-avg, New Score: 1.0\n"
     ]
    },
    {
     "name": "stderr",
     "output_type": "stream",
     "text": [
      "100%|███████████████████████████████████████████████████| 2533/2533 [00:11<00:00, 219.82it/s]\n"
     ]
    },
    {
     "name": "stdout",
     "output_type": "stream",
     "text": [
      "Iteration 1, Current Score: 1.0,                 Best Feature: davinci-logprobs s-max, New Score: 1.0\n",
      "TRAINING WITH back AUGMENTED DATA.\n",
      "Train size: 25\n",
      "F1-Score: 0.9766843819646837\n",
      "\n",
      "passes...\n",
      "***************** TRAIN SIZE: 50 *****************\n"
     ]
    },
    {
     "name": "stderr",
     "output_type": "stream",
     "text": [
      "100%|███████████████████████████████████████████████████| 2534/2534 [00:09<00:00, 254.24it/s]\n"
     ]
    },
    {
     "name": "stdout",
     "output_type": "stream",
     "text": [
      "Iteration 0, Current Score: 0,                 Best Feature: trigram-logprobs v-> davinci-logprobs s-avg, New Score: 1.0\n"
     ]
    },
    {
     "name": "stderr",
     "output_type": "stream",
     "text": [
      "100%|███████████████████████████████████████████████████| 2533/2533 [00:11<00:00, 214.33it/s]\n"
     ]
    },
    {
     "name": "stdout",
     "output_type": "stream",
     "text": [
      "Iteration 1, Current Score: 1.0,                 Best Feature: davinci-logprobs s-max, New Score: 1.0\n",
      "TRAINING WITH back AUGMENTED DATA.\n",
      "Train size: 50\n",
      "F1-Score: 0.9832011597168926\n",
      "\n",
      "passes...\n",
      "***************** TRAIN SIZE: 75 *****************\n"
     ]
    },
    {
     "name": "stderr",
     "output_type": "stream",
     "text": [
      "100%|███████████████████████████████████████████████████| 2534/2534 [00:09<00:00, 257.50it/s]\n"
     ]
    },
    {
     "name": "stdout",
     "output_type": "stream",
     "text": [
      "Iteration 0, Current Score: 0,                 Best Feature: trigram-logprobs v-div ada-logprobs v-> davinci-logprobs s-avg, New Score: 1.0\n"
     ]
    },
    {
     "name": "stderr",
     "output_type": "stream",
     "text": [
      "100%|███████████████████████████████████████████████████| 2533/2533 [00:11<00:00, 212.36it/s]\n"
     ]
    },
    {
     "name": "stdout",
     "output_type": "stream",
     "text": [
      "Iteration 1, Current Score: 1.0,                 Best Feature: davinci-logprobs s-max, New Score: 1.0\n",
      "TRAINING WITH back AUGMENTED DATA.\n",
      "Train size: 75\n",
      "F1-Score: 0.9571026722925458\n",
      "\n",
      "passes...\n",
      "***************** TRAIN SIZE: 100 *****************\n"
     ]
    },
    {
     "name": "stderr",
     "output_type": "stream",
     "text": [
      "100%|███████████████████████████████████████████████████| 2534/2534 [00:09<00:00, 253.68it/s]\n"
     ]
    },
    {
     "name": "stdout",
     "output_type": "stream",
     "text": [
      "Iteration 0, Current Score: 0,                 Best Feature: trigram-logprobs v-div ada-logprobs v-> davinci-logprobs s-avg, New Score: 1.0\n"
     ]
    },
    {
     "name": "stderr",
     "output_type": "stream",
     "text": [
      "100%|███████████████████████████████████████████████████| 2533/2533 [00:12<00:00, 204.27it/s]\n"
     ]
    },
    {
     "name": "stdout",
     "output_type": "stream",
     "text": [
      "Iteration 1, Current Score: 1.0,                 Best Feature: davinci-logprobs s-avg-top-25, New Score: 1.0\n",
      "TRAINING WITH back AUGMENTED DATA.\n",
      "Train size: 100\n",
      "F1-Score: 0.9656858465030996\n",
      "\n",
      "passes...\n",
      "***************** AUGMENTATION: emotion *****************\n"
     ]
    },
    {
     "data": {
      "application/vnd.jupyter.widget-view+json": {
       "model_id": "75c94a0e6db34202a4bd918167980b50",
       "version_major": 2,
       "version_minor": 0
      },
      "text/plain": [
       "  0%|          | 0/5 [00:00<?, ?it/s]"
      ]
     },
     "metadata": {},
     "output_type": "display_data"
    },
    {
     "name": "stdout",
     "output_type": "stream",
     "text": [
      "***************** TRAIN SIZE: 10 *****************\n"
     ]
    },
    {
     "name": "stderr",
     "output_type": "stream",
     "text": [
      "100%|███████████████████████████████████████████████████| 2534/2534 [00:09<00:00, 258.21it/s]\n"
     ]
    },
    {
     "name": "stdout",
     "output_type": "stream",
     "text": [
      "Iteration 0, Current Score: 0,                 Best Feature: davinci-logprobs s-avg, New Score: 1.0\n"
     ]
    },
    {
     "name": "stderr",
     "output_type": "stream",
     "text": [
      "100%|███████████████████████████████████████████████████| 2533/2533 [00:11<00:00, 227.90it/s]\n"
     ]
    },
    {
     "name": "stdout",
     "output_type": "stream",
     "text": [
      "Iteration 1, Current Score: 1.0,                 Best Feature: davinci-logprobs s-max, New Score: 1.0\n",
      "TRAINING WITH emotion AUGMENTED DATA.\n",
      "Train size: 10\n",
      "F1-Score: 0.47723504655018495\n",
      "\n",
      "passes...\n",
      "***************** TRAIN SIZE: 25 *****************\n"
     ]
    },
    {
     "name": "stderr",
     "output_type": "stream",
     "text": [
      "100%|███████████████████████████████████████████████████| 2534/2534 [00:09<00:00, 259.17it/s]\n"
     ]
    },
    {
     "name": "stdout",
     "output_type": "stream",
     "text": [
      "Iteration 0, Current Score: 0,                 Best Feature: trigram-logprobs v-> davinci-logprobs s-avg, New Score: 1.0\n"
     ]
    },
    {
     "name": "stderr",
     "output_type": "stream",
     "text": [
      "100%|███████████████████████████████████████████████████| 2533/2533 [00:11<00:00, 214.94it/s]\n"
     ]
    },
    {
     "name": "stdout",
     "output_type": "stream",
     "text": [
      "Iteration 1, Current Score: 1.0,                 Best Feature: davinci-logprobs s-max, New Score: 1.0\n",
      "TRAINING WITH emotion AUGMENTED DATA.\n",
      "Train size: 25\n",
      "F1-Score: 0.9808873720136518\n",
      "\n",
      "passes...\n",
      "***************** TRAIN SIZE: 50 *****************\n"
     ]
    },
    {
     "name": "stderr",
     "output_type": "stream",
     "text": [
      "100%|███████████████████████████████████████████████████| 2534/2534 [00:10<00:00, 251.85it/s]\n"
     ]
    },
    {
     "name": "stdout",
     "output_type": "stream",
     "text": [
      "Iteration 0, Current Score: 0,                 Best Feature: trigram-logprobs v-> davinci-logprobs s-avg, New Score: 1.0\n"
     ]
    },
    {
     "name": "stderr",
     "output_type": "stream",
     "text": [
      "100%|███████████████████████████████████████████████████| 2533/2533 [00:12<00:00, 209.46it/s]\n"
     ]
    },
    {
     "name": "stdout",
     "output_type": "stream",
     "text": [
      "Iteration 1, Current Score: 1.0,                 Best Feature: davinci-logprobs s-max, New Score: 1.0\n",
      "TRAINING WITH emotion AUGMENTED DATA.\n",
      "Train size: 50\n",
      "F1-Score: 0.9757273196763643\n",
      "\n",
      "passes...\n",
      "***************** TRAIN SIZE: 75 *****************\n"
     ]
    },
    {
     "name": "stderr",
     "output_type": "stream",
     "text": [
      "100%|███████████████████████████████████████████████████| 2534/2534 [00:09<00:00, 253.83it/s]\n"
     ]
    },
    {
     "name": "stdout",
     "output_type": "stream",
     "text": [
      "Iteration 0, Current Score: 0,                 Best Feature: trigram-logprobs v-div ada-logprobs v-> davinci-logprobs s-avg, New Score: 1.0\n"
     ]
    },
    {
     "name": "stderr",
     "output_type": "stream",
     "text": [
      "100%|███████████████████████████████████████████████████| 2533/2533 [00:12<00:00, 210.99it/s]\n"
     ]
    },
    {
     "name": "stdout",
     "output_type": "stream",
     "text": [
      "Iteration 1, Current Score: 1.0,                 Best Feature: davinci-logprobs s-max, New Score: 1.0\n",
      "TRAINING WITH emotion AUGMENTED DATA.\n",
      "Train size: 75\n",
      "F1-Score: 0.9509994693083319\n",
      "\n",
      "passes...\n",
      "***************** TRAIN SIZE: 100 *****************\n"
     ]
    },
    {
     "name": "stderr",
     "output_type": "stream",
     "text": [
      "100%|███████████████████████████████████████████████████| 2534/2534 [00:10<00:00, 249.84it/s]\n"
     ]
    },
    {
     "name": "stdout",
     "output_type": "stream",
     "text": [
      "Iteration 0, Current Score: 0,                 Best Feature: trigram-logprobs v-div ada-logprobs v-> davinci-logprobs s-avg, New Score: 1.0\n"
     ]
    },
    {
     "name": "stderr",
     "output_type": "stream",
     "text": [
      "100%|███████████████████████████████████████████████████| 2533/2533 [00:12<00:00, 202.23it/s]"
     ]
    },
    {
     "name": "stdout",
     "output_type": "stream",
     "text": [
      "Iteration 1, Current Score: 1.0,                 Best Feature: davinci-logprobs s-avg-top-25, New Score: 1.0\n",
      "TRAINING WITH emotion AUGMENTED DATA.\n",
      "Train size: 100\n",
      "F1-Score: 0.9562764456981664\n",
      "\n",
      "passes...\n",
      "***************** AUGMENTATION: style *****************\n"
     ]
    },
    {
     "name": "stderr",
     "output_type": "stream",
     "text": [
      "\n"
     ]
    },
    {
     "data": {
      "application/vnd.jupyter.widget-view+json": {
       "model_id": "121f02efe783463b95d4a9878220779f",
       "version_major": 2,
       "version_minor": 0
      },
      "text/plain": [
       "  0%|          | 0/5 [00:00<?, ?it/s]"
      ]
     },
     "metadata": {},
     "output_type": "display_data"
    },
    {
     "name": "stdout",
     "output_type": "stream",
     "text": [
      "***************** TRAIN SIZE: 10 *****************\n"
     ]
    },
    {
     "name": "stderr",
     "output_type": "stream",
     "text": [
      "100%|███████████████████████████████████████████████████| 2534/2534 [00:10<00:00, 253.24it/s]\n"
     ]
    },
    {
     "name": "stdout",
     "output_type": "stream",
     "text": [
      "Iteration 0, Current Score: 0,                 Best Feature: davinci-logprobs s-avg, New Score: 1.0\n"
     ]
    },
    {
     "name": "stderr",
     "output_type": "stream",
     "text": [
      "100%|███████████████████████████████████████████████████| 2533/2533 [00:11<00:00, 228.64it/s]\n"
     ]
    },
    {
     "name": "stdout",
     "output_type": "stream",
     "text": [
      "Iteration 1, Current Score: 1.0,                 Best Feature: davinci-logprobs s-max, New Score: 1.0\n",
      "TRAINING WITH style AUGMENTED DATA.\n",
      "Train size: 10\n",
      "F1-Score: 0.6504799548277809\n",
      "\n",
      "passes...\n",
      "***************** TRAIN SIZE: 25 *****************\n"
     ]
    },
    {
     "name": "stderr",
     "output_type": "stream",
     "text": [
      "100%|███████████████████████████████████████████████████| 2534/2534 [00:09<00:00, 258.62it/s]\n"
     ]
    },
    {
     "name": "stdout",
     "output_type": "stream",
     "text": [
      "Iteration 0, Current Score: 0,                 Best Feature: trigram-logprobs v-> davinci-logprobs s-avg, New Score: 1.0\n"
     ]
    },
    {
     "name": "stderr",
     "output_type": "stream",
     "text": [
      "100%|███████████████████████████████████████████████████| 2533/2533 [00:11<00:00, 217.53it/s]\n"
     ]
    },
    {
     "name": "stdout",
     "output_type": "stream",
     "text": [
      "Iteration 1, Current Score: 1.0,                 Best Feature: davinci-logprobs s-max, New Score: 1.0\n",
      "TRAINING WITH style AUGMENTED DATA.\n",
      "Train size: 25\n",
      "F1-Score: 0.9399839957321953\n",
      "\n",
      "passes...\n",
      "***************** TRAIN SIZE: 50 *****************\n"
     ]
    },
    {
     "name": "stderr",
     "output_type": "stream",
     "text": [
      "100%|███████████████████████████████████████████████████| 2534/2534 [00:10<00:00, 253.06it/s]\n"
     ]
    },
    {
     "name": "stdout",
     "output_type": "stream",
     "text": [
      "Iteration 0, Current Score: 0,                 Best Feature: trigram-logprobs v-> davinci-logprobs s-avg, New Score: 1.0\n"
     ]
    },
    {
     "name": "stderr",
     "output_type": "stream",
     "text": [
      "100%|███████████████████████████████████████████████████| 2533/2533 [00:12<00:00, 210.37it/s]\n"
     ]
    },
    {
     "name": "stdout",
     "output_type": "stream",
     "text": [
      "Iteration 1, Current Score: 1.0,                 Best Feature: davinci-logprobs s-max, New Score: 1.0\n",
      "TRAINING WITH style AUGMENTED DATA.\n",
      "Train size: 50\n",
      "F1-Score: 0.9514409094914955\n",
      "\n",
      "passes...\n",
      "***************** TRAIN SIZE: 75 *****************\n"
     ]
    },
    {
     "name": "stderr",
     "output_type": "stream",
     "text": [
      "100%|███████████████████████████████████████████████████| 2534/2534 [00:10<00:00, 250.85it/s]\n"
     ]
    },
    {
     "name": "stdout",
     "output_type": "stream",
     "text": [
      "Iteration 0, Current Score: 0,                 Best Feature: trigram-logprobs v-div ada-logprobs v-> davinci-logprobs s-avg, New Score: 1.0\n"
     ]
    },
    {
     "name": "stderr",
     "output_type": "stream",
     "text": [
      "100%|███████████████████████████████████████████████████| 2533/2533 [00:12<00:00, 210.74it/s]\n"
     ]
    },
    {
     "name": "stdout",
     "output_type": "stream",
     "text": [
      "Iteration 1, Current Score: 1.0,                 Best Feature: davinci-logprobs s-max, New Score: 1.0\n",
      "TRAINING WITH style AUGMENTED DATA.\n",
      "Train size: 75\n",
      "F1-Score: 0.9335730337078652\n",
      "\n",
      "passes...\n",
      "***************** TRAIN SIZE: 100 *****************\n"
     ]
    },
    {
     "name": "stderr",
     "output_type": "stream",
     "text": [
      "100%|███████████████████████████████████████████████████| 2534/2534 [00:10<00:00, 250.84it/s]\n"
     ]
    },
    {
     "name": "stdout",
     "output_type": "stream",
     "text": [
      "Iteration 0, Current Score: 0,                 Best Feature: trigram-logprobs v-div ada-logprobs v-> davinci-logprobs s-avg, New Score: 1.0\n"
     ]
    },
    {
     "name": "stderr",
     "output_type": "stream",
     "text": [
      "100%|███████████████████████████████████████████████████| 2533/2533 [00:12<00:00, 204.16it/s]"
     ]
    },
    {
     "name": "stdout",
     "output_type": "stream",
     "text": [
      "Iteration 1, Current Score: 1.0,                 Best Feature: davinci-logprobs s-avg-top-25, New Score: 1.0\n",
      "TRAINING WITH style AUGMENTED DATA.\n",
      "Train size: 100\n",
      "F1-Score: 0.9510316125033207\n",
      "\n",
      "passes...\n",
      "***************** AUGMENTATION: summary *****************\n"
     ]
    },
    {
     "name": "stderr",
     "output_type": "stream",
     "text": [
      "\n"
     ]
    },
    {
     "data": {
      "application/vnd.jupyter.widget-view+json": {
       "model_id": "43e4805365b540b38c3c1cfd335009a9",
       "version_major": 2,
       "version_minor": 0
      },
      "text/plain": [
       "  0%|          | 0/5 [00:00<?, ?it/s]"
      ]
     },
     "metadata": {},
     "output_type": "display_data"
    },
    {
     "name": "stdout",
     "output_type": "stream",
     "text": [
      "***************** TRAIN SIZE: 10 *****************\n"
     ]
    },
    {
     "name": "stderr",
     "output_type": "stream",
     "text": [
      "100%|███████████████████████████████████████████████████| 2534/2534 [00:09<00:00, 260.41it/s]\n"
     ]
    },
    {
     "name": "stdout",
     "output_type": "stream",
     "text": [
      "Iteration 0, Current Score: 0,                 Best Feature: davinci-logprobs s-avg, New Score: 1.0\n"
     ]
    },
    {
     "name": "stderr",
     "output_type": "stream",
     "text": [
      "100%|███████████████████████████████████████████████████| 2533/2533 [00:10<00:00, 230.41it/s]\n"
     ]
    },
    {
     "name": "stdout",
     "output_type": "stream",
     "text": [
      "Iteration 1, Current Score: 1.0,                 Best Feature: davinci-logprobs s-max, New Score: 1.0\n",
      "TRAINING WITH summary AUGMENTED DATA.\n",
      "Train size: 10\n",
      "F1-Score: 0.4651581383389046\n",
      "\n",
      "passes...\n",
      "***************** TRAIN SIZE: 25 *****************\n"
     ]
    },
    {
     "name": "stderr",
     "output_type": "stream",
     "text": [
      "100%|███████████████████████████████████████████████████| 2534/2534 [00:09<00:00, 259.13it/s]\n"
     ]
    },
    {
     "name": "stdout",
     "output_type": "stream",
     "text": [
      "Iteration 0, Current Score: 0,                 Best Feature: trigram-logprobs v-> davinci-logprobs s-avg, New Score: 1.0\n"
     ]
    },
    {
     "name": "stderr",
     "output_type": "stream",
     "text": [
      "100%|███████████████████████████████████████████████████| 2533/2533 [00:11<00:00, 217.48it/s]\n"
     ]
    },
    {
     "name": "stdout",
     "output_type": "stream",
     "text": [
      "Iteration 1, Current Score: 1.0,                 Best Feature: davinci-logprobs s-max, New Score: 1.0\n",
      "TRAINING WITH summary AUGMENTED DATA.\n",
      "Train size: 25\n",
      "F1-Score: 0.9398916807244961\n",
      "\n",
      "passes...\n",
      "***************** TRAIN SIZE: 50 *****************\n"
     ]
    },
    {
     "name": "stderr",
     "output_type": "stream",
     "text": [
      "100%|███████████████████████████████████████████████████| 2534/2534 [00:09<00:00, 253.65it/s]\n"
     ]
    },
    {
     "name": "stdout",
     "output_type": "stream",
     "text": [
      "Iteration 0, Current Score: 0,                 Best Feature: trigram-logprobs v-> davinci-logprobs s-avg, New Score: 1.0\n"
     ]
    },
    {
     "name": "stderr",
     "output_type": "stream",
     "text": [
      "100%|███████████████████████████████████████████████████| 2533/2533 [00:12<00:00, 210.89it/s]\n"
     ]
    },
    {
     "name": "stdout",
     "output_type": "stream",
     "text": [
      "Iteration 1, Current Score: 1.0,                 Best Feature: davinci-logprobs s-max, New Score: 1.0\n",
      "TRAINING WITH summary AUGMENTED DATA.\n",
      "Train size: 50\n",
      "F1-Score: 0.9760382024388164\n",
      "\n",
      "passes...\n",
      "***************** TRAIN SIZE: 75 *****************\n"
     ]
    },
    {
     "name": "stderr",
     "output_type": "stream",
     "text": [
      "100%|███████████████████████████████████████████████████| 2534/2534 [00:10<00:00, 251.87it/s]\n"
     ]
    },
    {
     "name": "stdout",
     "output_type": "stream",
     "text": [
      "Iteration 0, Current Score: 0,                 Best Feature: trigram-logprobs v-div ada-logprobs v-> davinci-logprobs s-avg, New Score: 1.0\n"
     ]
    },
    {
     "name": "stderr",
     "output_type": "stream",
     "text": [
      "100%|███████████████████████████████████████████████████| 2533/2533 [00:12<00:00, 208.64it/s]\n"
     ]
    },
    {
     "name": "stdout",
     "output_type": "stream",
     "text": [
      "Iteration 1, Current Score: 1.0,                 Best Feature: davinci-logprobs s-max, New Score: 1.0\n",
      "TRAINING WITH summary AUGMENTED DATA.\n",
      "Train size: 75\n",
      "F1-Score: 0.9457970499377999\n",
      "\n",
      "passes...\n",
      "***************** TRAIN SIZE: 100 *****************\n"
     ]
    },
    {
     "name": "stderr",
     "output_type": "stream",
     "text": [
      "100%|███████████████████████████████████████████████████| 2534/2534 [00:10<00:00, 247.35it/s]\n"
     ]
    },
    {
     "name": "stdout",
     "output_type": "stream",
     "text": [
      "Iteration 0, Current Score: 0,                 Best Feature: trigram-logprobs v-div ada-logprobs v-> davinci-logprobs s-avg, New Score: 1.0\n"
     ]
    },
    {
     "name": "stderr",
     "output_type": "stream",
     "text": [
      "100%|███████████████████████████████████████████████████| 2533/2533 [00:12<00:00, 203.88it/s]\n"
     ]
    },
    {
     "name": "stdout",
     "output_type": "stream",
     "text": [
      "Iteration 1, Current Score: 1.0,                 Best Feature: davinci-logprobs s-avg-top-25, New Score: 1.0\n",
      "TRAINING WITH summary AUGMENTED DATA.\n",
      "Train size: 100\n",
      "F1-Score: 0.9675901725039205\n",
      "\n",
      "passes...\n"
     ]
    },
    {
     "data": {
      "image/png": "[encoded data removed]",
      "text/plain": [
       "<Figure size 640x480 with 1 Axes>"
      ]
     },
     "metadata": {},
     "output_type": "display_data"
    },
    {
     "name": "stdout",
     "output_type": "stream",
     "text": [
      "**************** SEED 62 ****************\n",
      "***************** AUGMENTATION: baseline *****************\n"
     ]
    },
    {
     "data": {
      "application/vnd.jupyter.widget-view+json": {
       "model_id": "9d1bd68d5dd145689e0a3847bacfeb47",
       "version_major": 2,
       "version_minor": 0
      },
      "text/plain": [
       "  0%|          | 0/5 [00:00<?, ?it/s]"
      ]
     },
     "metadata": {},
     "output_type": "display_data"
    },
    {
     "name": "stdout",
     "output_type": "stream",
     "text": [
      "***************** TRAIN SIZE: 10 *****************\n"
     ]
    },
    {
     "name": "stderr",
     "output_type": "stream",
     "text": [
      "100%|███████████████████████████████████████████████████| 2534/2534 [00:09<00:00, 260.45it/s]\n"
     ]
    },
    {
     "name": "stdout",
     "output_type": "stream",
     "text": [
      "Iteration 0, Current Score: 0,                 Best Feature: ada-logprobs v-add davinci-logprobs s-l2, New Score: 1.0\n"
     ]
    },
    {
     "name": "stderr",
     "output_type": "stream",
     "text": [
      "100%|███████████████████████████████████████████████████| 2533/2533 [00:11<00:00, 229.77it/s]\n"
     ]
    },
    {
     "name": "stdout",
     "output_type": "stream",
     "text": [
      "Iteration 1, Current Score: 1.0,                 Best Feature: davinci-logprobs s-min, New Score: 1.0\n",
      "TRAINING WITHOUT AUGMENTATIONS\n",
      "Train size: 10\n",
      "F1-Score: 0.8583295711060948\n",
      "\n",
      "passes...\n",
      "***************** TRAIN SIZE: 25 *****************\n"
     ]
    },
    {
     "name": "stderr",
     "output_type": "stream",
     "text": [
      "100%|███████████████████████████████████████████████████| 2534/2534 [00:09<00:00, 262.67it/s]\n"
     ]
    },
    {
     "name": "stdout",
     "output_type": "stream",
     "text": [
      "Iteration 0, Current Score: 0,                 Best Feature: davinci-logprobs s-avg, New Score: 1.0\n"
     ]
    },
    {
     "name": "stderr",
     "output_type": "stream",
     "text": [
      "100%|███████████████████████████████████████████████████| 2533/2533 [00:11<00:00, 221.46it/s]\n"
     ]
    },
    {
     "name": "stdout",
     "output_type": "stream",
     "text": [
      "Iteration 1, Current Score: 1.0,                 Best Feature: davinci-logprobs s-max, New Score: 1.0\n",
      "TRAINING WITHOUT AUGMENTATIONS\n",
      "Train size: 25\n",
      "F1-Score: 0.9507651945780499\n",
      "\n",
      "passes...\n",
      "***************** TRAIN SIZE: 50 *****************\n"
     ]
    },
    {
     "name": "stderr",
     "output_type": "stream",
     "text": [
      "100%|███████████████████████████████████████████████████| 2534/2534 [00:09<00:00, 256.39it/s]\n"
     ]
    },
    {
     "name": "stdout",
     "output_type": "stream",
     "text": [
      "Iteration 0, Current Score: 0,                 Best Feature: trigram-logprobs v-div ada-logprobs v-> davinci-logprobs s-avg, New Score: 1.0\n"
     ]
    },
    {
     "name": "stderr",
     "output_type": "stream",
     "text": [
      "100%|███████████████████████████████████████████████████| 2533/2533 [00:11<00:00, 213.35it/s]\n"
     ]
    },
    {
     "name": "stdout",
     "output_type": "stream",
     "text": [
      "Iteration 1, Current Score: 1.0,                 Best Feature: davinci-logprobs s-max, New Score: 1.0\n",
      "TRAINING WITHOUT AUGMENTATIONS\n",
      "Train size: 50\n",
      "F1-Score: 0.99561846983485\n",
      "\n",
      "passes...\n",
      "***************** TRAIN SIZE: 75 *****************\n"
     ]
    },
    {
     "name": "stderr",
     "output_type": "stream",
     "text": [
      "100%|███████████████████████████████████████████████████| 2534/2534 [00:10<00:00, 243.35it/s]\n"
     ]
    },
    {
     "name": "stdout",
     "output_type": "stream",
     "text": [
      "Iteration 0, Current Score: 0,                 Best Feature: trigram-logprobs v-sub ada-logprobs v-> davinci-logprobs s-avg, New Score: 0.9866666667\n"
     ]
    },
    {
     "name": "stderr",
     "output_type": "stream",
     "text": [
      "100%|███████████████████████████████████████████████████| 2533/2533 [00:12<00:00, 203.70it/s]\n"
     ]
    },
    {
     "name": "stdout",
     "output_type": "stream",
     "text": [
      "Iteration 1, Current Score: 0.9866666667,                 Best Feature: trigram-logprobs v-div ada-logprobs v-> davinci-logprobs s-avg, New Score: 1.0\n"
     ]
    },
    {
     "name": "stderr",
     "output_type": "stream",
     "text": [
      "100%|███████████████████████████████████████████████████| 2532/2532 [00:12<00:00, 201.26it/s]\n"
     ]
    },
    {
     "name": "stdout",
     "output_type": "stream",
     "text": [
      "Iteration 2, Current Score: 1.0,                 Best Feature: davinci-logprobs s-max, New Score: 1.0\n",
      "TRAINING WITHOUT AUGMENTATIONS\n",
      "Train size: 75\n",
      "F1-Score: 0.989441416893733\n",
      "\n",
      "passes...\n",
      "***************** TRAIN SIZE: 100 *****************\n"
     ]
    },
    {
     "name": "stderr",
     "output_type": "stream",
     "text": [
      "100%|███████████████████████████████████████████████████| 2534/2534 [00:10<00:00, 250.03it/s]\n"
     ]
    },
    {
     "name": "stdout",
     "output_type": "stream",
     "text": [
      "Iteration 0, Current Score: 0,                 Best Feature: trigram-logprobs v-> davinci-logprobs s-avg, New Score: 1.0\n"
     ]
    },
    {
     "name": "stderr",
     "output_type": "stream",
     "text": [
      "100%|███████████████████████████████████████████████████| 2533/2533 [00:12<00:00, 207.50it/s]"
     ]
    },
    {
     "name": "stdout",
     "output_type": "stream",
     "text": [
      "Iteration 1, Current Score: 1.0,                 Best Feature: davinci-logprobs s-max, New Score: 1.0\n",
      "TRAINING WITHOUT AUGMENTATIONS\n",
      "Train size: 100\n",
      "F1-Score: 0.9883334752618581\n",
      "\n",
      "passes...\n",
      "***************** AUGMENTATION: synonym *****************\n"
     ]
    },
    {
     "name": "stderr",
     "output_type": "stream",
     "text": [
      "\n"
     ]
    },
    {
     "data": {
      "application/vnd.jupyter.widget-view+json": {
       "model_id": "f44f41cb384f48c48f35020383308f9f",
       "version_major": 2,
       "version_minor": 0
      },
      "text/plain": [
       "  0%|          | 0/5 [00:00<?, ?it/s]"
      ]
     },
     "metadata": {},
     "output_type": "display_data"
    },
    {
     "name": "stdout",
     "output_type": "stream",
     "text": [
      "***************** TRAIN SIZE: 10 *****************\n"
     ]
    },
    {
     "name": "stderr",
     "output_type": "stream",
     "text": [
      "100%|███████████████████████████████████████████████████| 2534/2534 [00:09<00:00, 261.71it/s]\n"
     ]
    },
    {
     "name": "stdout",
     "output_type": "stream",
     "text": [
      "Iteration 0, Current Score: 0,                 Best Feature: ada-logprobs v-add davinci-logprobs s-l2, New Score: 1.0\n"
     ]
    },
    {
     "name": "stderr",
     "output_type": "stream",
     "text": [
      "100%|███████████████████████████████████████████████████| 2533/2533 [00:10<00:00, 231.21it/s]\n"
     ]
    },
    {
     "name": "stdout",
     "output_type": "stream",
     "text": [
      "Iteration 1, Current Score: 1.0,                 Best Feature: davinci-logprobs s-min, New Score: 1.0\n",
      "TRAINING WITH synonym AUGMENTED DATA.\n",
      "Train size: 10\n",
      "F1-Score: 0.8374711582833411\n",
      "\n",
      "passes...\n",
      "***************** TRAIN SIZE: 25 *****************\n"
     ]
    },
    {
     "name": "stderr",
     "output_type": "stream",
     "text": [
      "100%|███████████████████████████████████████████████████| 2534/2534 [00:09<00:00, 261.06it/s]\n"
     ]
    },
    {
     "name": "stdout",
     "output_type": "stream",
     "text": [
      "Iteration 0, Current Score: 0,                 Best Feature: trigram-logprobs v-sub ada-logprobs v-> davinci-logprobs s-var, New Score: 1.0\n"
     ]
    },
    {
     "name": "stderr",
     "output_type": "stream",
     "text": [
      "100%|███████████████████████████████████████████████████| 2533/2533 [00:11<00:00, 221.76it/s]\n"
     ]
    },
    {
     "name": "stdout",
     "output_type": "stream",
     "text": [
      "Iteration 1, Current Score: 1.0,                 Best Feature: davinci-logprobs s-avg-top-25, New Score: 1.0\n",
      "TRAINING WITH synonym AUGMENTED DATA.\n",
      "Train size: 25\n",
      "F1-Score: 0.812077870480731\n",
      "\n",
      "passes...\n",
      "***************** TRAIN SIZE: 50 *****************\n"
     ]
    },
    {
     "name": "stderr",
     "output_type": "stream",
     "text": [
      "100%|███████████████████████████████████████████████████| 2534/2534 [00:09<00:00, 259.40it/s]\n"
     ]
    },
    {
     "name": "stdout",
     "output_type": "stream",
     "text": [
      "Iteration 0, Current Score: 0,                 Best Feature: trigram-logprobs v-div ada-logprobs v-> davinci-logprobs s-avg, New Score: 1.0\n"
     ]
    },
    {
     "name": "stderr",
     "output_type": "stream",
     "text": [
      "100%|███████████████████████████████████████████████████| 2533/2533 [00:11<00:00, 212.09it/s]\n"
     ]
    },
    {
     "name": "stdout",
     "output_type": "stream",
     "text": [
      "Iteration 1, Current Score: 1.0,                 Best Feature: davinci-logprobs s-max, New Score: 1.0\n",
      "TRAINING WITH synonym AUGMENTED DATA.\n",
      "Train size: 50\n",
      "F1-Score: 0.9736955584303579\n",
      "\n",
      "passes...\n",
      "***************** TRAIN SIZE: 75 *****************\n"
     ]
    },
    {
     "name": "stderr",
     "output_type": "stream",
     "text": [
      "100%|███████████████████████████████████████████████████| 2534/2534 [00:09<00:00, 254.05it/s]\n"
     ]
    },
    {
     "name": "stdout",
     "output_type": "stream",
     "text": [
      "Iteration 0, Current Score: 0,                 Best Feature: trigram-logprobs v-div ada-logprobs v-> davinci-logprobs s-avg, New Score: 1.0\n"
     ]
    },
    {
     "name": "stderr",
     "output_type": "stream",
     "text": [
      "100%|███████████████████████████████████████████████████| 2533/2533 [00:11<00:00, 212.53it/s]\n"
     ]
    },
    {
     "name": "stdout",
     "output_type": "stream",
     "text": [
      "Iteration 1, Current Score: 1.0,                 Best Feature: davinci-logprobs s-max, New Score: 1.0\n",
      "TRAINING WITH synonym AUGMENTED DATA.\n",
      "Train size: 75\n",
      "F1-Score: 0.9325660852364682\n",
      "\n",
      "passes...\n",
      "***************** TRAIN SIZE: 100 *****************\n"
     ]
    },
    {
     "name": "stderr",
     "output_type": "stream",
     "text": [
      "100%|███████████████████████████████████████████████████| 2534/2534 [00:10<00:00, 252.18it/s]\n"
     ]
    },
    {
     "name": "stdout",
     "output_type": "stream",
     "text": [
      "Iteration 0, Current Score: 0,                 Best Feature: trigram-logprobs v-div ada-logprobs v-> davinci-logprobs s-avg, New Score: 0.99\n"
     ]
    },
    {
     "name": "stderr",
     "output_type": "stream",
     "text": [
      "100%|███████████████████████████████████████████████████| 2533/2533 [00:12<00:00, 203.65it/s]\n"
     ]
    },
    {
     "name": "stdout",
     "output_type": "stream",
     "text": [
      "Iteration 1, Current Score: 0.99,                 Best Feature: davinci-logprobs s-avg-top-25, New Score: 1.0\n"
     ]
    },
    {
     "name": "stderr",
     "output_type": "stream",
     "text": [
      "100%|███████████████████████████████████████████████████| 2532/2532 [00:13<00:00, 186.82it/s]"
     ]
    },
    {
     "name": "stdout",
     "output_type": "stream",
     "text": [
      "Iteration 2, Current Score: 1.0,                 Best Feature: davinci-logprobs s-var, New Score: 1.0\n",
      "TRAINING WITH synonym AUGMENTED DATA.\n",
      "Train size: 100\n",
      "F1-Score: 0.9518243003896564\n",
      "\n",
      "passes...\n",
      "***************** AUGMENTATION: back *****************\n"
     ]
    },
    {
     "name": "stderr",
     "output_type": "stream",
     "text": [
      "\n"
     ]
    },
    {
     "data": {
      "application/vnd.jupyter.widget-view+json": {
       "model_id": "50fbac6ebba3438aac4085ec7cda29db",
       "version_major": 2,
       "version_minor": 0
      },
      "text/plain": [
       "  0%|          | 0/5 [00:00<?, ?it/s]"
      ]
     },
     "metadata": {},
     "output_type": "display_data"
    },
    {
     "name": "stdout",
     "output_type": "stream",
     "text": [
      "***************** TRAIN SIZE: 10 *****************\n"
     ]
    },
    {
     "name": "stderr",
     "output_type": "stream",
     "text": [
      "100%|███████████████████████████████████████████████████| 2534/2534 [00:09<00:00, 261.92it/s]\n"
     ]
    },
    {
     "name": "stdout",
     "output_type": "stream",
     "text": [
      "Iteration 0, Current Score: 0,                 Best Feature: ada-logprobs v-add davinci-logprobs s-l2, New Score: 1.0\n"
     ]
    },
    {
     "name": "stderr",
     "output_type": "stream",
     "text": [
      "100%|███████████████████████████████████████████████████| 2533/2533 [00:10<00:00, 232.15it/s]\n"
     ]
    },
    {
     "name": "stdout",
     "output_type": "stream",
     "text": [
      "Iteration 1, Current Score: 1.0,                 Best Feature: davinci-logprobs s-min, New Score: 1.0\n",
      "TRAINING WITH back AUGMENTED DATA.\n",
      "Train size: 10\n",
      "F1-Score: 0.8274064420033513\n",
      "\n",
      "passes...\n",
      "***************** TRAIN SIZE: 25 *****************\n"
     ]
    },
    {
     "name": "stderr",
     "output_type": "stream",
     "text": [
      "100%|███████████████████████████████████████████████████| 2534/2534 [00:09<00:00, 262.51it/s]\n"
     ]
    },
    {
     "name": "stdout",
     "output_type": "stream",
     "text": [
      "Iteration 0, Current Score: 0,                 Best Feature: trigram-logprobs v-sub ada-logprobs v-> davinci-logprobs s-var, New Score: 1.0\n"
     ]
    },
    {
     "name": "stderr",
     "output_type": "stream",
     "text": [
      "100%|███████████████████████████████████████████████████| 2533/2533 [00:11<00:00, 222.28it/s]\n"
     ]
    },
    {
     "name": "stdout",
     "output_type": "stream",
     "text": [
      "Iteration 1, Current Score: 1.0,                 Best Feature: davinci-logprobs s-avg-top-25, New Score: 1.0\n",
      "TRAINING WITH back AUGMENTED DATA.\n",
      "Train size: 25\n",
      "F1-Score: 0.8017638805371818\n",
      "\n",
      "passes...\n",
      "***************** TRAIN SIZE: 50 *****************\n"
     ]
    },
    {
     "name": "stderr",
     "output_type": "stream",
     "text": [
      "100%|███████████████████████████████████████████████████| 2534/2534 [00:09<00:00, 259.17it/s]\n"
     ]
    },
    {
     "name": "stdout",
     "output_type": "stream",
     "text": [
      "Iteration 0, Current Score: 0,                 Best Feature: trigram-logprobs v-div ada-logprobs v-> davinci-logprobs s-avg, New Score: 1.0\n"
     ]
    },
    {
     "name": "stderr",
     "output_type": "stream",
     "text": [
      "100%|███████████████████████████████████████████████████| 2533/2533 [00:11<00:00, 213.03it/s]\n"
     ]
    },
    {
     "name": "stdout",
     "output_type": "stream",
     "text": [
      "Iteration 1, Current Score: 1.0,                 Best Feature: davinci-logprobs s-max, New Score: 1.0\n",
      "TRAINING WITH back AUGMENTED DATA.\n",
      "Train size: 50\n",
      "F1-Score: 0.9742041238892244\n",
      "\n",
      "passes...\n",
      "***************** TRAIN SIZE: 75 *****************\n"
     ]
    },
    {
     "name": "stderr",
     "output_type": "stream",
     "text": [
      "100%|███████████████████████████████████████████████████| 2534/2534 [00:09<00:00, 254.56it/s]\n"
     ]
    },
    {
     "name": "stdout",
     "output_type": "stream",
     "text": [
      "Iteration 0, Current Score: 0,                 Best Feature: trigram-logprobs v-div ada-logprobs v-> davinci-logprobs s-avg, New Score: 1.0\n"
     ]
    },
    {
     "name": "stderr",
     "output_type": "stream",
     "text": [
      "100%|███████████████████████████████████████████████████| 2533/2533 [00:11<00:00, 214.25it/s]\n"
     ]
    },
    {
     "name": "stdout",
     "output_type": "stream",
     "text": [
      "Iteration 1, Current Score: 1.0,                 Best Feature: davinci-logprobs s-max, New Score: 1.0\n",
      "TRAINING WITH back AUGMENTED DATA.\n",
      "Train size: 75\n",
      "F1-Score: 0.8753199962074524\n",
      "\n",
      "passes...\n",
      "***************** TRAIN SIZE: 100 *****************\n"
     ]
    },
    {
     "name": "stderr",
     "output_type": "stream",
     "text": [
      "100%|███████████████████████████████████████████████████| 2534/2534 [00:10<00:00, 251.07it/s]\n"
     ]
    },
    {
     "name": "stdout",
     "output_type": "stream",
     "text": [
      "Iteration 0, Current Score: 0,                 Best Feature: trigram-logprobs v-div ada-logprobs v-> davinci-logprobs s-avg, New Score: 0.99\n"
     ]
    },
    {
     "name": "stderr",
     "output_type": "stream",
     "text": [
      "100%|███████████████████████████████████████████████████| 2533/2533 [00:12<00:00, 203.49it/s]\n"
     ]
    },
    {
     "name": "stdout",
     "output_type": "stream",
     "text": [
      "Iteration 1, Current Score: 0.99,                 Best Feature: davinci-logprobs s-avg-top-25, New Score: 1.0\n"
     ]
    },
    {
     "name": "stderr",
     "output_type": "stream",
     "text": [
      "100%|███████████████████████████████████████████████████| 2532/2532 [00:13<00:00, 187.45it/s]"
     ]
    },
    {
     "name": "stdout",
     "output_type": "stream",
     "text": [
      "Iteration 2, Current Score: 1.0,                 Best Feature: davinci-logprobs s-var, New Score: 1.0\n",
      "TRAINING WITH back AUGMENTED DATA.\n",
      "Train size: 100\n",
      "F1-Score: 0.9478083044367387\n",
      "\n",
      "passes...\n",
      "***************** AUGMENTATION: emotion *****************\n"
     ]
    },
    {
     "name": "stderr",
     "output_type": "stream",
     "text": [
      "\n"
     ]
    },
    {
     "data": {
      "application/vnd.jupyter.widget-view+json": {
       "model_id": "a4a9ed169ccb41d6a177218068985f5e",
       "version_major": 2,
       "version_minor": 0
      },
      "text/plain": [
       "  0%|          | 0/5 [00:00<?, ?it/s]"
      ]
     },
     "metadata": {},
     "output_type": "display_data"
    },
    {
     "name": "stdout",
     "output_type": "stream",
     "text": [
      "***************** TRAIN SIZE: 10 *****************\n"
     ]
    },
    {
     "name": "stderr",
     "output_type": "stream",
     "text": [
      "100%|███████████████████████████████████████████████████| 2534/2534 [00:09<00:00, 259.86it/s]\n"
     ]
    },
    {
     "name": "stdout",
     "output_type": "stream",
     "text": [
      "Iteration 0, Current Score: 0,                 Best Feature: ada-logprobs v-add davinci-logprobs s-l2, New Score: 1.0\n"
     ]
    },
    {
     "name": "stderr",
     "output_type": "stream",
     "text": [
      "100%|███████████████████████████████████████████████████| 2533/2533 [00:11<00:00, 229.96it/s]\n"
     ]
    },
    {
     "name": "stdout",
     "output_type": "stream",
     "text": [
      "Iteration 1, Current Score: 1.0,                 Best Feature: davinci-logprobs s-min, New Score: 1.0\n",
      "TRAINING WITH emotion AUGMENTED DATA.\n",
      "Train size: 10\n",
      "F1-Score: 0.8089738735327527\n",
      "\n",
      "passes...\n",
      "***************** TRAIN SIZE: 25 *****************\n"
     ]
    },
    {
     "name": "stderr",
     "output_type": "stream",
     "text": [
      "100%|███████████████████████████████████████████████████| 2534/2534 [00:10<00:00, 252.18it/s]\n"
     ]
    },
    {
     "name": "stdout",
     "output_type": "stream",
     "text": [
      "Iteration 0, Current Score: 0,                 Best Feature: trigram-logprobs v-sub ada-logprobs v-> davinci-logprobs s-var, New Score: 1.0\n"
     ]
    },
    {
     "name": "stderr",
     "output_type": "stream",
     "text": [
      "100%|███████████████████████████████████████████████████| 2533/2533 [00:11<00:00, 222.33it/s]\n"
     ]
    },
    {
     "name": "stdout",
     "output_type": "stream",
     "text": [
      "Iteration 1, Current Score: 1.0,                 Best Feature: davinci-logprobs s-avg-top-25, New Score: 1.0\n",
      "TRAINING WITH emotion AUGMENTED DATA.\n",
      "Train size: 25\n",
      "F1-Score: 0.8643196955280685\n",
      "\n",
      "passes...\n",
      "***************** TRAIN SIZE: 50 *****************\n"
     ]
    },
    {
     "name": "stderr",
     "output_type": "stream",
     "text": [
      "100%|███████████████████████████████████████████████████| 2534/2534 [00:09<00:00, 260.47it/s]\n"
     ]
    },
    {
     "name": "stdout",
     "output_type": "stream",
     "text": [
      "Iteration 0, Current Score: 0,                 Best Feature: trigram-logprobs v-div ada-logprobs v-> davinci-logprobs s-avg, New Score: 1.0\n"
     ]
    },
    {
     "name": "stderr",
     "output_type": "stream",
     "text": [
      "100%|███████████████████████████████████████████████████| 2533/2533 [00:11<00:00, 214.21it/s]\n"
     ]
    },
    {
     "name": "stdout",
     "output_type": "stream",
     "text": [
      "Iteration 1, Current Score: 1.0,                 Best Feature: davinci-logprobs s-max, New Score: 1.0\n",
      "TRAINING WITH emotion AUGMENTED DATA.\n",
      "Train size: 50\n",
      "F1-Score: 0.969429288992812\n",
      "\n",
      "passes...\n",
      "***************** TRAIN SIZE: 75 *****************\n"
     ]
    },
    {
     "name": "stderr",
     "output_type": "stream",
     "text": [
      "100%|███████████████████████████████████████████████████| 2534/2534 [00:09<00:00, 255.10it/s]\n"
     ]
    },
    {
     "name": "stdout",
     "output_type": "stream",
     "text": [
      "Iteration 0, Current Score: 0,                 Best Feature: trigram-logprobs v-div ada-logprobs v-> davinci-logprobs s-avg, New Score: 1.0\n"
     ]
    },
    {
     "name": "stderr",
     "output_type": "stream",
     "text": [
      "100%|███████████████████████████████████████████████████| 2533/2533 [00:11<00:00, 216.64it/s]\n"
     ]
    },
    {
     "name": "stdout",
     "output_type": "stream",
     "text": [
      "Iteration 1, Current Score: 1.0,                 Best Feature: davinci-logprobs s-max, New Score: 1.0\n",
      "TRAINING WITH emotion AUGMENTED DATA.\n",
      "Train size: 75\n",
      "F1-Score: 0.9259326331039478\n",
      "\n",
      "passes...\n",
      "***************** TRAIN SIZE: 100 *****************\n"
     ]
    },
    {
     "name": "stderr",
     "output_type": "stream",
     "text": [
      "100%|███████████████████████████████████████████████████| 2534/2534 [00:10<00:00, 252.27it/s]\n"
     ]
    },
    {
     "name": "stdout",
     "output_type": "stream",
     "text": [
      "Iteration 0, Current Score: 0,                 Best Feature: trigram-logprobs v-div ada-logprobs v-> davinci-logprobs s-avg, New Score: 0.99\n"
     ]
    },
    {
     "name": "stderr",
     "output_type": "stream",
     "text": [
      "100%|███████████████████████████████████████████████████| 2533/2533 [00:12<00:00, 205.52it/s]\n"
     ]
    },
    {
     "name": "stdout",
     "output_type": "stream",
     "text": [
      "Iteration 1, Current Score: 0.99,                 Best Feature: davinci-logprobs s-avg-top-25, New Score: 1.0\n"
     ]
    },
    {
     "name": "stderr",
     "output_type": "stream",
     "text": [
      "100%|███████████████████████████████████████████████████| 2532/2532 [00:13<00:00, 187.09it/s]\n"
     ]
    },
    {
     "name": "stdout",
     "output_type": "stream",
     "text": [
      "Iteration 2, Current Score: 1.0,                 Best Feature: davinci-logprobs s-var, New Score: 1.0\n",
      "TRAINING WITH emotion AUGMENTED DATA.\n",
      "Train size: 100\n",
      "F1-Score: 0.9498802448327863\n",
      "\n",
      "passes...\n",
      "***************** AUGMENTATION: style *****************\n"
     ]
    },
    {
     "data": {
      "application/vnd.jupyter.widget-view+json": {
       "model_id": "47fc2521b9f946c79d8ce9ce8e385916",
       "version_major": 2,
       "version_minor": 0
      },
      "text/plain": [
       "  0%|          | 0/5 [00:00<?, ?it/s]"
      ]
     },
     "metadata": {},
     "output_type": "display_data"
    },
    {
     "name": "stdout",
     "output_type": "stream",
     "text": [
      "***************** TRAIN SIZE: 10 *****************\n"
     ]
    },
    {
     "name": "stderr",
     "output_type": "stream",
     "text": [
      "100%|███████████████████████████████████████████████████| 2534/2534 [00:09<00:00, 261.96it/s]\n"
     ]
    },
    {
     "name": "stdout",
     "output_type": "stream",
     "text": [
      "Iteration 0, Current Score: 0,                 Best Feature: ada-logprobs v-add davinci-logprobs s-l2, New Score: 1.0\n"
     ]
    },
    {
     "name": "stderr",
     "output_type": "stream",
     "text": [
      "100%|███████████████████████████████████████████████████| 2533/2533 [00:10<00:00, 231.20it/s]\n"
     ]
    },
    {
     "name": "stdout",
     "output_type": "stream",
     "text": [
      "Iteration 1, Current Score: 1.0,                 Best Feature: davinci-logprobs s-min, New Score: 1.0\n",
      "TRAINING WITH style AUGMENTED DATA.\n",
      "Train size: 10\n",
      "F1-Score: 0.860182096817813\n",
      "\n",
      "passes...\n",
      "***************** TRAIN SIZE: 25 *****************\n"
     ]
    },
    {
     "name": "stderr",
     "output_type": "stream",
     "text": [
      "100%|███████████████████████████████████████████████████| 2534/2534 [00:09<00:00, 264.78it/s]\n"
     ]
    },
    {
     "name": "stdout",
     "output_type": "stream",
     "text": [
      "Iteration 0, Current Score: 0,                 Best Feature: trigram-logprobs v-sub ada-logprobs v-> davinci-logprobs s-var, New Score: 1.0\n"
     ]
    },
    {
     "name": "stderr",
     "output_type": "stream",
     "text": [
      "100%|███████████████████████████████████████████████████| 2533/2533 [00:11<00:00, 224.54it/s]\n"
     ]
    },
    {
     "name": "stdout",
     "output_type": "stream",
     "text": [
      "Iteration 1, Current Score: 1.0,                 Best Feature: davinci-logprobs s-avg-top-25, New Score: 1.0\n",
      "TRAINING WITH style AUGMENTED DATA.\n",
      "Train size: 25\n",
      "F1-Score: 0.887188578893347\n",
      "\n",
      "passes...\n",
      "***************** TRAIN SIZE: 50 *****************\n"
     ]
    },
    {
     "name": "stderr",
     "output_type": "stream",
     "text": [
      "100%|███████████████████████████████████████████████████| 2534/2534 [00:09<00:00, 261.02it/s]\n"
     ]
    },
    {
     "name": "stdout",
     "output_type": "stream",
     "text": [
      "Iteration 0, Current Score: 0,                 Best Feature: trigram-logprobs v-div ada-logprobs v-> davinci-logprobs s-avg, New Score: 1.0\n"
     ]
    },
    {
     "name": "stderr",
     "output_type": "stream",
     "text": [
      "100%|███████████████████████████████████████████████████| 2533/2533 [00:11<00:00, 214.62it/s]\n"
     ]
    },
    {
     "name": "stdout",
     "output_type": "stream",
     "text": [
      "Iteration 1, Current Score: 1.0,                 Best Feature: davinci-logprobs s-max, New Score: 1.0\n",
      "TRAINING WITH style AUGMENTED DATA.\n",
      "Train size: 50\n",
      "F1-Score: 0.9512646514497224\n",
      "\n",
      "passes...\n",
      "***************** TRAIN SIZE: 75 *****************\n"
     ]
    },
    {
     "name": "stderr",
     "output_type": "stream",
     "text": [
      "100%|███████████████████████████████████████████████████| 2534/2534 [00:09<00:00, 256.09it/s]\n"
     ]
    },
    {
     "name": "stdout",
     "output_type": "stream",
     "text": [
      "Iteration 0, Current Score: 0,                 Best Feature: trigram-logprobs v-div ada-logprobs v-> davinci-logprobs s-avg, New Score: 1.0\n"
     ]
    },
    {
     "name": "stderr",
     "output_type": "stream",
     "text": [
      "100%|███████████████████████████████████████████████████| 2533/2533 [00:11<00:00, 214.86it/s]\n"
     ]
    },
    {
     "name": "stdout",
     "output_type": "stream",
     "text": [
      "Iteration 1, Current Score: 1.0,                 Best Feature: davinci-logprobs s-max, New Score: 1.0\n",
      "TRAINING WITH style AUGMENTED DATA.\n",
      "Train size: 75\n",
      "F1-Score: 0.9059734513274337\n",
      "\n",
      "passes...\n",
      "***************** TRAIN SIZE: 100 *****************\n"
     ]
    },
    {
     "name": "stderr",
     "output_type": "stream",
     "text": [
      "100%|███████████████████████████████████████████████████| 2534/2534 [00:10<00:00, 253.15it/s]\n"
     ]
    },
    {
     "name": "stdout",
     "output_type": "stream",
     "text": [
      "Iteration 0, Current Score: 0,                 Best Feature: trigram-logprobs v-div ada-logprobs v-> davinci-logprobs s-avg, New Score: 0.99\n"
     ]
    },
    {
     "name": "stderr",
     "output_type": "stream",
     "text": [
      "100%|███████████████████████████████████████████████████| 2533/2533 [00:12<00:00, 206.62it/s]\n"
     ]
    },
    {
     "name": "stdout",
     "output_type": "stream",
     "text": [
      "Iteration 1, Current Score: 0.99,                 Best Feature: davinci-logprobs s-avg-top-25, New Score: 1.0\n"
     ]
    },
    {
     "name": "stderr",
     "output_type": "stream",
     "text": [
      "100%|███████████████████████████████████████████████████| 2532/2532 [00:13<00:00, 187.37it/s]"
     ]
    },
    {
     "name": "stdout",
     "output_type": "stream",
     "text": [
      "Iteration 2, Current Score: 1.0,                 Best Feature: davinci-logprobs s-var, New Score: 1.0\n",
      "TRAINING WITH style AUGMENTED DATA.\n",
      "Train size: 100\n",
      "F1-Score: 0.9385964912280702\n",
      "\n",
      "passes...\n",
      "***************** AUGMENTATION: summary *****************\n"
     ]
    },
    {
     "name": "stderr",
     "output_type": "stream",
     "text": [
      "\n"
     ]
    },
    {
     "data": {
      "application/vnd.jupyter.widget-view+json": {
       "model_id": "8a412f6006cc4859ad41d326b6e51a52",
       "version_major": 2,
       "version_minor": 0
      },
      "text/plain": [
       "  0%|          | 0/5 [00:00<?, ?it/s]"
      ]
     },
     "metadata": {},
     "output_type": "display_data"
    },
    {
     "name": "stdout",
     "output_type": "stream",
     "text": [
      "***************** TRAIN SIZE: 10 *****************\n"
     ]
    },
    {
     "name": "stderr",
     "output_type": "stream",
     "text": [
      "100%|███████████████████████████████████████████████████| 2534/2534 [00:09<00:00, 261.81it/s]\n"
     ]
    },
    {
     "name": "stdout",
     "output_type": "stream",
     "text": [
      "Iteration 0, Current Score: 0,                 Best Feature: ada-logprobs v-add davinci-logprobs s-l2, New Score: 1.0\n"
     ]
    },
    {
     "name": "stderr",
     "output_type": "stream",
     "text": [
      "100%|███████████████████████████████████████████████████| 2533/2533 [00:10<00:00, 232.58it/s]\n"
     ]
    },
    {
     "name": "stdout",
     "output_type": "stream",
     "text": [
      "Iteration 1, Current Score: 1.0,                 Best Feature: davinci-logprobs s-min, New Score: 1.0\n",
      "TRAINING WITH summary AUGMENTED DATA.\n",
      "Train size: 10\n",
      "F1-Score: 0.9041870023118418\n",
      "\n",
      "passes...\n",
      "***************** TRAIN SIZE: 25 *****************\n"
     ]
    },
    {
     "name": "stderr",
     "output_type": "stream",
     "text": [
      "100%|███████████████████████████████████████████████████| 2534/2534 [00:09<00:00, 260.11it/s]\n"
     ]
    },
    {
     "name": "stdout",
     "output_type": "stream",
     "text": [
      "Iteration 0, Current Score: 0,                 Best Feature: trigram-logprobs v-sub ada-logprobs v-> davinci-logprobs s-var, New Score: 1.0\n"
     ]
    },
    {
     "name": "stderr",
     "output_type": "stream",
     "text": [
      "100%|███████████████████████████████████████████████████| 2533/2533 [00:11<00:00, 223.84it/s]\n"
     ]
    },
    {
     "name": "stdout",
     "output_type": "stream",
     "text": [
      "Iteration 1, Current Score: 1.0,                 Best Feature: davinci-logprobs s-avg-top-25, New Score: 1.0\n",
      "TRAINING WITH summary AUGMENTED DATA.\n",
      "Train size: 25\n",
      "F1-Score: 0.831636648394675\n",
      "\n",
      "passes...\n",
      "***************** TRAIN SIZE: 50 *****************\n"
     ]
    },
    {
     "name": "stderr",
     "output_type": "stream",
     "text": [
      "100%|███████████████████████████████████████████████████| 2534/2534 [00:10<00:00, 250.31it/s]\n"
     ]
    },
    {
     "name": "stdout",
     "output_type": "stream",
     "text": [
      "Iteration 0, Current Score: 0,                 Best Feature: trigram-logprobs v-div ada-logprobs v-> davinci-logprobs s-avg, New Score: 1.0\n"
     ]
    },
    {
     "name": "stderr",
     "output_type": "stream",
     "text": [
      "100%|███████████████████████████████████████████████████| 2533/2533 [00:11<00:00, 211.12it/s]\n"
     ]
    },
    {
     "name": "stdout",
     "output_type": "stream",
     "text": [
      "Iteration 1, Current Score: 1.0,                 Best Feature: davinci-logprobs s-max, New Score: 1.0\n",
      "TRAINING WITH summary AUGMENTED DATA.\n",
      "Train size: 50\n",
      "F1-Score: 0.9554073033707865\n",
      "\n",
      "passes...\n",
      "***************** TRAIN SIZE: 75 *****************\n"
     ]
    },
    {
     "name": "stderr",
     "output_type": "stream",
     "text": [
      "100%|███████████████████████████████████████████████████| 2534/2534 [00:10<00:00, 248.16it/s]\n"
     ]
    },
    {
     "name": "stdout",
     "output_type": "stream",
     "text": [
      "Iteration 0, Current Score: 0,                 Best Feature: trigram-logprobs v-div ada-logprobs v-> davinci-logprobs s-avg, New Score: 1.0\n"
     ]
    },
    {
     "name": "stderr",
     "output_type": "stream",
     "text": [
      "100%|███████████████████████████████████████████████████| 2533/2533 [00:12<00:00, 208.43it/s]\n"
     ]
    },
    {
     "name": "stdout",
     "output_type": "stream",
     "text": [
      "Iteration 1, Current Score: 1.0,                 Best Feature: davinci-logprobs s-max, New Score: 1.0\n",
      "TRAINING WITH summary AUGMENTED DATA.\n",
      "Train size: 75\n",
      "F1-Score: 0.817167894841665\n",
      "\n",
      "passes...\n",
      "***************** TRAIN SIZE: 100 *****************\n"
     ]
    },
    {
     "name": "stderr",
     "output_type": "stream",
     "text": [
      "100%|███████████████████████████████████████████████████| 2534/2534 [00:10<00:00, 245.23it/s]\n"
     ]
    },
    {
     "name": "stdout",
     "output_type": "stream",
     "text": [
      "Iteration 0, Current Score: 0,                 Best Feature: trigram-logprobs v-div ada-logprobs v-> davinci-logprobs s-avg, New Score: 0.99\n"
     ]
    },
    {
     "name": "stderr",
     "output_type": "stream",
     "text": [
      "100%|███████████████████████████████████████████████████| 2533/2533 [00:12<00:00, 201.03it/s]\n"
     ]
    },
    {
     "name": "stdout",
     "output_type": "stream",
     "text": [
      "Iteration 1, Current Score: 0.99,                 Best Feature: davinci-logprobs s-avg-top-25, New Score: 1.0\n"
     ]
    },
    {
     "name": "stderr",
     "output_type": "stream",
     "text": [
      "100%|███████████████████████████████████████████████████| 2532/2532 [00:13<00:00, 181.38it/s]\n"
     ]
    },
    {
     "name": "stdout",
     "output_type": "stream",
     "text": [
      "Iteration 2, Current Score: 1.0,                 Best Feature: davinci-logprobs s-var, New Score: 1.0\n",
      "TRAINING WITH summary AUGMENTED DATA.\n",
      "Train size: 100\n",
      "F1-Score: 0.9457847413869848\n",
      "\n",
      "passes...\n"
     ]
    },
    {
     "data": {
      "image/png": "[encoded data removed]",
      "text/plain": [
       "<Figure size 640x480 with 1 Axes>"
      ]
     },
     "metadata": {},
     "output_type": "display_data"
    },
    {
     "name": "stdout",
     "output_type": "stream",
     "text": [
      "**************** SEED 67 ****************\n",
      "***************** AUGMENTATION: baseline *****************\n"
     ]
    },
    {
     "data": {
      "application/vnd.jupyter.widget-view+json": {
       "model_id": "8175ee2bdb144fb988d43c26d5644c85",
       "version_major": 2,
       "version_minor": 0
      },
      "text/plain": [
       "  0%|          | 0/5 [00:00<?, ?it/s]"
      ]
     },
     "metadata": {},
     "output_type": "display_data"
    },
    {
     "name": "stdout",
     "output_type": "stream",
     "text": [
      "***************** TRAIN SIZE: 10 *****************\n"
     ]
    },
    {
     "name": "stderr",
     "output_type": "stream",
     "text": [
      "100%|███████████████████████████████████████████████████| 2534/2534 [00:09<00:00, 254.14it/s]\n"
     ]
    },
    {
     "name": "stdout",
     "output_type": "stream",
     "text": [
      "Iteration 0, Current Score: 0,                 Best Feature: davinci-logprobs s-avg, New Score: 1.0\n"
     ]
    },
    {
     "name": "stderr",
     "output_type": "stream",
     "text": [
      "100%|███████████████████████████████████████████████████| 2533/2533 [00:11<00:00, 223.62it/s]\n"
     ]
    },
    {
     "name": "stdout",
     "output_type": "stream",
     "text": [
      "Iteration 1, Current Score: 1.0,                 Best Feature: davinci-logprobs s-max, New Score: 1.0\n",
      "TRAINING WITHOUT AUGMENTATIONS\n",
      "Train size: 10\n",
      "F1-Score: 0.8098099084014577\n",
      "\n",
      "passes...\n",
      "***************** TRAIN SIZE: 25 *****************\n"
     ]
    },
    {
     "name": "stderr",
     "output_type": "stream",
     "text": [
      "100%|███████████████████████████████████████████████████| 2534/2534 [00:10<00:00, 252.63it/s]\n"
     ]
    },
    {
     "name": "stdout",
     "output_type": "stream",
     "text": [
      "Iteration 0, Current Score: 0,                 Best Feature: ada-logprobs v-mul davinci-logprobs v-div ada-logprobs s-avg, New Score: 1.0\n"
     ]
    },
    {
     "name": "stderr",
     "output_type": "stream",
     "text": [
      "100%|███████████████████████████████████████████████████| 2533/2533 [00:12<00:00, 210.92it/s]\n"
     ]
    },
    {
     "name": "stdout",
     "output_type": "stream",
     "text": [
      "Iteration 1, Current Score: 1.0,                 Best Feature: davinci-logprobs s-max, New Score: 1.0\n",
      "TRAINING WITHOUT AUGMENTATIONS\n",
      "Train size: 25\n",
      "F1-Score: 0.9374944899938288\n",
      "\n",
      "passes...\n",
      "***************** TRAIN SIZE: 50 *****************\n"
     ]
    },
    {
     "name": "stderr",
     "output_type": "stream",
     "text": [
      "100%|███████████████████████████████████████████████████| 2534/2534 [00:09<00:00, 258.13it/s]\n"
     ]
    },
    {
     "name": "stdout",
     "output_type": "stream",
     "text": [
      "Iteration 0, Current Score: 0,                 Best Feature: trigram-logprobs v-> davinci-logprobs s-avg, New Score: 0.98\n"
     ]
    },
    {
     "name": "stderr",
     "output_type": "stream",
     "text": [
      "100%|███████████████████████████████████████████████████| 2533/2533 [00:12<00:00, 209.62it/s]\n"
     ]
    },
    {
     "name": "stdout",
     "output_type": "stream",
     "text": [
      "Iteration 1, Current Score: 0.98,                 Best Feature: davinci-logprobs s-max, New Score: 0.98\n",
      "TRAINING WITHOUT AUGMENTATIONS\n",
      "Train size: 50\n",
      "F1-Score: 0.9725118483412323\n",
      "\n",
      "passes...\n",
      "***************** TRAIN SIZE: 75 *****************\n"
     ]
    },
    {
     "name": "stderr",
     "output_type": "stream",
     "text": [
      "100%|███████████████████████████████████████████████████| 2534/2534 [00:10<00:00, 251.34it/s]\n"
     ]
    },
    {
     "name": "stdout",
     "output_type": "stream",
     "text": [
      "Iteration 0, Current Score: 0,                 Best Feature: trigram-logprobs v-div ada-logprobs v-> davinci-logprobs s-avg, New Score: 1.0\n"
     ]
    },
    {
     "name": "stderr",
     "output_type": "stream",
     "text": [
      "100%|███████████████████████████████████████████████████| 2533/2533 [00:12<00:00, 204.00it/s]\n"
     ]
    },
    {
     "name": "stdout",
     "output_type": "stream",
     "text": [
      "Iteration 1, Current Score: 1.0,                 Best Feature: davinci-logprobs s-max, New Score: 1.0\n",
      "TRAINING WITHOUT AUGMENTATIONS\n",
      "Train size: 75\n",
      "F1-Score: 0.9923586347427407\n",
      "\n",
      "passes...\n",
      "***************** TRAIN SIZE: 100 *****************\n"
     ]
    },
    {
     "name": "stderr",
     "output_type": "stream",
     "text": [
      "100%|███████████████████████████████████████████████████| 2534/2534 [00:10<00:00, 243.98it/s]\n"
     ]
    },
    {
     "name": "stdout",
     "output_type": "stream",
     "text": [
      "Iteration 0, Current Score: 0,                 Best Feature: unigram-logprobs v-> ada-logprobs s-avg, New Score: 1.0\n"
     ]
    },
    {
     "name": "stderr",
     "output_type": "stream",
     "text": [
      "100%|███████████████████████████████████████████████████| 2533/2533 [00:12<00:00, 197.63it/s]"
     ]
    },
    {
     "name": "stdout",
     "output_type": "stream",
     "text": [
      "Iteration 1, Current Score: 1.0,                 Best Feature: davinci-logprobs s-max, New Score: 1.0\n",
      "TRAINING WITHOUT AUGMENTATIONS\n",
      "Train size: 100\n",
      "F1-Score: 0.9584647739221872\n",
      "\n",
      "passes...\n",
      "***************** AUGMENTATION: synonym *****************\n"
     ]
    },
    {
     "name": "stderr",
     "output_type": "stream",
     "text": [
      "\n"
     ]
    },
    {
     "data": {
      "application/vnd.jupyter.widget-view+json": {
       "model_id": "d3aea43776464b36a7f50805519e601f",
       "version_major": 2,
       "version_minor": 0
      },
      "text/plain": [
       "  0%|          | 0/5 [00:00<?, ?it/s]"
      ]
     },
     "metadata": {},
     "output_type": "display_data"
    },
    {
     "name": "stdout",
     "output_type": "stream",
     "text": [
      "***************** TRAIN SIZE: 10 *****************\n"
     ]
    },
    {
     "name": "stderr",
     "output_type": "stream",
     "text": [
      "100%|███████████████████████████████████████████████████| 2534/2534 [00:09<00:00, 254.24it/s]\n"
     ]
    },
    {
     "name": "stdout",
     "output_type": "stream",
     "text": [
      "Iteration 0, Current Score: 0,                 Best Feature: davinci-logprobs s-avg, New Score: 1.0\n"
     ]
    },
    {
     "name": "stderr",
     "output_type": "stream",
     "text": [
      "100%|███████████████████████████████████████████████████| 2533/2533 [00:11<00:00, 222.69it/s]\n"
     ]
    },
    {
     "name": "stdout",
     "output_type": "stream",
     "text": [
      "Iteration 1, Current Score: 1.0,                 Best Feature: davinci-logprobs s-max, New Score: 1.0\n",
      "TRAINING WITH synonym AUGMENTED DATA.\n",
      "Train size: 10\n",
      "F1-Score: 0.7835344215755855\n",
      "\n",
      "passes...\n",
      "***************** TRAIN SIZE: 25 *****************\n"
     ]
    },
    {
     "name": "stderr",
     "output_type": "stream",
     "text": [
      "100%|███████████████████████████████████████████████████| 2534/2534 [00:10<00:00, 245.39it/s]\n"
     ]
    },
    {
     "name": "stdout",
     "output_type": "stream",
     "text": [
      "Iteration 0, Current Score: 0,                 Best Feature: ada-logprobs v-> davinci-logprobs v-div ada-logprobs s-avg, New Score: 1.0\n"
     ]
    },
    {
     "name": "stderr",
     "output_type": "stream",
     "text": [
      "100%|███████████████████████████████████████████████████| 2533/2533 [00:12<00:00, 205.85it/s]\n"
     ]
    },
    {
     "name": "stdout",
     "output_type": "stream",
     "text": [
      "Iteration 1, Current Score: 1.0,                 Best Feature: davinci-logprobs s-avg, New Score: 1.0\n",
      "TRAINING WITH synonym AUGMENTED DATA.\n",
      "Train size: 25\n",
      "F1-Score: 0.8480725623582767\n",
      "\n",
      "passes...\n",
      "***************** TRAIN SIZE: 50 *****************\n"
     ]
    },
    {
     "name": "stderr",
     "output_type": "stream",
     "text": [
      "100%|███████████████████████████████████████████████████| 2534/2534 [00:10<00:00, 249.08it/s]\n"
     ]
    },
    {
     "name": "stdout",
     "output_type": "stream",
     "text": [
      "Iteration 0, Current Score: 0,                 Best Feature: trigram-logprobs v-< ada-logprobs v-add davinci-logprobs s-var, New Score: 1.0\n"
     ]
    },
    {
     "name": "stderr",
     "output_type": "stream",
     "text": [
      "100%|███████████████████████████████████████████████████| 2533/2533 [00:12<00:00, 202.57it/s]\n"
     ]
    },
    {
     "name": "stdout",
     "output_type": "stream",
     "text": [
      "Iteration 1, Current Score: 1.0,                 Best Feature: davinci-logprobs s-max, New Score: 1.0\n",
      "TRAINING WITH synonym AUGMENTED DATA.\n",
      "Train size: 50\n",
      "F1-Score: 0.8927380511300481\n",
      "\n",
      "passes...\n",
      "***************** TRAIN SIZE: 75 *****************\n"
     ]
    },
    {
     "name": "stderr",
     "output_type": "stream",
     "text": [
      "100%|███████████████████████████████████████████████████| 2534/2534 [00:10<00:00, 249.75it/s]\n"
     ]
    },
    {
     "name": "stdout",
     "output_type": "stream",
     "text": [
      "Iteration 0, Current Score: 0,                 Best Feature: trigram-logprobs v-div ada-logprobs v-> davinci-logprobs s-avg, New Score: 0.9733333333\n"
     ]
    },
    {
     "name": "stderr",
     "output_type": "stream",
     "text": [
      "100%|███████████████████████████████████████████████████| 2533/2533 [00:12<00:00, 202.21it/s]\n"
     ]
    },
    {
     "name": "stdout",
     "output_type": "stream",
     "text": [
      "Iteration 1, Current Score: 0.9733333333,                 Best Feature: davinci-logprobs v-div trigram-logprobs s-min, New Score: 0.9866666667\n"
     ]
    },
    {
     "name": "stderr",
     "output_type": "stream",
     "text": [
      "100%|███████████████████████████████████████████████████| 2532/2532 [00:13<00:00, 191.77it/s]\n"
     ]
    },
    {
     "name": "stdout",
     "output_type": "stream",
     "text": [
      "Iteration 2, Current Score: 0.9866666667,                 Best Feature: trigram-logprobs v-mul davinci-logprobs s-avg, New Score: 1.0\n"
     ]
    },
    {
     "name": "stderr",
     "output_type": "stream",
     "text": [
      "100%|███████████████████████████████████████████████████| 2531/2531 [00:12<00:00, 196.00it/s]\n"
     ]
    },
    {
     "name": "stdout",
     "output_type": "stream",
     "text": [
      "Iteration 3, Current Score: 1.0,                 Best Feature: davinci-logprobs s-max, New Score: 1.0\n",
      "TRAINING WITH synonym AUGMENTED DATA.\n",
      "Train size: 75\n",
      "F1-Score: 0.8914446002805049\n",
      "\n",
      "passes...\n",
      "***************** TRAIN SIZE: 100 *****************\n"
     ]
    },
    {
     "name": "stderr",
     "output_type": "stream",
     "text": [
      "100%|███████████████████████████████████████████████████| 2534/2534 [00:10<00:00, 239.88it/s]\n"
     ]
    },
    {
     "name": "stdout",
     "output_type": "stream",
     "text": [
      "Iteration 0, Current Score: 0,                 Best Feature: unigram-logprobs v-> ada-logprobs v-> davinci-logprobs s-avg, New Score: 1.0\n"
     ]
    },
    {
     "name": "stderr",
     "output_type": "stream",
     "text": [
      "100%|███████████████████████████████████████████████████| 2533/2533 [00:12<00:00, 199.44it/s]"
     ]
    },
    {
     "name": "stdout",
     "output_type": "stream",
     "text": [
      "Iteration 1, Current Score: 1.0,                 Best Feature: davinci-logprobs s-max, New Score: 1.0\n",
      "TRAINING WITH synonym AUGMENTED DATA.\n",
      "Train size: 100\n",
      "F1-Score: 0.8735260555344238\n",
      "\n",
      "passes...\n",
      "***************** AUGMENTATION: back *****************\n"
     ]
    },
    {
     "name": "stderr",
     "output_type": "stream",
     "text": [
      "\n"
     ]
    },
    {
     "data": {
      "application/vnd.jupyter.widget-view+json": {
       "model_id": "cd3e389910a64eb19c1e47c029173ecc",
       "version_major": 2,
       "version_minor": 0
      },
      "text/plain": [
       "  0%|          | 0/5 [00:00<?, ?it/s]"
      ]
     },
     "metadata": {},
     "output_type": "display_data"
    },
    {
     "name": "stdout",
     "output_type": "stream",
     "text": [
      "***************** TRAIN SIZE: 10 *****************\n"
     ]
    },
    {
     "name": "stderr",
     "output_type": "stream",
     "text": [
      "100%|███████████████████████████████████████████████████| 2534/2534 [00:10<00:00, 248.98it/s]\n"
     ]
    },
    {
     "name": "stdout",
     "output_type": "stream",
     "text": [
      "Iteration 0, Current Score: 0,                 Best Feature: davinci-logprobs s-avg, New Score: 1.0\n"
     ]
    },
    {
     "name": "stderr",
     "output_type": "stream",
     "text": [
      "100%|███████████████████████████████████████████████████| 2533/2533 [00:11<00:00, 225.95it/s]\n"
     ]
    },
    {
     "name": "stdout",
     "output_type": "stream",
     "text": [
      "Iteration 1, Current Score: 1.0,                 Best Feature: davinci-logprobs s-max, New Score: 1.0\n",
      "TRAINING WITH back AUGMENTED DATA.\n",
      "Train size: 10\n",
      "F1-Score: 0.783218203982121\n",
      "\n",
      "passes...\n",
      "***************** TRAIN SIZE: 25 *****************\n"
     ]
    },
    {
     "name": "stderr",
     "output_type": "stream",
     "text": [
      "100%|███████████████████████████████████████████████████| 2534/2534 [00:10<00:00, 251.59it/s]\n"
     ]
    },
    {
     "name": "stdout",
     "output_type": "stream",
     "text": [
      "Iteration 0, Current Score: 0,                 Best Feature: ada-logprobs v-> davinci-logprobs v-div ada-logprobs s-avg, New Score: 1.0\n"
     ]
    },
    {
     "name": "stderr",
     "output_type": "stream",
     "text": [
      "100%|███████████████████████████████████████████████████| 2533/2533 [00:11<00:00, 212.00it/s]\n"
     ]
    },
    {
     "name": "stdout",
     "output_type": "stream",
     "text": [
      "Iteration 1, Current Score: 1.0,                 Best Feature: davinci-logprobs s-avg, New Score: 1.0\n",
      "TRAINING WITH back AUGMENTED DATA.\n",
      "Train size: 25\n",
      "F1-Score: 0.7540476436011138\n",
      "\n",
      "passes...\n",
      "***************** TRAIN SIZE: 50 *****************\n"
     ]
    },
    {
     "name": "stderr",
     "output_type": "stream",
     "text": [
      "100%|███████████████████████████████████████████████████| 2534/2534 [00:10<00:00, 253.39it/s]\n"
     ]
    },
    {
     "name": "stdout",
     "output_type": "stream",
     "text": [
      "Iteration 0, Current Score: 0,                 Best Feature: trigram-logprobs v-< ada-logprobs v-add davinci-logprobs s-var, New Score: 1.0\n"
     ]
    },
    {
     "name": "stderr",
     "output_type": "stream",
     "text": [
      "100%|███████████████████████████████████████████████████| 2533/2533 [00:12<00:00, 209.48it/s]\n"
     ]
    },
    {
     "name": "stdout",
     "output_type": "stream",
     "text": [
      "Iteration 1, Current Score: 1.0,                 Best Feature: davinci-logprobs s-max, New Score: 1.0\n",
      "TRAINING WITH back AUGMENTED DATA.\n",
      "Train size: 50\n",
      "F1-Score: 0.8816318892111912\n",
      "\n",
      "passes...\n",
      "***************** TRAIN SIZE: 75 *****************\n"
     ]
    },
    {
     "name": "stderr",
     "output_type": "stream",
     "text": [
      "100%|███████████████████████████████████████████████████| 2534/2534 [00:10<00:00, 253.26it/s]\n"
     ]
    },
    {
     "name": "stdout",
     "output_type": "stream",
     "text": [
      "Iteration 0, Current Score: 0,                 Best Feature: trigram-logprobs v-div ada-logprobs v-> davinci-logprobs s-avg, New Score: 0.9733333333\n"
     ]
    },
    {
     "name": "stderr",
     "output_type": "stream",
     "text": [
      "100%|███████████████████████████████████████████████████| 2533/2533 [00:12<00:00, 206.26it/s]\n"
     ]
    },
    {
     "name": "stdout",
     "output_type": "stream",
     "text": [
      "Iteration 1, Current Score: 0.9733333333,                 Best Feature: davinci-logprobs v-div trigram-logprobs s-min, New Score: 0.9866666667\n"
     ]
    },
    {
     "name": "stderr",
     "output_type": "stream",
     "text": [
      "100%|███████████████████████████████████████████████████| 2532/2532 [00:12<00:00, 195.41it/s]\n"
     ]
    },
    {
     "name": "stdout",
     "output_type": "stream",
     "text": [
      "Iteration 2, Current Score: 0.9866666667,                 Best Feature: trigram-logprobs v-mul davinci-logprobs s-avg, New Score: 1.0\n"
     ]
    },
    {
     "name": "stderr",
     "output_type": "stream",
     "text": [
      "100%|███████████████████████████████████████████████████| 2531/2531 [00:12<00:00, 198.59it/s]\n"
     ]
    },
    {
     "name": "stdout",
     "output_type": "stream",
     "text": [
      "Iteration 3, Current Score: 1.0,                 Best Feature: davinci-logprobs s-max, New Score: 1.0\n",
      "TRAINING WITH back AUGMENTED DATA.\n",
      "Train size: 75\n",
      "F1-Score: 0.8692916388597578\n",
      "\n",
      "passes...\n",
      "***************** TRAIN SIZE: 100 *****************\n"
     ]
    },
    {
     "name": "stderr",
     "output_type": "stream",
     "text": [
      "100%|███████████████████████████████████████████████████| 2534/2534 [00:10<00:00, 244.32it/s]\n"
     ]
    },
    {
     "name": "stdout",
     "output_type": "stream",
     "text": [
      "Iteration 0, Current Score: 0,                 Best Feature: unigram-logprobs v-> ada-logprobs v-> davinci-logprobs s-avg, New Score: 1.0\n"
     ]
    },
    {
     "name": "stderr",
     "output_type": "stream",
     "text": [
      "100%|███████████████████████████████████████████████████| 2533/2533 [00:12<00:00, 201.40it/s]"
     ]
    },
    {
     "name": "stdout",
     "output_type": "stream",
     "text": [
      "Iteration 1, Current Score: 1.0,                 Best Feature: davinci-logprobs s-max, New Score: 1.0\n",
      "TRAINING WITH back AUGMENTED DATA.\n",
      "Train size: 100\n",
      "F1-Score: 0.8717509283061983\n",
      "\n",
      "passes...\n",
      "***************** AUGMENTATION: emotion *****************\n"
     ]
    },
    {
     "name": "stderr",
     "output_type": "stream",
     "text": [
      "\n"
     ]
    },
    {
     "data": {
      "application/vnd.jupyter.widget-view+json": {
       "model_id": "720d18b805244611b9d09e1497f7bc55",
       "version_major": 2,
       "version_minor": 0
      },
      "text/plain": [
       "  0%|          | 0/5 [00:00<?, ?it/s]"
      ]
     },
     "metadata": {},
     "output_type": "display_data"
    },
    {
     "name": "stdout",
     "output_type": "stream",
     "text": [
      "***************** TRAIN SIZE: 10 *****************\n"
     ]
    },
    {
     "name": "stderr",
     "output_type": "stream",
     "text": [
      "100%|███████████████████████████████████████████████████| 2534/2534 [00:09<00:00, 259.04it/s]\n"
     ]
    },
    {
     "name": "stdout",
     "output_type": "stream",
     "text": [
      "Iteration 0, Current Score: 0,                 Best Feature: davinci-logprobs s-avg, New Score: 1.0\n"
     ]
    },
    {
     "name": "stderr",
     "output_type": "stream",
     "text": [
      "100%|███████████████████████████████████████████████████| 2533/2533 [00:11<00:00, 221.83it/s]\n"
     ]
    },
    {
     "name": "stdout",
     "output_type": "stream",
     "text": [
      "Iteration 1, Current Score: 1.0,                 Best Feature: davinci-logprobs s-max, New Score: 1.0\n",
      "TRAINING WITH emotion AUGMENTED DATA.\n",
      "Train size: 10\n",
      "F1-Score: 0.6268896014658727\n",
      "\n",
      "passes...\n",
      "***************** TRAIN SIZE: 25 *****************\n"
     ]
    },
    {
     "name": "stderr",
     "output_type": "stream",
     "text": [
      "100%|███████████████████████████████████████████████████| 2534/2534 [00:10<00:00, 247.01it/s]\n"
     ]
    },
    {
     "name": "stdout",
     "output_type": "stream",
     "text": [
      "Iteration 0, Current Score: 0,                 Best Feature: ada-logprobs v-> davinci-logprobs v-div ada-logprobs s-avg, New Score: 1.0\n"
     ]
    },
    {
     "name": "stderr",
     "output_type": "stream",
     "text": [
      "100%|███████████████████████████████████████████████████| 2533/2533 [00:12<00:00, 210.24it/s]\n"
     ]
    },
    {
     "name": "stdout",
     "output_type": "stream",
     "text": [
      "Iteration 1, Current Score: 1.0,                 Best Feature: davinci-logprobs s-avg, New Score: 1.0\n",
      "TRAINING WITH emotion AUGMENTED DATA.\n",
      "Train size: 25\n",
      "F1-Score: 0.7780810838135679\n",
      "\n",
      "passes...\n",
      "***************** TRAIN SIZE: 50 *****************\n"
     ]
    },
    {
     "name": "stderr",
     "output_type": "stream",
     "text": [
      "100%|███████████████████████████████████████████████████| 2534/2534 [00:10<00:00, 246.70it/s]\n"
     ]
    },
    {
     "name": "stdout",
     "output_type": "stream",
     "text": [
      "Iteration 0, Current Score: 0,                 Best Feature: trigram-logprobs v-< ada-logprobs v-add davinci-logprobs s-var, New Score: 1.0\n"
     ]
    },
    {
     "name": "stderr",
     "output_type": "stream",
     "text": [
      "100%|███████████████████████████████████████████████████| 2533/2533 [00:12<00:00, 206.25it/s]\n"
     ]
    },
    {
     "name": "stdout",
     "output_type": "stream",
     "text": [
      "Iteration 1, Current Score: 1.0,                 Best Feature: davinci-logprobs s-max, New Score: 1.0\n",
      "TRAINING WITH emotion AUGMENTED DATA.\n",
      "Train size: 50\n",
      "F1-Score: 0.890893870337643\n",
      "\n",
      "passes...\n",
      "***************** TRAIN SIZE: 75 *****************\n"
     ]
    },
    {
     "name": "stderr",
     "output_type": "stream",
     "text": [
      "100%|███████████████████████████████████████████████████| 2534/2534 [00:10<00:00, 251.45it/s]\n"
     ]
    },
    {
     "name": "stdout",
     "output_type": "stream",
     "text": [
      "Iteration 0, Current Score: 0,                 Best Feature: trigram-logprobs v-div ada-logprobs v-> davinci-logprobs s-avg, New Score: 0.9733333333\n"
     ]
    },
    {
     "name": "stderr",
     "output_type": "stream",
     "text": [
      "100%|███████████████████████████████████████████████████| 2533/2533 [00:12<00:00, 203.81it/s]\n"
     ]
    },
    {
     "name": "stdout",
     "output_type": "stream",
     "text": [
      "Iteration 1, Current Score: 0.9733333333,                 Best Feature: davinci-logprobs v-div trigram-logprobs s-min, New Score: 0.9866666667\n"
     ]
    },
    {
     "name": "stderr",
     "output_type": "stream",
     "text": [
      "100%|███████████████████████████████████████████████████| 2532/2532 [00:13<00:00, 192.51it/s]\n"
     ]
    },
    {
     "name": "stdout",
     "output_type": "stream",
     "text": [
      "Iteration 2, Current Score: 0.9866666667,                 Best Feature: trigram-logprobs v-mul davinci-logprobs s-avg, New Score: 1.0\n"
     ]
    },
    {
     "name": "stderr",
     "output_type": "stream",
     "text": [
      "100%|███████████████████████████████████████████████████| 2531/2531 [00:12<00:00, 196.85it/s]\n"
     ]
    },
    {
     "name": "stdout",
     "output_type": "stream",
     "text": [
      "Iteration 3, Current Score: 1.0,                 Best Feature: davinci-logprobs s-max, New Score: 1.0\n",
      "TRAINING WITH emotion AUGMENTED DATA.\n",
      "Train size: 75\n",
      "F1-Score: 0.8846660395108185\n",
      "\n",
      "passes...\n",
      "***************** TRAIN SIZE: 100 *****************\n"
     ]
    },
    {
     "name": "stderr",
     "output_type": "stream",
     "text": [
      "100%|███████████████████████████████████████████████████| 2534/2534 [00:10<00:00, 241.82it/s]\n"
     ]
    },
    {
     "name": "stdout",
     "output_type": "stream",
     "text": [
      "Iteration 0, Current Score: 0,                 Best Feature: unigram-logprobs v-> ada-logprobs v-> davinci-logprobs s-avg, New Score: 1.0\n"
     ]
    },
    {
     "name": "stderr",
     "output_type": "stream",
     "text": [
      "100%|███████████████████████████████████████████████████| 2533/2533 [00:12<00:00, 199.86it/s]"
     ]
    },
    {
     "name": "stdout",
     "output_type": "stream",
     "text": [
      "Iteration 1, Current Score: 1.0,                 Best Feature: davinci-logprobs s-max, New Score: 1.0\n",
      "TRAINING WITH emotion AUGMENTED DATA.\n",
      "Train size: 100\n",
      "F1-Score: 0.8747745181809551\n",
      "\n",
      "passes...\n",
      "***************** AUGMENTATION: style *****************\n"
     ]
    },
    {
     "name": "stderr",
     "output_type": "stream",
     "text": [
      "\n"
     ]
    },
    {
     "data": {
      "application/vnd.jupyter.widget-view+json": {
       "model_id": "6d2b701dd3914608ba190556863422fb",
       "version_major": 2,
       "version_minor": 0
      },
      "text/plain": [
       "  0%|          | 0/5 [00:00<?, ?it/s]"
      ]
     },
     "metadata": {},
     "output_type": "display_data"
    },
    {
     "name": "stdout",
     "output_type": "stream",
     "text": [
      "***************** TRAIN SIZE: 10 *****************\n"
     ]
    },
    {
     "name": "stderr",
     "output_type": "stream",
     "text": [
      "100%|███████████████████████████████████████████████████| 2534/2534 [00:09<00:00, 256.29it/s]\n"
     ]
    },
    {
     "name": "stdout",
     "output_type": "stream",
     "text": [
      "Iteration 0, Current Score: 0,                 Best Feature: davinci-logprobs s-avg, New Score: 1.0\n"
     ]
    },
    {
     "name": "stderr",
     "output_type": "stream",
     "text": [
      "100%|███████████████████████████████████████████████████| 2533/2533 [00:11<00:00, 227.15it/s]\n"
     ]
    },
    {
     "name": "stdout",
     "output_type": "stream",
     "text": [
      "Iteration 1, Current Score: 1.0,                 Best Feature: davinci-logprobs s-max, New Score: 1.0\n",
      "TRAINING WITH style AUGMENTED DATA.\n",
      "Train size: 10\n",
      "F1-Score: 0.64104013566987\n",
      "\n",
      "passes...\n",
      "***************** TRAIN SIZE: 25 *****************\n"
     ]
    },
    {
     "name": "stderr",
     "output_type": "stream",
     "text": [
      "100%|███████████████████████████████████████████████████| 2534/2534 [00:10<00:00, 252.85it/s]\n"
     ]
    },
    {
     "name": "stdout",
     "output_type": "stream",
     "text": [
      "Iteration 0, Current Score: 0,                 Best Feature: ada-logprobs v-> davinci-logprobs v-div ada-logprobs s-avg, New Score: 1.0\n"
     ]
    },
    {
     "name": "stderr",
     "output_type": "stream",
     "text": [
      "100%|███████████████████████████████████████████████████| 2533/2533 [00:12<00:00, 209.52it/s]\n"
     ]
    },
    {
     "name": "stdout",
     "output_type": "stream",
     "text": [
      "Iteration 1, Current Score: 1.0,                 Best Feature: davinci-logprobs s-avg, New Score: 1.0\n",
      "TRAINING WITH style AUGMENTED DATA.\n",
      "Train size: 25\n",
      "F1-Score: 0.7849473156046162\n",
      "\n",
      "passes...\n",
      "***************** TRAIN SIZE: 50 *****************\n"
     ]
    },
    {
     "name": "stderr",
     "output_type": "stream",
     "text": [
      "100%|███████████████████████████████████████████████████| 2534/2534 [00:10<00:00, 239.03it/s]\n"
     ]
    },
    {
     "name": "stdout",
     "output_type": "stream",
     "text": [
      "Iteration 0, Current Score: 0,                 Best Feature: trigram-logprobs v-< ada-logprobs v-add davinci-logprobs s-var, New Score: 1.0\n"
     ]
    },
    {
     "name": "stderr",
     "output_type": "stream",
     "text": [
      "100%|███████████████████████████████████████████████████| 2533/2533 [00:12<00:00, 207.06it/s]\n"
     ]
    },
    {
     "name": "stdout",
     "output_type": "stream",
     "text": [
      "Iteration 1, Current Score: 1.0,                 Best Feature: davinci-logprobs s-max, New Score: 1.0\n",
      "TRAINING WITH style AUGMENTED DATA.\n",
      "Train size: 50\n",
      "F1-Score: 0.9368505195843325\n",
      "\n",
      "passes...\n",
      "***************** TRAIN SIZE: 75 *****************\n"
     ]
    },
    {
     "name": "stderr",
     "output_type": "stream",
     "text": [
      "100%|███████████████████████████████████████████████████| 2534/2534 [00:10<00:00, 249.86it/s]\n"
     ]
    },
    {
     "name": "stdout",
     "output_type": "stream",
     "text": [
      "Iteration 0, Current Score: 0,                 Best Feature: trigram-logprobs v-div ada-logprobs v-> davinci-logprobs s-avg, New Score: 0.9733333333\n"
     ]
    },
    {
     "name": "stderr",
     "output_type": "stream",
     "text": [
      "100%|███████████████████████████████████████████████████| 2533/2533 [00:12<00:00, 196.57it/s]\n"
     ]
    },
    {
     "name": "stdout",
     "output_type": "stream",
     "text": [
      "Iteration 1, Current Score: 0.9733333333,                 Best Feature: davinci-logprobs v-div trigram-logprobs s-min, New Score: 0.9866666667\n"
     ]
    },
    {
     "name": "stderr",
     "output_type": "stream",
     "text": [
      "100%|███████████████████████████████████████████████████| 2532/2532 [00:13<00:00, 188.87it/s]\n"
     ]
    },
    {
     "name": "stdout",
     "output_type": "stream",
     "text": [
      "Iteration 2, Current Score: 0.9866666667,                 Best Feature: trigram-logprobs v-mul davinci-logprobs s-avg, New Score: 1.0\n"
     ]
    },
    {
     "name": "stderr",
     "output_type": "stream",
     "text": [
      "100%|███████████████████████████████████████████████████| 2531/2531 [00:13<00:00, 192.83it/s]\n"
     ]
    },
    {
     "name": "stdout",
     "output_type": "stream",
     "text": [
      "Iteration 3, Current Score: 1.0,                 Best Feature: davinci-logprobs s-max, New Score: 1.0\n",
      "TRAINING WITH style AUGMENTED DATA.\n",
      "Train size: 75\n",
      "F1-Score: 0.8288590604026845\n",
      "\n",
      "passes...\n",
      "***************** TRAIN SIZE: 100 *****************\n"
     ]
    },
    {
     "name": "stderr",
     "output_type": "stream",
     "text": [
      "100%|███████████████████████████████████████████████████| 2534/2534 [00:10<00:00, 239.21it/s]\n"
     ]
    },
    {
     "name": "stdout",
     "output_type": "stream",
     "text": [
      "Iteration 0, Current Score: 0,                 Best Feature: unigram-logprobs v-> ada-logprobs v-> davinci-logprobs s-avg, New Score: 1.0\n"
     ]
    },
    {
     "name": "stderr",
     "output_type": "stream",
     "text": [
      "100%|███████████████████████████████████████████████████| 2533/2533 [00:13<00:00, 194.19it/s]"
     ]
    },
    {
     "name": "stdout",
     "output_type": "stream",
     "text": [
      "Iteration 1, Current Score: 1.0,                 Best Feature: davinci-logprobs s-max, New Score: 1.0\n",
      "TRAINING WITH style AUGMENTED DATA.\n",
      "Train size: 100\n",
      "F1-Score: 0.8785754877817769\n",
      "\n",
      "passes...\n",
      "***************** AUGMENTATION: summary *****************\n"
     ]
    },
    {
     "name": "stderr",
     "output_type": "stream",
     "text": [
      "\n"
     ]
    },
    {
     "data": {
      "application/vnd.jupyter.widget-view+json": {
       "model_id": "3d54988016e84ed6a41cea9474daf8a3",
       "version_major": 2,
       "version_minor": 0
      },
      "text/plain": [
       "  0%|          | 0/5 [00:00<?, ?it/s]"
      ]
     },
     "metadata": {},
     "output_type": "display_data"
    },
    {
     "name": "stdout",
     "output_type": "stream",
     "text": [
      "***************** TRAIN SIZE: 10 *****************\n"
     ]
    },
    {
     "name": "stderr",
     "output_type": "stream",
     "text": [
      "100%|███████████████████████████████████████████████████| 2534/2534 [00:10<00:00, 246.06it/s]\n"
     ]
    },
    {
     "name": "stdout",
     "output_type": "stream",
     "text": [
      "Iteration 0, Current Score: 0,                 Best Feature: davinci-logprobs s-avg, New Score: 1.0\n"
     ]
    },
    {
     "name": "stderr",
     "output_type": "stream",
     "text": [
      "100%|███████████████████████████████████████████████████| 2533/2533 [00:11<00:00, 222.73it/s]\n"
     ]
    },
    {
     "name": "stdout",
     "output_type": "stream",
     "text": [
      "Iteration 1, Current Score: 1.0,                 Best Feature: davinci-logprobs s-max, New Score: 1.0\n",
      "TRAINING WITH summary AUGMENTED DATA.\n",
      "Train size: 10\n",
      "F1-Score: 0.6228080229226362\n",
      "\n",
      "passes...\n",
      "***************** TRAIN SIZE: 25 *****************\n"
     ]
    },
    {
     "name": "stderr",
     "output_type": "stream",
     "text": [
      "100%|███████████████████████████████████████████████████| 2534/2534 [00:10<00:00, 240.10it/s]\n"
     ]
    },
    {
     "name": "stdout",
     "output_type": "stream",
     "text": [
      "Iteration 0, Current Score: 0,                 Best Feature: ada-logprobs v-> davinci-logprobs v-div ada-logprobs s-avg, New Score: 1.0\n"
     ]
    },
    {
     "name": "stderr",
     "output_type": "stream",
     "text": [
      "100%|███████████████████████████████████████████████████| 2533/2533 [00:12<00:00, 205.75it/s]\n"
     ]
    },
    {
     "name": "stdout",
     "output_type": "stream",
     "text": [
      "Iteration 1, Current Score: 1.0,                 Best Feature: davinci-logprobs s-avg, New Score: 1.0\n",
      "TRAINING WITH summary AUGMENTED DATA.\n",
      "Train size: 25\n",
      "F1-Score: 0.7481672689726381\n",
      "\n",
      "passes...\n",
      "***************** TRAIN SIZE: 50 *****************\n"
     ]
    },
    {
     "name": "stderr",
     "output_type": "stream",
     "text": [
      "100%|███████████████████████████████████████████████████| 2534/2534 [00:10<00:00, 242.92it/s]\n"
     ]
    },
    {
     "name": "stdout",
     "output_type": "stream",
     "text": [
      "Iteration 0, Current Score: 0,                 Best Feature: trigram-logprobs v-< ada-logprobs v-add davinci-logprobs s-var, New Score: 1.0\n"
     ]
    },
    {
     "name": "stderr",
     "output_type": "stream",
     "text": [
      "100%|███████████████████████████████████████████████████| 2533/2533 [00:12<00:00, 199.12it/s]\n"
     ]
    },
    {
     "name": "stdout",
     "output_type": "stream",
     "text": [
      "Iteration 1, Current Score: 1.0,                 Best Feature: davinci-logprobs s-max, New Score: 1.0\n",
      "TRAINING WITH summary AUGMENTED DATA.\n",
      "Train size: 50\n",
      "F1-Score: 0.8696889226100152\n",
      "\n",
      "passes...\n",
      "***************** TRAIN SIZE: 75 *****************\n"
     ]
    },
    {
     "name": "stderr",
     "output_type": "stream",
     "text": [
      "100%|███████████████████████████████████████████████████| 2534/2534 [00:10<00:00, 245.07it/s]\n"
     ]
    },
    {
     "name": "stdout",
     "output_type": "stream",
     "text": [
      "Iteration 0, Current Score: 0,                 Best Feature: trigram-logprobs v-div ada-logprobs v-> davinci-logprobs s-avg, New Score: 0.9733333333\n"
     ]
    },
    {
     "name": "stderr",
     "output_type": "stream",
     "text": [
      "100%|███████████████████████████████████████████████████| 2533/2533 [00:12<00:00, 197.97it/s]\n"
     ]
    },
    {
     "name": "stdout",
     "output_type": "stream",
     "text": [
      "Iteration 1, Current Score: 0.9733333333,                 Best Feature: davinci-logprobs v-div trigram-logprobs s-min, New Score: 0.9866666667\n"
     ]
    },
    {
     "name": "stderr",
     "output_type": "stream",
     "text": [
      "100%|███████████████████████████████████████████████████| 2532/2532 [00:13<00:00, 190.79it/s]\n"
     ]
    },
    {
     "name": "stdout",
     "output_type": "stream",
     "text": [
      "Iteration 2, Current Score: 0.9866666667,                 Best Feature: trigram-logprobs v-mul davinci-logprobs s-avg, New Score: 1.0\n"
     ]
    },
    {
     "name": "stderr",
     "output_type": "stream",
     "text": [
      "100%|███████████████████████████████████████████████████| 2531/2531 [00:12<00:00, 195.50it/s]\n"
     ]
    },
    {
     "name": "stdout",
     "output_type": "stream",
     "text": [
      "Iteration 3, Current Score: 1.0,                 Best Feature: davinci-logprobs s-max, New Score: 1.0\n",
      "TRAINING WITH summary AUGMENTED DATA.\n",
      "Train size: 75\n",
      "F1-Score: 0.8953889147647881\n",
      "\n",
      "passes...\n",
      "***************** TRAIN SIZE: 100 *****************\n"
     ]
    },
    {
     "name": "stderr",
     "output_type": "stream",
     "text": [
      "100%|███████████████████████████████████████████████████| 2534/2534 [00:10<00:00, 240.47it/s]\n"
     ]
    },
    {
     "name": "stdout",
     "output_type": "stream",
     "text": [
      "Iteration 0, Current Score: 0,                 Best Feature: unigram-logprobs v-> ada-logprobs v-> davinci-logprobs s-avg, New Score: 1.0\n"
     ]
    },
    {
     "name": "stderr",
     "output_type": "stream",
     "text": [
      "100%|███████████████████████████████████████████████████| 2533/2533 [00:12<00:00, 201.67it/s]\n"
     ]
    },
    {
     "name": "stdout",
     "output_type": "stream",
     "text": [
      "Iteration 1, Current Score: 1.0,                 Best Feature: davinci-logprobs s-max, New Score: 1.0\n",
      "TRAINING WITH summary AUGMENTED DATA.\n",
      "Train size: 100\n",
      "F1-Score: 0.9036968576709796\n",
      "\n",
      "passes...\n"
     ]
    },
    {
     "data": {
      "image/png": "[encoded data removed]",
      "text/plain": [
       "<Figure size 640x480 with 1 Axes>"
      ]
     },
     "metadata": {},
     "output_type": "display_data"
    },
    {
     "name": "stdout",
     "output_type": "stream",
     "text": [
      "**************** SEED 77 ****************\n",
      "***************** AUGMENTATION: baseline *****************\n"
     ]
    },
    {
     "data": {
      "application/vnd.jupyter.widget-view+json": {
       "model_id": "53ef2559209f47e2b1707aadeee4d912",
       "version_major": 2,
       "version_minor": 0
      },
      "text/plain": [
       "  0%|          | 0/5 [00:00<?, ?it/s]"
      ]
     },
     "metadata": {},
     "output_type": "display_data"
    },
    {
     "name": "stdout",
     "output_type": "stream",
     "text": [
      "***************** TRAIN SIZE: 10 *****************\n"
     ]
    },
    {
     "name": "stderr",
     "output_type": "stream",
     "text": [
      "100%|███████████████████████████████████████████████████| 2534/2534 [00:09<00:00, 259.13it/s]\n"
     ]
    },
    {
     "name": "stdout",
     "output_type": "stream",
     "text": [
      "Iteration 0, Current Score: 0,                 Best Feature: davinci-logprobs v-div trigram-logprobs v-div unigram-logprobs s-min, New Score: 1.0\n"
     ]
    },
    {
     "name": "stderr",
     "output_type": "stream",
     "text": [
      "100%|███████████████████████████████████████████████████| 2533/2533 [00:11<00:00, 221.86it/s]\n"
     ]
    },
    {
     "name": "stdout",
     "output_type": "stream",
     "text": [
      "Iteration 1, Current Score: 1.0,                 Best Feature: davinci-logprobs s-min, New Score: 1.0\n",
      "TRAINING WITHOUT AUGMENTATIONS\n",
      "Train size: 10\n",
      "F1-Score: 0.8301996510951735\n",
      "\n",
      "passes...\n",
      "***************** TRAIN SIZE: 25 *****************\n"
     ]
    },
    {
     "name": "stderr",
     "output_type": "stream",
     "text": [
      "100%|███████████████████████████████████████████████████| 2534/2534 [00:09<00:00, 254.33it/s]\n"
     ]
    },
    {
     "name": "stdout",
     "output_type": "stream",
     "text": [
      "Iteration 0, Current Score: 0,                 Best Feature: davinci-logprobs s-avg, New Score: 1.0\n"
     ]
    },
    {
     "name": "stderr",
     "output_type": "stream",
     "text": [
      "100%|███████████████████████████████████████████████████| 2533/2533 [00:11<00:00, 216.35it/s]\n"
     ]
    },
    {
     "name": "stdout",
     "output_type": "stream",
     "text": [
      "Iteration 1, Current Score: 1.0,                 Best Feature: davinci-logprobs s-max, New Score: 1.0\n",
      "TRAINING WITHOUT AUGMENTATIONS\n",
      "Train size: 25\n",
      "F1-Score: 0.9401799894123875\n",
      "\n",
      "passes...\n",
      "***************** TRAIN SIZE: 50 *****************\n"
     ]
    },
    {
     "name": "stderr",
     "output_type": "stream",
     "text": [
      "100%|███████████████████████████████████████████████████| 2534/2534 [00:10<00:00, 251.04it/s]\n"
     ]
    },
    {
     "name": "stdout",
     "output_type": "stream",
     "text": [
      "Iteration 0, Current Score: 0,                 Best Feature: trigram-logprobs v-> davinci-logprobs s-avg, New Score: 1.0\n"
     ]
    },
    {
     "name": "stderr",
     "output_type": "stream",
     "text": [
      "100%|███████████████████████████████████████████████████| 2533/2533 [00:12<00:00, 210.60it/s]\n"
     ]
    },
    {
     "name": "stdout",
     "output_type": "stream",
     "text": [
      "Iteration 1, Current Score: 1.0,                 Best Feature: davinci-logprobs s-max, New Score: 1.0\n",
      "TRAINING WITHOUT AUGMENTATIONS\n",
      "Train size: 50\n",
      "F1-Score: 0.9865988125530111\n",
      "\n",
      "passes...\n",
      "***************** TRAIN SIZE: 75 *****************\n"
     ]
    },
    {
     "name": "stderr",
     "output_type": "stream",
     "text": [
      "100%|███████████████████████████████████████████████████| 2534/2534 [00:10<00:00, 251.33it/s]\n"
     ]
    },
    {
     "name": "stdout",
     "output_type": "stream",
     "text": [
      "Iteration 0, Current Score: 0,                 Best Feature: trigram-logprobs v-> davinci-logprobs s-avg, New Score: 1.0\n"
     ]
    },
    {
     "name": "stderr",
     "output_type": "stream",
     "text": [
      "100%|███████████████████████████████████████████████████| 2533/2533 [00:12<00:00, 206.60it/s]\n"
     ]
    },
    {
     "name": "stdout",
     "output_type": "stream",
     "text": [
      "Iteration 1, Current Score: 1.0,                 Best Feature: davinci-logprobs s-min, New Score: 1.0\n",
      "TRAINING WITHOUT AUGMENTATIONS\n",
      "Train size: 75\n",
      "F1-Score: 0.9867098313170898\n",
      "\n",
      "passes...\n",
      "***************** TRAIN SIZE: 100 *****************\n"
     ]
    },
    {
     "name": "stderr",
     "output_type": "stream",
     "text": [
      "100%|███████████████████████████████████████████████████| 2534/2534 [00:10<00:00, 248.87it/s]\n"
     ]
    },
    {
     "name": "stdout",
     "output_type": "stream",
     "text": [
      "Iteration 0, Current Score: 0,                 Best Feature: trigram-logprobs v-> ada-logprobs v-div trigram-logprobs s-avg, New Score: 1.0\n"
     ]
    },
    {
     "name": "stderr",
     "output_type": "stream",
     "text": [
      "100%|███████████████████████████████████████████████████| 2533/2533 [00:12<00:00, 202.21it/s]"
     ]
    },
    {
     "name": "stdout",
     "output_type": "stream",
     "text": [
      "Iteration 1, Current Score: 1.0,                 Best Feature: davinci-logprobs s-max, New Score: 1.0\n",
      "TRAINING WITHOUT AUGMENTATIONS\n",
      "Train size: 100\n",
      "F1-Score: 0.9820554649265906\n",
      "\n",
      "passes...\n",
      "***************** AUGMENTATION: synonym *****************\n"
     ]
    },
    {
     "name": "stderr",
     "output_type": "stream",
     "text": [
      "\n"
     ]
    },
    {
     "data": {
      "application/vnd.jupyter.widget-view+json": {
       "model_id": "89d1257cb65244379d04682aa666c946",
       "version_major": 2,
       "version_minor": 0
      },
      "text/plain": [
       "  0%|          | 0/5 [00:00<?, ?it/s]"
      ]
     },
     "metadata": {},
     "output_type": "display_data"
    },
    {
     "name": "stdout",
     "output_type": "stream",
     "text": [
      "***************** TRAIN SIZE: 10 *****************\n"
     ]
    },
    {
     "name": "stderr",
     "output_type": "stream",
     "text": [
      "100%|███████████████████████████████████████████████████| 2534/2534 [00:09<00:00, 258.98it/s]\n"
     ]
    },
    {
     "name": "stdout",
     "output_type": "stream",
     "text": [
      "Iteration 0, Current Score: 0,                 Best Feature: davinci-logprobs v-div trigram-logprobs v-div unigram-logprobs s-min, New Score: 1.0\n"
     ]
    },
    {
     "name": "stderr",
     "output_type": "stream",
     "text": [
      "100%|███████████████████████████████████████████████████| 2533/2533 [00:11<00:00, 222.06it/s]\n"
     ]
    },
    {
     "name": "stdout",
     "output_type": "stream",
     "text": [
      "Iteration 1, Current Score: 1.0,                 Best Feature: davinci-logprobs s-min, New Score: 1.0\n",
      "TRAINING WITH synonym AUGMENTED DATA.\n",
      "Train size: 10\n",
      "F1-Score: 0.6237771895500057\n",
      "\n",
      "passes...\n",
      "***************** TRAIN SIZE: 25 *****************\n"
     ]
    },
    {
     "name": "stderr",
     "output_type": "stream",
     "text": [
      "100%|███████████████████████████████████████████████████| 2534/2534 [00:09<00:00, 258.97it/s]\n"
     ]
    },
    {
     "name": "stdout",
     "output_type": "stream",
     "text": [
      "Iteration 0, Current Score: 0,                 Best Feature: trigram-logprobs v-> ada-logprobs s-avg, New Score: 1.0\n"
     ]
    },
    {
     "name": "stderr",
     "output_type": "stream",
     "text": [
      "100%|███████████████████████████████████████████████████| 2533/2533 [00:11<00:00, 216.09it/s]\n"
     ]
    },
    {
     "name": "stdout",
     "output_type": "stream",
     "text": [
      "Iteration 1, Current Score: 1.0,                 Best Feature: davinci-logprobs s-avg, New Score: 1.0\n",
      "TRAINING WITH synonym AUGMENTED DATA.\n",
      "Train size: 25\n",
      "F1-Score: 0.973219667613881\n",
      "\n",
      "passes...\n",
      "***************** TRAIN SIZE: 50 *****************\n"
     ]
    },
    {
     "name": "stderr",
     "output_type": "stream",
     "text": [
      "100%|███████████████████████████████████████████████████| 2534/2534 [00:09<00:00, 254.26it/s]\n"
     ]
    },
    {
     "name": "stdout",
     "output_type": "stream",
     "text": [
      "Iteration 0, Current Score: 0,                 Best Feature: trigram-logprobs v-> davinci-logprobs s-avg, New Score: 1.0\n"
     ]
    },
    {
     "name": "stderr",
     "output_type": "stream",
     "text": [
      "100%|███████████████████████████████████████████████████| 2533/2533 [00:11<00:00, 214.18it/s]\n"
     ]
    },
    {
     "name": "stdout",
     "output_type": "stream",
     "text": [
      "Iteration 1, Current Score: 1.0,                 Best Feature: davinci-logprobs s-max, New Score: 1.0\n",
      "TRAINING WITH synonym AUGMENTED DATA.\n",
      "Train size: 50\n",
      "F1-Score: 0.9330944917151813\n",
      "\n",
      "passes...\n",
      "***************** TRAIN SIZE: 75 *****************\n"
     ]
    },
    {
     "name": "stderr",
     "output_type": "stream",
     "text": [
      "100%|███████████████████████████████████████████████████| 2534/2534 [00:10<00:00, 251.78it/s]\n"
     ]
    },
    {
     "name": "stdout",
     "output_type": "stream",
     "text": [
      "Iteration 0, Current Score: 0,                 Best Feature: trigram-logprobs v-> davinci-logprobs s-avg, New Score: 1.0\n"
     ]
    },
    {
     "name": "stderr",
     "output_type": "stream",
     "text": [
      "100%|███████████████████████████████████████████████████| 2533/2533 [00:12<00:00, 207.48it/s]\n"
     ]
    },
    {
     "name": "stdout",
     "output_type": "stream",
     "text": [
      "Iteration 1, Current Score: 1.0,                 Best Feature: davinci-logprobs s-max, New Score: 1.0\n",
      "TRAINING WITH synonym AUGMENTED DATA.\n",
      "Train size: 75\n",
      "F1-Score: 0.9445136048372754\n",
      "\n",
      "passes...\n",
      "***************** TRAIN SIZE: 100 *****************\n"
     ]
    },
    {
     "name": "stderr",
     "output_type": "stream",
     "text": [
      "100%|███████████████████████████████████████████████████| 2534/2534 [00:10<00:00, 250.25it/s]\n"
     ]
    },
    {
     "name": "stdout",
     "output_type": "stream",
     "text": [
      "Iteration 0, Current Score: 0,                 Best Feature: trigram-logprobs v-> davinci-logprobs s-avg, New Score: 1.0\n"
     ]
    },
    {
     "name": "stderr",
     "output_type": "stream",
     "text": [
      "100%|███████████████████████████████████████████████████| 2533/2533 [00:12<00:00, 204.45it/s]"
     ]
    },
    {
     "name": "stdout",
     "output_type": "stream",
     "text": [
      "Iteration 1, Current Score: 1.0,                 Best Feature: davinci-logprobs s-max, New Score: 1.0\n",
      "TRAINING WITH synonym AUGMENTED DATA.\n",
      "Train size: 100\n",
      "F1-Score: 0.9243194192377495\n",
      "\n",
      "passes...\n",
      "***************** AUGMENTATION: back *****************\n"
     ]
    },
    {
     "name": "stderr",
     "output_type": "stream",
     "text": [
      "\n"
     ]
    },
    {
     "data": {
      "application/vnd.jupyter.widget-view+json": {
       "model_id": "6a5f340d3fea486eaa4e50df36d3e4b0",
       "version_major": 2,
       "version_minor": 0
      },
      "text/plain": [
       "  0%|          | 0/5 [00:00<?, ?it/s]"
      ]
     },
     "metadata": {},
     "output_type": "display_data"
    },
    {
     "name": "stdout",
     "output_type": "stream",
     "text": [
      "***************** TRAIN SIZE: 10 *****************\n"
     ]
    },
    {
     "name": "stderr",
     "output_type": "stream",
     "text": [
      "100%|███████████████████████████████████████████████████| 2534/2534 [00:09<00:00, 257.71it/s]\n"
     ]
    },
    {
     "name": "stdout",
     "output_type": "stream",
     "text": [
      "Iteration 0, Current Score: 0,                 Best Feature: davinci-logprobs v-div trigram-logprobs v-div unigram-logprobs s-min, New Score: 1.0\n"
     ]
    },
    {
     "name": "stderr",
     "output_type": "stream",
     "text": [
      "100%|███████████████████████████████████████████████████| 2533/2533 [00:11<00:00, 215.83it/s]\n"
     ]
    },
    {
     "name": "stdout",
     "output_type": "stream",
     "text": [
      "Iteration 1, Current Score: 1.0,                 Best Feature: davinci-logprobs s-min, New Score: 1.0\n",
      "TRAINING WITH back AUGMENTED DATA.\n",
      "Train size: 10\n",
      "F1-Score: 0.7245731254639941\n",
      "\n",
      "passes...\n",
      "***************** TRAIN SIZE: 25 *****************\n"
     ]
    },
    {
     "name": "stderr",
     "output_type": "stream",
     "text": [
      "100%|███████████████████████████████████████████████████| 2534/2534 [00:09<00:00, 256.69it/s]\n"
     ]
    },
    {
     "name": "stdout",
     "output_type": "stream",
     "text": [
      "Iteration 0, Current Score: 0,                 Best Feature: trigram-logprobs v-> ada-logprobs s-avg, New Score: 1.0\n"
     ]
    },
    {
     "name": "stderr",
     "output_type": "stream",
     "text": [
      "100%|███████████████████████████████████████████████████| 2533/2533 [00:11<00:00, 214.51it/s]\n"
     ]
    },
    {
     "name": "stdout",
     "output_type": "stream",
     "text": [
      "Iteration 1, Current Score: 1.0,                 Best Feature: davinci-logprobs s-avg, New Score: 1.0\n",
      "TRAINING WITH back AUGMENTED DATA.\n",
      "Train size: 25\n",
      "F1-Score: 0.9748087008855645\n",
      "\n",
      "passes...\n",
      "***************** TRAIN SIZE: 50 *****************\n"
     ]
    },
    {
     "name": "stderr",
     "output_type": "stream",
     "text": [
      "100%|███████████████████████████████████████████████████| 2534/2534 [00:10<00:00, 249.21it/s]\n"
     ]
    },
    {
     "name": "stdout",
     "output_type": "stream",
     "text": [
      "Iteration 0, Current Score: 0,                 Best Feature: trigram-logprobs v-> davinci-logprobs s-avg, New Score: 1.0\n"
     ]
    },
    {
     "name": "stderr",
     "output_type": "stream",
     "text": [
      "100%|███████████████████████████████████████████████████| 2533/2533 [00:12<00:00, 208.52it/s]\n"
     ]
    },
    {
     "name": "stdout",
     "output_type": "stream",
     "text": [
      "Iteration 1, Current Score: 1.0,                 Best Feature: davinci-logprobs s-max, New Score: 1.0\n",
      "TRAINING WITH back AUGMENTED DATA.\n",
      "Train size: 50\n",
      "F1-Score: 0.9513589585715543\n",
      "\n",
      "passes...\n",
      "***************** TRAIN SIZE: 75 *****************\n"
     ]
    },
    {
     "name": "stderr",
     "output_type": "stream",
     "text": [
      "100%|███████████████████████████████████████████████████| 2534/2534 [00:10<00:00, 241.67it/s]\n"
     ]
    },
    {
     "name": "stdout",
     "output_type": "stream",
     "text": [
      "Iteration 0, Current Score: 0,                 Best Feature: trigram-logprobs v-> davinci-logprobs s-avg, New Score: 1.0\n"
     ]
    },
    {
     "name": "stderr",
     "output_type": "stream",
     "text": [
      "100%|███████████████████████████████████████████████████| 2533/2533 [00:13<00:00, 193.46it/s]\n"
     ]
    },
    {
     "name": "stdout",
     "output_type": "stream",
     "text": [
      "Iteration 1, Current Score: 1.0,                 Best Feature: davinci-logprobs s-max, New Score: 1.0\n",
      "TRAINING WITH back AUGMENTED DATA.\n",
      "Train size: 75\n",
      "F1-Score: 0.9162633549447539\n",
      "\n",
      "passes...\n",
      "***************** TRAIN SIZE: 100 *****************\n"
     ]
    },
    {
     "name": "stderr",
     "output_type": "stream",
     "text": [
      "100%|███████████████████████████████████████████████████| 2534/2534 [00:10<00:00, 243.51it/s]\n"
     ]
    },
    {
     "name": "stdout",
     "output_type": "stream",
     "text": [
      "Iteration 0, Current Score: 0,                 Best Feature: trigram-logprobs v-> davinci-logprobs s-avg, New Score: 1.0\n"
     ]
    },
    {
     "name": "stderr",
     "output_type": "stream",
     "text": [
      "100%|███████████████████████████████████████████████████| 2533/2533 [00:12<00:00, 196.01it/s]"
     ]
    },
    {
     "name": "stdout",
     "output_type": "stream",
     "text": [
      "Iteration 1, Current Score: 1.0,                 Best Feature: davinci-logprobs s-max, New Score: 1.0\n",
      "TRAINING WITH back AUGMENTED DATA.\n",
      "Train size: 100\n",
      "F1-Score: 0.913410383415887\n",
      "\n",
      "passes...\n",
      "***************** AUGMENTATION: emotion *****************\n"
     ]
    },
    {
     "name": "stderr",
     "output_type": "stream",
     "text": [
      "\n"
     ]
    },
    {
     "data": {
      "application/vnd.jupyter.widget-view+json": {
       "model_id": "c30193a709694ff191082aeb6783f845",
       "version_major": 2,
       "version_minor": 0
      },
      "text/plain": [
       "  0%|          | 0/5 [00:00<?, ?it/s]"
      ]
     },
     "metadata": {},
     "output_type": "display_data"
    },
    {
     "name": "stdout",
     "output_type": "stream",
     "text": [
      "***************** TRAIN SIZE: 10 *****************\n"
     ]
    },
    {
     "name": "stderr",
     "output_type": "stream",
     "text": [
      "100%|███████████████████████████████████████████████████| 2534/2534 [00:09<00:00, 256.29it/s]\n"
     ]
    },
    {
     "name": "stdout",
     "output_type": "stream",
     "text": [
      "Iteration 0, Current Score: 0,                 Best Feature: davinci-logprobs v-div trigram-logprobs v-div unigram-logprobs s-min, New Score: 1.0\n"
     ]
    },
    {
     "name": "stderr",
     "output_type": "stream",
     "text": [
      "100%|███████████████████████████████████████████████████| 2533/2533 [00:11<00:00, 224.33it/s]\n"
     ]
    },
    {
     "name": "stdout",
     "output_type": "stream",
     "text": [
      "Iteration 1, Current Score: 1.0,                 Best Feature: davinci-logprobs s-min, New Score: 1.0\n",
      "TRAINING WITH emotion AUGMENTED DATA.\n",
      "Train size: 10\n",
      "F1-Score: 0.6653434777814533\n",
      "\n",
      "passes...\n",
      "***************** TRAIN SIZE: 25 *****************\n"
     ]
    },
    {
     "name": "stderr",
     "output_type": "stream",
     "text": [
      "100%|███████████████████████████████████████████████████| 2534/2534 [00:09<00:00, 260.93it/s]\n"
     ]
    },
    {
     "name": "stdout",
     "output_type": "stream",
     "text": [
      "Iteration 0, Current Score: 0,                 Best Feature: trigram-logprobs v-> ada-logprobs s-avg, New Score: 1.0\n"
     ]
    },
    {
     "name": "stderr",
     "output_type": "stream",
     "text": [
      "100%|███████████████████████████████████████████████████| 2533/2533 [00:11<00:00, 212.02it/s]\n"
     ]
    },
    {
     "name": "stdout",
     "output_type": "stream",
     "text": [
      "Iteration 1, Current Score: 1.0,                 Best Feature: davinci-logprobs s-avg, New Score: 1.0\n",
      "TRAINING WITH emotion AUGMENTED DATA.\n",
      "Train size: 25\n",
      "F1-Score: 0.9572440325260121\n",
      "\n",
      "passes...\n",
      "***************** TRAIN SIZE: 50 *****************\n"
     ]
    },
    {
     "name": "stderr",
     "output_type": "stream",
     "text": [
      "100%|███████████████████████████████████████████████████| 2534/2534 [00:09<00:00, 258.11it/s]\n"
     ]
    },
    {
     "name": "stdout",
     "output_type": "stream",
     "text": [
      "Iteration 0, Current Score: 0,                 Best Feature: trigram-logprobs v-> davinci-logprobs s-avg, New Score: 1.0\n"
     ]
    },
    {
     "name": "stderr",
     "output_type": "stream",
     "text": [
      "100%|███████████████████████████████████████████████████| 2533/2533 [00:11<00:00, 215.92it/s]\n"
     ]
    },
    {
     "name": "stdout",
     "output_type": "stream",
     "text": [
      "Iteration 1, Current Score: 1.0,                 Best Feature: davinci-logprobs s-max, New Score: 1.0\n",
      "TRAINING WITH emotion AUGMENTED DATA.\n",
      "Train size: 50\n",
      "F1-Score: 0.9389537474378398\n",
      "\n",
      "passes...\n",
      "***************** TRAIN SIZE: 75 *****************\n"
     ]
    },
    {
     "name": "stderr",
     "output_type": "stream",
     "text": [
      "100%|███████████████████████████████████████████████████| 2534/2534 [00:09<00:00, 255.62it/s]\n"
     ]
    },
    {
     "name": "stdout",
     "output_type": "stream",
     "text": [
      "Iteration 0, Current Score: 0,                 Best Feature: trigram-logprobs v-> davinci-logprobs s-avg, New Score: 1.0\n"
     ]
    },
    {
     "name": "stderr",
     "output_type": "stream",
     "text": [
      "100%|███████████████████████████████████████████████████| 2533/2533 [00:12<00:00, 208.30it/s]\n"
     ]
    },
    {
     "name": "stdout",
     "output_type": "stream",
     "text": [
      "Iteration 1, Current Score: 1.0,                 Best Feature: davinci-logprobs s-max, New Score: 1.0\n",
      "TRAINING WITH emotion AUGMENTED DATA.\n",
      "Train size: 75\n",
      "F1-Score: 0.9462461128387384\n",
      "\n",
      "passes...\n",
      "***************** TRAIN SIZE: 100 *****************\n"
     ]
    },
    {
     "name": "stderr",
     "output_type": "stream",
     "text": [
      "100%|███████████████████████████████████████████████████| 2534/2534 [00:10<00:00, 250.70it/s]\n"
     ]
    },
    {
     "name": "stdout",
     "output_type": "stream",
     "text": [
      "Iteration 0, Current Score: 0,                 Best Feature: trigram-logprobs v-> davinci-logprobs s-avg, New Score: 1.0\n"
     ]
    },
    {
     "name": "stderr",
     "output_type": "stream",
     "text": [
      "100%|███████████████████████████████████████████████████| 2533/2533 [00:12<00:00, 202.79it/s]"
     ]
    },
    {
     "name": "stdout",
     "output_type": "stream",
     "text": [
      "Iteration 1, Current Score: 1.0,                 Best Feature: davinci-logprobs s-max, New Score: 1.0\n",
      "TRAINING WITH emotion AUGMENTED DATA.\n",
      "Train size: 100\n",
      "F1-Score: 0.9341252699784017\n",
      "\n",
      "passes...\n",
      "***************** AUGMENTATION: style *****************\n"
     ]
    },
    {
     "name": "stderr",
     "output_type": "stream",
     "text": [
      "\n"
     ]
    },
    {
     "data": {
      "application/vnd.jupyter.widget-view+json": {
       "model_id": "9ea0efb3415444f9a0d9568200b92364",
       "version_major": 2,
       "version_minor": 0
      },
      "text/plain": [
       "  0%|          | 0/5 [00:00<?, ?it/s]"
      ]
     },
     "metadata": {},
     "output_type": "display_data"
    },
    {
     "name": "stdout",
     "output_type": "stream",
     "text": [
      "***************** TRAIN SIZE: 10 *****************\n"
     ]
    },
    {
     "name": "stderr",
     "output_type": "stream",
     "text": [
      "100%|███████████████████████████████████████████████████| 2534/2534 [00:09<00:00, 262.32it/s]\n"
     ]
    },
    {
     "name": "stdout",
     "output_type": "stream",
     "text": [
      "Iteration 0, Current Score: 0,                 Best Feature: davinci-logprobs v-div trigram-logprobs v-div unigram-logprobs s-min, New Score: 1.0\n"
     ]
    },
    {
     "name": "stderr",
     "output_type": "stream",
     "text": [
      "100%|███████████████████████████████████████████████████| 2533/2533 [00:11<00:00, 224.68it/s]\n"
     ]
    },
    {
     "name": "stdout",
     "output_type": "stream",
     "text": [
      "Iteration 1, Current Score: 1.0,                 Best Feature: davinci-logprobs s-min, New Score: 1.0\n",
      "TRAINING WITH style AUGMENTED DATA.\n",
      "Train size: 10\n",
      "F1-Score: 0.6417353971302677\n",
      "\n",
      "passes...\n",
      "***************** TRAIN SIZE: 25 *****************\n"
     ]
    },
    {
     "name": "stderr",
     "output_type": "stream",
     "text": [
      "100%|███████████████████████████████████████████████████| 2534/2534 [00:09<00:00, 260.10it/s]\n"
     ]
    },
    {
     "name": "stdout",
     "output_type": "stream",
     "text": [
      "Iteration 0, Current Score: 0,                 Best Feature: trigram-logprobs v-> ada-logprobs s-avg, New Score: 1.0\n"
     ]
    },
    {
     "name": "stderr",
     "output_type": "stream",
     "text": [
      "100%|███████████████████████████████████████████████████| 2533/2533 [00:11<00:00, 218.02it/s]\n"
     ]
    },
    {
     "name": "stdout",
     "output_type": "stream",
     "text": [
      "Iteration 1, Current Score: 1.0,                 Best Feature: davinci-logprobs s-avg, New Score: 1.0\n",
      "TRAINING WITH style AUGMENTED DATA.\n",
      "Train size: 25\n",
      "F1-Score: 0.9163346613545816\n",
      "\n",
      "passes...\n",
      "***************** TRAIN SIZE: 50 *****************\n"
     ]
    },
    {
     "name": "stderr",
     "output_type": "stream",
     "text": [
      "100%|███████████████████████████████████████████████████| 2534/2534 [00:09<00:00, 257.80it/s]\n"
     ]
    },
    {
     "name": "stdout",
     "output_type": "stream",
     "text": [
      "Iteration 0, Current Score: 0,                 Best Feature: trigram-logprobs v-> davinci-logprobs s-avg, New Score: 1.0\n"
     ]
    },
    {
     "name": "stderr",
     "output_type": "stream",
     "text": [
      "100%|███████████████████████████████████████████████████| 2533/2533 [00:11<00:00, 214.47it/s]\n"
     ]
    },
    {
     "name": "stdout",
     "output_type": "stream",
     "text": [
      "Iteration 1, Current Score: 1.0,                 Best Feature: davinci-logprobs s-max, New Score: 1.0\n",
      "TRAINING WITH style AUGMENTED DATA.\n",
      "Train size: 50\n",
      "F1-Score: 0.9467162329615861\n",
      "\n",
      "passes...\n",
      "***************** TRAIN SIZE: 75 *****************\n"
     ]
    },
    {
     "name": "stderr",
     "output_type": "stream",
     "text": [
      "100%|███████████████████████████████████████████████████| 2534/2534 [00:09<00:00, 255.52it/s]\n"
     ]
    },
    {
     "name": "stdout",
     "output_type": "stream",
     "text": [
      "Iteration 0, Current Score: 0,                 Best Feature: trigram-logprobs v-> davinci-logprobs s-avg, New Score: 1.0\n"
     ]
    },
    {
     "name": "stderr",
     "output_type": "stream",
     "text": [
      "100%|███████████████████████████████████████████████████| 2533/2533 [00:12<00:00, 209.43it/s]\n"
     ]
    },
    {
     "name": "stdout",
     "output_type": "stream",
     "text": [
      "Iteration 1, Current Score: 1.0,                 Best Feature: davinci-logprobs s-max, New Score: 1.0\n",
      "TRAINING WITH style AUGMENTED DATA.\n",
      "Train size: 75\n",
      "F1-Score: 0.9527677231394014\n",
      "\n",
      "passes...\n",
      "***************** TRAIN SIZE: 100 *****************\n"
     ]
    },
    {
     "name": "stderr",
     "output_type": "stream",
     "text": [
      "100%|███████████████████████████████████████████████████| 2534/2534 [00:10<00:00, 246.93it/s]\n"
     ]
    },
    {
     "name": "stdout",
     "output_type": "stream",
     "text": [
      "Iteration 0, Current Score: 0,                 Best Feature: trigram-logprobs v-> davinci-logprobs s-avg, New Score: 1.0\n"
     ]
    },
    {
     "name": "stderr",
     "output_type": "stream",
     "text": [
      "100%|███████████████████████████████████████████████████| 2533/2533 [00:12<00:00, 201.73it/s]"
     ]
    },
    {
     "name": "stdout",
     "output_type": "stream",
     "text": [
      "Iteration 1, Current Score: 1.0,                 Best Feature: davinci-logprobs s-max, New Score: 1.0\n",
      "TRAINING WITH style AUGMENTED DATA.\n",
      "Train size: 100\n",
      "F1-Score: 0.9376625706341376\n",
      "\n",
      "passes...\n",
      "***************** AUGMENTATION: summary *****************\n"
     ]
    },
    {
     "name": "stderr",
     "output_type": "stream",
     "text": [
      "\n"
     ]
    },
    {
     "data": {
      "application/vnd.jupyter.widget-view+json": {
       "model_id": "e85dce378ce242f6b9a684b347e60b99",
       "version_major": 2,
       "version_minor": 0
      },
      "text/plain": [
       "  0%|          | 0/5 [00:00<?, ?it/s]"
      ]
     },
     "metadata": {},
     "output_type": "display_data"
    },
    {
     "name": "stdout",
     "output_type": "stream",
     "text": [
      "***************** TRAIN SIZE: 10 *****************\n"
     ]
    },
    {
     "name": "stderr",
     "output_type": "stream",
     "text": [
      "100%|███████████████████████████████████████████████████| 2534/2534 [00:09<00:00, 258.15it/s]\n"
     ]
    },
    {
     "name": "stdout",
     "output_type": "stream",
     "text": [
      "Iteration 0, Current Score: 0,                 Best Feature: davinci-logprobs v-div trigram-logprobs v-div unigram-logprobs s-min, New Score: 1.0\n"
     ]
    },
    {
     "name": "stderr",
     "output_type": "stream",
     "text": [
      "100%|███████████████████████████████████████████████████| 2533/2533 [00:11<00:00, 220.40it/s]\n"
     ]
    },
    {
     "name": "stdout",
     "output_type": "stream",
     "text": [
      "Iteration 1, Current Score: 1.0,                 Best Feature: davinci-logprobs s-min, New Score: 1.0\n",
      "TRAINING WITH summary AUGMENTED DATA.\n",
      "Train size: 10\n",
      "F1-Score: 0.6743261157755193\n",
      "\n",
      "passes...\n",
      "***************** TRAIN SIZE: 25 *****************\n"
     ]
    },
    {
     "name": "stderr",
     "output_type": "stream",
     "text": [
      "100%|███████████████████████████████████████████████████| 2534/2534 [00:09<00:00, 257.06it/s]\n"
     ]
    },
    {
     "name": "stdout",
     "output_type": "stream",
     "text": [
      "Iteration 0, Current Score: 0,                 Best Feature: trigram-logprobs v-> ada-logprobs s-avg, New Score: 1.0\n"
     ]
    },
    {
     "name": "stderr",
     "output_type": "stream",
     "text": [
      "100%|███████████████████████████████████████████████████| 2533/2533 [00:11<00:00, 216.20it/s]\n"
     ]
    },
    {
     "name": "stdout",
     "output_type": "stream",
     "text": [
      "Iteration 1, Current Score: 1.0,                 Best Feature: davinci-logprobs s-avg, New Score: 1.0\n",
      "TRAINING WITH summary AUGMENTED DATA.\n",
      "Train size: 25\n",
      "F1-Score: 0.9593170136771496\n",
      "\n",
      "passes...\n",
      "***************** TRAIN SIZE: 50 *****************\n"
     ]
    },
    {
     "name": "stderr",
     "output_type": "stream",
     "text": [
      "100%|███████████████████████████████████████████████████| 2534/2534 [00:09<00:00, 253.40it/s]\n"
     ]
    },
    {
     "name": "stdout",
     "output_type": "stream",
     "text": [
      "Iteration 0, Current Score: 0,                 Best Feature: trigram-logprobs v-> davinci-logprobs s-avg, New Score: 1.0\n"
     ]
    },
    {
     "name": "stderr",
     "output_type": "stream",
     "text": [
      "100%|███████████████████████████████████████████████████| 2533/2533 [00:11<00:00, 212.00it/s]\n"
     ]
    },
    {
     "name": "stdout",
     "output_type": "stream",
     "text": [
      "Iteration 1, Current Score: 1.0,                 Best Feature: davinci-logprobs s-max, New Score: 1.0\n",
      "TRAINING WITH summary AUGMENTED DATA.\n",
      "Train size: 50\n",
      "F1-Score: 0.9430272864634255\n",
      "\n",
      "passes...\n",
      "***************** TRAIN SIZE: 75 *****************\n"
     ]
    },
    {
     "name": "stderr",
     "output_type": "stream",
     "text": [
      "100%|███████████████████████████████████████████████████| 2534/2534 [00:10<00:00, 241.67it/s]\n"
     ]
    },
    {
     "name": "stdout",
     "output_type": "stream",
     "text": [
      "Iteration 0, Current Score: 0,                 Best Feature: trigram-logprobs v-> davinci-logprobs s-avg, New Score: 1.0\n"
     ]
    },
    {
     "name": "stderr",
     "output_type": "stream",
     "text": [
      "100%|███████████████████████████████████████████████████| 2533/2533 [00:12<00:00, 200.11it/s]\n"
     ]
    },
    {
     "name": "stdout",
     "output_type": "stream",
     "text": [
      "Iteration 1, Current Score: 1.0,                 Best Feature: davinci-logprobs s-max, New Score: 1.0\n",
      "TRAINING WITH summary AUGMENTED DATA.\n",
      "Train size: 75\n",
      "F1-Score: 0.9242753623188406\n",
      "\n",
      "passes...\n",
      "***************** TRAIN SIZE: 100 *****************\n"
     ]
    },
    {
     "name": "stderr",
     "output_type": "stream",
     "text": [
      "100%|███████████████████████████████████████████████████| 2534/2534 [00:10<00:00, 239.17it/s]\n"
     ]
    },
    {
     "name": "stdout",
     "output_type": "stream",
     "text": [
      "Iteration 0, Current Score: 0,                 Best Feature: trigram-logprobs v-> davinci-logprobs s-avg, New Score: 1.0\n"
     ]
    },
    {
     "name": "stderr",
     "output_type": "stream",
     "text": [
      "100%|███████████████████████████████████████████████████| 2533/2533 [00:12<00:00, 198.10it/s]\n"
     ]
    },
    {
     "name": "stdout",
     "output_type": "stream",
     "text": [
      "Iteration 1, Current Score: 1.0,                 Best Feature: davinci-logprobs s-max, New Score: 1.0\n",
      "TRAINING WITH summary AUGMENTED DATA.\n",
      "Train size: 100\n",
      "F1-Score: 0.9357880556802873\n",
      "\n",
      "passes...\n"
     ]
    },
    {
     "data": {
      "image/png": "[encoded data removed]",
      "text/plain": [
       "<Figure size 640x480 with 1 Axes>"
      ]
     },
     "metadata": {},
     "output_type": "display_data"
    },
    {
     "name": "stdout",
     "output_type": "stream",
     "text": [
      "**************** SEED 78 ****************\n",
      "***************** AUGMENTATION: baseline *****************\n"
     ]
    },
    {
     "data": {
      "application/vnd.jupyter.widget-view+json": {
       "model_id": "e6e8ef576ad141e8a762ff0e08f795c1",
       "version_major": 2,
       "version_minor": 0
      },
      "text/plain": [
       "  0%|          | 0/5 [00:00<?, ?it/s]"
      ]
     },
     "metadata": {},
     "output_type": "display_data"
    },
    {
     "name": "stdout",
     "output_type": "stream",
     "text": [
      "***************** TRAIN SIZE: 10 *****************\n"
     ]
    },
    {
     "name": "stderr",
     "output_type": "stream",
     "text": [
      "100%|███████████████████████████████████████████████████| 2534/2534 [00:09<00:00, 253.64it/s]\n"
     ]
    },
    {
     "name": "stdout",
     "output_type": "stream",
     "text": [
      "Iteration 0, Current Score: 0,                 Best Feature: davinci-logprobs v-div trigram-logprobs v-> ada-logprobs s-min, New Score: 1.0\n"
     ]
    },
    {
     "name": "stderr",
     "output_type": "stream",
     "text": [
      "100%|███████████████████████████████████████████████████| 2533/2533 [00:11<00:00, 220.42it/s]\n"
     ]
    },
    {
     "name": "stdout",
     "output_type": "stream",
     "text": [
      "Iteration 1, Current Score: 1.0,                 Best Feature: davinci-logprobs s-max, New Score: 1.0\n",
      "TRAINING WITHOUT AUGMENTATIONS\n",
      "Train size: 10\n",
      "F1-Score: 0.7894736842105263\n",
      "\n",
      "passes...\n",
      "***************** TRAIN SIZE: 25 *****************\n"
     ]
    },
    {
     "name": "stderr",
     "output_type": "stream",
     "text": [
      "100%|███████████████████████████████████████████████████| 2534/2534 [00:09<00:00, 253.70it/s]\n"
     ]
    },
    {
     "name": "stdout",
     "output_type": "stream",
     "text": [
      "Iteration 0, Current Score: 0,                 Best Feature: unigram-logprobs v-> davinci-logprobs s-avg-top-25, New Score: 1.0\n"
     ]
    },
    {
     "name": "stderr",
     "output_type": "stream",
     "text": [
      "100%|███████████████████████████████████████████████████| 2533/2533 [00:11<00:00, 212.04it/s]\n"
     ]
    },
    {
     "name": "stdout",
     "output_type": "stream",
     "text": [
      "Iteration 1, Current Score: 1.0,                 Best Feature: davinci-logprobs s-max, New Score: 1.0\n",
      "TRAINING WITHOUT AUGMENTATIONS\n",
      "Train size: 25\n",
      "F1-Score: 0.9415988092111024\n",
      "\n",
      "passes...\n",
      "***************** TRAIN SIZE: 50 *****************\n"
     ]
    },
    {
     "name": "stderr",
     "output_type": "stream",
     "text": [
      "100%|███████████████████████████████████████████████████| 2534/2534 [00:10<00:00, 253.32it/s]\n"
     ]
    },
    {
     "name": "stdout",
     "output_type": "stream",
     "text": [
      "Iteration 0, Current Score: 0,                 Best Feature: trigram-logprobs v-> ada-logprobs s-avg, New Score: 1.0\n"
     ]
    },
    {
     "name": "stderr",
     "output_type": "stream",
     "text": [
      "100%|███████████████████████████████████████████████████| 2533/2533 [00:11<00:00, 211.64it/s]\n"
     ]
    },
    {
     "name": "stdout",
     "output_type": "stream",
     "text": [
      "Iteration 1, Current Score: 1.0,                 Best Feature: davinci-logprobs s-max, New Score: 1.0\n",
      "TRAINING WITHOUT AUGMENTATIONS\n",
      "Train size: 50\n",
      "F1-Score: 0.9766363167840577\n",
      "\n",
      "passes...\n",
      "***************** TRAIN SIZE: 75 *****************\n"
     ]
    },
    {
     "name": "stderr",
     "output_type": "stream",
     "text": [
      "100%|███████████████████████████████████████████████████| 2534/2534 [00:10<00:00, 249.55it/s]\n"
     ]
    },
    {
     "name": "stdout",
     "output_type": "stream",
     "text": [
      "Iteration 0, Current Score: 0,                 Best Feature: trigram-logprobs v-div ada-logprobs v-> davinci-logprobs s-avg, New Score: 1.0\n"
     ]
    },
    {
     "name": "stderr",
     "output_type": "stream",
     "text": [
      "100%|███████████████████████████████████████████████████| 2533/2533 [00:12<00:00, 205.49it/s]\n"
     ]
    },
    {
     "name": "stdout",
     "output_type": "stream",
     "text": [
      "Iteration 1, Current Score: 1.0,                 Best Feature: davinci-logprobs s-max, New Score: 1.0\n",
      "TRAINING WITHOUT AUGMENTATIONS\n",
      "Train size: 75\n",
      "F1-Score: 0.9851129363449692\n",
      "\n",
      "passes...\n",
      "***************** TRAIN SIZE: 100 *****************\n"
     ]
    },
    {
     "name": "stderr",
     "output_type": "stream",
     "text": [
      "100%|███████████████████████████████████████████████████| 2534/2534 [00:10<00:00, 243.04it/s]\n"
     ]
    },
    {
     "name": "stdout",
     "output_type": "stream",
     "text": [
      "Iteration 0, Current Score: 0,                 Best Feature: trigram-logprobs v-sub ada-logprobs v-> davinci-logprobs s-avg, New Score: 1.0\n"
     ]
    },
    {
     "name": "stderr",
     "output_type": "stream",
     "text": [
      "100%|███████████████████████████████████████████████████| 2533/2533 [00:12<00:00, 202.74it/s]\n"
     ]
    },
    {
     "name": "stdout",
     "output_type": "stream",
     "text": [
      "Iteration 1, Current Score: 1.0,                 Best Feature: davinci-logprobs s-max, New Score: 1.0\n",
      "TRAINING WITHOUT AUGMENTATIONS\n",
      "Train size: 100\n",
      "F1-Score: 0.9817558886509636\n",
      "\n",
      "passes...\n",
      "***************** AUGMENTATION: synonym *****************\n"
     ]
    },
    {
     "data": {
      "application/vnd.jupyter.widget-view+json": {
       "model_id": "e7f09d359ef748c4a42474d93fe0f811",
       "version_major": 2,
       "version_minor": 0
      },
      "text/plain": [
       "  0%|          | 0/5 [00:00<?, ?it/s]"
      ]
     },
     "metadata": {},
     "output_type": "display_data"
    },
    {
     "name": "stdout",
     "output_type": "stream",
     "text": [
      "***************** TRAIN SIZE: 10 *****************\n"
     ]
    },
    {
     "name": "stderr",
     "output_type": "stream",
     "text": [
      "100%|███████████████████████████████████████████████████| 2534/2534 [00:09<00:00, 253.95it/s]\n"
     ]
    },
    {
     "name": "stdout",
     "output_type": "stream",
     "text": [
      "Iteration 0, Current Score: 0,                 Best Feature: davinci-logprobs v-div trigram-logprobs v-> ada-logprobs s-min, New Score: 1.0\n"
     ]
    },
    {
     "name": "stderr",
     "output_type": "stream",
     "text": [
      "100%|███████████████████████████████████████████████████| 2533/2533 [00:11<00:00, 215.43it/s]\n"
     ]
    },
    {
     "name": "stdout",
     "output_type": "stream",
     "text": [
      "Iteration 1, Current Score: 1.0,                 Best Feature: davinci-logprobs s-max, New Score: 1.0\n",
      "TRAINING WITH synonym AUGMENTED DATA.\n",
      "Train size: 10\n",
      "F1-Score: 0.8076161749458007\n",
      "\n",
      "passes...\n",
      "***************** TRAIN SIZE: 25 *****************\n"
     ]
    },
    {
     "name": "stderr",
     "output_type": "stream",
     "text": [
      "100%|███████████████████████████████████████████████████| 2534/2534 [00:10<00:00, 246.28it/s]\n"
     ]
    },
    {
     "name": "stdout",
     "output_type": "stream",
     "text": [
      "Iteration 0, Current Score: 0,                 Best Feature: ada-logprobs s-avg, New Score: 1.0\n"
     ]
    },
    {
     "name": "stderr",
     "output_type": "stream",
     "text": [
      "100%|███████████████████████████████████████████████████| 2533/2533 [00:12<00:00, 211.05it/s]\n"
     ]
    },
    {
     "name": "stdout",
     "output_type": "stream",
     "text": [
      "Iteration 1, Current Score: 1.0,                 Best Feature: davinci-logprobs s-avg, New Score: 1.0\n",
      "TRAINING WITH synonym AUGMENTED DATA.\n",
      "Train size: 25\n",
      "F1-Score: 0.8906438725262473\n",
      "\n",
      "passes...\n",
      "***************** TRAIN SIZE: 50 *****************\n"
     ]
    },
    {
     "name": "stderr",
     "output_type": "stream",
     "text": [
      "100%|███████████████████████████████████████████████████| 2534/2534 [00:10<00:00, 251.83it/s]\n"
     ]
    },
    {
     "name": "stdout",
     "output_type": "stream",
     "text": [
      "Iteration 0, Current Score: 0,                 Best Feature: trigram-logprobs v-> ada-logprobs s-avg, New Score: 1.0\n"
     ]
    },
    {
     "name": "stderr",
     "output_type": "stream",
     "text": [
      "100%|███████████████████████████████████████████████████| 2533/2533 [00:12<00:00, 207.13it/s]\n"
     ]
    },
    {
     "name": "stdout",
     "output_type": "stream",
     "text": [
      "Iteration 1, Current Score: 1.0,                 Best Feature: davinci-logprobs s-max, New Score: 1.0\n",
      "TRAINING WITH synonym AUGMENTED DATA.\n",
      "Train size: 50\n",
      "F1-Score: 0.9353482965215059\n",
      "\n",
      "passes...\n",
      "***************** TRAIN SIZE: 75 *****************\n"
     ]
    },
    {
     "name": "stderr",
     "output_type": "stream",
     "text": [
      "100%|███████████████████████████████████████████████████| 2534/2534 [00:10<00:00, 246.39it/s]\n"
     ]
    },
    {
     "name": "stdout",
     "output_type": "stream",
     "text": [
      "Iteration 0, Current Score: 0,                 Best Feature: trigram-logprobs v-> davinci-logprobs s-avg, New Score: 1.0\n"
     ]
    },
    {
     "name": "stderr",
     "output_type": "stream",
     "text": [
      "100%|███████████████████████████████████████████████████| 2533/2533 [00:12<00:00, 203.01it/s]\n"
     ]
    },
    {
     "name": "stdout",
     "output_type": "stream",
     "text": [
      "Iteration 1, Current Score: 1.0,                 Best Feature: davinci-logprobs s-max, New Score: 1.0\n",
      "TRAINING WITH synonym AUGMENTED DATA.\n",
      "Train size: 75\n",
      "F1-Score: 0.9611412567827762\n",
      "\n",
      "passes...\n",
      "***************** TRAIN SIZE: 100 *****************\n"
     ]
    },
    {
     "name": "stderr",
     "output_type": "stream",
     "text": [
      "100%|███████████████████████████████████████████████████| 2534/2534 [00:10<00:00, 246.43it/s]\n"
     ]
    },
    {
     "name": "stdout",
     "output_type": "stream",
     "text": [
      "Iteration 0, Current Score: 0,                 Best Feature: trigram-logprobs v-> davinci-logprobs s-avg, New Score: 1.0\n"
     ]
    },
    {
     "name": "stderr",
     "output_type": "stream",
     "text": [
      "100%|███████████████████████████████████████████████████| 2533/2533 [00:12<00:00, 203.21it/s]\n"
     ]
    },
    {
     "name": "stdout",
     "output_type": "stream",
     "text": [
      "Iteration 1, Current Score: 1.0,                 Best Feature: davinci-logprobs s-max, New Score: 1.0\n",
      "TRAINING WITH synonym AUGMENTED DATA.\n",
      "Train size: 100\n",
      "F1-Score: 0.9678092918044197\n",
      "\n",
      "passes...\n",
      "***************** AUGMENTATION: back *****************\n"
     ]
    },
    {
     "data": {
      "application/vnd.jupyter.widget-view+json": {
       "model_id": "33d8fa1e8797494ba8591ba7a3053836",
       "version_major": 2,
       "version_minor": 0
      },
      "text/plain": [
       "  0%|          | 0/5 [00:00<?, ?it/s]"
      ]
     },
     "metadata": {},
     "output_type": "display_data"
    },
    {
     "name": "stdout",
     "output_type": "stream",
     "text": [
      "***************** TRAIN SIZE: 10 *****************\n"
     ]
    },
    {
     "name": "stderr",
     "output_type": "stream",
     "text": [
      "100%|███████████████████████████████████████████████████| 2534/2534 [00:09<00:00, 256.31it/s]\n"
     ]
    },
    {
     "name": "stdout",
     "output_type": "stream",
     "text": [
      "Iteration 0, Current Score: 0,                 Best Feature: davinci-logprobs v-div trigram-logprobs v-> ada-logprobs s-min, New Score: 1.0\n"
     ]
    },
    {
     "name": "stderr",
     "output_type": "stream",
     "text": [
      "100%|███████████████████████████████████████████████████| 2533/2533 [00:11<00:00, 220.93it/s]\n"
     ]
    },
    {
     "name": "stdout",
     "output_type": "stream",
     "text": [
      "Iteration 1, Current Score: 1.0,                 Best Feature: davinci-logprobs s-max, New Score: 1.0\n",
      "TRAINING WITH back AUGMENTED DATA.\n",
      "Train size: 10\n",
      "F1-Score: 0.8215061549601738\n",
      "\n",
      "passes...\n",
      "***************** TRAIN SIZE: 25 *****************\n"
     ]
    },
    {
     "name": "stderr",
     "output_type": "stream",
     "text": [
      "100%|███████████████████████████████████████████████████| 2534/2534 [00:10<00:00, 252.83it/s]\n"
     ]
    },
    {
     "name": "stdout",
     "output_type": "stream",
     "text": [
      "Iteration 0, Current Score: 0,                 Best Feature: ada-logprobs s-avg, New Score: 1.0\n"
     ]
    },
    {
     "name": "stderr",
     "output_type": "stream",
     "text": [
      "100%|███████████████████████████████████████████████████| 2533/2533 [00:11<00:00, 213.90it/s]\n"
     ]
    },
    {
     "name": "stdout",
     "output_type": "stream",
     "text": [
      "Iteration 1, Current Score: 1.0,                 Best Feature: davinci-logprobs s-avg, New Score: 1.0\n",
      "TRAINING WITH back AUGMENTED DATA.\n",
      "Train size: 25\n",
      "F1-Score: 0.8994942528735632\n",
      "\n",
      "passes...\n",
      "***************** TRAIN SIZE: 50 *****************\n"
     ]
    },
    {
     "name": "stderr",
     "output_type": "stream",
     "text": [
      "100%|███████████████████████████████████████████████████| 2534/2534 [00:10<00:00, 250.04it/s]\n"
     ]
    },
    {
     "name": "stdout",
     "output_type": "stream",
     "text": [
      "Iteration 0, Current Score: 0,                 Best Feature: trigram-logprobs v-> ada-logprobs s-avg, New Score: 1.0\n"
     ]
    },
    {
     "name": "stderr",
     "output_type": "stream",
     "text": [
      "100%|███████████████████████████████████████████████████| 2533/2533 [00:12<00:00, 205.90it/s]\n"
     ]
    },
    {
     "name": "stdout",
     "output_type": "stream",
     "text": [
      "Iteration 1, Current Score: 1.0,                 Best Feature: davinci-logprobs s-max, New Score: 1.0\n",
      "TRAINING WITH back AUGMENTED DATA.\n",
      "Train size: 50\n",
      "F1-Score: 0.9394047406879344\n",
      "\n",
      "passes...\n",
      "***************** TRAIN SIZE: 75 *****************\n"
     ]
    },
    {
     "name": "stderr",
     "output_type": "stream",
     "text": [
      "100%|███████████████████████████████████████████████████| 2534/2534 [00:10<00:00, 241.57it/s]\n"
     ]
    },
    {
     "name": "stdout",
     "output_type": "stream",
     "text": [
      "Iteration 0, Current Score: 0,                 Best Feature: trigram-logprobs v-> davinci-logprobs s-avg, New Score: 1.0\n"
     ]
    },
    {
     "name": "stderr",
     "output_type": "stream",
     "text": [
      "100%|███████████████████████████████████████████████████| 2533/2533 [00:12<00:00, 203.79it/s]\n"
     ]
    },
    {
     "name": "stdout",
     "output_type": "stream",
     "text": [
      "Iteration 1, Current Score: 1.0,                 Best Feature: davinci-logprobs s-max, New Score: 1.0\n",
      "TRAINING WITH back AUGMENTED DATA.\n",
      "Train size: 75\n",
      "F1-Score: 0.9514391665195127\n",
      "\n",
      "passes...\n",
      "***************** TRAIN SIZE: 100 *****************\n"
     ]
    },
    {
     "name": "stderr",
     "output_type": "stream",
     "text": [
      "100%|███████████████████████████████████████████████████| 2534/2534 [00:10<00:00, 246.41it/s]\n"
     ]
    },
    {
     "name": "stdout",
     "output_type": "stream",
     "text": [
      "Iteration 0, Current Score: 0,                 Best Feature: trigram-logprobs v-> davinci-logprobs s-avg, New Score: 1.0\n"
     ]
    },
    {
     "name": "stderr",
     "output_type": "stream",
     "text": [
      "100%|███████████████████████████████████████████████████| 2533/2533 [00:12<00:00, 205.34it/s]"
     ]
    },
    {
     "name": "stdout",
     "output_type": "stream",
     "text": [
      "Iteration 1, Current Score: 1.0,                 Best Feature: davinci-logprobs s-max, New Score: 1.0\n",
      "TRAINING WITH back AUGMENTED DATA.\n",
      "Train size: 100\n",
      "F1-Score: 0.9330212459488657\n",
      "\n",
      "passes...\n",
      "***************** AUGMENTATION: emotion *****************\n"
     ]
    },
    {
     "name": "stderr",
     "output_type": "stream",
     "text": [
      "\n"
     ]
    },
    {
     "data": {
      "application/vnd.jupyter.widget-view+json": {
       "model_id": "c733f8a6f8724041bcfe9a5ae1e1eac8",
       "version_major": 2,
       "version_minor": 0
      },
      "text/plain": [
       "  0%|          | 0/5 [00:00<?, ?it/s]"
      ]
     },
     "metadata": {},
     "output_type": "display_data"
    },
    {
     "name": "stdout",
     "output_type": "stream",
     "text": [
      "***************** TRAIN SIZE: 10 *****************\n"
     ]
    },
    {
     "name": "stderr",
     "output_type": "stream",
     "text": [
      "100%|███████████████████████████████████████████████████| 2534/2534 [00:09<00:00, 256.58it/s]\n"
     ]
    },
    {
     "name": "stdout",
     "output_type": "stream",
     "text": [
      "Iteration 0, Current Score: 0,                 Best Feature: davinci-logprobs v-div trigram-logprobs v-> ada-logprobs s-min, New Score: 1.0\n"
     ]
    },
    {
     "name": "stderr",
     "output_type": "stream",
     "text": [
      "100%|███████████████████████████████████████████████████| 2533/2533 [00:11<00:00, 222.16it/s]\n"
     ]
    },
    {
     "name": "stdout",
     "output_type": "stream",
     "text": [
      "Iteration 1, Current Score: 1.0,                 Best Feature: davinci-logprobs s-max, New Score: 1.0\n",
      "TRAINING WITH emotion AUGMENTED DATA.\n",
      "Train size: 10\n",
      "F1-Score: 0.8027363883422359\n",
      "\n",
      "passes...\n",
      "***************** TRAIN SIZE: 25 *****************\n"
     ]
    },
    {
     "name": "stderr",
     "output_type": "stream",
     "text": [
      "100%|███████████████████████████████████████████████████| 2534/2534 [00:10<00:00, 246.70it/s]\n"
     ]
    },
    {
     "name": "stdout",
     "output_type": "stream",
     "text": [
      "Iteration 0, Current Score: 0,                 Best Feature: ada-logprobs s-avg, New Score: 1.0\n"
     ]
    },
    {
     "name": "stderr",
     "output_type": "stream",
     "text": [
      "100%|███████████████████████████████████████████████████| 2533/2533 [00:11<00:00, 212.99it/s]\n"
     ]
    },
    {
     "name": "stdout",
     "output_type": "stream",
     "text": [
      "Iteration 1, Current Score: 1.0,                 Best Feature: davinci-logprobs s-avg, New Score: 1.0\n",
      "TRAINING WITH emotion AUGMENTED DATA.\n",
      "Train size: 25\n",
      "F1-Score: 0.9114682647779897\n",
      "\n",
      "passes...\n",
      "***************** TRAIN SIZE: 50 *****************\n"
     ]
    },
    {
     "name": "stderr",
     "output_type": "stream",
     "text": [
      "100%|███████████████████████████████████████████████████| 2534/2534 [00:10<00:00, 250.46it/s]\n"
     ]
    },
    {
     "name": "stdout",
     "output_type": "stream",
     "text": [
      "Iteration 0, Current Score: 0,                 Best Feature: trigram-logprobs v-> ada-logprobs s-avg, New Score: 1.0\n"
     ]
    },
    {
     "name": "stderr",
     "output_type": "stream",
     "text": [
      "100%|███████████████████████████████████████████████████| 2533/2533 [00:12<00:00, 207.22it/s]\n"
     ]
    },
    {
     "name": "stdout",
     "output_type": "stream",
     "text": [
      "Iteration 1, Current Score: 1.0,                 Best Feature: davinci-logprobs s-max, New Score: 1.0\n",
      "TRAINING WITH emotion AUGMENTED DATA.\n",
      "Train size: 50\n",
      "F1-Score: 0.9303076509103956\n",
      "\n",
      "passes...\n",
      "***************** TRAIN SIZE: 75 *****************\n"
     ]
    },
    {
     "name": "stderr",
     "output_type": "stream",
     "text": [
      "100%|███████████████████████████████████████████████████| 2534/2534 [00:10<00:00, 246.31it/s]\n"
     ]
    },
    {
     "name": "stdout",
     "output_type": "stream",
     "text": [
      "Iteration 0, Current Score: 0,                 Best Feature: trigram-logprobs v-> davinci-logprobs s-avg, New Score: 1.0\n"
     ]
    },
    {
     "name": "stderr",
     "output_type": "stream",
     "text": [
      "100%|███████████████████████████████████████████████████| 2533/2533 [00:12<00:00, 202.86it/s]\n"
     ]
    },
    {
     "name": "stdout",
     "output_type": "stream",
     "text": [
      "Iteration 1, Current Score: 1.0,                 Best Feature: davinci-logprobs s-max, New Score: 1.0\n",
      "TRAINING WITH emotion AUGMENTED DATA.\n",
      "Train size: 75\n",
      "F1-Score: 0.9611548556430446\n",
      "\n",
      "passes...\n",
      "***************** TRAIN SIZE: 100 *****************\n"
     ]
    },
    {
     "name": "stderr",
     "output_type": "stream",
     "text": [
      "100%|███████████████████████████████████████████████████| 2534/2534 [00:10<00:00, 248.32it/s]\n"
     ]
    },
    {
     "name": "stdout",
     "output_type": "stream",
     "text": [
      "Iteration 0, Current Score: 0,                 Best Feature: trigram-logprobs v-> davinci-logprobs s-avg, New Score: 1.0\n"
     ]
    },
    {
     "name": "stderr",
     "output_type": "stream",
     "text": [
      "100%|███████████████████████████████████████████████████| 2533/2533 [00:12<00:00, 204.60it/s]"
     ]
    },
    {
     "name": "stdout",
     "output_type": "stream",
     "text": [
      "Iteration 1, Current Score: 1.0,                 Best Feature: davinci-logprobs s-max, New Score: 1.0\n",
      "TRAINING WITH emotion AUGMENTED DATA.\n",
      "Train size: 100\n",
      "F1-Score: 0.9695757997218358\n",
      "\n",
      "passes...\n",
      "***************** AUGMENTATION: style *****************\n"
     ]
    },
    {
     "name": "stderr",
     "output_type": "stream",
     "text": [
      "\n"
     ]
    },
    {
     "data": {
      "application/vnd.jupyter.widget-view+json": {
       "model_id": "0c84c5a7e9cd46129b9fa05c66a24902",
       "version_major": 2,
       "version_minor": 0
      },
      "text/plain": [
       "  0%|          | 0/5 [00:00<?, ?it/s]"
      ]
     },
     "metadata": {},
     "output_type": "display_data"
    },
    {
     "name": "stdout",
     "output_type": "stream",
     "text": [
      "***************** TRAIN SIZE: 10 *****************\n"
     ]
    },
    {
     "name": "stderr",
     "output_type": "stream",
     "text": [
      "100%|███████████████████████████████████████████████████| 2534/2534 [00:09<00:00, 255.27it/s]\n"
     ]
    },
    {
     "name": "stdout",
     "output_type": "stream",
     "text": [
      "Iteration 0, Current Score: 0,                 Best Feature: davinci-logprobs v-div trigram-logprobs v-> ada-logprobs s-min, New Score: 1.0\n"
     ]
    },
    {
     "name": "stderr",
     "output_type": "stream",
     "text": [
      "100%|███████████████████████████████████████████████████| 2533/2533 [00:11<00:00, 224.09it/s]\n"
     ]
    },
    {
     "name": "stdout",
     "output_type": "stream",
     "text": [
      "Iteration 1, Current Score: 1.0,                 Best Feature: davinci-logprobs s-max, New Score: 1.0\n",
      "TRAINING WITH style AUGMENTED DATA.\n",
      "Train size: 10\n",
      "F1-Score: 0.8358638037912137\n",
      "\n",
      "passes...\n",
      "***************** TRAIN SIZE: 25 *****************\n"
     ]
    },
    {
     "name": "stderr",
     "output_type": "stream",
     "text": [
      "100%|███████████████████████████████████████████████████| 2534/2534 [00:09<00:00, 257.09it/s]\n"
     ]
    },
    {
     "name": "stdout",
     "output_type": "stream",
     "text": [
      "Iteration 0, Current Score: 0,                 Best Feature: ada-logprobs s-avg, New Score: 1.0\n"
     ]
    },
    {
     "name": "stderr",
     "output_type": "stream",
     "text": [
      "100%|███████████████████████████████████████████████████| 2533/2533 [00:11<00:00, 214.99it/s]\n"
     ]
    },
    {
     "name": "stdout",
     "output_type": "stream",
     "text": [
      "Iteration 1, Current Score: 1.0,                 Best Feature: davinci-logprobs s-avg, New Score: 1.0\n",
      "TRAINING WITH style AUGMENTED DATA.\n",
      "Train size: 25\n",
      "F1-Score: 0.9098017821422076\n",
      "\n",
      "passes...\n",
      "***************** TRAIN SIZE: 50 *****************\n"
     ]
    },
    {
     "name": "stderr",
     "output_type": "stream",
     "text": [
      "100%|███████████████████████████████████████████████████| 2534/2534 [00:10<00:00, 251.33it/s]\n"
     ]
    },
    {
     "name": "stdout",
     "output_type": "stream",
     "text": [
      "Iteration 0, Current Score: 0,                 Best Feature: trigram-logprobs v-> ada-logprobs s-avg, New Score: 1.0\n"
     ]
    },
    {
     "name": "stderr",
     "output_type": "stream",
     "text": [
      "100%|███████████████████████████████████████████████████| 2533/2533 [00:12<00:00, 205.32it/s]\n"
     ]
    },
    {
     "name": "stdout",
     "output_type": "stream",
     "text": [
      "Iteration 1, Current Score: 1.0,                 Best Feature: davinci-logprobs s-max, New Score: 1.0\n",
      "TRAINING WITH style AUGMENTED DATA.\n",
      "Train size: 50\n",
      "F1-Score: 0.9075553107500229\n",
      "\n",
      "passes...\n",
      "***************** TRAIN SIZE: 75 *****************\n"
     ]
    },
    {
     "name": "stderr",
     "output_type": "stream",
     "text": [
      "100%|███████████████████████████████████████████████████| 2534/2534 [00:10<00:00, 242.75it/s]\n"
     ]
    },
    {
     "name": "stdout",
     "output_type": "stream",
     "text": [
      "Iteration 0, Current Score: 0,                 Best Feature: trigram-logprobs v-> davinci-logprobs s-avg, New Score: 1.0\n"
     ]
    },
    {
     "name": "stderr",
     "output_type": "stream",
     "text": [
      "100%|███████████████████████████████████████████████████| 2533/2533 [00:12<00:00, 197.97it/s]\n"
     ]
    },
    {
     "name": "stdout",
     "output_type": "stream",
     "text": [
      "Iteration 1, Current Score: 1.0,                 Best Feature: davinci-logprobs s-max, New Score: 1.0\n",
      "TRAINING WITH style AUGMENTED DATA.\n",
      "Train size: 75\n",
      "F1-Score: 0.9528343471744688\n",
      "\n",
      "passes...\n",
      "***************** TRAIN SIZE: 100 *****************\n"
     ]
    },
    {
     "name": "stderr",
     "output_type": "stream",
     "text": [
      "100%|███████████████████████████████████████████████████| 2534/2534 [00:10<00:00, 237.48it/s]\n"
     ]
    },
    {
     "name": "stdout",
     "output_type": "stream",
     "text": [
      "Iteration 0, Current Score: 0,                 Best Feature: trigram-logprobs v-> davinci-logprobs s-avg, New Score: 1.0\n"
     ]
    },
    {
     "name": "stderr",
     "output_type": "stream",
     "text": [
      "100%|███████████████████████████████████████████████████| 2533/2533 [00:12<00:00, 198.16it/s]"
     ]
    },
    {
     "name": "stdout",
     "output_type": "stream",
     "text": [
      "Iteration 1, Current Score: 1.0,                 Best Feature: davinci-logprobs s-max, New Score: 1.0\n",
      "TRAINING WITH style AUGMENTED DATA.\n",
      "Train size: 100\n",
      "F1-Score: 0.9656734622756578\n",
      "\n",
      "passes...\n",
      "***************** AUGMENTATION: summary *****************\n"
     ]
    },
    {
     "name": "stderr",
     "output_type": "stream",
     "text": [
      "\n"
     ]
    },
    {
     "data": {
      "application/vnd.jupyter.widget-view+json": {
       "model_id": "89f5280c74b9404e8894dc59deca65b1",
       "version_major": 2,
       "version_minor": 0
      },
      "text/plain": [
       "  0%|          | 0/5 [00:00<?, ?it/s]"
      ]
     },
     "metadata": {},
     "output_type": "display_data"
    },
    {
     "name": "stdout",
     "output_type": "stream",
     "text": [
      "***************** TRAIN SIZE: 10 *****************\n"
     ]
    },
    {
     "name": "stderr",
     "output_type": "stream",
     "text": [
      "100%|███████████████████████████████████████████████████| 2534/2534 [00:09<00:00, 253.79it/s]\n"
     ]
    },
    {
     "name": "stdout",
     "output_type": "stream",
     "text": [
      "Iteration 0, Current Score: 0,                 Best Feature: davinci-logprobs v-div trigram-logprobs v-> ada-logprobs s-min, New Score: 1.0\n"
     ]
    },
    {
     "name": "stderr",
     "output_type": "stream",
     "text": [
      "100%|███████████████████████████████████████████████████| 2533/2533 [00:11<00:00, 218.03it/s]\n"
     ]
    },
    {
     "name": "stdout",
     "output_type": "stream",
     "text": [
      "Iteration 1, Current Score: 1.0,                 Best Feature: davinci-logprobs s-max, New Score: 1.0\n",
      "TRAINING WITH summary AUGMENTED DATA.\n",
      "Train size: 10\n",
      "F1-Score: 0.7403048427551611\n",
      "\n",
      "passes...\n",
      "***************** TRAIN SIZE: 25 *****************\n"
     ]
    },
    {
     "name": "stderr",
     "output_type": "stream",
     "text": [
      "100%|███████████████████████████████████████████████████| 2534/2534 [00:10<00:00, 242.37it/s]\n"
     ]
    },
    {
     "name": "stdout",
     "output_type": "stream",
     "text": [
      "Iteration 0, Current Score: 0,                 Best Feature: ada-logprobs s-avg, New Score: 1.0\n"
     ]
    },
    {
     "name": "stderr",
     "output_type": "stream",
     "text": [
      "100%|███████████████████████████████████████████████████| 2533/2533 [00:11<00:00, 211.65it/s]\n"
     ]
    },
    {
     "name": "stdout",
     "output_type": "stream",
     "text": [
      "Iteration 1, Current Score: 1.0,                 Best Feature: davinci-logprobs s-avg, New Score: 1.0\n",
      "TRAINING WITH summary AUGMENTED DATA.\n",
      "Train size: 25\n",
      "F1-Score: 0.9145028499050032\n",
      "\n",
      "passes...\n",
      "***************** TRAIN SIZE: 50 *****************\n"
     ]
    },
    {
     "name": "stderr",
     "output_type": "stream",
     "text": [
      "100%|███████████████████████████████████████████████████| 2534/2534 [00:10<00:00, 251.42it/s]\n"
     ]
    },
    {
     "name": "stdout",
     "output_type": "stream",
     "text": [
      "Iteration 0, Current Score: 0,                 Best Feature: trigram-logprobs v-> ada-logprobs s-avg, New Score: 1.0\n"
     ]
    },
    {
     "name": "stderr",
     "output_type": "stream",
     "text": [
      "100%|███████████████████████████████████████████████████| 2533/2533 [00:12<00:00, 206.35it/s]\n"
     ]
    },
    {
     "name": "stdout",
     "output_type": "stream",
     "text": [
      "Iteration 1, Current Score: 1.0,                 Best Feature: davinci-logprobs s-max, New Score: 1.0\n",
      "TRAINING WITH summary AUGMENTED DATA.\n",
      "Train size: 50\n",
      "F1-Score: 0.9263328530259366\n",
      "\n",
      "passes...\n",
      "***************** TRAIN SIZE: 75 *****************\n"
     ]
    },
    {
     "name": "stderr",
     "output_type": "stream",
     "text": [
      "100%|███████████████████████████████████████████████████| 2534/2534 [00:10<00:00, 246.73it/s]\n"
     ]
    },
    {
     "name": "stdout",
     "output_type": "stream",
     "text": [
      "Iteration 0, Current Score: 0,                 Best Feature: trigram-logprobs v-> davinci-logprobs s-avg, New Score: 1.0\n"
     ]
    },
    {
     "name": "stderr",
     "output_type": "stream",
     "text": [
      "100%|███████████████████████████████████████████████████| 2533/2533 [00:12<00:00, 202.06it/s]\n"
     ]
    },
    {
     "name": "stdout",
     "output_type": "stream",
     "text": [
      "Iteration 1, Current Score: 1.0,                 Best Feature: davinci-logprobs s-max, New Score: 1.0\n",
      "TRAINING WITH summary AUGMENTED DATA.\n",
      "Train size: 75\n",
      "F1-Score: 0.9223089489925577\n",
      "\n",
      "passes...\n",
      "***************** TRAIN SIZE: 100 *****************\n"
     ]
    },
    {
     "name": "stderr",
     "output_type": "stream",
     "text": [
      "100%|███████████████████████████████████████████████████| 2534/2534 [00:10<00:00, 239.26it/s]\n"
     ]
    },
    {
     "name": "stdout",
     "output_type": "stream",
     "text": [
      "Iteration 0, Current Score: 0,                 Best Feature: trigram-logprobs v-> davinci-logprobs s-avg, New Score: 1.0\n"
     ]
    },
    {
     "name": "stderr",
     "output_type": "stream",
     "text": [
      "100%|███████████████████████████████████████████████████| 2533/2533 [00:12<00:00, 203.59it/s]\n"
     ]
    },
    {
     "name": "stdout",
     "output_type": "stream",
     "text": [
      "Iteration 1, Current Score: 1.0,                 Best Feature: davinci-logprobs s-max, New Score: 1.0\n",
      "TRAINING WITH summary AUGMENTED DATA.\n",
      "Train size: 100\n",
      "F1-Score: 0.9623928633898898\n",
      "\n",
      "passes...\n"
     ]
    },
    {
     "data": {
      "image/png": "[encoded data removed]",
      "text/plain": [
       "<Figure size 640x480 with 1 Axes>"
      ]
     },
     "metadata": {},
     "output_type": "display_data"
    },
    {
     "name": "stdout",
     "output_type": "stream",
     "text": [
      "**************** SEED 93 ****************\n",
      "***************** AUGMENTATION: baseline *****************\n"
     ]
    },
    {
     "data": {
      "application/vnd.jupyter.widget-view+json": {
       "model_id": "68720488ceaf42718803706a9bf483a1",
       "version_major": 2,
       "version_minor": 0
      },
      "text/plain": [
       "  0%|          | 0/5 [00:00<?, ?it/s]"
      ]
     },
     "metadata": {},
     "output_type": "display_data"
    },
    {
     "name": "stdout",
     "output_type": "stream",
     "text": [
      "***************** TRAIN SIZE: 10 *****************\n"
     ]
    },
    {
     "name": "stderr",
     "output_type": "stream",
     "text": [
      "100%|███████████████████████████████████████████████████| 2534/2534 [00:10<00:00, 249.24it/s]\n"
     ]
    },
    {
     "name": "stdout",
     "output_type": "stream",
     "text": [
      "Iteration 0, Current Score: 0,                 Best Feature: davinci-logprobs s-min, New Score: 1.0\n"
     ]
    },
    {
     "name": "stderr",
     "output_type": "stream",
     "text": [
      "100%|███████████████████████████████████████████████████| 2533/2533 [00:11<00:00, 222.11it/s]\n"
     ]
    },
    {
     "name": "stdout",
     "output_type": "stream",
     "text": [
      "Iteration 1, Current Score: 1.0,                 Best Feature: davinci-logprobs s-avg, New Score: 1.0\n",
      "TRAINING WITHOUT AUGMENTATIONS\n",
      "Train size: 10\n",
      "F1-Score: 0.8980957282552754\n",
      "\n",
      "passes...\n",
      "***************** TRAIN SIZE: 25 *****************\n"
     ]
    },
    {
     "name": "stderr",
     "output_type": "stream",
     "text": [
      "100%|███████████████████████████████████████████████████| 2534/2534 [00:10<00:00, 249.07it/s]\n"
     ]
    },
    {
     "name": "stdout",
     "output_type": "stream",
     "text": [
      "Iteration 0, Current Score: 0,                 Best Feature: trigram-logprobs v-sub davinci-logprobs s-avg, New Score: 1.0\n"
     ]
    },
    {
     "name": "stderr",
     "output_type": "stream",
     "text": [
      "100%|███████████████████████████████████████████████████| 2533/2533 [00:12<00:00, 206.08it/s]\n"
     ]
    },
    {
     "name": "stdout",
     "output_type": "stream",
     "text": [
      "Iteration 1, Current Score: 1.0,                 Best Feature: davinci-logprobs s-var, New Score: 1.0\n",
      "TRAINING WITHOUT AUGMENTATIONS\n",
      "Train size: 25\n",
      "F1-Score: 0.9543755974624142\n",
      "\n",
      "passes...\n",
      "***************** TRAIN SIZE: 50 *****************\n"
     ]
    },
    {
     "name": "stderr",
     "output_type": "stream",
     "text": [
      "100%|███████████████████████████████████████████████████| 2534/2534 [00:10<00:00, 246.66it/s]\n"
     ]
    },
    {
     "name": "stdout",
     "output_type": "stream",
     "text": [
      "Iteration 0, Current Score: 0,                 Best Feature: trigram-logprobs v-> davinci-logprobs s-avg, New Score: 1.0\n"
     ]
    },
    {
     "name": "stderr",
     "output_type": "stream",
     "text": [
      "100%|███████████████████████████████████████████████████| 2533/2533 [00:12<00:00, 205.71it/s]\n"
     ]
    },
    {
     "name": "stdout",
     "output_type": "stream",
     "text": [
      "Iteration 1, Current Score: 1.0,                 Best Feature: davinci-logprobs s-max, New Score: 1.0\n",
      "TRAINING WITHOUT AUGMENTATIONS\n",
      "Train size: 50\n",
      "F1-Score: 0.9881235154394299\n",
      "\n",
      "passes...\n",
      "***************** TRAIN SIZE: 75 *****************\n"
     ]
    },
    {
     "name": "stderr",
     "output_type": "stream",
     "text": [
      "100%|███████████████████████████████████████████████████| 2534/2534 [00:10<00:00, 242.87it/s]\n"
     ]
    },
    {
     "name": "stdout",
     "output_type": "stream",
     "text": [
      "Iteration 0, Current Score: 0,                 Best Feature: trigram-logprobs v-> davinci-logprobs s-var, New Score: 1.0\n"
     ]
    },
    {
     "name": "stderr",
     "output_type": "stream",
     "text": [
      "100%|███████████████████████████████████████████████████| 2533/2533 [00:12<00:00, 203.39it/s]\n"
     ]
    },
    {
     "name": "stdout",
     "output_type": "stream",
     "text": [
      "Iteration 1, Current Score: 1.0,                 Best Feature: davinci-logprobs s-max, New Score: 1.0\n",
      "TRAINING WITHOUT AUGMENTATIONS\n",
      "Train size: 75\n",
      "F1-Score: 0.9878328937292606\n",
      "\n",
      "passes...\n",
      "***************** TRAIN SIZE: 100 *****************\n"
     ]
    },
    {
     "name": "stderr",
     "output_type": "stream",
     "text": [
      "100%|███████████████████████████████████████████████████| 2534/2534 [00:10<00:00, 239.23it/s]\n"
     ]
    },
    {
     "name": "stdout",
     "output_type": "stream",
     "text": [
      "Iteration 0, Current Score: 0,                 Best Feature: unigram-logprobs v-add trigram-logprobs v-> davinci-logprobs s-var, New Score: 1.0\n"
     ]
    },
    {
     "name": "stderr",
     "output_type": "stream",
     "text": [
      "100%|███████████████████████████████████████████████████| 2533/2533 [00:12<00:00, 202.41it/s]"
     ]
    },
    {
     "name": "stdout",
     "output_type": "stream",
     "text": [
      "Iteration 1, Current Score: 1.0,                 Best Feature: davinci-logprobs s-avg, New Score: 1.0\n",
      "TRAINING WITHOUT AUGMENTATIONS\n",
      "Train size: 100\n",
      "F1-Score: 0.9920081618772317\n",
      "\n",
      "passes...\n",
      "***************** AUGMENTATION: synonym *****************\n"
     ]
    },
    {
     "name": "stderr",
     "output_type": "stream",
     "text": [
      "\n"
     ]
    },
    {
     "data": {
      "application/vnd.jupyter.widget-view+json": {
       "model_id": "315bbe93e2c84522a26ce69fb54536aa",
       "version_major": 2,
       "version_minor": 0
      },
      "text/plain": [
       "  0%|          | 0/5 [00:00<?, ?it/s]"
      ]
     },
     "metadata": {},
     "output_type": "display_data"
    },
    {
     "name": "stdout",
     "output_type": "stream",
     "text": [
      "***************** TRAIN SIZE: 10 *****************\n"
     ]
    },
    {
     "name": "stderr",
     "output_type": "stream",
     "text": [
      "100%|███████████████████████████████████████████████████| 2534/2534 [00:10<00:00, 243.39it/s]\n"
     ]
    },
    {
     "name": "stdout",
     "output_type": "stream",
     "text": [
      "Iteration 0, Current Score: 0,                 Best Feature: davinci-logprobs s-min, New Score: 1.0\n"
     ]
    },
    {
     "name": "stderr",
     "output_type": "stream",
     "text": [
      "100%|███████████████████████████████████████████████████| 2533/2533 [00:11<00:00, 220.85it/s]\n"
     ]
    },
    {
     "name": "stdout",
     "output_type": "stream",
     "text": [
      "Iteration 1, Current Score: 1.0,                 Best Feature: davinci-logprobs s-avg, New Score: 1.0\n",
      "TRAINING WITH synonym AUGMENTED DATA.\n",
      "Train size: 10\n",
      "F1-Score: 0.8781849912739965\n",
      "\n",
      "passes...\n",
      "***************** TRAIN SIZE: 25 *****************\n"
     ]
    },
    {
     "name": "stderr",
     "output_type": "stream",
     "text": [
      "100%|███████████████████████████████████████████████████| 2534/2534 [00:10<00:00, 241.47it/s]\n"
     ]
    },
    {
     "name": "stdout",
     "output_type": "stream",
     "text": [
      "Iteration 0, Current Score: 0,                 Best Feature: trigram-logprobs v-> davinci-logprobs s-avg, New Score: 1.0\n"
     ]
    },
    {
     "name": "stderr",
     "output_type": "stream",
     "text": [
      "100%|███████████████████████████████████████████████████| 2533/2533 [00:11<00:00, 214.95it/s]\n"
     ]
    },
    {
     "name": "stdout",
     "output_type": "stream",
     "text": [
      "Iteration 1, Current Score: 1.0,                 Best Feature: davinci-logprobs s-max, New Score: 1.0\n",
      "TRAINING WITH synonym AUGMENTED DATA.\n",
      "Train size: 25\n",
      "F1-Score: 0.9698483804272915\n",
      "\n",
      "passes...\n",
      "***************** TRAIN SIZE: 50 *****************\n"
     ]
    },
    {
     "name": "stderr",
     "output_type": "stream",
     "text": [
      "100%|███████████████████████████████████████████████████| 2534/2534 [00:09<00:00, 255.37it/s]\n"
     ]
    },
    {
     "name": "stdout",
     "output_type": "stream",
     "text": [
      "Iteration 0, Current Score: 0,                 Best Feature: trigram-logprobs v-> ada-logprobs s-avg, New Score: 1.0\n"
     ]
    },
    {
     "name": "stderr",
     "output_type": "stream",
     "text": [
      "100%|███████████████████████████████████████████████████| 2533/2533 [00:11<00:00, 214.51it/s]\n"
     ]
    },
    {
     "name": "stdout",
     "output_type": "stream",
     "text": [
      "Iteration 1, Current Score: 1.0,                 Best Feature: davinci-logprobs s-max, New Score: 1.0\n",
      "TRAINING WITH synonym AUGMENTED DATA.\n",
      "Train size: 50\n",
      "F1-Score: 0.9725530813050233\n",
      "\n",
      "passes...\n",
      "***************** TRAIN SIZE: 75 *****************\n"
     ]
    },
    {
     "name": "stderr",
     "output_type": "stream",
     "text": [
      "100%|███████████████████████████████████████████████████| 2534/2534 [00:10<00:00, 245.04it/s]\n"
     ]
    },
    {
     "name": "stdout",
     "output_type": "stream",
     "text": [
      "Iteration 0, Current Score: 0,                 Best Feature: trigram-logprobs v-> ada-logprobs s-avg, New Score: 1.0\n"
     ]
    },
    {
     "name": "stderr",
     "output_type": "stream",
     "text": [
      "100%|███████████████████████████████████████████████████| 2533/2533 [00:12<00:00, 207.62it/s]\n"
     ]
    },
    {
     "name": "stdout",
     "output_type": "stream",
     "text": [
      "Iteration 1, Current Score: 1.0,                 Best Feature: davinci-logprobs s-max, New Score: 1.0\n",
      "TRAINING WITH synonym AUGMENTED DATA.\n",
      "Train size: 75\n",
      "F1-Score: 0.9451896597672559\n",
      "\n",
      "passes...\n",
      "***************** TRAIN SIZE: 100 *****************\n"
     ]
    },
    {
     "name": "stderr",
     "output_type": "stream",
     "text": [
      "100%|███████████████████████████████████████████████████| 2534/2534 [00:10<00:00, 244.52it/s]\n"
     ]
    },
    {
     "name": "stdout",
     "output_type": "stream",
     "text": [
      "Iteration 0, Current Score: 0,                 Best Feature: unigram-logprobs v-div ada-logprobs v-> davinci-logprobs s-avg, New Score: 1.0\n"
     ]
    },
    {
     "name": "stderr",
     "output_type": "stream",
     "text": [
      "100%|███████████████████████████████████████████████████| 2533/2533 [00:12<00:00, 204.82it/s]\n"
     ]
    },
    {
     "name": "stdout",
     "output_type": "stream",
     "text": [
      "Iteration 1, Current Score: 1.0,                 Best Feature: davinci-logprobs s-max, New Score: 1.0\n",
      "TRAINING WITH synonym AUGMENTED DATA.\n",
      "Train size: 100\n",
      "F1-Score: 0.9455582286376192\n",
      "\n",
      "passes...\n",
      "***************** AUGMENTATION: back *****************\n"
     ]
    },
    {
     "data": {
      "application/vnd.jupyter.widget-view+json": {
       "model_id": "0153c6157a3b465f9bc2965c50b86f84",
       "version_major": 2,
       "version_minor": 0
      },
      "text/plain": [
       "  0%|          | 0/5 [00:00<?, ?it/s]"
      ]
     },
     "metadata": {},
     "output_type": "display_data"
    },
    {
     "name": "stdout",
     "output_type": "stream",
     "text": [
      "***************** TRAIN SIZE: 10 *****************\n"
     ]
    },
    {
     "name": "stderr",
     "output_type": "stream",
     "text": [
      "100%|███████████████████████████████████████████████████| 2534/2534 [00:09<00:00, 258.80it/s]\n"
     ]
    },
    {
     "name": "stdout",
     "output_type": "stream",
     "text": [
      "Iteration 0, Current Score: 0,                 Best Feature: davinci-logprobs s-min, New Score: 1.0\n"
     ]
    },
    {
     "name": "stderr",
     "output_type": "stream",
     "text": [
      "100%|███████████████████████████████████████████████████| 2533/2533 [00:11<00:00, 229.45it/s]\n"
     ]
    },
    {
     "name": "stdout",
     "output_type": "stream",
     "text": [
      "Iteration 1, Current Score: 1.0,                 Best Feature: davinci-logprobs s-avg, New Score: 1.0\n",
      "TRAINING WITH back AUGMENTED DATA.\n",
      "Train size: 10\n",
      "F1-Score: 0.904916353704336\n",
      "\n",
      "passes...\n",
      "***************** TRAIN SIZE: 25 *****************\n"
     ]
    },
    {
     "name": "stderr",
     "output_type": "stream",
     "text": [
      "100%|███████████████████████████████████████████████████| 2534/2534 [00:09<00:00, 254.63it/s]\n"
     ]
    },
    {
     "name": "stdout",
     "output_type": "stream",
     "text": [
      "Iteration 0, Current Score: 0,                 Best Feature: trigram-logprobs v-> davinci-logprobs s-avg, New Score: 1.0\n"
     ]
    },
    {
     "name": "stderr",
     "output_type": "stream",
     "text": [
      "100%|███████████████████████████████████████████████████| 2533/2533 [00:11<00:00, 219.36it/s]\n"
     ]
    },
    {
     "name": "stdout",
     "output_type": "stream",
     "text": [
      "Iteration 1, Current Score: 1.0,                 Best Feature: davinci-logprobs s-max, New Score: 1.0\n",
      "TRAINING WITH back AUGMENTED DATA.\n",
      "Train size: 25\n",
      "F1-Score: 0.9619923637625825\n",
      "\n",
      "passes...\n",
      "***************** TRAIN SIZE: 50 *****************\n"
     ]
    },
    {
     "name": "stderr",
     "output_type": "stream",
     "text": [
      "100%|███████████████████████████████████████████████████| 2534/2534 [00:09<00:00, 254.81it/s]\n"
     ]
    },
    {
     "name": "stdout",
     "output_type": "stream",
     "text": [
      "Iteration 0, Current Score: 0,                 Best Feature: trigram-logprobs v-> ada-logprobs s-avg, New Score: 1.0\n"
     ]
    },
    {
     "name": "stderr",
     "output_type": "stream",
     "text": [
      "100%|███████████████████████████████████████████████████| 2533/2533 [00:11<00:00, 215.96it/s]\n"
     ]
    },
    {
     "name": "stdout",
     "output_type": "stream",
     "text": [
      "Iteration 1, Current Score: 1.0,                 Best Feature: davinci-logprobs s-max, New Score: 1.0\n",
      "TRAINING WITH back AUGMENTED DATA.\n",
      "Train size: 50\n",
      "F1-Score: 0.9592799720377491\n",
      "\n",
      "passes...\n",
      "***************** TRAIN SIZE: 75 *****************\n"
     ]
    },
    {
     "name": "stderr",
     "output_type": "stream",
     "text": [
      "100%|███████████████████████████████████████████████████| 2534/2534 [00:10<00:00, 253.00it/s]\n"
     ]
    },
    {
     "name": "stdout",
     "output_type": "stream",
     "text": [
      "Iteration 0, Current Score: 0,                 Best Feature: trigram-logprobs v-> ada-logprobs s-avg, New Score: 1.0\n"
     ]
    },
    {
     "name": "stderr",
     "output_type": "stream",
     "text": [
      "100%|███████████████████████████████████████████████████| 2533/2533 [00:12<00:00, 211.05it/s]\n"
     ]
    },
    {
     "name": "stdout",
     "output_type": "stream",
     "text": [
      "Iteration 1, Current Score: 1.0,                 Best Feature: davinci-logprobs s-max, New Score: 1.0\n",
      "TRAINING WITH back AUGMENTED DATA.\n",
      "Train size: 75\n",
      "F1-Score: 0.9068825910931174\n",
      "\n",
      "passes...\n",
      "***************** TRAIN SIZE: 100 *****************\n"
     ]
    },
    {
     "name": "stderr",
     "output_type": "stream",
     "text": [
      "100%|███████████████████████████████████████████████████| 2534/2534 [00:10<00:00, 251.28it/s]\n"
     ]
    },
    {
     "name": "stdout",
     "output_type": "stream",
     "text": [
      "Iteration 0, Current Score: 0,                 Best Feature: unigram-logprobs v-div ada-logprobs v-> davinci-logprobs s-avg, New Score: 1.0\n"
     ]
    },
    {
     "name": "stderr",
     "output_type": "stream",
     "text": [
      "100%|███████████████████████████████████████████████████| 2533/2533 [00:12<00:00, 208.55it/s]\n"
     ]
    },
    {
     "name": "stdout",
     "output_type": "stream",
     "text": [
      "Iteration 1, Current Score: 1.0,                 Best Feature: davinci-logprobs s-max, New Score: 1.0\n",
      "TRAINING WITH back AUGMENTED DATA.\n",
      "Train size: 100\n",
      "F1-Score: 0.9310812031433475\n",
      "\n",
      "passes...\n",
      "***************** AUGMENTATION: emotion *****************\n"
     ]
    },
    {
     "data": {
      "application/vnd.jupyter.widget-view+json": {
       "model_id": "fa7da3f122b24b199fa1660788c39cee",
       "version_major": 2,
       "version_minor": 0
      },
      "text/plain": [
       "  0%|          | 0/5 [00:00<?, ?it/s]"
      ]
     },
     "metadata": {},
     "output_type": "display_data"
    },
    {
     "name": "stdout",
     "output_type": "stream",
     "text": [
      "***************** TRAIN SIZE: 10 *****************\n"
     ]
    },
    {
     "name": "stderr",
     "output_type": "stream",
     "text": [
      "100%|███████████████████████████████████████████████████| 2534/2534 [00:09<00:00, 259.03it/s]\n"
     ]
    },
    {
     "name": "stdout",
     "output_type": "stream",
     "text": [
      "Iteration 0, Current Score: 0,                 Best Feature: davinci-logprobs s-min, New Score: 1.0\n"
     ]
    },
    {
     "name": "stderr",
     "output_type": "stream",
     "text": [
      "100%|███████████████████████████████████████████████████| 2533/2533 [00:11<00:00, 229.73it/s]\n"
     ]
    },
    {
     "name": "stdout",
     "output_type": "stream",
     "text": [
      "Iteration 1, Current Score: 1.0,                 Best Feature: davinci-logprobs s-avg, New Score: 1.0\n",
      "TRAINING WITH emotion AUGMENTED DATA.\n",
      "Train size: 10\n",
      "F1-Score: 0.8540403583386119\n",
      "\n",
      "passes...\n",
      "***************** TRAIN SIZE: 25 *****************\n"
     ]
    },
    {
     "name": "stderr",
     "output_type": "stream",
     "text": [
      "100%|███████████████████████████████████████████████████| 2534/2534 [00:09<00:00, 254.24it/s]\n"
     ]
    },
    {
     "name": "stdout",
     "output_type": "stream",
     "text": [
      "Iteration 0, Current Score: 0,                 Best Feature: trigram-logprobs v-> davinci-logprobs s-avg, New Score: 1.0\n"
     ]
    },
    {
     "name": "stderr",
     "output_type": "stream",
     "text": [
      "100%|███████████████████████████████████████████████████| 2533/2533 [00:11<00:00, 218.42it/s]\n"
     ]
    },
    {
     "name": "stdout",
     "output_type": "stream",
     "text": [
      "Iteration 1, Current Score: 1.0,                 Best Feature: davinci-logprobs s-max, New Score: 1.0\n",
      "TRAINING WITH emotion AUGMENTED DATA.\n",
      "Train size: 25\n",
      "F1-Score: 0.976902752919117\n",
      "\n",
      "passes...\n",
      "***************** TRAIN SIZE: 50 *****************\n"
     ]
    },
    {
     "name": "stderr",
     "output_type": "stream",
     "text": [
      "100%|███████████████████████████████████████████████████| 2534/2534 [00:09<00:00, 257.81it/s]\n"
     ]
    },
    {
     "name": "stdout",
     "output_type": "stream",
     "text": [
      "Iteration 0, Current Score: 0,                 Best Feature: trigram-logprobs v-> ada-logprobs s-avg, New Score: 1.0\n"
     ]
    },
    {
     "name": "stderr",
     "output_type": "stream",
     "text": [
      "100%|███████████████████████████████████████████████████| 2533/2533 [00:12<00:00, 210.79it/s]\n"
     ]
    },
    {
     "name": "stdout",
     "output_type": "stream",
     "text": [
      "Iteration 1, Current Score: 1.0,                 Best Feature: davinci-logprobs s-max, New Score: 1.0\n",
      "TRAINING WITH emotion AUGMENTED DATA.\n",
      "Train size: 50\n",
      "F1-Score: 0.9393831342485292\n",
      "\n",
      "passes...\n",
      "***************** TRAIN SIZE: 75 *****************\n"
     ]
    },
    {
     "name": "stderr",
     "output_type": "stream",
     "text": [
      "100%|███████████████████████████████████████████████████| 2534/2534 [00:10<00:00, 249.79it/s]\n"
     ]
    },
    {
     "name": "stdout",
     "output_type": "stream",
     "text": [
      "Iteration 0, Current Score: 0,                 Best Feature: trigram-logprobs v-> ada-logprobs s-avg, New Score: 1.0\n"
     ]
    },
    {
     "name": "stderr",
     "output_type": "stream",
     "text": [
      "100%|███████████████████████████████████████████████████| 2533/2533 [00:13<00:00, 194.11it/s]\n"
     ]
    },
    {
     "name": "stdout",
     "output_type": "stream",
     "text": [
      "Iteration 1, Current Score: 1.0,                 Best Feature: davinci-logprobs s-max, New Score: 1.0\n",
      "TRAINING WITH emotion AUGMENTED DATA.\n",
      "Train size: 75\n",
      "F1-Score: 0.9592355571140527\n",
      "\n",
      "passes...\n",
      "***************** TRAIN SIZE: 100 *****************\n"
     ]
    },
    {
     "name": "stderr",
     "output_type": "stream",
     "text": [
      "100%|███████████████████████████████████████████████████| 2534/2534 [00:10<00:00, 248.09it/s]\n"
     ]
    },
    {
     "name": "stdout",
     "output_type": "stream",
     "text": [
      "Iteration 0, Current Score: 0,                 Best Feature: unigram-logprobs v-div ada-logprobs v-> davinci-logprobs s-avg, New Score: 1.0\n"
     ]
    },
    {
     "name": "stderr",
     "output_type": "stream",
     "text": [
      "100%|███████████████████████████████████████████████████| 2533/2533 [00:12<00:00, 207.48it/s]"
     ]
    },
    {
     "name": "stdout",
     "output_type": "stream",
     "text": [
      "Iteration 1, Current Score: 1.0,                 Best Feature: davinci-logprobs s-max, New Score: 1.0\n",
      "TRAINING WITH emotion AUGMENTED DATA.\n",
      "Train size: 100\n",
      "F1-Score: 0.9233988355167394\n",
      "\n",
      "passes...\n",
      "***************** AUGMENTATION: style *****************\n"
     ]
    },
    {
     "name": "stderr",
     "output_type": "stream",
     "text": [
      "\n"
     ]
    },
    {
     "data": {
      "application/vnd.jupyter.widget-view+json": {
       "model_id": "7aeb88724b7740a3b918300b345b7da5",
       "version_major": 2,
       "version_minor": 0
      },
      "text/plain": [
       "  0%|          | 0/5 [00:00<?, ?it/s]"
      ]
     },
     "metadata": {},
     "output_type": "display_data"
    },
    {
     "name": "stdout",
     "output_type": "stream",
     "text": [
      "***************** TRAIN SIZE: 10 *****************\n"
     ]
    },
    {
     "name": "stderr",
     "output_type": "stream",
     "text": [
      "100%|███████████████████████████████████████████████████| 2534/2534 [00:10<00:00, 250.04it/s]\n"
     ]
    },
    {
     "name": "stdout",
     "output_type": "stream",
     "text": [
      "Iteration 0, Current Score: 0,                 Best Feature: davinci-logprobs s-min, New Score: 1.0\n"
     ]
    },
    {
     "name": "stderr",
     "output_type": "stream",
     "text": [
      "100%|███████████████████████████████████████████████████| 2533/2533 [00:11<00:00, 227.47it/s]\n"
     ]
    },
    {
     "name": "stdout",
     "output_type": "stream",
     "text": [
      "Iteration 1, Current Score: 1.0,                 Best Feature: davinci-logprobs s-avg, New Score: 1.0\n",
      "TRAINING WITH style AUGMENTED DATA.\n",
      "Train size: 10\n",
      "F1-Score: 0.8859375\n",
      "\n",
      "passes...\n",
      "***************** TRAIN SIZE: 25 *****************\n"
     ]
    },
    {
     "name": "stderr",
     "output_type": "stream",
     "text": [
      "100%|███████████████████████████████████████████████████| 2534/2534 [00:10<00:00, 250.72it/s]\n"
     ]
    },
    {
     "name": "stdout",
     "output_type": "stream",
     "text": [
      "Iteration 0, Current Score: 0,                 Best Feature: trigram-logprobs v-> davinci-logprobs s-avg, New Score: 1.0\n"
     ]
    },
    {
     "name": "stderr",
     "output_type": "stream",
     "text": [
      "100%|███████████████████████████████████████████████████| 2533/2533 [00:11<00:00, 216.20it/s]\n"
     ]
    },
    {
     "name": "stdout",
     "output_type": "stream",
     "text": [
      "Iteration 1, Current Score: 1.0,                 Best Feature: davinci-logprobs s-max, New Score: 1.0\n",
      "TRAINING WITH style AUGMENTED DATA.\n",
      "Train size: 25\n",
      "F1-Score: 0.9817561807331628\n",
      "\n",
      "passes...\n",
      "***************** TRAIN SIZE: 50 *****************\n"
     ]
    },
    {
     "name": "stderr",
     "output_type": "stream",
     "text": [
      "100%|███████████████████████████████████████████████████| 2534/2534 [00:10<00:00, 251.92it/s]\n"
     ]
    },
    {
     "name": "stdout",
     "output_type": "stream",
     "text": [
      "Iteration 0, Current Score: 0,                 Best Feature: trigram-logprobs v-> ada-logprobs s-avg, New Score: 1.0\n"
     ]
    },
    {
     "name": "stderr",
     "output_type": "stream",
     "text": [
      "100%|███████████████████████████████████████████████████| 2533/2533 [00:12<00:00, 206.33it/s]\n"
     ]
    },
    {
     "name": "stdout",
     "output_type": "stream",
     "text": [
      "Iteration 1, Current Score: 1.0,                 Best Feature: davinci-logprobs s-max, New Score: 1.0\n",
      "TRAINING WITH style AUGMENTED DATA.\n",
      "Train size: 50\n",
      "F1-Score: 0.9235485034258926\n",
      "\n",
      "passes...\n",
      "***************** TRAIN SIZE: 75 *****************\n"
     ]
    },
    {
     "name": "stderr",
     "output_type": "stream",
     "text": [
      "100%|███████████████████████████████████████████████████| 2534/2534 [00:10<00:00, 231.54it/s]\n"
     ]
    },
    {
     "name": "stdout",
     "output_type": "stream",
     "text": [
      "Iteration 0, Current Score: 0,                 Best Feature: trigram-logprobs v-> ada-logprobs s-avg, New Score: 1.0\n"
     ]
    },
    {
     "name": "stderr",
     "output_type": "stream",
     "text": [
      "100%|███████████████████████████████████████████████████| 2533/2533 [00:12<00:00, 209.21it/s]\n"
     ]
    },
    {
     "name": "stdout",
     "output_type": "stream",
     "text": [
      "Iteration 1, Current Score: 1.0,                 Best Feature: davinci-logprobs s-max, New Score: 1.0\n",
      "TRAINING WITH style AUGMENTED DATA.\n",
      "Train size: 75\n",
      "F1-Score: 0.9562236286919831\n",
      "\n",
      "passes...\n",
      "***************** TRAIN SIZE: 100 *****************\n"
     ]
    },
    {
     "name": "stderr",
     "output_type": "stream",
     "text": [
      "100%|███████████████████████████████████████████████████| 2534/2534 [00:10<00:00, 250.86it/s]\n"
     ]
    },
    {
     "name": "stdout",
     "output_type": "stream",
     "text": [
      "Iteration 0, Current Score: 0,                 Best Feature: unigram-logprobs v-div ada-logprobs v-> davinci-logprobs s-avg, New Score: 1.0\n"
     ]
    },
    {
     "name": "stderr",
     "output_type": "stream",
     "text": [
      "100%|███████████████████████████████████████████████████| 2533/2533 [00:12<00:00, 206.13it/s]"
     ]
    },
    {
     "name": "stdout",
     "output_type": "stream",
     "text": [
      "Iteration 1, Current Score: 1.0,                 Best Feature: davinci-logprobs s-max, New Score: 1.0\n",
      "TRAINING WITH style AUGMENTED DATA.\n",
      "Train size: 100\n",
      "F1-Score: 0.9134465351078477\n",
      "\n",
      "passes...\n",
      "***************** AUGMENTATION: summary *****************\n"
     ]
    },
    {
     "name": "stderr",
     "output_type": "stream",
     "text": [
      "\n"
     ]
    },
    {
     "data": {
      "application/vnd.jupyter.widget-view+json": {
       "model_id": "e21dabd4a3d244a2a8de218b3eb12239",
       "version_major": 2,
       "version_minor": 0
      },
      "text/plain": [
       "  0%|          | 0/5 [00:00<?, ?it/s]"
      ]
     },
     "metadata": {},
     "output_type": "display_data"
    },
    {
     "name": "stdout",
     "output_type": "stream",
     "text": [
      "***************** TRAIN SIZE: 10 *****************\n"
     ]
    },
    {
     "name": "stderr",
     "output_type": "stream",
     "text": [
      "100%|███████████████████████████████████████████████████| 2534/2534 [00:09<00:00, 258.37it/s]\n"
     ]
    },
    {
     "name": "stdout",
     "output_type": "stream",
     "text": [
      "Iteration 0, Current Score: 0,                 Best Feature: davinci-logprobs s-min, New Score: 1.0\n"
     ]
    },
    {
     "name": "stderr",
     "output_type": "stream",
     "text": [
      "100%|███████████████████████████████████████████████████| 2533/2533 [00:11<00:00, 224.39it/s]\n"
     ]
    },
    {
     "name": "stdout",
     "output_type": "stream",
     "text": [
      "Iteration 1, Current Score: 1.0,                 Best Feature: davinci-logprobs s-avg, New Score: 1.0\n",
      "TRAINING WITH summary AUGMENTED DATA.\n",
      "Train size: 10\n",
      "F1-Score: 0.8818253069755291\n",
      "\n",
      "passes...\n",
      "***************** TRAIN SIZE: 25 *****************\n"
     ]
    },
    {
     "name": "stderr",
     "output_type": "stream",
     "text": [
      "100%|███████████████████████████████████████████████████| 2534/2534 [00:10<00:00, 244.93it/s]\n"
     ]
    },
    {
     "name": "stdout",
     "output_type": "stream",
     "text": [
      "Iteration 0, Current Score: 0,                 Best Feature: trigram-logprobs v-> davinci-logprobs s-avg, New Score: 1.0\n"
     ]
    },
    {
     "name": "stderr",
     "output_type": "stream",
     "text": [
      "100%|███████████████████████████████████████████████████| 2533/2533 [00:12<00:00, 207.43it/s]\n"
     ]
    },
    {
     "name": "stdout",
     "output_type": "stream",
     "text": [
      "Iteration 1, Current Score: 1.0,                 Best Feature: davinci-logprobs s-max, New Score: 1.0\n",
      "TRAINING WITH summary AUGMENTED DATA.\n",
      "Train size: 25\n",
      "F1-Score: 0.9826442062276671\n",
      "\n",
      "passes...\n",
      "***************** TRAIN SIZE: 50 *****************\n"
     ]
    },
    {
     "name": "stderr",
     "output_type": "stream",
     "text": [
      "100%|███████████████████████████████████████████████████| 2534/2534 [00:10<00:00, 248.59it/s]\n"
     ]
    },
    {
     "name": "stdout",
     "output_type": "stream",
     "text": [
      "Iteration 0, Current Score: 0,                 Best Feature: trigram-logprobs v-> ada-logprobs s-avg, New Score: 1.0\n"
     ]
    },
    {
     "name": "stderr",
     "output_type": "stream",
     "text": [
      "100%|███████████████████████████████████████████████████| 2533/2533 [00:12<00:00, 210.30it/s]\n"
     ]
    },
    {
     "name": "stdout",
     "output_type": "stream",
     "text": [
      "Iteration 1, Current Score: 1.0,                 Best Feature: davinci-logprobs s-max, New Score: 1.0\n",
      "TRAINING WITH summary AUGMENTED DATA.\n",
      "Train size: 50\n",
      "F1-Score: 0.931958762886598\n",
      "\n",
      "passes...\n",
      "***************** TRAIN SIZE: 75 *****************\n"
     ]
    },
    {
     "name": "stderr",
     "output_type": "stream",
     "text": [
      "100%|███████████████████████████████████████████████████| 2534/2534 [00:10<00:00, 246.91it/s]\n"
     ]
    },
    {
     "name": "stdout",
     "output_type": "stream",
     "text": [
      "Iteration 0, Current Score: 0,                 Best Feature: trigram-logprobs v-> ada-logprobs s-avg, New Score: 1.0\n"
     ]
    },
    {
     "name": "stderr",
     "output_type": "stream",
     "text": [
      "100%|███████████████████████████████████████████████████| 2533/2533 [00:12<00:00, 204.92it/s]\n"
     ]
    },
    {
     "name": "stdout",
     "output_type": "stream",
     "text": [
      "Iteration 1, Current Score: 1.0,                 Best Feature: davinci-logprobs s-max, New Score: 1.0\n",
      "TRAINING WITH summary AUGMENTED DATA.\n",
      "Train size: 75\n",
      "F1-Score: 0.9056777399466274\n",
      "\n",
      "passes...\n",
      "***************** TRAIN SIZE: 100 *****************\n"
     ]
    },
    {
     "name": "stderr",
     "output_type": "stream",
     "text": [
      "100%|███████████████████████████████████████████████████| 2534/2534 [00:10<00:00, 242.79it/s]\n"
     ]
    },
    {
     "name": "stdout",
     "output_type": "stream",
     "text": [
      "Iteration 0, Current Score: 0,                 Best Feature: unigram-logprobs v-div ada-logprobs v-> davinci-logprobs s-avg, New Score: 1.0\n"
     ]
    },
    {
     "name": "stderr",
     "output_type": "stream",
     "text": [
      "100%|███████████████████████████████████████████████████| 2533/2533 [00:12<00:00, 203.39it/s]\n"
     ]
    },
    {
     "name": "stdout",
     "output_type": "stream",
     "text": [
      "Iteration 1, Current Score: 1.0,                 Best Feature: davinci-logprobs s-max, New Score: 1.0\n",
      "TRAINING WITH summary AUGMENTED DATA.\n",
      "Train size: 100\n",
      "F1-Score: 0.9525915443127543\n",
      "\n",
      "passes...\n"
     ]
    },
    {
     "data": {
      "image/png": "[encoded data removed]",
      "text/plain": [
       "<Figure size 640x480 with 1 Axes>"
      ]
     },
     "metadata": {},
     "output_type": "display_data"
    },
    {
     "name": "stdout",
     "output_type": "stream",
     "text": [
      "**************** SEED 97 ****************\n",
      "***************** AUGMENTATION: baseline *****************\n"
     ]
    },
    {
     "data": {
      "application/vnd.jupyter.widget-view+json": {
       "model_id": "b3238903a1614238a8174acbfcf8a3c4",
       "version_major": 2,
       "version_minor": 0
      },
      "text/plain": [
       "  0%|          | 0/5 [00:00<?, ?it/s]"
      ]
     },
     "metadata": {},
     "output_type": "display_data"
    },
    {
     "name": "stdout",
     "output_type": "stream",
     "text": [
      "***************** TRAIN SIZE: 10 *****************\n"
     ]
    },
    {
     "name": "stderr",
     "output_type": "stream",
     "text": [
      "100%|███████████████████████████████████████████████████| 2534/2534 [00:09<00:00, 254.16it/s]\n"
     ]
    },
    {
     "name": "stdout",
     "output_type": "stream",
     "text": [
      "Iteration 0, Current Score: 0,                 Best Feature: davinci-logprobs v-div unigram-logprobs s-min, New Score: 1.0\n"
     ]
    },
    {
     "name": "stderr",
     "output_type": "stream",
     "text": [
      "100%|███████████████████████████████████████████████████| 2533/2533 [00:11<00:00, 225.03it/s]\n"
     ]
    },
    {
     "name": "stdout",
     "output_type": "stream",
     "text": [
      "Iteration 1, Current Score: 1.0,                 Best Feature: davinci-logprobs s-max, New Score: 1.0\n",
      "TRAINING WITHOUT AUGMENTATIONS\n",
      "Train size: 10\n",
      "F1-Score: 0.6836723474436504\n",
      "\n",
      "passes...\n",
      "***************** TRAIN SIZE: 25 *****************\n"
     ]
    },
    {
     "name": "stderr",
     "output_type": "stream",
     "text": [
      "100%|███████████████████████████████████████████████████| 2534/2534 [00:09<00:00, 253.60it/s]\n"
     ]
    },
    {
     "name": "stdout",
     "output_type": "stream",
     "text": [
      "Iteration 0, Current Score: 0,                 Best Feature: davinci-logprobs s-avg, New Score: 1.0\n"
     ]
    },
    {
     "name": "stderr",
     "output_type": "stream",
     "text": [
      "100%|███████████████████████████████████████████████████| 2533/2533 [00:12<00:00, 206.48it/s]\n"
     ]
    },
    {
     "name": "stdout",
     "output_type": "stream",
     "text": [
      "Iteration 1, Current Score: 1.0,                 Best Feature: davinci-logprobs s-max, New Score: 1.0\n",
      "TRAINING WITHOUT AUGMENTATIONS\n",
      "Train size: 25\n",
      "F1-Score: 0.9403037179263397\n",
      "\n",
      "passes...\n",
      "***************** TRAIN SIZE: 50 *****************\n"
     ]
    },
    {
     "name": "stderr",
     "output_type": "stream",
     "text": [
      "100%|███████████████████████████████████████████████████| 2534/2534 [00:10<00:00, 245.24it/s]\n"
     ]
    },
    {
     "name": "stdout",
     "output_type": "stream",
     "text": [
      "Iteration 0, Current Score: 0,                 Best Feature: trigram-logprobs v-> davinci-logprobs s-avg, New Score: 1.0\n"
     ]
    },
    {
     "name": "stderr",
     "output_type": "stream",
     "text": [
      "100%|███████████████████████████████████████████████████| 2533/2533 [00:12<00:00, 203.63it/s]\n"
     ]
    },
    {
     "name": "stdout",
     "output_type": "stream",
     "text": [
      "Iteration 1, Current Score: 1.0,                 Best Feature: davinci-logprobs s-max, New Score: 1.0\n",
      "TRAINING WITHOUT AUGMENTATIONS\n",
      "Train size: 50\n",
      "F1-Score: 0.9880579317354112\n",
      "\n",
      "passes...\n",
      "***************** TRAIN SIZE: 75 *****************\n"
     ]
    },
    {
     "name": "stderr",
     "output_type": "stream",
     "text": [
      "100%|███████████████████████████████████████████████████| 2534/2534 [00:10<00:00, 241.47it/s]\n"
     ]
    },
    {
     "name": "stdout",
     "output_type": "stream",
     "text": [
      "Iteration 0, Current Score: 0,                 Best Feature: trigram-logprobs v-> davinci-logprobs s-avg, New Score: 1.0\n"
     ]
    },
    {
     "name": "stderr",
     "output_type": "stream",
     "text": [
      "100%|███████████████████████████████████████████████████| 2533/2533 [00:12<00:00, 200.07it/s]\n"
     ]
    },
    {
     "name": "stdout",
     "output_type": "stream",
     "text": [
      "Iteration 1, Current Score: 1.0,                 Best Feature: davinci-logprobs s-max, New Score: 1.0\n",
      "TRAINING WITHOUT AUGMENTATIONS\n",
      "Train size: 75\n",
      "F1-Score: 0.9822789144765003\n",
      "\n",
      "passes...\n",
      "***************** TRAIN SIZE: 100 *****************\n"
     ]
    },
    {
     "name": "stderr",
     "output_type": "stream",
     "text": [
      "100%|███████████████████████████████████████████████████| 2534/2534 [00:10<00:00, 241.72it/s]\n"
     ]
    },
    {
     "name": "stdout",
     "output_type": "stream",
     "text": [
      "Iteration 0, Current Score: 0,                 Best Feature: trigram-logprobs v-div ada-logprobs v-> davinci-logprobs s-avg, New Score: 0.99\n"
     ]
    },
    {
     "name": "stderr",
     "output_type": "stream",
     "text": [
      "100%|███████████████████████████████████████████████████| 2533/2533 [00:12<00:00, 196.44it/s]\n"
     ]
    },
    {
     "name": "stdout",
     "output_type": "stream",
     "text": [
      "Iteration 1, Current Score: 0.99,                 Best Feature: davinci-logprobs v-div trigram-logprobs s-avg-top-25, New Score: 1.0\n"
     ]
    },
    {
     "name": "stderr",
     "output_type": "stream",
     "text": [
      "100%|███████████████████████████████████████████████████| 2532/2532 [00:12<00:00, 199.43it/s]"
     ]
    },
    {
     "name": "stdout",
     "output_type": "stream",
     "text": [
      "Iteration 2, Current Score: 1.0,                 Best Feature: davinci-logprobs s-max, New Score: 1.0\n",
      "TRAINING WITHOUT AUGMENTATIONS\n",
      "Train size: 100\n",
      "F1-Score: 0.9915708812260536\n",
      "\n",
      "passes...\n",
      "***************** AUGMENTATION: synonym *****************\n"
     ]
    },
    {
     "name": "stderr",
     "output_type": "stream",
     "text": [
      "\n"
     ]
    },
    {
     "data": {
      "application/vnd.jupyter.widget-view+json": {
       "model_id": "24709d929ff84019a64e7dbbf4bf2072",
       "version_major": 2,
       "version_minor": 0
      },
      "text/plain": [
       "  0%|          | 0/5 [00:00<?, ?it/s]"
      ]
     },
     "metadata": {},
     "output_type": "display_data"
    },
    {
     "name": "stdout",
     "output_type": "stream",
     "text": [
      "***************** TRAIN SIZE: 10 *****************\n"
     ]
    },
    {
     "name": "stderr",
     "output_type": "stream",
     "text": [
      "100%|███████████████████████████████████████████████████| 2534/2534 [00:09<00:00, 254.96it/s]\n"
     ]
    },
    {
     "name": "stdout",
     "output_type": "stream",
     "text": [
      "Iteration 0, Current Score: 0,                 Best Feature: davinci-logprobs v-div unigram-logprobs s-min, New Score: 1.0\n"
     ]
    },
    {
     "name": "stderr",
     "output_type": "stream",
     "text": [
      "100%|███████████████████████████████████████████████████| 2533/2533 [00:11<00:00, 229.93it/s]\n"
     ]
    },
    {
     "name": "stdout",
     "output_type": "stream",
     "text": [
      "Iteration 1, Current Score: 1.0,                 Best Feature: davinci-logprobs s-max, New Score: 1.0\n",
      "TRAINING WITH synonym AUGMENTED DATA.\n",
      "Train size: 10\n",
      "F1-Score: 0.6492394366197183\n",
      "\n",
      "passes...\n",
      "***************** TRAIN SIZE: 25 *****************\n"
     ]
    },
    {
     "name": "stderr",
     "output_type": "stream",
     "text": [
      "100%|███████████████████████████████████████████████████| 2534/2534 [00:10<00:00, 252.58it/s]\n"
     ]
    },
    {
     "name": "stdout",
     "output_type": "stream",
     "text": [
      "Iteration 0, Current Score: 0,                 Best Feature: trigram-logprobs v-sub ada-logprobs v-> davinci-logprobs s-avg-top-25, New Score: 1.0\n"
     ]
    },
    {
     "name": "stderr",
     "output_type": "stream",
     "text": [
      "100%|███████████████████████████████████████████████████| 2533/2533 [00:11<00:00, 212.03it/s]\n"
     ]
    },
    {
     "name": "stdout",
     "output_type": "stream",
     "text": [
      "Iteration 1, Current Score: 1.0,                 Best Feature: davinci-logprobs s-max, New Score: 1.0\n",
      "TRAINING WITH synonym AUGMENTED DATA.\n",
      "Train size: 25\n",
      "F1-Score: 0.9103485937926641\n",
      "\n",
      "passes...\n",
      "***************** TRAIN SIZE: 50 *****************\n"
     ]
    },
    {
     "name": "stderr",
     "output_type": "stream",
     "text": [
      "100%|███████████████████████████████████████████████████| 2534/2534 [00:10<00:00, 249.93it/s]\n"
     ]
    },
    {
     "name": "stdout",
     "output_type": "stream",
     "text": [
      "Iteration 0, Current Score: 0,                 Best Feature: trigram-logprobs v-sub davinci-logprobs s-avg, New Score: 1.0\n"
     ]
    },
    {
     "name": "stderr",
     "output_type": "stream",
     "text": [
      "100%|███████████████████████████████████████████████████| 2533/2533 [00:12<00:00, 205.01it/s]\n"
     ]
    },
    {
     "name": "stdout",
     "output_type": "stream",
     "text": [
      "Iteration 1, Current Score: 1.0,                 Best Feature: davinci-logprobs s-len, New Score: 1.0\n",
      "TRAINING WITH synonym AUGMENTED DATA.\n",
      "Train size: 50\n",
      "F1-Score: 0.9595124074880279\n",
      "\n",
      "passes...\n",
      "***************** TRAIN SIZE: 75 *****************\n"
     ]
    },
    {
     "name": "stderr",
     "output_type": "stream",
     "text": [
      "100%|███████████████████████████████████████████████████| 2534/2534 [00:10<00:00, 239.54it/s]\n"
     ]
    },
    {
     "name": "stdout",
     "output_type": "stream",
     "text": [
      "Iteration 0, Current Score: 0,                 Best Feature: trigram-logprobs v-sub ada-logprobs v-> davinci-logprobs s-avg, New Score: 1.0\n"
     ]
    },
    {
     "name": "stderr",
     "output_type": "stream",
     "text": [
      "100%|███████████████████████████████████████████████████| 2533/2533 [00:12<00:00, 198.84it/s]\n"
     ]
    },
    {
     "name": "stdout",
     "output_type": "stream",
     "text": [
      "Iteration 1, Current Score: 1.0,                 Best Feature: davinci-logprobs s-max, New Score: 1.0\n",
      "TRAINING WITH synonym AUGMENTED DATA.\n",
      "Train size: 75\n",
      "F1-Score: 0.9344453412250022\n",
      "\n",
      "passes...\n",
      "***************** TRAIN SIZE: 100 *****************\n"
     ]
    },
    {
     "name": "stderr",
     "output_type": "stream",
     "text": [
      "100%|███████████████████████████████████████████████████| 2534/2534 [00:10<00:00, 239.46it/s]\n"
     ]
    },
    {
     "name": "stdout",
     "output_type": "stream",
     "text": [
      "Iteration 0, Current Score: 0,                 Best Feature: trigram-logprobs v-div ada-logprobs v-> davinci-logprobs s-avg, New Score: 1.0\n"
     ]
    },
    {
     "name": "stderr",
     "output_type": "stream",
     "text": [
      "100%|███████████████████████████████████████████████████| 2533/2533 [00:12<00:00, 194.86it/s]"
     ]
    },
    {
     "name": "stdout",
     "output_type": "stream",
     "text": [
      "Iteration 1, Current Score: 1.0,                 Best Feature: davinci-logprobs s-avg, New Score: 1.0\n",
      "TRAINING WITH synonym AUGMENTED DATA.\n",
      "Train size: 100\n",
      "F1-Score: 0.9683604985618408\n",
      "\n",
      "passes...\n",
      "***************** AUGMENTATION: back *****************\n"
     ]
    },
    {
     "name": "stderr",
     "output_type": "stream",
     "text": [
      "\n"
     ]
    },
    {
     "data": {
      "application/vnd.jupyter.widget-view+json": {
       "model_id": "08993972bb0b4e92a6813deaea2b4c76",
       "version_major": 2,
       "version_minor": 0
      },
      "text/plain": [
       "  0%|          | 0/5 [00:00<?, ?it/s]"
      ]
     },
     "metadata": {},
     "output_type": "display_data"
    },
    {
     "name": "stdout",
     "output_type": "stream",
     "text": [
      "***************** TRAIN SIZE: 10 *****************\n"
     ]
    },
    {
     "name": "stderr",
     "output_type": "stream",
     "text": [
      "100%|███████████████████████████████████████████████████| 2534/2534 [00:10<00:00, 253.25it/s]\n"
     ]
    },
    {
     "name": "stdout",
     "output_type": "stream",
     "text": [
      "Iteration 0, Current Score: 0,                 Best Feature: davinci-logprobs v-div unigram-logprobs s-min, New Score: 1.0\n"
     ]
    },
    {
     "name": "stderr",
     "output_type": "stream",
     "text": [
      "100%|███████████████████████████████████████████████████| 2533/2533 [00:11<00:00, 220.63it/s]\n"
     ]
    },
    {
     "name": "stdout",
     "output_type": "stream",
     "text": [
      "Iteration 1, Current Score: 1.0,                 Best Feature: davinci-logprobs s-max, New Score: 1.0\n",
      "TRAINING WITH back AUGMENTED DATA.\n",
      "Train size: 10\n",
      "F1-Score: 0.46585209003215433\n",
      "\n",
      "passes...\n",
      "***************** TRAIN SIZE: 25 *****************\n"
     ]
    },
    {
     "name": "stderr",
     "output_type": "stream",
     "text": [
      "100%|███████████████████████████████████████████████████| 2534/2534 [00:10<00:00, 246.81it/s]\n"
     ]
    },
    {
     "name": "stdout",
     "output_type": "stream",
     "text": [
      "Iteration 0, Current Score: 0,                 Best Feature: trigram-logprobs v-sub ada-logprobs v-> davinci-logprobs s-avg-top-25, New Score: 1.0\n"
     ]
    },
    {
     "name": "stderr",
     "output_type": "stream",
     "text": [
      "100%|███████████████████████████████████████████████████| 2533/2533 [00:12<00:00, 203.57it/s]\n"
     ]
    },
    {
     "name": "stdout",
     "output_type": "stream",
     "text": [
      "Iteration 1, Current Score: 1.0,                 Best Feature: davinci-logprobs s-max, New Score: 1.0\n",
      "TRAINING WITH back AUGMENTED DATA.\n",
      "Train size: 25\n",
      "F1-Score: 0.9582429030297769\n",
      "\n",
      "passes...\n",
      "***************** TRAIN SIZE: 50 *****************\n"
     ]
    },
    {
     "name": "stderr",
     "output_type": "stream",
     "text": [
      "100%|███████████████████████████████████████████████████| 2534/2534 [00:09<00:00, 253.85it/s]\n"
     ]
    },
    {
     "name": "stdout",
     "output_type": "stream",
     "text": [
      "Iteration 0, Current Score: 0,                 Best Feature: trigram-logprobs v-sub davinci-logprobs s-avg, New Score: 1.0\n"
     ]
    },
    {
     "name": "stderr",
     "output_type": "stream",
     "text": [
      "100%|███████████████████████████████████████████████████| 2533/2533 [00:12<00:00, 207.52it/s]\n"
     ]
    },
    {
     "name": "stdout",
     "output_type": "stream",
     "text": [
      "Iteration 1, Current Score: 1.0,                 Best Feature: davinci-logprobs s-len, New Score: 1.0\n",
      "TRAINING WITH back AUGMENTED DATA.\n",
      "Train size: 50\n",
      "F1-Score: 0.9547361062565537\n",
      "\n",
      "passes...\n",
      "***************** TRAIN SIZE: 75 *****************\n"
     ]
    },
    {
     "name": "stderr",
     "output_type": "stream",
     "text": [
      "100%|███████████████████████████████████████████████████| 2534/2534 [00:10<00:00, 239.39it/s]\n"
     ]
    },
    {
     "name": "stdout",
     "output_type": "stream",
     "text": [
      "Iteration 0, Current Score: 0,                 Best Feature: trigram-logprobs v-sub ada-logprobs v-> davinci-logprobs s-avg, New Score: 1.0\n"
     ]
    },
    {
     "name": "stderr",
     "output_type": "stream",
     "text": [
      "100%|███████████████████████████████████████████████████| 2533/2533 [00:12<00:00, 200.79it/s]\n"
     ]
    },
    {
     "name": "stdout",
     "output_type": "stream",
     "text": [
      "Iteration 1, Current Score: 1.0,                 Best Feature: davinci-logprobs s-max, New Score: 1.0\n",
      "TRAINING WITH back AUGMENTED DATA.\n",
      "Train size: 75\n",
      "F1-Score: 0.9263443289652056\n",
      "\n",
      "passes...\n",
      "***************** TRAIN SIZE: 100 *****************\n"
     ]
    },
    {
     "name": "stderr",
     "output_type": "stream",
     "text": [
      "100%|███████████████████████████████████████████████████| 2534/2534 [00:10<00:00, 235.70it/s]\n"
     ]
    },
    {
     "name": "stdout",
     "output_type": "stream",
     "text": [
      "Iteration 0, Current Score: 0,                 Best Feature: trigram-logprobs v-div ada-logprobs v-> davinci-logprobs s-avg, New Score: 1.0\n"
     ]
    },
    {
     "name": "stderr",
     "output_type": "stream",
     "text": [
      "100%|███████████████████████████████████████████████████| 2533/2533 [00:12<00:00, 200.59it/s]\n"
     ]
    },
    {
     "name": "stdout",
     "output_type": "stream",
     "text": [
      "Iteration 1, Current Score: 1.0,                 Best Feature: davinci-logprobs s-avg, New Score: 1.0\n",
      "TRAINING WITH back AUGMENTED DATA.\n",
      "Train size: 100\n",
      "F1-Score: 0.9413342872473618\n",
      "\n",
      "passes...\n",
      "***************** AUGMENTATION: emotion *****************\n"
     ]
    },
    {
     "data": {
      "application/vnd.jupyter.widget-view+json": {
       "model_id": "4dcd4826556649d1a5ff4be5911295f1",
       "version_major": 2,
       "version_minor": 0
      },
      "text/plain": [
       "  0%|          | 0/5 [00:00<?, ?it/s]"
      ]
     },
     "metadata": {},
     "output_type": "display_data"
    },
    {
     "name": "stdout",
     "output_type": "stream",
     "text": [
      "***************** TRAIN SIZE: 10 *****************\n"
     ]
    },
    {
     "name": "stderr",
     "output_type": "stream",
     "text": [
      "100%|███████████████████████████████████████████████████| 2534/2534 [00:10<00:00, 249.95it/s]\n"
     ]
    },
    {
     "name": "stdout",
     "output_type": "stream",
     "text": [
      "Iteration 0, Current Score: 0,                 Best Feature: davinci-logprobs v-div unigram-logprobs s-min, New Score: 1.0\n"
     ]
    },
    {
     "name": "stderr",
     "output_type": "stream",
     "text": [
      "100%|███████████████████████████████████████████████████| 2533/2533 [00:10<00:00, 230.57it/s]\n"
     ]
    },
    {
     "name": "stdout",
     "output_type": "stream",
     "text": [
      "Iteration 1, Current Score: 1.0,                 Best Feature: davinci-logprobs s-max, New Score: 1.0\n",
      "TRAINING WITH emotion AUGMENTED DATA.\n",
      "Train size: 10\n",
      "F1-Score: 0.573341303048416\n",
      "\n",
      "passes...\n",
      "***************** TRAIN SIZE: 25 *****************\n"
     ]
    },
    {
     "name": "stderr",
     "output_type": "stream",
     "text": [
      "100%|███████████████████████████████████████████████████| 2534/2534 [00:10<00:00, 253.09it/s]\n"
     ]
    },
    {
     "name": "stdout",
     "output_type": "stream",
     "text": [
      "Iteration 0, Current Score: 0,                 Best Feature: trigram-logprobs v-sub ada-logprobs v-> davinci-logprobs s-avg-top-25, New Score: 1.0\n"
     ]
    },
    {
     "name": "stderr",
     "output_type": "stream",
     "text": [
      "100%|███████████████████████████████████████████████████| 2533/2533 [00:12<00:00, 208.36it/s]\n"
     ]
    },
    {
     "name": "stdout",
     "output_type": "stream",
     "text": [
      "Iteration 1, Current Score: 1.0,                 Best Feature: davinci-logprobs s-max, New Score: 1.0\n",
      "TRAINING WITH emotion AUGMENTED DATA.\n",
      "Train size: 25\n",
      "F1-Score: 0.9097215883158375\n",
      "\n",
      "passes...\n",
      "***************** TRAIN SIZE: 50 *****************\n"
     ]
    },
    {
     "name": "stderr",
     "output_type": "stream",
     "text": [
      "100%|███████████████████████████████████████████████████| 2534/2534 [00:10<00:00, 250.90it/s]\n"
     ]
    },
    {
     "name": "stdout",
     "output_type": "stream",
     "text": [
      "Iteration 0, Current Score: 0,                 Best Feature: trigram-logprobs v-sub davinci-logprobs s-avg, New Score: 1.0\n"
     ]
    },
    {
     "name": "stderr",
     "output_type": "stream",
     "text": [
      "100%|███████████████████████████████████████████████████| 2533/2533 [00:12<00:00, 207.86it/s]\n"
     ]
    },
    {
     "name": "stdout",
     "output_type": "stream",
     "text": [
      "Iteration 1, Current Score: 1.0,                 Best Feature: davinci-logprobs s-len, New Score: 1.0\n",
      "TRAINING WITH emotion AUGMENTED DATA.\n",
      "Train size: 50\n",
      "F1-Score: 0.9378782484870061\n",
      "\n",
      "passes...\n",
      "***************** TRAIN SIZE: 75 *****************\n"
     ]
    },
    {
     "name": "stderr",
     "output_type": "stream",
     "text": [
      "100%|███████████████████████████████████████████████████| 2534/2534 [00:10<00:00, 239.23it/s]\n"
     ]
    },
    {
     "name": "stdout",
     "output_type": "stream",
     "text": [
      "Iteration 0, Current Score: 0,                 Best Feature: trigram-logprobs v-sub ada-logprobs v-> davinci-logprobs s-avg, New Score: 1.0\n"
     ]
    },
    {
     "name": "stderr",
     "output_type": "stream",
     "text": [
      "100%|███████████████████████████████████████████████████| 2533/2533 [00:12<00:00, 199.50it/s]\n"
     ]
    },
    {
     "name": "stdout",
     "output_type": "stream",
     "text": [
      "Iteration 1, Current Score: 1.0,                 Best Feature: davinci-logprobs s-max, New Score: 1.0\n",
      "TRAINING WITH emotion AUGMENTED DATA.\n",
      "Train size: 75\n",
      "F1-Score: 0.9234675371780922\n",
      "\n",
      "passes...\n",
      "***************** TRAIN SIZE: 100 *****************\n"
     ]
    },
    {
     "name": "stderr",
     "output_type": "stream",
     "text": [
      "100%|███████████████████████████████████████████████████| 2534/2534 [00:10<00:00, 235.19it/s]\n"
     ]
    },
    {
     "name": "stdout",
     "output_type": "stream",
     "text": [
      "Iteration 0, Current Score: 0,                 Best Feature: trigram-logprobs v-div ada-logprobs v-> davinci-logprobs s-avg, New Score: 1.0\n"
     ]
    },
    {
     "name": "stderr",
     "output_type": "stream",
     "text": [
      "100%|███████████████████████████████████████████████████| 2533/2533 [00:12<00:00, 197.48it/s]"
     ]
    },
    {
     "name": "stdout",
     "output_type": "stream",
     "text": [
      "Iteration 1, Current Score: 1.0,                 Best Feature: davinci-logprobs s-avg, New Score: 1.0\n",
      "TRAINING WITH emotion AUGMENTED DATA.\n",
      "Train size: 100\n",
      "F1-Score: 0.9508022338445173\n",
      "\n",
      "passes...\n",
      "***************** AUGMENTATION: style *****************\n"
     ]
    },
    {
     "name": "stderr",
     "output_type": "stream",
     "text": [
      "\n"
     ]
    },
    {
     "data": {
      "application/vnd.jupyter.widget-view+json": {
       "model_id": "8bc400ed4ec34088a74c78f4740411ff",
       "version_major": 2,
       "version_minor": 0
      },
      "text/plain": [
       "  0%|          | 0/5 [00:00<?, ?it/s]"
      ]
     },
     "metadata": {},
     "output_type": "display_data"
    },
    {
     "name": "stdout",
     "output_type": "stream",
     "text": [
      "***************** TRAIN SIZE: 10 *****************\n"
     ]
    },
    {
     "name": "stderr",
     "output_type": "stream",
     "text": [
      "100%|███████████████████████████████████████████████████| 2534/2534 [00:09<00:00, 254.51it/s]\n"
     ]
    },
    {
     "name": "stdout",
     "output_type": "stream",
     "text": [
      "Iteration 0, Current Score: 0,                 Best Feature: davinci-logprobs v-div unigram-logprobs s-min, New Score: 1.0\n"
     ]
    },
    {
     "name": "stderr",
     "output_type": "stream",
     "text": [
      "100%|███████████████████████████████████████████████████| 2533/2533 [00:11<00:00, 226.83it/s]\n"
     ]
    },
    {
     "name": "stdout",
     "output_type": "stream",
     "text": [
      "Iteration 1, Current Score: 1.0,                 Best Feature: davinci-logprobs s-max, New Score: 1.0\n",
      "TRAINING WITH style AUGMENTED DATA.\n",
      "Train size: 10\n",
      "F1-Score: 0.45584045584045585\n",
      "\n",
      "passes...\n",
      "***************** TRAIN SIZE: 25 *****************\n"
     ]
    },
    {
     "name": "stderr",
     "output_type": "stream",
     "text": [
      "100%|███████████████████████████████████████████████████| 2534/2534 [00:09<00:00, 256.39it/s]\n"
     ]
    },
    {
     "name": "stdout",
     "output_type": "stream",
     "text": [
      "Iteration 0, Current Score: 0,                 Best Feature: trigram-logprobs v-sub ada-logprobs v-> davinci-logprobs s-avg-top-25, New Score: 1.0\n"
     ]
    },
    {
     "name": "stderr",
     "output_type": "stream",
     "text": [
      "100%|███████████████████████████████████████████████████| 2533/2533 [00:11<00:00, 213.73it/s]\n"
     ]
    },
    {
     "name": "stdout",
     "output_type": "stream",
     "text": [
      "Iteration 1, Current Score: 1.0,                 Best Feature: davinci-logprobs s-max, New Score: 1.0\n",
      "TRAINING WITH style AUGMENTED DATA.\n",
      "Train size: 25\n",
      "F1-Score: 0.9272939696234385\n",
      "\n",
      "passes...\n",
      "***************** TRAIN SIZE: 50 *****************\n"
     ]
    },
    {
     "name": "stderr",
     "output_type": "stream",
     "text": [
      "100%|███████████████████████████████████████████████████| 2534/2534 [00:09<00:00, 253.83it/s]\n"
     ]
    },
    {
     "name": "stdout",
     "output_type": "stream",
     "text": [
      "Iteration 0, Current Score: 0,                 Best Feature: trigram-logprobs v-sub davinci-logprobs s-avg, New Score: 1.0\n"
     ]
    },
    {
     "name": "stderr",
     "output_type": "stream",
     "text": [
      "100%|███████████████████████████████████████████████████| 2533/2533 [00:12<00:00, 206.23it/s]\n"
     ]
    },
    {
     "name": "stdout",
     "output_type": "stream",
     "text": [
      "Iteration 1, Current Score: 1.0,                 Best Feature: davinci-logprobs s-len, New Score: 1.0\n",
      "TRAINING WITH style AUGMENTED DATA.\n",
      "Train size: 50\n",
      "F1-Score: 0.9586086956521739\n",
      "\n",
      "passes...\n",
      "***************** TRAIN SIZE: 75 *****************\n"
     ]
    },
    {
     "name": "stderr",
     "output_type": "stream",
     "text": [
      "100%|███████████████████████████████████████████████████| 2534/2534 [00:10<00:00, 232.59it/s]\n"
     ]
    },
    {
     "name": "stdout",
     "output_type": "stream",
     "text": [
      "Iteration 0, Current Score: 0,                 Best Feature: trigram-logprobs v-sub ada-logprobs v-> davinci-logprobs s-avg, New Score: 1.0\n"
     ]
    },
    {
     "name": "stderr",
     "output_type": "stream",
     "text": [
      "100%|███████████████████████████████████████████████████| 2533/2533 [00:12<00:00, 197.51it/s]\n"
     ]
    },
    {
     "name": "stdout",
     "output_type": "stream",
     "text": [
      "Iteration 1, Current Score: 1.0,                 Best Feature: davinci-logprobs s-max, New Score: 1.0\n",
      "TRAINING WITH style AUGMENTED DATA.\n",
      "Train size: 75\n",
      "F1-Score: 0.918648082354013\n",
      "\n",
      "passes...\n",
      "***************** TRAIN SIZE: 100 *****************\n"
     ]
    },
    {
     "name": "stderr",
     "output_type": "stream",
     "text": [
      "100%|███████████████████████████████████████████████████| 2534/2534 [00:10<00:00, 245.32it/s]\n"
     ]
    },
    {
     "name": "stdout",
     "output_type": "stream",
     "text": [
      "Iteration 0, Current Score: 0,                 Best Feature: trigram-logprobs v-div ada-logprobs v-> davinci-logprobs s-avg, New Score: 1.0\n"
     ]
    },
    {
     "name": "stderr",
     "output_type": "stream",
     "text": [
      "100%|███████████████████████████████████████████████████| 2533/2533 [00:12<00:00, 199.02it/s]\n"
     ]
    },
    {
     "name": "stdout",
     "output_type": "stream",
     "text": [
      "Iteration 1, Current Score: 1.0,                 Best Feature: davinci-logprobs s-avg, New Score: 1.0\n",
      "TRAINING WITH style AUGMENTED DATA.\n",
      "Train size: 100\n",
      "F1-Score: 0.9435073627844712\n",
      "\n",
      "passes...\n",
      "***************** AUGMENTATION: summary *****************\n"
     ]
    },
    {
     "data": {
      "application/vnd.jupyter.widget-view+json": {
       "model_id": "bfa289b886ea448089fcd57502dc9e7e",
       "version_major": 2,
       "version_minor": 0
      },
      "text/plain": [
       "  0%|          | 0/5 [00:00<?, ?it/s]"
      ]
     },
     "metadata": {},
     "output_type": "display_data"
    },
    {
     "name": "stdout",
     "output_type": "stream",
     "text": [
      "***************** TRAIN SIZE: 10 *****************\n"
     ]
    },
    {
     "name": "stderr",
     "output_type": "stream",
     "text": [
      "100%|███████████████████████████████████████████████████| 2534/2534 [00:09<00:00, 259.77it/s]\n"
     ]
    },
    {
     "name": "stdout",
     "output_type": "stream",
     "text": [
      "Iteration 0, Current Score: 0,                 Best Feature: davinci-logprobs v-div unigram-logprobs s-min, New Score: 1.0\n"
     ]
    },
    {
     "name": "stderr",
     "output_type": "stream",
     "text": [
      "100%|███████████████████████████████████████████████████| 2533/2533 [00:11<00:00, 229.83it/s]\n"
     ]
    },
    {
     "name": "stdout",
     "output_type": "stream",
     "text": [
      "Iteration 1, Current Score: 1.0,                 Best Feature: davinci-logprobs s-max, New Score: 1.0\n",
      "TRAINING WITH summary AUGMENTED DATA.\n",
      "Train size: 10\n",
      "F1-Score: 0.74914516630401\n",
      "\n",
      "passes...\n",
      "***************** TRAIN SIZE: 25 *****************\n"
     ]
    },
    {
     "name": "stderr",
     "output_type": "stream",
     "text": [
      "100%|███████████████████████████████████████████████████| 2534/2534 [00:10<00:00, 247.52it/s]\n"
     ]
    },
    {
     "name": "stdout",
     "output_type": "stream",
     "text": [
      "Iteration 0, Current Score: 0,                 Best Feature: trigram-logprobs v-sub ada-logprobs v-> davinci-logprobs s-avg-top-25, New Score: 1.0\n"
     ]
    },
    {
     "name": "stderr",
     "output_type": "stream",
     "text": [
      "100%|███████████████████████████████████████████████████| 2533/2533 [00:12<00:00, 209.78it/s]\n"
     ]
    },
    {
     "name": "stdout",
     "output_type": "stream",
     "text": [
      "Iteration 1, Current Score: 1.0,                 Best Feature: davinci-logprobs s-max, New Score: 1.0\n",
      "TRAINING WITH summary AUGMENTED DATA.\n",
      "Train size: 25\n",
      "F1-Score: 0.8908759124087591\n",
      "\n",
      "passes...\n",
      "***************** TRAIN SIZE: 50 *****************\n"
     ]
    },
    {
     "name": "stderr",
     "output_type": "stream",
     "text": [
      "100%|███████████████████████████████████████████████████| 2534/2534 [00:10<00:00, 250.62it/s]\n"
     ]
    },
    {
     "name": "stdout",
     "output_type": "stream",
     "text": [
      "Iteration 0, Current Score: 0,                 Best Feature: trigram-logprobs v-sub davinci-logprobs s-avg, New Score: 1.0\n"
     ]
    },
    {
     "name": "stderr",
     "output_type": "stream",
     "text": [
      "100%|███████████████████████████████████████████████████| 2533/2533 [00:12<00:00, 208.04it/s]\n"
     ]
    },
    {
     "name": "stdout",
     "output_type": "stream",
     "text": [
      "Iteration 1, Current Score: 1.0,                 Best Feature: davinci-logprobs s-len, New Score: 1.0\n",
      "TRAINING WITH summary AUGMENTED DATA.\n",
      "Train size: 50\n",
      "F1-Score: 0.9644214162348878\n",
      "\n",
      "passes...\n",
      "***************** TRAIN SIZE: 75 *****************\n"
     ]
    },
    {
     "name": "stderr",
     "output_type": "stream",
     "text": [
      "100%|███████████████████████████████████████████████████| 2534/2534 [00:10<00:00, 240.37it/s]\n"
     ]
    },
    {
     "name": "stdout",
     "output_type": "stream",
     "text": [
      "Iteration 0, Current Score: 0,                 Best Feature: trigram-logprobs v-sub ada-logprobs v-> davinci-logprobs s-avg, New Score: 1.0\n"
     ]
    },
    {
     "name": "stderr",
     "output_type": "stream",
     "text": [
      "100%|███████████████████████████████████████████████████| 2533/2533 [00:12<00:00, 200.22it/s]\n"
     ]
    },
    {
     "name": "stdout",
     "output_type": "stream",
     "text": [
      "Iteration 1, Current Score: 1.0,                 Best Feature: davinci-logprobs s-max, New Score: 1.0\n",
      "TRAINING WITH summary AUGMENTED DATA.\n",
      "Train size: 75\n",
      "F1-Score: 0.9192185370286233\n",
      "\n",
      "passes...\n",
      "***************** TRAIN SIZE: 100 *****************\n"
     ]
    },
    {
     "name": "stderr",
     "output_type": "stream",
     "text": [
      "100%|███████████████████████████████████████████████████| 2534/2534 [00:10<00:00, 245.84it/s]\n"
     ]
    },
    {
     "name": "stdout",
     "output_type": "stream",
     "text": [
      "Iteration 0, Current Score: 0,                 Best Feature: trigram-logprobs v-div ada-logprobs v-> davinci-logprobs s-avg, New Score: 1.0\n"
     ]
    },
    {
     "name": "stderr",
     "output_type": "stream",
     "text": [
      "100%|███████████████████████████████████████████████████| 2533/2533 [00:12<00:00, 198.65it/s]\n"
     ]
    },
    {
     "name": "stdout",
     "output_type": "stream",
     "text": [
      "Iteration 1, Current Score: 1.0,                 Best Feature: davinci-logprobs s-avg, New Score: 1.0\n",
      "TRAINING WITH summary AUGMENTED DATA.\n",
      "Train size: 100\n",
      "F1-Score: 0.9473684210526315\n",
      "\n",
      "passes...\n"
     ]
    },
    {
     "data": {
      "image/png": "[encoded data removed]",
      "text/plain": [
       "<Figure size 640x480 with 1 Axes>"
      ]
     },
     "metadata": {},
     "output_type": "display_data"
    }
   ],
   "source": [
    "for seed in seeds:\n",
    "    early_stop = False\n",
    "    print(f\"**************** SEED {seed} ****************\")\n",
    "    for aug in augmentations:\n",
    "        random.seed(seed)\n",
    "        np.random.seed(seed)\n",
    "        torch.manual_seed(seed)\n",
    "        scores = []\n",
    "        if early_stop:\n",
    "            print(\"early stopping\")\n",
    "            break\n",
    "        print(f\"***************** AUGMENTATION: {aug} *****************\")\n",
    "        for size in tqdm(train_sizes):\n",
    "            print(f\"***************** TRAIN SIZE: {size} *****************\")\n",
    "            train_indices, test_indices, _, _ = train_test_split(\n",
    "                np.arange(len(train_files)),\n",
    "                train_labels,\n",
    "                train_size = size,\n",
    "                stratify = train_labels\n",
    "            )\n",
    "            \n",
    "            all_test_indices = np.concatenate((test_indices, other_test_indices))\n",
    "        \n",
    "            curr_best_features = select_features(\n",
    "                exp_to_data,\n",
    "                train_labels,\n",
    "                verbose=True,\n",
    "                to_normalize = True,\n",
    "                indices = train_indices\n",
    "            )\n",
    "        \n",
    "            data = normalize(get_featurized_data(curr_best_features))\n",
    "            model = LogisticRegression()\n",
    "            \n",
    "            if aug != \"baseline\":\n",
    "                print(f\"TRAINING WITH {aug} AUGMENTED DATA.\")\n",
    "                t_data_aug = pickle.load(open(f\"t_data_{aug}\", \"rb\"))\n",
    "                exp_to_data_aug = pickle.load(open(f\"symbolic_data_{aug}\", \"rb\"))\n",
    "                \n",
    "                aug_data = normalize(get_featurized_aug(curr_best_features, t_data_aug, exp_to_data_aug))\n",
    "                aug_indices = np.random.choice(train_indices, size = int(len(train_indices) * config.p))\n",
    "                \n",
    "                y = np.concatenate((all_labels[train_indices], all_labels[aug_indices])) # Duplicate training labels\n",
    "                X = np.concatenate((data[train_indices], aug_data[aug_indices])) # Appending augmented data to original data\n",
    "            else:\n",
    "                print(\"TRAINING WITHOUT AUGMENTATIONS\")\n",
    "                y = all_labels[train_indices]\n",
    "                X = data[train_indices]\n",
    "        \n",
    "            model.fit(X, y)\n",
    "            \n",
    "            score = f1_score(all_labels[all_test_indices], model.predict(data[all_test_indices]))\n",
    "            \n",
    "            print(f\"Train size: {size}\")\n",
    "            print(f\"F1-Score: {score}\")\n",
    "            print()\n",
    "            if aug == \"baseline\" and ((size == 10 and score > 0.91) or (size == 25 and score > 0.96)):\n",
    "                print(\"early stopping.\")\n",
    "                early_stop = True\n",
    "                break\n",
    "            else:\n",
    "                print(\"passes...\")\n",
    "            scores.append(score)\n",
    "    \n",
    "        score_dict[aug] = scores\n",
    "        \n",
    "    if not early_stop:\n",
    "        if not os.path.exists(f\"experiments/50-percent/{seed}\"):\n",
    "            os.makedirs(f\"experiments/50-percent/{seed}\")\n",
    "            \n",
    "        for experiment, values in score_dict.items():\n",
    "            plt.plot(train_sizes, values, label = experiment)\n",
    "        \n",
    "        plt.legend()\n",
    "        plt.xlabel(\"Training Size\")\n",
    "        plt.ylabel(\"F1 Score\")\n",
    "        plt.savefig(f\"experiments/50-percent/{seed}/results.png\")\n",
    "        plt.show()\n",
    "    \n",
    "        with open(f'experiments/50-percent/{seed}/results.pickle', 'wb') as handle:\n",
    "            pickle.dump(score_dict, handle, protocol=pickle.HIGHEST_PROTOCOL)"
   ]
  },
  {
   "cell_type": "code",
   "execution_count": null,
   "id": "a53c310a-1248-4438-96d8-ddc12a847bfd",
   "metadata": {},
   "outputs": [],
   "source": []
  },
  {
   "cell_type": "code",
   "execution_count": null,
   "id": "e37e1523-87ba-4d62-bdd5-f99048cd6372",
   "metadata": {},
   "outputs": [],
   "source": []
  }
 ],
 "metadata": {
  "kernelspec": {
   "display_name": "Python 3 (ipykernel)",
   "language": "python",
   "name": "python3"
  },
  "language_info": {
   "codemirror_mode": {
    "name": "ipython",
    "version": 3
   },
   "file_extension": ".py",
   "mimetype": "text/x-python",
   "name": "python",
   "nbconvert_exporter": "python",
   "pygments_lexer": "ipython3",
   "version": "3.12.0"
  }
 },
 "nbformat": 4,
 "nbformat_minor": 5
}
