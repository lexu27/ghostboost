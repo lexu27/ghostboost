{
 "cells": [
  {
   "cell_type": "code",
   "execution_count": 1,
   "id": "82447bd0-254b-444b-8a30-2cfbcc414070",
   "metadata": {},
   "outputs": [],
   "source": [
    "import pandas as pd"
   ]
  },
  {
   "cell_type": "code",
   "execution_count": 6,
   "id": "f453e939-0da8-4aca-addb-2be7551f8dc6",
   "metadata": {},
   "outputs": [],
   "source": [
    "data = pd.read_csv(\"debugging.csv\")"
   ]
  },
  {
   "cell_type": "code",
   "execution_count": 7,
   "id": "10e9c359-a207-4b79-b962-c307c41bfbb5",
   "metadata": {},
   "outputs": [
    {
     "data": {
      "text/plain": [
       "Index(['Unnamed: 0', 'Ada', 'Davinci', 'Trigram', 'Unigram'], dtype='object')"
      ]
     },
     "execution_count": 7,
     "metadata": {},
     "output_type": "execute_result"
    }
   ],
   "source": [
    "data.columns"
   ]
  },
  {
   "cell_type": "code",
   "execution_count": 9,
   "id": "5c9422f8-16eb-4303-b5bc-9003cc8c6289",
   "metadata": {},
   "outputs": [],
   "source": [
    "data.drop('Unnamed: 0', axis = 1, inplace = True)"
   ]
  },
  {
   "cell_type": "code",
   "execution_count": 17,
   "id": "f14726ad-7493-462f-9850-b618ce456b20",
   "metadata": {},
   "outputs": [
    {
     "data": {
      "text/plain": [
       "np.int64(0)"
      ]
     },
     "execution_count": 17,
     "metadata": {},
     "output_type": "execute_result"
    }
   ],
   "source": [
    "data.nunique(axis = 1).ne(1).sum()"
   ]
  },
  {
   "cell_type": "code",
   "execution_count": null,
   "id": "3aca2a08-3b52-4741-b7ba-08ed8fa7fa14",
   "metadata": {},
   "outputs": [],
   "source": []
  }
 ],
 "metadata": {
  "kernelspec": {
   "display_name": "Python 3 (ipykernel)",
   "language": "python",
   "name": "python3"
  },
  "language_info": {
   "codemirror_mode": {
    "name": "ipython",
    "version": 3
   },
   "file_extension": ".py",
   "mimetype": "text/x-python",
   "name": "python",
   "nbconvert_exporter": "python",
   "pygments_lexer": "ipython3",
   "version": "3.10.14"
  }
 },
 "nbformat": 4,
 "nbformat_minor": 5
}
